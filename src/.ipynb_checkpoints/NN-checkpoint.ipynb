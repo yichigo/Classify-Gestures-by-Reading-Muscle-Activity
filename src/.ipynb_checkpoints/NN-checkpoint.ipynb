{
 "cells": [
  {
   "cell_type": "code",
   "execution_count": 13,
   "metadata": {},
   "outputs": [],
   "source": [
    "import pandas as pd\n",
    "import numpy as np\n",
    "import matplotlib.pyplot as plt\n",
    "from sklearn.metrics import accuracy_score, confusion_matrix\n",
    "from sklearn.model_selection import GridSearchCV, train_test_split, cross_val_score\n",
    "import sklearn.tree as tree\n",
    "from sklearn.metrics import plot_confusion_matrix\n",
    "\n",
    "# Classifiers \n",
    "from sklearn.tree import DecisionTreeClassifier\n",
    "from sklearn.neural_network import MLPClassifier\n",
    "from sklearn.ensemble import AdaBoostClassifier\n",
    "from sklearn import svm\n",
    "from sklearn.neighbors import KNeighborsClassifier\n",
    "from sklearn.ensemble import RandomForestClassifier\n",
    "\n",
    "dir_out = '../plots/'"
   ]
  },
  {
   "cell_type": "code",
   "execution_count": 14,
   "metadata": {},
   "outputs": [
    {
     "data": {
      "text/html": [
       "<div>\n",
       "<style scoped>\n",
       "    .dataframe tbody tr th:only-of-type {\n",
       "        vertical-align: middle;\n",
       "    }\n",
       "\n",
       "    .dataframe tbody tr th {\n",
       "        vertical-align: top;\n",
       "    }\n",
       "\n",
       "    .dataframe thead th {\n",
       "        text-align: right;\n",
       "    }\n",
       "</style>\n",
       "<table border=\"1\" class=\"dataframe\">\n",
       "  <thead>\n",
       "    <tr style=\"text-align: right;\">\n",
       "      <th></th>\n",
       "      <th>age</th>\n",
       "      <th>sex</th>\n",
       "      <th>cp</th>\n",
       "      <th>trestbps</th>\n",
       "      <th>chol</th>\n",
       "      <th>fbs</th>\n",
       "      <th>restecg</th>\n",
       "      <th>thalach</th>\n",
       "      <th>exang</th>\n",
       "      <th>oldpeak</th>\n",
       "      <th>slope</th>\n",
       "      <th>ca</th>\n",
       "      <th>thal</th>\n",
       "      <th>target</th>\n",
       "    </tr>\n",
       "  </thead>\n",
       "  <tbody>\n",
       "    <tr>\n",
       "      <th>0</th>\n",
       "      <td>63</td>\n",
       "      <td>1</td>\n",
       "      <td>3</td>\n",
       "      <td>145</td>\n",
       "      <td>233</td>\n",
       "      <td>1</td>\n",
       "      <td>0</td>\n",
       "      <td>150</td>\n",
       "      <td>0</td>\n",
       "      <td>2.3</td>\n",
       "      <td>0</td>\n",
       "      <td>0</td>\n",
       "      <td>1</td>\n",
       "      <td>1</td>\n",
       "    </tr>\n",
       "    <tr>\n",
       "      <th>1</th>\n",
       "      <td>37</td>\n",
       "      <td>1</td>\n",
       "      <td>2</td>\n",
       "      <td>130</td>\n",
       "      <td>250</td>\n",
       "      <td>0</td>\n",
       "      <td>1</td>\n",
       "      <td>187</td>\n",
       "      <td>0</td>\n",
       "      <td>3.5</td>\n",
       "      <td>0</td>\n",
       "      <td>0</td>\n",
       "      <td>2</td>\n",
       "      <td>1</td>\n",
       "    </tr>\n",
       "    <tr>\n",
       "      <th>2</th>\n",
       "      <td>41</td>\n",
       "      <td>0</td>\n",
       "      <td>1</td>\n",
       "      <td>130</td>\n",
       "      <td>204</td>\n",
       "      <td>0</td>\n",
       "      <td>0</td>\n",
       "      <td>172</td>\n",
       "      <td>0</td>\n",
       "      <td>1.4</td>\n",
       "      <td>2</td>\n",
       "      <td>0</td>\n",
       "      <td>2</td>\n",
       "      <td>1</td>\n",
       "    </tr>\n",
       "    <tr>\n",
       "      <th>3</th>\n",
       "      <td>56</td>\n",
       "      <td>1</td>\n",
       "      <td>1</td>\n",
       "      <td>120</td>\n",
       "      <td>236</td>\n",
       "      <td>0</td>\n",
       "      <td>1</td>\n",
       "      <td>178</td>\n",
       "      <td>0</td>\n",
       "      <td>0.8</td>\n",
       "      <td>2</td>\n",
       "      <td>0</td>\n",
       "      <td>2</td>\n",
       "      <td>1</td>\n",
       "    </tr>\n",
       "    <tr>\n",
       "      <th>4</th>\n",
       "      <td>57</td>\n",
       "      <td>0</td>\n",
       "      <td>0</td>\n",
       "      <td>120</td>\n",
       "      <td>354</td>\n",
       "      <td>0</td>\n",
       "      <td>1</td>\n",
       "      <td>163</td>\n",
       "      <td>1</td>\n",
       "      <td>0.6</td>\n",
       "      <td>2</td>\n",
       "      <td>0</td>\n",
       "      <td>2</td>\n",
       "      <td>1</td>\n",
       "    </tr>\n",
       "  </tbody>\n",
       "</table>\n",
       "</div>"
      ],
      "text/plain": [
       "   age  sex  cp  trestbps  chol  fbs  restecg  thalach  exang  oldpeak  slope  \\\n",
       "0   63    1   3       145   233    1        0      150      0      2.3      0   \n",
       "1   37    1   2       130   250    0        1      187      0      3.5      0   \n",
       "2   41    0   1       130   204    0        0      172      0      1.4      2   \n",
       "3   56    1   1       120   236    0        1      178      0      0.8      2   \n",
       "4   57    0   0       120   354    0        1      163      1      0.6      2   \n",
       "\n",
       "   ca  thal  target  \n",
       "0   0     1       1  \n",
       "1   0     2       1  \n",
       "2   0     2       1  \n",
       "3   0     2       1  \n",
       "4   0     2       1  "
      ]
     },
     "metadata": {},
     "output_type": "display_data"
    },
    {
     "data": {
      "text/html": [
       "<div>\n",
       "<style scoped>\n",
       "    .dataframe tbody tr th:only-of-type {\n",
       "        vertical-align: middle;\n",
       "    }\n",
       "\n",
       "    .dataframe tbody tr th {\n",
       "        vertical-align: top;\n",
       "    }\n",
       "\n",
       "    .dataframe thead th {\n",
       "        text-align: right;\n",
       "    }\n",
       "</style>\n",
       "<table border=\"1\" class=\"dataframe\">\n",
       "  <thead>\n",
       "    <tr style=\"text-align: right;\">\n",
       "      <th></th>\n",
       "      <th>age</th>\n",
       "      <th>sex</th>\n",
       "      <th>trestbps</th>\n",
       "      <th>chol</th>\n",
       "      <th>fbs</th>\n",
       "      <th>thalach</th>\n",
       "      <th>exang</th>\n",
       "      <th>oldpeak</th>\n",
       "      <th>ca</th>\n",
       "      <th>cp_1</th>\n",
       "      <th>cp_2</th>\n",
       "      <th>cp_3</th>\n",
       "      <th>restecg_1</th>\n",
       "      <th>restecg_2</th>\n",
       "      <th>slope_1</th>\n",
       "      <th>slope_2</th>\n",
       "      <th>thal_1</th>\n",
       "      <th>thal_2</th>\n",
       "      <th>thal_3</th>\n",
       "      <th>target</th>\n",
       "    </tr>\n",
       "  </thead>\n",
       "  <tbody>\n",
       "    <tr>\n",
       "      <th>0</th>\n",
       "      <td>63</td>\n",
       "      <td>1</td>\n",
       "      <td>145</td>\n",
       "      <td>233</td>\n",
       "      <td>1</td>\n",
       "      <td>150</td>\n",
       "      <td>0</td>\n",
       "      <td>2.3</td>\n",
       "      <td>0</td>\n",
       "      <td>0</td>\n",
       "      <td>0</td>\n",
       "      <td>1</td>\n",
       "      <td>0</td>\n",
       "      <td>0</td>\n",
       "      <td>0</td>\n",
       "      <td>0</td>\n",
       "      <td>1</td>\n",
       "      <td>0</td>\n",
       "      <td>0</td>\n",
       "      <td>1</td>\n",
       "    </tr>\n",
       "    <tr>\n",
       "      <th>1</th>\n",
       "      <td>37</td>\n",
       "      <td>1</td>\n",
       "      <td>130</td>\n",
       "      <td>250</td>\n",
       "      <td>0</td>\n",
       "      <td>187</td>\n",
       "      <td>0</td>\n",
       "      <td>3.5</td>\n",
       "      <td>0</td>\n",
       "      <td>0</td>\n",
       "      <td>1</td>\n",
       "      <td>0</td>\n",
       "      <td>1</td>\n",
       "      <td>0</td>\n",
       "      <td>0</td>\n",
       "      <td>0</td>\n",
       "      <td>0</td>\n",
       "      <td>1</td>\n",
       "      <td>0</td>\n",
       "      <td>1</td>\n",
       "    </tr>\n",
       "    <tr>\n",
       "      <th>2</th>\n",
       "      <td>41</td>\n",
       "      <td>0</td>\n",
       "      <td>130</td>\n",
       "      <td>204</td>\n",
       "      <td>0</td>\n",
       "      <td>172</td>\n",
       "      <td>0</td>\n",
       "      <td>1.4</td>\n",
       "      <td>0</td>\n",
       "      <td>1</td>\n",
       "      <td>0</td>\n",
       "      <td>0</td>\n",
       "      <td>0</td>\n",
       "      <td>0</td>\n",
       "      <td>0</td>\n",
       "      <td>1</td>\n",
       "      <td>0</td>\n",
       "      <td>1</td>\n",
       "      <td>0</td>\n",
       "      <td>1</td>\n",
       "    </tr>\n",
       "    <tr>\n",
       "      <th>3</th>\n",
       "      <td>56</td>\n",
       "      <td>1</td>\n",
       "      <td>120</td>\n",
       "      <td>236</td>\n",
       "      <td>0</td>\n",
       "      <td>178</td>\n",
       "      <td>0</td>\n",
       "      <td>0.8</td>\n",
       "      <td>0</td>\n",
       "      <td>1</td>\n",
       "      <td>0</td>\n",
       "      <td>0</td>\n",
       "      <td>1</td>\n",
       "      <td>0</td>\n",
       "      <td>0</td>\n",
       "      <td>1</td>\n",
       "      <td>0</td>\n",
       "      <td>1</td>\n",
       "      <td>0</td>\n",
       "      <td>1</td>\n",
       "    </tr>\n",
       "    <tr>\n",
       "      <th>4</th>\n",
       "      <td>57</td>\n",
       "      <td>0</td>\n",
       "      <td>120</td>\n",
       "      <td>354</td>\n",
       "      <td>0</td>\n",
       "      <td>163</td>\n",
       "      <td>1</td>\n",
       "      <td>0.6</td>\n",
       "      <td>0</td>\n",
       "      <td>0</td>\n",
       "      <td>0</td>\n",
       "      <td>0</td>\n",
       "      <td>1</td>\n",
       "      <td>0</td>\n",
       "      <td>0</td>\n",
       "      <td>1</td>\n",
       "      <td>0</td>\n",
       "      <td>1</td>\n",
       "      <td>0</td>\n",
       "      <td>1</td>\n",
       "    </tr>\n",
       "  </tbody>\n",
       "</table>\n",
       "</div>"
      ],
      "text/plain": [
       "   age  sex  trestbps  chol  fbs  thalach  exang  oldpeak  ca  cp_1  cp_2  \\\n",
       "0   63    1       145   233    1      150      0      2.3   0     0     0   \n",
       "1   37    1       130   250    0      187      0      3.5   0     0     1   \n",
       "2   41    0       130   204    0      172      0      1.4   0     1     0   \n",
       "3   56    1       120   236    0      178      0      0.8   0     1     0   \n",
       "4   57    0       120   354    0      163      1      0.6   0     0     0   \n",
       "\n",
       "   cp_3  restecg_1  restecg_2  slope_1  slope_2  thal_1  thal_2  thal_3  \\\n",
       "0     1          0          0        0        0       1       0       0   \n",
       "1     0          1          0        0        0       0       1       0   \n",
       "2     0          0          0        0        1       0       1       0   \n",
       "3     0          1          0        0        1       0       1       0   \n",
       "4     0          1          0        0        1       0       1       0   \n",
       "\n",
       "   target  \n",
       "0       1  \n",
       "1       1  \n",
       "2       1  \n",
       "3       1  \n",
       "4       1  "
      ]
     },
     "metadata": {},
     "output_type": "display_data"
    }
   ],
   "source": [
    "df = pd.read_csv(\"../data/heart.csv\")\n",
    "display(df.head())\n",
    "\n",
    "# one-hot encoding:  'cp', 'restecg', 'slope', 'ca'?, 'thal'\n",
    "# onehot_vars = ['cp', 'restecg', 'slope', 'ca', 'thal']\n",
    "onehot_vars = ['cp', 'restecg', 'slope', 'thal']\n",
    "for var in onehot_vars:\n",
    "    df_add = pd.get_dummies(df[[var]].astype(str),prefix=[var], drop_first=True)\n",
    "    df = pd.concat([df, df_add], axis=1)\n",
    "\n",
    "df.drop(onehot_vars, axis=1, inplace=True)\n",
    "\n",
    "# move target to the last column\n",
    "df_target = df.pop('target') \n",
    "df['target'] = df_target\n",
    "display(df.head())"
   ]
  },
  {
   "cell_type": "code",
   "execution_count": 15,
   "metadata": {},
   "outputs": [],
   "source": [
    "RANDOM_STATE_DATA = 0\n",
    "X = df.drop(['target'],axis=1)\n",
    "y = df['target']\n",
    "X_train, X_test, y_train, y_test = train_test_split(X, y, test_size=0.2, random_state=RANDOM_STATE_DATA) \n"
   ]
  },
  {
   "cell_type": "code",
   "execution_count": 49,
   "metadata": {},
   "outputs": [
    {
     "name": "stdout",
     "output_type": "stream",
     "text": [
      "Fitting 5 folds for each of 288 candidates, totalling 1440 fits\n",
      "[CV] activation=identity, hidden_layer_sizes=(10, 10), max_iter=100, solver=lbfgs \n",
      "[CV]  activation=identity, hidden_layer_sizes=(10, 10), max_iter=100, solver=lbfgs, score=0.449, total=   0.0s\n",
      "[CV] activation=identity, hidden_layer_sizes=(10, 10), max_iter=100, solver=lbfgs \n",
      "[CV]  activation=identity, hidden_layer_sizes=(10, 10), max_iter=100, solver=lbfgs, score=0.408, total=   0.0s\n",
      "[CV] activation=identity, hidden_layer_sizes=(10, 10), max_iter=100, solver=lbfgs \n",
      "[CV]  activation=identity, hidden_layer_sizes=(10, 10), max_iter=100, solver=lbfgs, score=0.458, total=   0.0s\n",
      "[CV] activation=identity, hidden_layer_sizes=(10, 10), max_iter=100, solver=lbfgs \n",
      "[CV]  activation=identity, hidden_layer_sizes=(10, 10), max_iter=100, solver=lbfgs, score=0.375, total=   0.0s\n",
      "[CV] activation=identity, hidden_layer_sizes=(10, 10), max_iter=100, solver=lbfgs \n",
      "[CV]  activation=identity, hidden_layer_sizes=(10, 10), max_iter=100, solver=lbfgs, score=0.500, total=   0.0s\n",
      "[CV] activation=identity, hidden_layer_sizes=(10, 10), max_iter=100, solver=sgd \n",
      "[CV]  activation=identity, hidden_layer_sizes=(10, 10), max_iter=100, solver=sgd, score=0.571, total=   0.0s\n",
      "[CV] activation=identity, hidden_layer_sizes=(10, 10), max_iter=100, solver=sgd \n",
      "[CV]  activation=identity, hidden_layer_sizes=(10, 10), max_iter=100, solver=sgd, score=0.531, total=   0.0s\n",
      "[CV] activation=identity, hidden_layer_sizes=(10, 10), max_iter=100, solver=sgd \n",
      "[CV]  activation=identity, hidden_layer_sizes=(10, 10), max_iter=100, solver=sgd, score=0.625, total=   0.0s\n",
      "[CV] activation=identity, hidden_layer_sizes=(10, 10), max_iter=100, solver=sgd \n",
      "[CV]  activation=identity, hidden_layer_sizes=(10, 10), max_iter=100, solver=sgd, score=0.500, total=   0.0s\n",
      "[CV] activation=identity, hidden_layer_sizes=(10, 10), max_iter=100, solver=sgd \n",
      "[CV]  activation=identity, hidden_layer_sizes=(10, 10), max_iter=100, solver=sgd, score=0.625, total=   0.0s\n",
      "[CV] activation=identity, hidden_layer_sizes=(10, 10), max_iter=100, solver=adam \n"
     ]
    },
    {
     "name": "stderr",
     "output_type": "stream",
     "text": [
      "[Parallel(n_jobs=1)]: Using backend SequentialBackend with 1 concurrent workers.\n",
      "[Parallel(n_jobs=1)]: Done   1 out of   1 | elapsed:    0.0s remaining:    0.0s\n",
      "[Parallel(n_jobs=1)]: Done   2 out of   2 | elapsed:    0.0s remaining:    0.0s\n",
      "/Users/Strawberry/anaconda3/lib/python3.7/site-packages/sklearn/neural_network/_multilayer_perceptron.py:571: ConvergenceWarning: Stochastic Optimizer: Maximum iterations (100) reached and the optimization hasn't converged yet.\n",
      "  % self.max_iter, ConvergenceWarning)\n",
      "/Users/Strawberry/anaconda3/lib/python3.7/site-packages/sklearn/neural_network/_multilayer_perceptron.py:571: ConvergenceWarning: Stochastic Optimizer: Maximum iterations (100) reached and the optimization hasn't converged yet.\n",
      "  % self.max_iter, ConvergenceWarning)\n",
      "/Users/Strawberry/anaconda3/lib/python3.7/site-packages/sklearn/neural_network/_multilayer_perceptron.py:571: ConvergenceWarning: Stochastic Optimizer: Maximum iterations (100) reached and the optimization hasn't converged yet.\n",
      "  % self.max_iter, ConvergenceWarning)\n",
      "/Users/Strawberry/anaconda3/lib/python3.7/site-packages/sklearn/neural_network/_multilayer_perceptron.py:571: ConvergenceWarning: Stochastic Optimizer: Maximum iterations (100) reached and the optimization hasn't converged yet.\n",
      "  % self.max_iter, ConvergenceWarning)\n",
      "/Users/Strawberry/anaconda3/lib/python3.7/site-packages/sklearn/neural_network/_multilayer_perceptron.py:571: ConvergenceWarning: Stochastic Optimizer: Maximum iterations (100) reached and the optimization hasn't converged yet.\n",
      "  % self.max_iter, ConvergenceWarning)\n"
     ]
    },
    {
     "name": "stdout",
     "output_type": "stream",
     "text": [
      "[CV]  activation=identity, hidden_layer_sizes=(10, 10), max_iter=100, solver=adam, score=0.633, total=   0.1s\n",
      "[CV] activation=identity, hidden_layer_sizes=(10, 10), max_iter=100, solver=adam \n",
      "[CV]  activation=identity, hidden_layer_sizes=(10, 10), max_iter=100, solver=adam, score=0.633, total=   0.1s\n",
      "[CV] activation=identity, hidden_layer_sizes=(10, 10), max_iter=100, solver=adam \n",
      "[CV]  activation=identity, hidden_layer_sizes=(10, 10), max_iter=100, solver=adam, score=0.646, total=   0.1s\n",
      "[CV] activation=identity, hidden_layer_sizes=(10, 10), max_iter=100, solver=adam \n",
      "[CV]  activation=identity, hidden_layer_sizes=(10, 10), max_iter=100, solver=adam, score=0.646, total=   0.1s\n",
      "[CV] activation=identity, hidden_layer_sizes=(10, 10), max_iter=100, solver=adam \n"
     ]
    },
    {
     "name": "stderr",
     "output_type": "stream",
     "text": [
      "/Users/Strawberry/anaconda3/lib/python3.7/site-packages/sklearn/neural_network/_multilayer_perceptron.py:571: ConvergenceWarning: Stochastic Optimizer: Maximum iterations (100) reached and the optimization hasn't converged yet.\n",
      "  % self.max_iter, ConvergenceWarning)\n"
     ]
    },
    {
     "name": "stdout",
     "output_type": "stream",
     "text": [
      "[CV]  activation=identity, hidden_layer_sizes=(10, 10), max_iter=100, solver=adam, score=0.646, total=   0.1s\n",
      "[CV] activation=identity, hidden_layer_sizes=(10, 10), max_iter=200, solver=lbfgs \n",
      "[CV]  activation=identity, hidden_layer_sizes=(10, 10), max_iter=200, solver=lbfgs, score=0.449, total=   0.0s\n",
      "[CV] activation=identity, hidden_layer_sizes=(10, 10), max_iter=200, solver=lbfgs \n",
      "[CV]  activation=identity, hidden_layer_sizes=(10, 10), max_iter=200, solver=lbfgs, score=0.408, total=   0.0s\n",
      "[CV] activation=identity, hidden_layer_sizes=(10, 10), max_iter=200, solver=lbfgs \n",
      "[CV]  activation=identity, hidden_layer_sizes=(10, 10), max_iter=200, solver=lbfgs, score=0.458, total=   0.0s\n",
      "[CV] activation=identity, hidden_layer_sizes=(10, 10), max_iter=200, solver=lbfgs \n",
      "[CV]  activation=identity, hidden_layer_sizes=(10, 10), max_iter=200, solver=lbfgs, score=0.375, total=   0.0s\n",
      "[CV] activation=identity, hidden_layer_sizes=(10, 10), max_iter=200, solver=lbfgs \n",
      "[CV]  activation=identity, hidden_layer_sizes=(10, 10), max_iter=200, solver=lbfgs, score=0.500, total=   0.0s\n",
      "[CV] activation=identity, hidden_layer_sizes=(10, 10), max_iter=200, solver=sgd \n",
      "[CV]  activation=identity, hidden_layer_sizes=(10, 10), max_iter=200, solver=sgd, score=0.571, total=   0.0s\n",
      "[CV] activation=identity, hidden_layer_sizes=(10, 10), max_iter=200, solver=sgd \n",
      "[CV]  activation=identity, hidden_layer_sizes=(10, 10), max_iter=200, solver=sgd, score=0.531, total=   0.0s\n",
      "[CV] activation=identity, hidden_layer_sizes=(10, 10), max_iter=200, solver=sgd \n",
      "[CV]  activation=identity, hidden_layer_sizes=(10, 10), max_iter=200, solver=sgd, score=0.583, total=   0.1s\n",
      "[CV] activation=identity, hidden_layer_sizes=(10, 10), max_iter=200, solver=sgd \n",
      "[CV]  activation=identity, hidden_layer_sizes=(10, 10), max_iter=200, solver=sgd, score=0.500, total=   0.0s\n",
      "[CV] activation=identity, hidden_layer_sizes=(10, 10), max_iter=200, solver=sgd \n",
      "[CV]  activation=identity, hidden_layer_sizes=(10, 10), max_iter=200, solver=sgd, score=0.625, total=   0.0s\n",
      "[CV] activation=identity, hidden_layer_sizes=(10, 10), max_iter=200, solver=adam \n"
     ]
    },
    {
     "name": "stderr",
     "output_type": "stream",
     "text": [
      "/Users/Strawberry/anaconda3/lib/python3.7/site-packages/sklearn/neural_network/_multilayer_perceptron.py:571: ConvergenceWarning: Stochastic Optimizer: Maximum iterations (200) reached and the optimization hasn't converged yet.\n",
      "  % self.max_iter, ConvergenceWarning)\n",
      "/Users/Strawberry/anaconda3/lib/python3.7/site-packages/sklearn/neural_network/_multilayer_perceptron.py:571: ConvergenceWarning: Stochastic Optimizer: Maximum iterations (200) reached and the optimization hasn't converged yet.\n",
      "  % self.max_iter, ConvergenceWarning)\n"
     ]
    },
    {
     "name": "stdout",
     "output_type": "stream",
     "text": [
      "[CV]  activation=identity, hidden_layer_sizes=(10, 10), max_iter=200, solver=adam, score=0.714, total=   0.1s\n",
      "[CV] activation=identity, hidden_layer_sizes=(10, 10), max_iter=200, solver=adam \n",
      "[CV]  activation=identity, hidden_layer_sizes=(10, 10), max_iter=200, solver=adam, score=0.796, total=   0.1s\n",
      "[CV] activation=identity, hidden_layer_sizes=(10, 10), max_iter=200, solver=adam \n"
     ]
    },
    {
     "name": "stderr",
     "output_type": "stream",
     "text": [
      "/Users/Strawberry/anaconda3/lib/python3.7/site-packages/sklearn/neural_network/_multilayer_perceptron.py:571: ConvergenceWarning: Stochastic Optimizer: Maximum iterations (200) reached and the optimization hasn't converged yet.\n",
      "  % self.max_iter, ConvergenceWarning)\n",
      "/Users/Strawberry/anaconda3/lib/python3.7/site-packages/sklearn/neural_network/_multilayer_perceptron.py:571: ConvergenceWarning: Stochastic Optimizer: Maximum iterations (200) reached and the optimization hasn't converged yet.\n",
      "  % self.max_iter, ConvergenceWarning)\n"
     ]
    },
    {
     "name": "stdout",
     "output_type": "stream",
     "text": [
      "[CV]  activation=identity, hidden_layer_sizes=(10, 10), max_iter=200, solver=adam, score=0.812, total=   0.1s\n",
      "[CV] activation=identity, hidden_layer_sizes=(10, 10), max_iter=200, solver=adam \n",
      "[CV]  activation=identity, hidden_layer_sizes=(10, 10), max_iter=200, solver=adam, score=0.875, total=   0.1s\n",
      "[CV] activation=identity, hidden_layer_sizes=(10, 10), max_iter=200, solver=adam \n"
     ]
    },
    {
     "name": "stderr",
     "output_type": "stream",
     "text": [
      "/Users/Strawberry/anaconda3/lib/python3.7/site-packages/sklearn/neural_network/_multilayer_perceptron.py:571: ConvergenceWarning: Stochastic Optimizer: Maximum iterations (200) reached and the optimization hasn't converged yet.\n",
      "  % self.max_iter, ConvergenceWarning)\n"
     ]
    },
    {
     "name": "stdout",
     "output_type": "stream",
     "text": [
      "[CV]  activation=identity, hidden_layer_sizes=(10, 10), max_iter=200, solver=adam, score=0.792, total=   0.1s\n",
      "[CV] activation=identity, hidden_layer_sizes=(10, 10), max_iter=300, solver=lbfgs \n",
      "[CV]  activation=identity, hidden_layer_sizes=(10, 10), max_iter=300, solver=lbfgs, score=0.449, total=   0.0s\n",
      "[CV] activation=identity, hidden_layer_sizes=(10, 10), max_iter=300, solver=lbfgs \n",
      "[CV]  activation=identity, hidden_layer_sizes=(10, 10), max_iter=300, solver=lbfgs, score=0.408, total=   0.0s\n",
      "[CV] activation=identity, hidden_layer_sizes=(10, 10), max_iter=300, solver=lbfgs \n",
      "[CV]  activation=identity, hidden_layer_sizes=(10, 10), max_iter=300, solver=lbfgs, score=0.458, total=   0.0s\n",
      "[CV] activation=identity, hidden_layer_sizes=(10, 10), max_iter=300, solver=lbfgs \n",
      "[CV]  activation=identity, hidden_layer_sizes=(10, 10), max_iter=300, solver=lbfgs, score=0.375, total=   0.0s\n",
      "[CV] activation=identity, hidden_layer_sizes=(10, 10), max_iter=300, solver=lbfgs \n",
      "[CV]  activation=identity, hidden_layer_sizes=(10, 10), max_iter=300, solver=lbfgs, score=0.500, total=   0.0s\n",
      "[CV] activation=identity, hidden_layer_sizes=(10, 10), max_iter=300, solver=sgd \n",
      "[CV]  activation=identity, hidden_layer_sizes=(10, 10), max_iter=300, solver=sgd, score=0.571, total=   0.0s\n",
      "[CV] activation=identity, hidden_layer_sizes=(10, 10), max_iter=300, solver=sgd \n",
      "[CV]  activation=identity, hidden_layer_sizes=(10, 10), max_iter=300, solver=sgd, score=0.531, total=   0.0s\n",
      "[CV] activation=identity, hidden_layer_sizes=(10, 10), max_iter=300, solver=sgd \n",
      "[CV]  activation=identity, hidden_layer_sizes=(10, 10), max_iter=300, solver=sgd, score=0.583, total=   0.1s\n",
      "[CV] activation=identity, hidden_layer_sizes=(10, 10), max_iter=300, solver=sgd \n",
      "[CV]  activation=identity, hidden_layer_sizes=(10, 10), max_iter=300, solver=sgd, score=0.500, total=   0.0s\n",
      "[CV] activation=identity, hidden_layer_sizes=(10, 10), max_iter=300, solver=sgd \n",
      "[CV]  activation=identity, hidden_layer_sizes=(10, 10), max_iter=300, solver=sgd, score=0.625, total=   0.0s\n",
      "[CV] activation=identity, hidden_layer_sizes=(10, 10), max_iter=300, solver=adam \n"
     ]
    },
    {
     "name": "stderr",
     "output_type": "stream",
     "text": [
      "/Users/Strawberry/anaconda3/lib/python3.7/site-packages/sklearn/neural_network/_multilayer_perceptron.py:571: ConvergenceWarning: Stochastic Optimizer: Maximum iterations (300) reached and the optimization hasn't converged yet.\n",
      "  % self.max_iter, ConvergenceWarning)\n",
      "/Users/Strawberry/anaconda3/lib/python3.7/site-packages/sklearn/neural_network/_multilayer_perceptron.py:571: ConvergenceWarning: Stochastic Optimizer: Maximum iterations (300) reached and the optimization hasn't converged yet.\n",
      "  % self.max_iter, ConvergenceWarning)\n"
     ]
    },
    {
     "name": "stdout",
     "output_type": "stream",
     "text": [
      "[CV]  activation=identity, hidden_layer_sizes=(10, 10), max_iter=300, solver=adam, score=0.755, total=   0.2s\n",
      "[CV] activation=identity, hidden_layer_sizes=(10, 10), max_iter=300, solver=adam \n",
      "[CV]  activation=identity, hidden_layer_sizes=(10, 10), max_iter=300, solver=adam, score=0.816, total=   0.2s\n",
      "[CV] activation=identity, hidden_layer_sizes=(10, 10), max_iter=300, solver=adam \n"
     ]
    },
    {
     "name": "stderr",
     "output_type": "stream",
     "text": [
      "/Users/Strawberry/anaconda3/lib/python3.7/site-packages/sklearn/neural_network/_multilayer_perceptron.py:571: ConvergenceWarning: Stochastic Optimizer: Maximum iterations (300) reached and the optimization hasn't converged yet.\n",
      "  % self.max_iter, ConvergenceWarning)\n",
      "/Users/Strawberry/anaconda3/lib/python3.7/site-packages/sklearn/neural_network/_multilayer_perceptron.py:571: ConvergenceWarning: Stochastic Optimizer: Maximum iterations (300) reached and the optimization hasn't converged yet.\n",
      "  % self.max_iter, ConvergenceWarning)\n"
     ]
    },
    {
     "name": "stdout",
     "output_type": "stream",
     "text": [
      "[CV]  activation=identity, hidden_layer_sizes=(10, 10), max_iter=300, solver=adam, score=0.833, total=   0.2s\n",
      "[CV] activation=identity, hidden_layer_sizes=(10, 10), max_iter=300, solver=adam \n",
      "[CV]  activation=identity, hidden_layer_sizes=(10, 10), max_iter=300, solver=adam, score=0.875, total=   0.1s\n",
      "[CV] activation=identity, hidden_layer_sizes=(10, 10), max_iter=300, solver=adam \n"
     ]
    },
    {
     "name": "stderr",
     "output_type": "stream",
     "text": [
      "/Users/Strawberry/anaconda3/lib/python3.7/site-packages/sklearn/neural_network/_multilayer_perceptron.py:571: ConvergenceWarning: Stochastic Optimizer: Maximum iterations (300) reached and the optimization hasn't converged yet.\n",
      "  % self.max_iter, ConvergenceWarning)\n"
     ]
    },
    {
     "name": "stdout",
     "output_type": "stream",
     "text": [
      "[CV]  activation=identity, hidden_layer_sizes=(10, 10), max_iter=300, solver=adam, score=0.771, total=   0.2s\n",
      "[CV] activation=identity, hidden_layer_sizes=(10, 20), max_iter=100, solver=lbfgs \n",
      "[CV]  activation=identity, hidden_layer_sizes=(10, 20), max_iter=100, solver=lbfgs, score=0.449, total=   0.0s\n",
      "[CV] activation=identity, hidden_layer_sizes=(10, 20), max_iter=100, solver=lbfgs \n",
      "[CV]  activation=identity, hidden_layer_sizes=(10, 20), max_iter=100, solver=lbfgs, score=0.469, total=   0.0s\n",
      "[CV] activation=identity, hidden_layer_sizes=(10, 20), max_iter=100, solver=lbfgs \n",
      "[CV]  activation=identity, hidden_layer_sizes=(10, 20), max_iter=100, solver=lbfgs, score=0.458, total=   0.0s\n",
      "[CV] activation=identity, hidden_layer_sizes=(10, 20), max_iter=100, solver=lbfgs \n",
      "[CV]  activation=identity, hidden_layer_sizes=(10, 20), max_iter=100, solver=lbfgs, score=0.458, total=   0.0s\n",
      "[CV] activation=identity, hidden_layer_sizes=(10, 20), max_iter=100, solver=lbfgs \n",
      "[CV]  activation=identity, hidden_layer_sizes=(10, 20), max_iter=100, solver=lbfgs, score=0.458, total=   0.0s\n",
      "[CV] activation=identity, hidden_layer_sizes=(10, 20), max_iter=100, solver=sgd \n",
      "[CV]  activation=identity, hidden_layer_sizes=(10, 20), max_iter=100, solver=sgd, score=0.592, total=   0.0s\n",
      "[CV] activation=identity, hidden_layer_sizes=(10, 20), max_iter=100, solver=sgd \n",
      "[CV]  activation=identity, hidden_layer_sizes=(10, 20), max_iter=100, solver=sgd, score=0.571, total=   0.0s\n",
      "[CV] activation=identity, hidden_layer_sizes=(10, 20), max_iter=100, solver=sgd \n",
      "[CV]  activation=identity, hidden_layer_sizes=(10, 20), max_iter=100, solver=sgd, score=0.562, total=   0.0s\n",
      "[CV] activation=identity, hidden_layer_sizes=(10, 20), max_iter=100, solver=sgd \n",
      "[CV]  activation=identity, hidden_layer_sizes=(10, 20), max_iter=100, solver=sgd, score=0.562, total=   0.0s\n",
      "[CV] activation=identity, hidden_layer_sizes=(10, 20), max_iter=100, solver=sgd \n",
      "[CV]  activation=identity, hidden_layer_sizes=(10, 20), max_iter=100, solver=sgd, score=0.729, total=   0.0s\n",
      "[CV] activation=identity, hidden_layer_sizes=(10, 20), max_iter=100, solver=adam \n",
      "[CV]  activation=identity, hidden_layer_sizes=(10, 20), max_iter=100, solver=adam, score=0.633, total=   0.0s\n",
      "[CV] activation=identity, hidden_layer_sizes=(10, 20), max_iter=100, solver=adam \n",
      "[CV]  activation=identity, hidden_layer_sizes=(10, 20), max_iter=100, solver=adam, score=0.551, total=   0.0s\n",
      "[CV] activation=identity, hidden_layer_sizes=(10, 20), max_iter=100, solver=adam \n",
      "[CV]  activation=identity, hidden_layer_sizes=(10, 20), max_iter=100, solver=adam, score=0.625, total=   0.0s\n",
      "[CV] activation=identity, hidden_layer_sizes=(10, 20), max_iter=100, solver=adam \n",
      "[CV]  activation=identity, hidden_layer_sizes=(10, 20), max_iter=100, solver=adam, score=0.542, total=   0.0s\n",
      "[CV] activation=identity, hidden_layer_sizes=(10, 20), max_iter=100, solver=adam \n",
      "[CV]  activation=identity, hidden_layer_sizes=(10, 20), max_iter=100, solver=adam, score=0.604, total=   0.0s\n",
      "[CV] activation=identity, hidden_layer_sizes=(10, 20), max_iter=200, solver=lbfgs \n",
      "[CV]  activation=identity, hidden_layer_sizes=(10, 20), max_iter=200, solver=lbfgs, score=0.449, total=   0.0s\n",
      "[CV] activation=identity, hidden_layer_sizes=(10, 20), max_iter=200, solver=lbfgs \n",
      "[CV]  activation=identity, hidden_layer_sizes=(10, 20), max_iter=200, solver=lbfgs, score=0.469, total=   0.0s\n",
      "[CV] activation=identity, hidden_layer_sizes=(10, 20), max_iter=200, solver=lbfgs \n",
      "[CV]  activation=identity, hidden_layer_sizes=(10, 20), max_iter=200, solver=lbfgs, score=0.458, total=   0.0s\n",
      "[CV] activation=identity, hidden_layer_sizes=(10, 20), max_iter=200, solver=lbfgs \n",
      "[CV]  activation=identity, hidden_layer_sizes=(10, 20), max_iter=200, solver=lbfgs, score=0.458, total=   0.0s\n",
      "[CV] activation=identity, hidden_layer_sizes=(10, 20), max_iter=200, solver=lbfgs \n",
      "[CV]  activation=identity, hidden_layer_sizes=(10, 20), max_iter=200, solver=lbfgs, score=0.458, total=   0.0s\n",
      "[CV] activation=identity, hidden_layer_sizes=(10, 20), max_iter=200, solver=sgd \n",
      "[CV]  activation=identity, hidden_layer_sizes=(10, 20), max_iter=200, solver=sgd, score=0.592, total=   0.0s\n",
      "[CV] activation=identity, hidden_layer_sizes=(10, 20), max_iter=200, solver=sgd \n",
      "[CV]  activation=identity, hidden_layer_sizes=(10, 20), max_iter=200, solver=sgd, score=0.571, total=   0.0s\n",
      "[CV] activation=identity, hidden_layer_sizes=(10, 20), max_iter=200, solver=sgd \n",
      "[CV]  activation=identity, hidden_layer_sizes=(10, 20), max_iter=200, solver=sgd, score=0.562, total=   0.0s\n",
      "[CV] activation=identity, hidden_layer_sizes=(10, 20), max_iter=200, solver=sgd \n",
      "[CV]  activation=identity, hidden_layer_sizes=(10, 20), max_iter=200, solver=sgd, score=0.562, total=   0.0s\n",
      "[CV] activation=identity, hidden_layer_sizes=(10, 20), max_iter=200, solver=sgd \n",
      "[CV]  activation=identity, hidden_layer_sizes=(10, 20), max_iter=200, solver=sgd, score=0.729, total=   0.0s\n",
      "[CV] activation=identity, hidden_layer_sizes=(10, 20), max_iter=200, solver=adam \n",
      "[CV]  activation=identity, hidden_layer_sizes=(10, 20), max_iter=200, solver=adam, score=0.633, total=   0.0s\n",
      "[CV] activation=identity, hidden_layer_sizes=(10, 20), max_iter=200, solver=adam \n",
      "[CV]  activation=identity, hidden_layer_sizes=(10, 20), max_iter=200, solver=adam, score=0.551, total=   0.0s\n",
      "[CV] activation=identity, hidden_layer_sizes=(10, 20), max_iter=200, solver=adam \n",
      "[CV]  activation=identity, hidden_layer_sizes=(10, 20), max_iter=200, solver=adam, score=0.625, total=   0.0s\n",
      "[CV] activation=identity, hidden_layer_sizes=(10, 20), max_iter=200, solver=adam \n",
      "[CV]  activation=identity, hidden_layer_sizes=(10, 20), max_iter=200, solver=adam, score=0.542, total=   0.0s\n",
      "[CV] activation=identity, hidden_layer_sizes=(10, 20), max_iter=200, solver=adam \n",
      "[CV]  activation=identity, hidden_layer_sizes=(10, 20), max_iter=200, solver=adam, score=0.604, total=   0.0s\n",
      "[CV] activation=identity, hidden_layer_sizes=(10, 20), max_iter=300, solver=lbfgs \n",
      "[CV]  activation=identity, hidden_layer_sizes=(10, 20), max_iter=300, solver=lbfgs, score=0.449, total=   0.0s\n",
      "[CV] activation=identity, hidden_layer_sizes=(10, 20), max_iter=300, solver=lbfgs \n",
      "[CV]  activation=identity, hidden_layer_sizes=(10, 20), max_iter=300, solver=lbfgs, score=0.469, total=   0.0s\n",
      "[CV] activation=identity, hidden_layer_sizes=(10, 20), max_iter=300, solver=lbfgs \n",
      "[CV]  activation=identity, hidden_layer_sizes=(10, 20), max_iter=300, solver=lbfgs, score=0.458, total=   0.0s\n",
      "[CV] activation=identity, hidden_layer_sizes=(10, 20), max_iter=300, solver=lbfgs \n",
      "[CV]  activation=identity, hidden_layer_sizes=(10, 20), max_iter=300, solver=lbfgs, score=0.458, total=   0.0s\n",
      "[CV] activation=identity, hidden_layer_sizes=(10, 20), max_iter=300, solver=lbfgs \n",
      "[CV]  activation=identity, hidden_layer_sizes=(10, 20), max_iter=300, solver=lbfgs, score=0.458, total=   0.0s\n",
      "[CV] activation=identity, hidden_layer_sizes=(10, 20), max_iter=300, solver=sgd \n",
      "[CV]  activation=identity, hidden_layer_sizes=(10, 20), max_iter=300, solver=sgd, score=0.592, total=   0.0s\n",
      "[CV] activation=identity, hidden_layer_sizes=(10, 20), max_iter=300, solver=sgd \n",
      "[CV]  activation=identity, hidden_layer_sizes=(10, 20), max_iter=300, solver=sgd, score=0.571, total=   0.0s\n",
      "[CV] activation=identity, hidden_layer_sizes=(10, 20), max_iter=300, solver=sgd \n",
      "[CV]  activation=identity, hidden_layer_sizes=(10, 20), max_iter=300, solver=sgd, score=0.562, total=   0.0s\n",
      "[CV] activation=identity, hidden_layer_sizes=(10, 20), max_iter=300, solver=sgd \n",
      "[CV]  activation=identity, hidden_layer_sizes=(10, 20), max_iter=300, solver=sgd, score=0.562, total=   0.0s\n",
      "[CV] activation=identity, hidden_layer_sizes=(10, 20), max_iter=300, solver=sgd \n",
      "[CV]  activation=identity, hidden_layer_sizes=(10, 20), max_iter=300, solver=sgd, score=0.729, total=   0.0s\n",
      "[CV] activation=identity, hidden_layer_sizes=(10, 20), max_iter=300, solver=adam \n",
      "[CV]  activation=identity, hidden_layer_sizes=(10, 20), max_iter=300, solver=adam, score=0.633, total=   0.0s\n",
      "[CV] activation=identity, hidden_layer_sizes=(10, 20), max_iter=300, solver=adam \n",
      "[CV]  activation=identity, hidden_layer_sizes=(10, 20), max_iter=300, solver=adam, score=0.551, total=   0.0s\n",
      "[CV] activation=identity, hidden_layer_sizes=(10, 20), max_iter=300, solver=adam \n",
      "[CV]  activation=identity, hidden_layer_sizes=(10, 20), max_iter=300, solver=adam, score=0.625, total=   0.0s\n",
      "[CV] activation=identity, hidden_layer_sizes=(10, 20), max_iter=300, solver=adam \n",
      "[CV]  activation=identity, hidden_layer_sizes=(10, 20), max_iter=300, solver=adam, score=0.542, total=   0.0s\n",
      "[CV] activation=identity, hidden_layer_sizes=(10, 20), max_iter=300, solver=adam \n",
      "[CV]  activation=identity, hidden_layer_sizes=(10, 20), max_iter=300, solver=adam, score=0.604, total=   0.0s\n",
      "[CV] activation=identity, hidden_layer_sizes=(10, 30), max_iter=100, solver=lbfgs \n",
      "[CV]  activation=identity, hidden_layer_sizes=(10, 30), max_iter=100, solver=lbfgs, score=0.449, total=   0.0s\n",
      "[CV] activation=identity, hidden_layer_sizes=(10, 30), max_iter=100, solver=lbfgs \n",
      "[CV]  activation=identity, hidden_layer_sizes=(10, 30), max_iter=100, solver=lbfgs, score=0.469, total=   0.0s\n",
      "[CV] activation=identity, hidden_layer_sizes=(10, 30), max_iter=100, solver=lbfgs \n",
      "[CV]  activation=identity, hidden_layer_sizes=(10, 30), max_iter=100, solver=lbfgs, score=0.458, total=   0.0s\n",
      "[CV] activation=identity, hidden_layer_sizes=(10, 30), max_iter=100, solver=lbfgs \n",
      "[CV]  activation=identity, hidden_layer_sizes=(10, 30), max_iter=100, solver=lbfgs, score=0.458, total=   0.0s\n",
      "[CV] activation=identity, hidden_layer_sizes=(10, 30), max_iter=100, solver=lbfgs \n",
      "[CV]  activation=identity, hidden_layer_sizes=(10, 30), max_iter=100, solver=lbfgs, score=0.458, total=   0.0s\n",
      "[CV] activation=identity, hidden_layer_sizes=(10, 30), max_iter=100, solver=sgd \n",
      "[CV]  activation=identity, hidden_layer_sizes=(10, 30), max_iter=100, solver=sgd, score=0.490, total=   0.0s\n",
      "[CV] activation=identity, hidden_layer_sizes=(10, 30), max_iter=100, solver=sgd \n",
      "[CV]  activation=identity, hidden_layer_sizes=(10, 30), max_iter=100, solver=sgd, score=0.551, total=   0.0s\n",
      "[CV] activation=identity, hidden_layer_sizes=(10, 30), max_iter=100, solver=sgd \n",
      "[CV]  activation=identity, hidden_layer_sizes=(10, 30), max_iter=100, solver=sgd, score=0.583, total=   0.0s\n",
      "[CV] activation=identity, hidden_layer_sizes=(10, 30), max_iter=100, solver=sgd \n"
     ]
    },
    {
     "name": "stderr",
     "output_type": "stream",
     "text": [
      "/Users/Strawberry/anaconda3/lib/python3.7/site-packages/sklearn/neural_network/_multilayer_perceptron.py:571: ConvergenceWarning: Stochastic Optimizer: Maximum iterations (100) reached and the optimization hasn't converged yet.\n",
      "  % self.max_iter, ConvergenceWarning)\n"
     ]
    },
    {
     "name": "stdout",
     "output_type": "stream",
     "text": [
      "[CV]  activation=identity, hidden_layer_sizes=(10, 30), max_iter=100, solver=sgd, score=0.667, total=   0.1s\n",
      "[CV] activation=identity, hidden_layer_sizes=(10, 30), max_iter=100, solver=sgd \n",
      "[CV]  activation=identity, hidden_layer_sizes=(10, 30), max_iter=100, solver=sgd, score=0.667, total=   0.0s\n",
      "[CV] activation=identity, hidden_layer_sizes=(10, 30), max_iter=100, solver=adam \n",
      "[CV]  activation=identity, hidden_layer_sizes=(10, 30), max_iter=100, solver=adam, score=0.551, total=   0.0s\n",
      "[CV] activation=identity, hidden_layer_sizes=(10, 30), max_iter=100, solver=adam \n",
      "[CV]  activation=identity, hidden_layer_sizes=(10, 30), max_iter=100, solver=adam, score=0.531, total=   0.0s\n",
      "[CV] activation=identity, hidden_layer_sizes=(10, 30), max_iter=100, solver=adam \n",
      "[CV]  activation=identity, hidden_layer_sizes=(10, 30), max_iter=100, solver=adam, score=0.500, total=   0.0s\n",
      "[CV] activation=identity, hidden_layer_sizes=(10, 30), max_iter=100, solver=adam \n",
      "[CV]  activation=identity, hidden_layer_sizes=(10, 30), max_iter=100, solver=adam, score=0.583, total=   0.0s\n",
      "[CV] activation=identity, hidden_layer_sizes=(10, 30), max_iter=100, solver=adam \n",
      "[CV]  activation=identity, hidden_layer_sizes=(10, 30), max_iter=100, solver=adam, score=0.500, total=   0.0s\n",
      "[CV] activation=identity, hidden_layer_sizes=(10, 30), max_iter=200, solver=lbfgs \n",
      "[CV]  activation=identity, hidden_layer_sizes=(10, 30), max_iter=200, solver=lbfgs, score=0.449, total=   0.0s\n",
      "[CV] activation=identity, hidden_layer_sizes=(10, 30), max_iter=200, solver=lbfgs \n",
      "[CV]  activation=identity, hidden_layer_sizes=(10, 30), max_iter=200, solver=lbfgs, score=0.469, total=   0.0s\n",
      "[CV] activation=identity, hidden_layer_sizes=(10, 30), max_iter=200, solver=lbfgs \n",
      "[CV]  activation=identity, hidden_layer_sizes=(10, 30), max_iter=200, solver=lbfgs, score=0.458, total=   0.0s\n",
      "[CV] activation=identity, hidden_layer_sizes=(10, 30), max_iter=200, solver=lbfgs \n",
      "[CV]  activation=identity, hidden_layer_sizes=(10, 30), max_iter=200, solver=lbfgs, score=0.458, total=   0.0s\n",
      "[CV] activation=identity, hidden_layer_sizes=(10, 30), max_iter=200, solver=lbfgs \n",
      "[CV]  activation=identity, hidden_layer_sizes=(10, 30), max_iter=200, solver=lbfgs, score=0.458, total=   0.0s\n",
      "[CV] activation=identity, hidden_layer_sizes=(10, 30), max_iter=200, solver=sgd \n",
      "[CV]  activation=identity, hidden_layer_sizes=(10, 30), max_iter=200, solver=sgd, score=0.490, total=   0.0s\n",
      "[CV] activation=identity, hidden_layer_sizes=(10, 30), max_iter=200, solver=sgd \n",
      "[CV]  activation=identity, hidden_layer_sizes=(10, 30), max_iter=200, solver=sgd, score=0.551, total=   0.0s\n",
      "[CV] activation=identity, hidden_layer_sizes=(10, 30), max_iter=200, solver=sgd \n",
      "[CV]  activation=identity, hidden_layer_sizes=(10, 30), max_iter=200, solver=sgd, score=0.583, total=   0.0s\n",
      "[CV] activation=identity, hidden_layer_sizes=(10, 30), max_iter=200, solver=sgd \n",
      "[CV]  activation=identity, hidden_layer_sizes=(10, 30), max_iter=200, solver=sgd, score=0.562, total=   0.1s\n",
      "[CV] activation=identity, hidden_layer_sizes=(10, 30), max_iter=200, solver=sgd \n",
      "[CV]  activation=identity, hidden_layer_sizes=(10, 30), max_iter=200, solver=sgd, score=0.667, total=   0.0s\n",
      "[CV] activation=identity, hidden_layer_sizes=(10, 30), max_iter=200, solver=adam \n"
     ]
    },
    {
     "name": "stderr",
     "output_type": "stream",
     "text": [
      "/Users/Strawberry/anaconda3/lib/python3.7/site-packages/sklearn/neural_network/_multilayer_perceptron.py:571: ConvergenceWarning: Stochastic Optimizer: Maximum iterations (200) reached and the optimization hasn't converged yet.\n",
      "  % self.max_iter, ConvergenceWarning)\n"
     ]
    },
    {
     "name": "stdout",
     "output_type": "stream",
     "text": [
      "[CV]  activation=identity, hidden_layer_sizes=(10, 30), max_iter=200, solver=adam, score=0.551, total=   0.0s\n",
      "[CV] activation=identity, hidden_layer_sizes=(10, 30), max_iter=200, solver=adam \n",
      "[CV]  activation=identity, hidden_layer_sizes=(10, 30), max_iter=200, solver=adam, score=0.531, total=   0.0s\n",
      "[CV] activation=identity, hidden_layer_sizes=(10, 30), max_iter=200, solver=adam \n",
      "[CV]  activation=identity, hidden_layer_sizes=(10, 30), max_iter=200, solver=adam, score=0.500, total=   0.0s\n",
      "[CV] activation=identity, hidden_layer_sizes=(10, 30), max_iter=200, solver=adam \n",
      "[CV]  activation=identity, hidden_layer_sizes=(10, 30), max_iter=200, solver=adam, score=0.583, total=   0.0s\n",
      "[CV] activation=identity, hidden_layer_sizes=(10, 30), max_iter=200, solver=adam \n",
      "[CV]  activation=identity, hidden_layer_sizes=(10, 30), max_iter=200, solver=adam, score=0.500, total=   0.0s\n",
      "[CV] activation=identity, hidden_layer_sizes=(10, 30), max_iter=300, solver=lbfgs \n",
      "[CV]  activation=identity, hidden_layer_sizes=(10, 30), max_iter=300, solver=lbfgs, score=0.449, total=   0.0s\n",
      "[CV] activation=identity, hidden_layer_sizes=(10, 30), max_iter=300, solver=lbfgs \n",
      "[CV]  activation=identity, hidden_layer_sizes=(10, 30), max_iter=300, solver=lbfgs, score=0.469, total=   0.0s\n",
      "[CV] activation=identity, hidden_layer_sizes=(10, 30), max_iter=300, solver=lbfgs \n",
      "[CV]  activation=identity, hidden_layer_sizes=(10, 30), max_iter=300, solver=lbfgs, score=0.458, total=   0.0s\n",
      "[CV] activation=identity, hidden_layer_sizes=(10, 30), max_iter=300, solver=lbfgs \n",
      "[CV]  activation=identity, hidden_layer_sizes=(10, 30), max_iter=300, solver=lbfgs, score=0.458, total=   0.0s\n",
      "[CV] activation=identity, hidden_layer_sizes=(10, 30), max_iter=300, solver=lbfgs \n",
      "[CV]  activation=identity, hidden_layer_sizes=(10, 30), max_iter=300, solver=lbfgs, score=0.458, total=   0.0s\n",
      "[CV] activation=identity, hidden_layer_sizes=(10, 30), max_iter=300, solver=sgd \n",
      "[CV]  activation=identity, hidden_layer_sizes=(10, 30), max_iter=300, solver=sgd, score=0.490, total=   0.0s\n",
      "[CV] activation=identity, hidden_layer_sizes=(10, 30), max_iter=300, solver=sgd \n",
      "[CV]  activation=identity, hidden_layer_sizes=(10, 30), max_iter=300, solver=sgd, score=0.551, total=   0.0s\n",
      "[CV] activation=identity, hidden_layer_sizes=(10, 30), max_iter=300, solver=sgd \n",
      "[CV]  activation=identity, hidden_layer_sizes=(10, 30), max_iter=300, solver=sgd, score=0.583, total=   0.0s\n",
      "[CV] activation=identity, hidden_layer_sizes=(10, 30), max_iter=300, solver=sgd \n",
      "[CV]  activation=identity, hidden_layer_sizes=(10, 30), max_iter=300, solver=sgd, score=0.771, total=   0.1s\n",
      "[CV] activation=identity, hidden_layer_sizes=(10, 30), max_iter=300, solver=sgd \n",
      "[CV]  activation=identity, hidden_layer_sizes=(10, 30), max_iter=300, solver=sgd, score=0.667, total=   0.0s\n",
      "[CV] activation=identity, hidden_layer_sizes=(10, 30), max_iter=300, solver=adam \n",
      "[CV]  activation=identity, hidden_layer_sizes=(10, 30), max_iter=300, solver=adam, score=0.551, total=   0.0s\n",
      "[CV] activation=identity, hidden_layer_sizes=(10, 30), max_iter=300, solver=adam \n",
      "[CV]  activation=identity, hidden_layer_sizes=(10, 30), max_iter=300, solver=adam, score=0.531, total=   0.0s\n",
      "[CV] activation=identity, hidden_layer_sizes=(10, 30), max_iter=300, solver=adam \n",
      "[CV]  activation=identity, hidden_layer_sizes=(10, 30), max_iter=300, solver=adam, score=0.500, total=   0.0s\n",
      "[CV] activation=identity, hidden_layer_sizes=(10, 30), max_iter=300, solver=adam \n",
      "[CV]  activation=identity, hidden_layer_sizes=(10, 30), max_iter=300, solver=adam, score=0.583, total=   0.0s\n",
      "[CV] activation=identity, hidden_layer_sizes=(10, 30), max_iter=300, solver=adam \n",
      "[CV]  activation=identity, hidden_layer_sizes=(10, 30), max_iter=300, solver=adam, score=0.500, total=   0.0s\n",
      "[CV] activation=identity, hidden_layer_sizes=(10, 40), max_iter=100, solver=lbfgs \n",
      "[CV]  activation=identity, hidden_layer_sizes=(10, 40), max_iter=100, solver=lbfgs, score=0.449, total=   0.0s\n",
      "[CV] activation=identity, hidden_layer_sizes=(10, 40), max_iter=100, solver=lbfgs \n",
      "[CV]  activation=identity, hidden_layer_sizes=(10, 40), max_iter=100, solver=lbfgs, score=0.469, total=   0.0s\n",
      "[CV] activation=identity, hidden_layer_sizes=(10, 40), max_iter=100, solver=lbfgs \n",
      "[CV]  activation=identity, hidden_layer_sizes=(10, 40), max_iter=100, solver=lbfgs, score=0.458, total=   0.0s\n",
      "[CV] activation=identity, hidden_layer_sizes=(10, 40), max_iter=100, solver=lbfgs \n",
      "[CV]  activation=identity, hidden_layer_sizes=(10, 40), max_iter=100, solver=lbfgs, score=0.458, total=   0.0s\n",
      "[CV] activation=identity, hidden_layer_sizes=(10, 40), max_iter=100, solver=lbfgs \n",
      "[CV]  activation=identity, hidden_layer_sizes=(10, 40), max_iter=100, solver=lbfgs, score=0.458, total=   0.0s\n",
      "[CV] activation=identity, hidden_layer_sizes=(10, 40), max_iter=100, solver=sgd \n",
      "[CV]  activation=identity, hidden_layer_sizes=(10, 40), max_iter=100, solver=sgd, score=0.653, total=   0.0s\n",
      "[CV] activation=identity, hidden_layer_sizes=(10, 40), max_iter=100, solver=sgd \n",
      "[CV]  activation=identity, hidden_layer_sizes=(10, 40), max_iter=100, solver=sgd, score=0.612, total=   0.0s\n",
      "[CV] activation=identity, hidden_layer_sizes=(10, 40), max_iter=100, solver=sgd \n",
      "[CV]  activation=identity, hidden_layer_sizes=(10, 40), max_iter=100, solver=sgd, score=0.625, total=   0.0s\n",
      "[CV] activation=identity, hidden_layer_sizes=(10, 40), max_iter=100, solver=sgd \n",
      "[CV]  activation=identity, hidden_layer_sizes=(10, 40), max_iter=100, solver=sgd, score=0.750, total=   0.0s\n",
      "[CV] activation=identity, hidden_layer_sizes=(10, 40), max_iter=100, solver=sgd \n",
      "[CV]  activation=identity, hidden_layer_sizes=(10, 40), max_iter=100, solver=sgd, score=0.625, total=   0.1s\n",
      "[CV] activation=identity, hidden_layer_sizes=(10, 40), max_iter=100, solver=adam \n",
      "[CV]  activation=identity, hidden_layer_sizes=(10, 40), max_iter=100, solver=adam, score=0.673, total=   0.1s\n",
      "[CV] activation=identity, hidden_layer_sizes=(10, 40), max_iter=100, solver=adam \n",
      "[CV]  activation=identity, hidden_layer_sizes=(10, 40), max_iter=100, solver=adam, score=0.653, total=   0.1s\n",
      "[CV] activation=identity, hidden_layer_sizes=(10, 40), max_iter=100, solver=adam \n"
     ]
    },
    {
     "name": "stderr",
     "output_type": "stream",
     "text": [
      "/Users/Strawberry/anaconda3/lib/python3.7/site-packages/sklearn/neural_network/_multilayer_perceptron.py:571: ConvergenceWarning: Stochastic Optimizer: Maximum iterations (100) reached and the optimization hasn't converged yet.\n",
      "  % self.max_iter, ConvergenceWarning)\n",
      "/Users/Strawberry/anaconda3/lib/python3.7/site-packages/sklearn/neural_network/_multilayer_perceptron.py:571: ConvergenceWarning: Stochastic Optimizer: Maximum iterations (100) reached and the optimization hasn't converged yet.\n",
      "  % self.max_iter, ConvergenceWarning)\n",
      "/Users/Strawberry/anaconda3/lib/python3.7/site-packages/sklearn/neural_network/_multilayer_perceptron.py:571: ConvergenceWarning: Stochastic Optimizer: Maximum iterations (100) reached and the optimization hasn't converged yet.\n",
      "  % self.max_iter, ConvergenceWarning)\n",
      "/Users/Strawberry/anaconda3/lib/python3.7/site-packages/sklearn/neural_network/_multilayer_perceptron.py:571: ConvergenceWarning: Stochastic Optimizer: Maximum iterations (100) reached and the optimization hasn't converged yet.\n",
      "  % self.max_iter, ConvergenceWarning)\n"
     ]
    },
    {
     "name": "stdout",
     "output_type": "stream",
     "text": [
      "[CV]  activation=identity, hidden_layer_sizes=(10, 40), max_iter=100, solver=adam, score=0.625, total=   0.1s\n",
      "[CV] activation=identity, hidden_layer_sizes=(10, 40), max_iter=100, solver=adam \n",
      "[CV]  activation=identity, hidden_layer_sizes=(10, 40), max_iter=100, solver=adam, score=0.854, total=   0.1s\n",
      "[CV] activation=identity, hidden_layer_sizes=(10, 40), max_iter=100, solver=adam \n",
      "[CV]  activation=identity, hidden_layer_sizes=(10, 40), max_iter=100, solver=adam, score=0.625, total=   0.1s\n",
      "[CV] activation=identity, hidden_layer_sizes=(10, 40), max_iter=200, solver=lbfgs \n",
      "[CV]  activation=identity, hidden_layer_sizes=(10, 40), max_iter=200, solver=lbfgs, score=0.449, total=   0.0s\n",
      "[CV] activation=identity, hidden_layer_sizes=(10, 40), max_iter=200, solver=lbfgs \n",
      "[CV]  activation=identity, hidden_layer_sizes=(10, 40), max_iter=200, solver=lbfgs, score=0.469, total=   0.0s\n",
      "[CV] activation=identity, hidden_layer_sizes=(10, 40), max_iter=200, solver=lbfgs \n",
      "[CV]  activation=identity, hidden_layer_sizes=(10, 40), max_iter=200, solver=lbfgs, score=0.458, total=   0.0s\n",
      "[CV] activation=identity, hidden_layer_sizes=(10, 40), max_iter=200, solver=lbfgs \n",
      "[CV]  activation=identity, hidden_layer_sizes=(10, 40), max_iter=200, solver=lbfgs, score=0.458, total=   0.0s\n",
      "[CV] activation=identity, hidden_layer_sizes=(10, 40), max_iter=200, solver=lbfgs \n",
      "[CV]  activation=identity, hidden_layer_sizes=(10, 40), max_iter=200, solver=lbfgs, score=0.458, total=   0.0s\n",
      "[CV] activation=identity, hidden_layer_sizes=(10, 40), max_iter=200, solver=sgd \n"
     ]
    },
    {
     "name": "stderr",
     "output_type": "stream",
     "text": [
      "/Users/Strawberry/anaconda3/lib/python3.7/site-packages/sklearn/neural_network/_multilayer_perceptron.py:571: ConvergenceWarning: Stochastic Optimizer: Maximum iterations (100) reached and the optimization hasn't converged yet.\n",
      "  % self.max_iter, ConvergenceWarning)\n",
      "/Users/Strawberry/anaconda3/lib/python3.7/site-packages/sklearn/neural_network/_multilayer_perceptron.py:571: ConvergenceWarning: Stochastic Optimizer: Maximum iterations (100) reached and the optimization hasn't converged yet.\n",
      "  % self.max_iter, ConvergenceWarning)\n"
     ]
    },
    {
     "name": "stdout",
     "output_type": "stream",
     "text": [
      "[CV]  activation=identity, hidden_layer_sizes=(10, 40), max_iter=200, solver=sgd, score=0.653, total=   0.0s\n",
      "[CV] activation=identity, hidden_layer_sizes=(10, 40), max_iter=200, solver=sgd \n",
      "[CV]  activation=identity, hidden_layer_sizes=(10, 40), max_iter=200, solver=sgd, score=0.612, total=   0.0s\n",
      "[CV] activation=identity, hidden_layer_sizes=(10, 40), max_iter=200, solver=sgd \n",
      "[CV]  activation=identity, hidden_layer_sizes=(10, 40), max_iter=200, solver=sgd, score=0.625, total=   0.0s\n",
      "[CV] activation=identity, hidden_layer_sizes=(10, 40), max_iter=200, solver=sgd \n",
      "[CV]  activation=identity, hidden_layer_sizes=(10, 40), max_iter=200, solver=sgd, score=0.750, total=   0.0s\n",
      "[CV] activation=identity, hidden_layer_sizes=(10, 40), max_iter=200, solver=sgd \n",
      "[CV]  activation=identity, hidden_layer_sizes=(10, 40), max_iter=200, solver=sgd, score=0.729, total=   0.1s\n",
      "[CV] activation=identity, hidden_layer_sizes=(10, 40), max_iter=200, solver=adam \n"
     ]
    },
    {
     "name": "stderr",
     "output_type": "stream",
     "text": [
      "/Users/Strawberry/anaconda3/lib/python3.7/site-packages/sklearn/neural_network/_multilayer_perceptron.py:571: ConvergenceWarning: Stochastic Optimizer: Maximum iterations (200) reached and the optimization hasn't converged yet.\n",
      "  % self.max_iter, ConvergenceWarning)\n",
      "/Users/Strawberry/anaconda3/lib/python3.7/site-packages/sklearn/neural_network/_multilayer_perceptron.py:571: ConvergenceWarning: Stochastic Optimizer: Maximum iterations (200) reached and the optimization hasn't converged yet.\n",
      "  % self.max_iter, ConvergenceWarning)\n"
     ]
    },
    {
     "name": "stdout",
     "output_type": "stream",
     "text": [
      "[CV]  activation=identity, hidden_layer_sizes=(10, 40), max_iter=200, solver=adam, score=0.735, total=   0.1s\n",
      "[CV] activation=identity, hidden_layer_sizes=(10, 40), max_iter=200, solver=adam \n",
      "[CV]  activation=identity, hidden_layer_sizes=(10, 40), max_iter=200, solver=adam, score=0.653, total=   0.1s\n",
      "[CV] activation=identity, hidden_layer_sizes=(10, 40), max_iter=200, solver=adam \n"
     ]
    },
    {
     "name": "stderr",
     "output_type": "stream",
     "text": [
      "/Users/Strawberry/anaconda3/lib/python3.7/site-packages/sklearn/neural_network/_multilayer_perceptron.py:571: ConvergenceWarning: Stochastic Optimizer: Maximum iterations (200) reached and the optimization hasn't converged yet.\n",
      "  % self.max_iter, ConvergenceWarning)\n",
      "/Users/Strawberry/anaconda3/lib/python3.7/site-packages/sklearn/neural_network/_multilayer_perceptron.py:571: ConvergenceWarning: Stochastic Optimizer: Maximum iterations (200) reached and the optimization hasn't converged yet.\n",
      "  % self.max_iter, ConvergenceWarning)\n"
     ]
    },
    {
     "name": "stdout",
     "output_type": "stream",
     "text": [
      "[CV]  activation=identity, hidden_layer_sizes=(10, 40), max_iter=200, solver=adam, score=0.771, total=   0.1s\n",
      "[CV] activation=identity, hidden_layer_sizes=(10, 40), max_iter=200, solver=adam \n",
      "[CV]  activation=identity, hidden_layer_sizes=(10, 40), max_iter=200, solver=adam, score=0.833, total=   0.1s\n",
      "[CV] activation=identity, hidden_layer_sizes=(10, 40), max_iter=200, solver=adam \n"
     ]
    },
    {
     "name": "stderr",
     "output_type": "stream",
     "text": [
      "/Users/Strawberry/anaconda3/lib/python3.7/site-packages/sklearn/neural_network/_multilayer_perceptron.py:571: ConvergenceWarning: Stochastic Optimizer: Maximum iterations (200) reached and the optimization hasn't converged yet.\n",
      "  % self.max_iter, ConvergenceWarning)\n",
      "/Users/Strawberry/anaconda3/lib/python3.7/site-packages/sklearn/neural_network/_multilayer_perceptron.py:571: ConvergenceWarning: Stochastic Optimizer: Maximum iterations (200) reached and the optimization hasn't converged yet.\n",
      "  % self.max_iter, ConvergenceWarning)\n"
     ]
    },
    {
     "name": "stdout",
     "output_type": "stream",
     "text": [
      "[CV]  activation=identity, hidden_layer_sizes=(10, 40), max_iter=200, solver=adam, score=0.688, total=   0.1s\n",
      "[CV] activation=identity, hidden_layer_sizes=(10, 40), max_iter=300, solver=lbfgs \n",
      "[CV]  activation=identity, hidden_layer_sizes=(10, 40), max_iter=300, solver=lbfgs, score=0.449, total=   0.0s\n",
      "[CV] activation=identity, hidden_layer_sizes=(10, 40), max_iter=300, solver=lbfgs \n",
      "[CV]  activation=identity, hidden_layer_sizes=(10, 40), max_iter=300, solver=lbfgs, score=0.469, total=   0.0s\n",
      "[CV] activation=identity, hidden_layer_sizes=(10, 40), max_iter=300, solver=lbfgs \n",
      "[CV]  activation=identity, hidden_layer_sizes=(10, 40), max_iter=300, solver=lbfgs, score=0.458, total=   0.0s\n",
      "[CV] activation=identity, hidden_layer_sizes=(10, 40), max_iter=300, solver=lbfgs \n",
      "[CV]  activation=identity, hidden_layer_sizes=(10, 40), max_iter=300, solver=lbfgs, score=0.458, total=   0.0s\n",
      "[CV] activation=identity, hidden_layer_sizes=(10, 40), max_iter=300, solver=lbfgs \n",
      "[CV]  activation=identity, hidden_layer_sizes=(10, 40), max_iter=300, solver=lbfgs, score=0.458, total=   0.0s\n",
      "[CV] activation=identity, hidden_layer_sizes=(10, 40), max_iter=300, solver=sgd \n",
      "[CV]  activation=identity, hidden_layer_sizes=(10, 40), max_iter=300, solver=sgd, score=0.653, total=   0.0s\n",
      "[CV] activation=identity, hidden_layer_sizes=(10, 40), max_iter=300, solver=sgd \n",
      "[CV]  activation=identity, hidden_layer_sizes=(10, 40), max_iter=300, solver=sgd, score=0.612, total=   0.0s\n",
      "[CV] activation=identity, hidden_layer_sizes=(10, 40), max_iter=300, solver=sgd \n",
      "[CV]  activation=identity, hidden_layer_sizes=(10, 40), max_iter=300, solver=sgd, score=0.625, total=   0.0s\n",
      "[CV] activation=identity, hidden_layer_sizes=(10, 40), max_iter=300, solver=sgd \n",
      "[CV]  activation=identity, hidden_layer_sizes=(10, 40), max_iter=300, solver=sgd, score=0.750, total=   0.0s\n",
      "[CV] activation=identity, hidden_layer_sizes=(10, 40), max_iter=300, solver=sgd \n",
      "[CV]  activation=identity, hidden_layer_sizes=(10, 40), max_iter=300, solver=sgd, score=0.729, total=   0.1s\n",
      "[CV] activation=identity, hidden_layer_sizes=(10, 40), max_iter=300, solver=adam \n",
      "[CV]  activation=identity, hidden_layer_sizes=(10, 40), max_iter=300, solver=adam, score=0.796, total=   0.2s\n",
      "[CV] activation=identity, hidden_layer_sizes=(10, 40), max_iter=300, solver=adam \n"
     ]
    },
    {
     "name": "stderr",
     "output_type": "stream",
     "text": [
      "/Users/Strawberry/anaconda3/lib/python3.7/site-packages/sklearn/neural_network/_multilayer_perceptron.py:571: ConvergenceWarning: Stochastic Optimizer: Maximum iterations (300) reached and the optimization hasn't converged yet.\n",
      "  % self.max_iter, ConvergenceWarning)\n",
      "/Users/Strawberry/anaconda3/lib/python3.7/site-packages/sklearn/neural_network/_multilayer_perceptron.py:571: ConvergenceWarning: Stochastic Optimizer: Maximum iterations (300) reached and the optimization hasn't converged yet.\n",
      "  % self.max_iter, ConvergenceWarning)\n"
     ]
    },
    {
     "name": "stdout",
     "output_type": "stream",
     "text": [
      "[CV]  activation=identity, hidden_layer_sizes=(10, 40), max_iter=300, solver=adam, score=0.755, total=   0.2s\n",
      "[CV] activation=identity, hidden_layer_sizes=(10, 40), max_iter=300, solver=adam \n",
      "[CV]  activation=identity, hidden_layer_sizes=(10, 40), max_iter=300, solver=adam, score=0.833, total=   0.2s\n",
      "[CV] activation=identity, hidden_layer_sizes=(10, 40), max_iter=300, solver=adam \n"
     ]
    },
    {
     "name": "stderr",
     "output_type": "stream",
     "text": [
      "/Users/Strawberry/anaconda3/lib/python3.7/site-packages/sklearn/neural_network/_multilayer_perceptron.py:571: ConvergenceWarning: Stochastic Optimizer: Maximum iterations (300) reached and the optimization hasn't converged yet.\n",
      "  % self.max_iter, ConvergenceWarning)\n",
      "/Users/Strawberry/anaconda3/lib/python3.7/site-packages/sklearn/neural_network/_multilayer_perceptron.py:571: ConvergenceWarning: Stochastic Optimizer: Maximum iterations (300) reached and the optimization hasn't converged yet.\n",
      "  % self.max_iter, ConvergenceWarning)\n"
     ]
    },
    {
     "name": "stdout",
     "output_type": "stream",
     "text": [
      "[CV]  activation=identity, hidden_layer_sizes=(10, 40), max_iter=300, solver=adam, score=0.896, total=   0.2s\n",
      "[CV] activation=identity, hidden_layer_sizes=(10, 40), max_iter=300, solver=adam \n",
      "[CV]  activation=identity, hidden_layer_sizes=(10, 40), max_iter=300, solver=adam, score=0.792, total=   0.2s\n",
      "[CV] activation=identity, hidden_layer_sizes=(20, 10), max_iter=100, solver=lbfgs \n",
      "[CV]  activation=identity, hidden_layer_sizes=(20, 10), max_iter=100, solver=lbfgs, score=0.449, total=   0.0s\n",
      "[CV] activation=identity, hidden_layer_sizes=(20, 10), max_iter=100, solver=lbfgs \n",
      "[CV]  activation=identity, hidden_layer_sizes=(20, 10), max_iter=100, solver=lbfgs, score=0.469, total=   0.0s\n",
      "[CV] activation=identity, hidden_layer_sizes=(20, 10), max_iter=100, solver=lbfgs \n"
     ]
    },
    {
     "name": "stderr",
     "output_type": "stream",
     "text": [
      "/Users/Strawberry/anaconda3/lib/python3.7/site-packages/sklearn/neural_network/_multilayer_perceptron.py:571: ConvergenceWarning: Stochastic Optimizer: Maximum iterations (300) reached and the optimization hasn't converged yet.\n",
      "  % self.max_iter, ConvergenceWarning)\n"
     ]
    },
    {
     "name": "stdout",
     "output_type": "stream",
     "text": [
      "[CV]  activation=identity, hidden_layer_sizes=(20, 10), max_iter=100, solver=lbfgs, score=0.458, total=   0.0s\n",
      "[CV] activation=identity, hidden_layer_sizes=(20, 10), max_iter=100, solver=lbfgs \n",
      "[CV]  activation=identity, hidden_layer_sizes=(20, 10), max_iter=100, solver=lbfgs, score=0.458, total=   0.0s\n",
      "[CV] activation=identity, hidden_layer_sizes=(20, 10), max_iter=100, solver=lbfgs \n",
      "[CV]  activation=identity, hidden_layer_sizes=(20, 10), max_iter=100, solver=lbfgs, score=0.458, total=   0.0s\n",
      "[CV] activation=identity, hidden_layer_sizes=(20, 10), max_iter=100, solver=sgd \n",
      "[CV]  activation=identity, hidden_layer_sizes=(20, 10), max_iter=100, solver=sgd, score=0.694, total=   0.0s\n",
      "[CV] activation=identity, hidden_layer_sizes=(20, 10), max_iter=100, solver=sgd \n",
      "[CV]  activation=identity, hidden_layer_sizes=(20, 10), max_iter=100, solver=sgd, score=0.531, total=   0.0s\n",
      "[CV] activation=identity, hidden_layer_sizes=(20, 10), max_iter=100, solver=sgd \n",
      "[CV]  activation=identity, hidden_layer_sizes=(20, 10), max_iter=100, solver=sgd, score=0.542, total=   0.0s\n",
      "[CV] activation=identity, hidden_layer_sizes=(20, 10), max_iter=100, solver=sgd \n",
      "[CV]  activation=identity, hidden_layer_sizes=(20, 10), max_iter=100, solver=sgd, score=0.542, total=   0.0s\n",
      "[CV] activation=identity, hidden_layer_sizes=(20, 10), max_iter=100, solver=sgd \n",
      "[CV]  activation=identity, hidden_layer_sizes=(20, 10), max_iter=100, solver=sgd, score=0.542, total=   0.0s\n",
      "[CV] activation=identity, hidden_layer_sizes=(20, 10), max_iter=100, solver=adam \n",
      "[CV]  activation=identity, hidden_layer_sizes=(20, 10), max_iter=100, solver=adam, score=0.673, total=   0.0s\n",
      "[CV] activation=identity, hidden_layer_sizes=(20, 10), max_iter=100, solver=adam \n",
      "[CV]  activation=identity, hidden_layer_sizes=(20, 10), max_iter=100, solver=adam, score=0.531, total=   0.0s\n",
      "[CV] activation=identity, hidden_layer_sizes=(20, 10), max_iter=100, solver=adam \n",
      "[CV]  activation=identity, hidden_layer_sizes=(20, 10), max_iter=100, solver=adam, score=0.688, total=   0.0s\n",
      "[CV] activation=identity, hidden_layer_sizes=(20, 10), max_iter=100, solver=adam \n",
      "[CV]  activation=identity, hidden_layer_sizes=(20, 10), max_iter=100, solver=adam, score=0.562, total=   0.0s\n",
      "[CV] activation=identity, hidden_layer_sizes=(20, 10), max_iter=100, solver=adam \n",
      "[CV]  activation=identity, hidden_layer_sizes=(20, 10), max_iter=100, solver=adam, score=0.646, total=   0.0s\n",
      "[CV] activation=identity, hidden_layer_sizes=(20, 10), max_iter=200, solver=lbfgs \n",
      "[CV]  activation=identity, hidden_layer_sizes=(20, 10), max_iter=200, solver=lbfgs, score=0.449, total=   0.0s\n",
      "[CV] activation=identity, hidden_layer_sizes=(20, 10), max_iter=200, solver=lbfgs \n",
      "[CV]  activation=identity, hidden_layer_sizes=(20, 10), max_iter=200, solver=lbfgs, score=0.469, total=   0.0s\n",
      "[CV] activation=identity, hidden_layer_sizes=(20, 10), max_iter=200, solver=lbfgs \n",
      "[CV]  activation=identity, hidden_layer_sizes=(20, 10), max_iter=200, solver=lbfgs, score=0.458, total=   0.0s\n",
      "[CV] activation=identity, hidden_layer_sizes=(20, 10), max_iter=200, solver=lbfgs \n",
      "[CV]  activation=identity, hidden_layer_sizes=(20, 10), max_iter=200, solver=lbfgs, score=0.458, total=   0.0s\n",
      "[CV] activation=identity, hidden_layer_sizes=(20, 10), max_iter=200, solver=lbfgs \n",
      "[CV]  activation=identity, hidden_layer_sizes=(20, 10), max_iter=200, solver=lbfgs, score=0.458, total=   0.0s\n",
      "[CV] activation=identity, hidden_layer_sizes=(20, 10), max_iter=200, solver=sgd \n",
      "[CV]  activation=identity, hidden_layer_sizes=(20, 10), max_iter=200, solver=sgd, score=0.694, total=   0.0s\n",
      "[CV] activation=identity, hidden_layer_sizes=(20, 10), max_iter=200, solver=sgd \n",
      "[CV]  activation=identity, hidden_layer_sizes=(20, 10), max_iter=200, solver=sgd, score=0.531, total=   0.0s\n",
      "[CV] activation=identity, hidden_layer_sizes=(20, 10), max_iter=200, solver=sgd \n",
      "[CV]  activation=identity, hidden_layer_sizes=(20, 10), max_iter=200, solver=sgd, score=0.542, total=   0.0s\n",
      "[CV] activation=identity, hidden_layer_sizes=(20, 10), max_iter=200, solver=sgd \n",
      "[CV]  activation=identity, hidden_layer_sizes=(20, 10), max_iter=200, solver=sgd, score=0.542, total=   0.0s\n",
      "[CV] activation=identity, hidden_layer_sizes=(20, 10), max_iter=200, solver=sgd \n",
      "[CV]  activation=identity, hidden_layer_sizes=(20, 10), max_iter=200, solver=sgd, score=0.542, total=   0.0s\n",
      "[CV] activation=identity, hidden_layer_sizes=(20, 10), max_iter=200, solver=adam \n",
      "[CV]  activation=identity, hidden_layer_sizes=(20, 10), max_iter=200, solver=adam, score=0.673, total=   0.0s\n",
      "[CV] activation=identity, hidden_layer_sizes=(20, 10), max_iter=200, solver=adam \n",
      "[CV]  activation=identity, hidden_layer_sizes=(20, 10), max_iter=200, solver=adam, score=0.531, total=   0.0s\n",
      "[CV] activation=identity, hidden_layer_sizes=(20, 10), max_iter=200, solver=adam \n",
      "[CV]  activation=identity, hidden_layer_sizes=(20, 10), max_iter=200, solver=adam, score=0.688, total=   0.0s\n",
      "[CV] activation=identity, hidden_layer_sizes=(20, 10), max_iter=200, solver=adam \n",
      "[CV]  activation=identity, hidden_layer_sizes=(20, 10), max_iter=200, solver=adam, score=0.562, total=   0.0s\n",
      "[CV] activation=identity, hidden_layer_sizes=(20, 10), max_iter=200, solver=adam \n",
      "[CV]  activation=identity, hidden_layer_sizes=(20, 10), max_iter=200, solver=adam, score=0.646, total=   0.0s\n",
      "[CV] activation=identity, hidden_layer_sizes=(20, 10), max_iter=300, solver=lbfgs \n",
      "[CV]  activation=identity, hidden_layer_sizes=(20, 10), max_iter=300, solver=lbfgs, score=0.449, total=   0.0s\n",
      "[CV] activation=identity, hidden_layer_sizes=(20, 10), max_iter=300, solver=lbfgs \n",
      "[CV]  activation=identity, hidden_layer_sizes=(20, 10), max_iter=300, solver=lbfgs, score=0.469, total=   0.0s\n",
      "[CV] activation=identity, hidden_layer_sizes=(20, 10), max_iter=300, solver=lbfgs \n",
      "[CV]  activation=identity, hidden_layer_sizes=(20, 10), max_iter=300, solver=lbfgs, score=0.458, total=   0.0s\n",
      "[CV] activation=identity, hidden_layer_sizes=(20, 10), max_iter=300, solver=lbfgs \n",
      "[CV]  activation=identity, hidden_layer_sizes=(20, 10), max_iter=300, solver=lbfgs, score=0.458, total=   0.0s\n",
      "[CV] activation=identity, hidden_layer_sizes=(20, 10), max_iter=300, solver=lbfgs \n",
      "[CV]  activation=identity, hidden_layer_sizes=(20, 10), max_iter=300, solver=lbfgs, score=0.458, total=   0.0s\n",
      "[CV] activation=identity, hidden_layer_sizes=(20, 10), max_iter=300, solver=sgd \n",
      "[CV]  activation=identity, hidden_layer_sizes=(20, 10), max_iter=300, solver=sgd, score=0.694, total=   0.0s\n",
      "[CV] activation=identity, hidden_layer_sizes=(20, 10), max_iter=300, solver=sgd \n",
      "[CV]  activation=identity, hidden_layer_sizes=(20, 10), max_iter=300, solver=sgd, score=0.531, total=   0.0s\n",
      "[CV] activation=identity, hidden_layer_sizes=(20, 10), max_iter=300, solver=sgd \n",
      "[CV]  activation=identity, hidden_layer_sizes=(20, 10), max_iter=300, solver=sgd, score=0.542, total=   0.0s\n",
      "[CV] activation=identity, hidden_layer_sizes=(20, 10), max_iter=300, solver=sgd \n",
      "[CV]  activation=identity, hidden_layer_sizes=(20, 10), max_iter=300, solver=sgd, score=0.542, total=   0.0s\n",
      "[CV] activation=identity, hidden_layer_sizes=(20, 10), max_iter=300, solver=sgd \n",
      "[CV]  activation=identity, hidden_layer_sizes=(20, 10), max_iter=300, solver=sgd, score=0.542, total=   0.0s\n",
      "[CV] activation=identity, hidden_layer_sizes=(20, 10), max_iter=300, solver=adam \n",
      "[CV]  activation=identity, hidden_layer_sizes=(20, 10), max_iter=300, solver=adam, score=0.673, total=   0.0s\n",
      "[CV] activation=identity, hidden_layer_sizes=(20, 10), max_iter=300, solver=adam \n",
      "[CV]  activation=identity, hidden_layer_sizes=(20, 10), max_iter=300, solver=adam, score=0.531, total=   0.0s\n",
      "[CV] activation=identity, hidden_layer_sizes=(20, 10), max_iter=300, solver=adam \n",
      "[CV]  activation=identity, hidden_layer_sizes=(20, 10), max_iter=300, solver=adam, score=0.688, total=   0.0s\n",
      "[CV] activation=identity, hidden_layer_sizes=(20, 10), max_iter=300, solver=adam \n",
      "[CV]  activation=identity, hidden_layer_sizes=(20, 10), max_iter=300, solver=adam, score=0.562, total=   0.0s\n",
      "[CV] activation=identity, hidden_layer_sizes=(20, 10), max_iter=300, solver=adam \n",
      "[CV]  activation=identity, hidden_layer_sizes=(20, 10), max_iter=300, solver=adam, score=0.646, total=   0.0s\n",
      "[CV] activation=identity, hidden_layer_sizes=(20, 20), max_iter=100, solver=lbfgs \n",
      "[CV]  activation=identity, hidden_layer_sizes=(20, 20), max_iter=100, solver=lbfgs, score=0.449, total=   0.0s\n",
      "[CV] activation=identity, hidden_layer_sizes=(20, 20), max_iter=100, solver=lbfgs \n",
      "[CV]  activation=identity, hidden_layer_sizes=(20, 20), max_iter=100, solver=lbfgs, score=0.490, total=   0.0s\n",
      "[CV] activation=identity, hidden_layer_sizes=(20, 20), max_iter=100, solver=lbfgs \n",
      "[CV]  activation=identity, hidden_layer_sizes=(20, 20), max_iter=100, solver=lbfgs, score=0.521, total=   0.0s\n",
      "[CV] activation=identity, hidden_layer_sizes=(20, 20), max_iter=100, solver=lbfgs \n",
      "[CV]  activation=identity, hidden_layer_sizes=(20, 20), max_iter=100, solver=lbfgs, score=0.479, total=   0.0s\n",
      "[CV] activation=identity, hidden_layer_sizes=(20, 20), max_iter=100, solver=lbfgs \n",
      "[CV]  activation=identity, hidden_layer_sizes=(20, 20), max_iter=100, solver=lbfgs, score=0.500, total=   0.0s\n",
      "[CV] activation=identity, hidden_layer_sizes=(20, 20), max_iter=100, solver=sgd \n",
      "[CV]  activation=identity, hidden_layer_sizes=(20, 20), max_iter=100, solver=sgd, score=0.612, total=   0.0s\n",
      "[CV] activation=identity, hidden_layer_sizes=(20, 20), max_iter=100, solver=sgd \n"
     ]
    },
    {
     "name": "stdout",
     "output_type": "stream",
     "text": [
      "[CV]  activation=identity, hidden_layer_sizes=(20, 20), max_iter=100, solver=sgd, score=0.510, total=   0.0s\n",
      "[CV] activation=identity, hidden_layer_sizes=(20, 20), max_iter=100, solver=sgd \n",
      "[CV]  activation=identity, hidden_layer_sizes=(20, 20), max_iter=100, solver=sgd, score=0.458, total=   0.0s\n",
      "[CV] activation=identity, hidden_layer_sizes=(20, 20), max_iter=100, solver=sgd \n",
      "[CV]  activation=identity, hidden_layer_sizes=(20, 20), max_iter=100, solver=sgd, score=0.646, total=   0.0s\n",
      "[CV] activation=identity, hidden_layer_sizes=(20, 20), max_iter=100, solver=sgd \n",
      "[CV]  activation=identity, hidden_layer_sizes=(20, 20), max_iter=100, solver=sgd, score=0.625, total=   0.0s\n",
      "[CV] activation=identity, hidden_layer_sizes=(20, 20), max_iter=100, solver=adam \n",
      "[CV]  activation=identity, hidden_layer_sizes=(20, 20), max_iter=100, solver=adam, score=0.694, total=   0.1s\n",
      "[CV] activation=identity, hidden_layer_sizes=(20, 20), max_iter=100, solver=adam \n",
      "[CV]  activation=identity, hidden_layer_sizes=(20, 20), max_iter=100, solver=adam, score=0.653, total=   0.1s\n",
      "[CV] activation=identity, hidden_layer_sizes=(20, 20), max_iter=100, solver=adam \n"
     ]
    },
    {
     "name": "stderr",
     "output_type": "stream",
     "text": [
      "/Users/Strawberry/anaconda3/lib/python3.7/site-packages/sklearn/neural_network/_multilayer_perceptron.py:571: ConvergenceWarning: Stochastic Optimizer: Maximum iterations (100) reached and the optimization hasn't converged yet.\n",
      "  % self.max_iter, ConvergenceWarning)\n",
      "/Users/Strawberry/anaconda3/lib/python3.7/site-packages/sklearn/neural_network/_multilayer_perceptron.py:571: ConvergenceWarning: Stochastic Optimizer: Maximum iterations (100) reached and the optimization hasn't converged yet.\n",
      "  % self.max_iter, ConvergenceWarning)\n",
      "/Users/Strawberry/anaconda3/lib/python3.7/site-packages/sklearn/neural_network/_multilayer_perceptron.py:571: ConvergenceWarning: Stochastic Optimizer: Maximum iterations (100) reached and the optimization hasn't converged yet.\n",
      "  % self.max_iter, ConvergenceWarning)\n",
      "/Users/Strawberry/anaconda3/lib/python3.7/site-packages/sklearn/neural_network/_multilayer_perceptron.py:571: ConvergenceWarning: Stochastic Optimizer: Maximum iterations (100) reached and the optimization hasn't converged yet.\n",
      "  % self.max_iter, ConvergenceWarning)\n"
     ]
    },
    {
     "name": "stdout",
     "output_type": "stream",
     "text": [
      "[CV]  activation=identity, hidden_layer_sizes=(20, 20), max_iter=100, solver=adam, score=0.667, total=   0.1s\n",
      "[CV] activation=identity, hidden_layer_sizes=(20, 20), max_iter=100, solver=adam \n",
      "[CV]  activation=identity, hidden_layer_sizes=(20, 20), max_iter=100, solver=adam, score=0.812, total=   0.1s\n",
      "[CV] activation=identity, hidden_layer_sizes=(20, 20), max_iter=100, solver=adam \n",
      "[CV]  activation=identity, hidden_layer_sizes=(20, 20), max_iter=100, solver=adam, score=0.729, total=   0.1s\n",
      "[CV] activation=identity, hidden_layer_sizes=(20, 20), max_iter=200, solver=lbfgs \n",
      "[CV]  activation=identity, hidden_layer_sizes=(20, 20), max_iter=200, solver=lbfgs, score=0.449, total=   0.0s\n",
      "[CV] activation=identity, hidden_layer_sizes=(20, 20), max_iter=200, solver=lbfgs \n",
      "[CV]  activation=identity, hidden_layer_sizes=(20, 20), max_iter=200, solver=lbfgs, score=0.490, total=   0.0s\n",
      "[CV] activation=identity, hidden_layer_sizes=(20, 20), max_iter=200, solver=lbfgs \n",
      "[CV]  activation=identity, hidden_layer_sizes=(20, 20), max_iter=200, solver=lbfgs, score=0.521, total=   0.0s\n",
      "[CV] activation=identity, hidden_layer_sizes=(20, 20), max_iter=200, solver=lbfgs \n",
      "[CV]  activation=identity, hidden_layer_sizes=(20, 20), max_iter=200, solver=lbfgs, score=0.479, total=   0.0s\n",
      "[CV] activation=identity, hidden_layer_sizes=(20, 20), max_iter=200, solver=lbfgs \n",
      "[CV]  activation=identity, hidden_layer_sizes=(20, 20), max_iter=200, solver=lbfgs, score=0.500, total=   0.0s\n",
      "[CV] activation=identity, hidden_layer_sizes=(20, 20), max_iter=200, solver=sgd \n",
      "[CV]  activation=identity, hidden_layer_sizes=(20, 20), max_iter=200, solver=sgd, score=0.612, total=   0.0s\n",
      "[CV] activation=identity, hidden_layer_sizes=(20, 20), max_iter=200, solver=sgd \n"
     ]
    },
    {
     "name": "stderr",
     "output_type": "stream",
     "text": [
      "/Users/Strawberry/anaconda3/lib/python3.7/site-packages/sklearn/neural_network/_multilayer_perceptron.py:571: ConvergenceWarning: Stochastic Optimizer: Maximum iterations (100) reached and the optimization hasn't converged yet.\n",
      "  % self.max_iter, ConvergenceWarning)\n"
     ]
    },
    {
     "name": "stdout",
     "output_type": "stream",
     "text": [
      "[CV]  activation=identity, hidden_layer_sizes=(20, 20), max_iter=200, solver=sgd, score=0.510, total=   0.0s\n",
      "[CV] activation=identity, hidden_layer_sizes=(20, 20), max_iter=200, solver=sgd \n",
      "[CV]  activation=identity, hidden_layer_sizes=(20, 20), max_iter=200, solver=sgd, score=0.458, total=   0.0s\n",
      "[CV] activation=identity, hidden_layer_sizes=(20, 20), max_iter=200, solver=sgd \n",
      "[CV]  activation=identity, hidden_layer_sizes=(20, 20), max_iter=200, solver=sgd, score=0.646, total=   0.0s\n",
      "[CV] activation=identity, hidden_layer_sizes=(20, 20), max_iter=200, solver=sgd \n",
      "[CV]  activation=identity, hidden_layer_sizes=(20, 20), max_iter=200, solver=sgd, score=0.625, total=   0.0s\n",
      "[CV] activation=identity, hidden_layer_sizes=(20, 20), max_iter=200, solver=adam \n",
      "[CV]  activation=identity, hidden_layer_sizes=(20, 20), max_iter=200, solver=adam, score=0.755, total=   0.1s\n",
      "[CV] activation=identity, hidden_layer_sizes=(20, 20), max_iter=200, solver=adam \n"
     ]
    },
    {
     "name": "stderr",
     "output_type": "stream",
     "text": [
      "/Users/Strawberry/anaconda3/lib/python3.7/site-packages/sklearn/neural_network/_multilayer_perceptron.py:571: ConvergenceWarning: Stochastic Optimizer: Maximum iterations (200) reached and the optimization hasn't converged yet.\n",
      "  % self.max_iter, ConvergenceWarning)\n",
      "/Users/Strawberry/anaconda3/lib/python3.7/site-packages/sklearn/neural_network/_multilayer_perceptron.py:571: ConvergenceWarning: Stochastic Optimizer: Maximum iterations (200) reached and the optimization hasn't converged yet.\n",
      "  % self.max_iter, ConvergenceWarning)\n"
     ]
    },
    {
     "name": "stdout",
     "output_type": "stream",
     "text": [
      "[CV]  activation=identity, hidden_layer_sizes=(20, 20), max_iter=200, solver=adam, score=0.816, total=   0.1s\n",
      "[CV] activation=identity, hidden_layer_sizes=(20, 20), max_iter=200, solver=adam \n",
      "[CV]  activation=identity, hidden_layer_sizes=(20, 20), max_iter=200, solver=adam, score=0.875, total=   0.1s\n",
      "[CV] activation=identity, hidden_layer_sizes=(20, 20), max_iter=200, solver=adam \n"
     ]
    },
    {
     "name": "stderr",
     "output_type": "stream",
     "text": [
      "/Users/Strawberry/anaconda3/lib/python3.7/site-packages/sklearn/neural_network/_multilayer_perceptron.py:571: ConvergenceWarning: Stochastic Optimizer: Maximum iterations (200) reached and the optimization hasn't converged yet.\n",
      "  % self.max_iter, ConvergenceWarning)\n",
      "/Users/Strawberry/anaconda3/lib/python3.7/site-packages/sklearn/neural_network/_multilayer_perceptron.py:571: ConvergenceWarning: Stochastic Optimizer: Maximum iterations (200) reached and the optimization hasn't converged yet.\n",
      "  % self.max_iter, ConvergenceWarning)\n"
     ]
    },
    {
     "name": "stdout",
     "output_type": "stream",
     "text": [
      "[CV]  activation=identity, hidden_layer_sizes=(20, 20), max_iter=200, solver=adam, score=0.875, total=   0.1s\n",
      "[CV] activation=identity, hidden_layer_sizes=(20, 20), max_iter=200, solver=adam \n",
      "[CV]  activation=identity, hidden_layer_sizes=(20, 20), max_iter=200, solver=adam, score=0.833, total=   0.1s\n",
      "[CV] activation=identity, hidden_layer_sizes=(20, 20), max_iter=300, solver=lbfgs \n",
      "[CV]  activation=identity, hidden_layer_sizes=(20, 20), max_iter=300, solver=lbfgs, score=0.449, total=   0.0s\n",
      "[CV] activation=identity, hidden_layer_sizes=(20, 20), max_iter=300, solver=lbfgs \n",
      "[CV]  activation=identity, hidden_layer_sizes=(20, 20), max_iter=300, solver=lbfgs, score=0.490, total=   0.0s\n",
      "[CV] activation=identity, hidden_layer_sizes=(20, 20), max_iter=300, solver=lbfgs \n",
      "[CV]  activation=identity, hidden_layer_sizes=(20, 20), max_iter=300, solver=lbfgs, score=0.521, total=   0.0s\n",
      "[CV] activation=identity, hidden_layer_sizes=(20, 20), max_iter=300, solver=lbfgs \n",
      "[CV]  activation=identity, hidden_layer_sizes=(20, 20), max_iter=300, solver=lbfgs, score=0.479, total=   0.0s\n",
      "[CV] activation=identity, hidden_layer_sizes=(20, 20), max_iter=300, solver=lbfgs \n",
      "[CV]  activation=identity, hidden_layer_sizes=(20, 20), max_iter=300, solver=lbfgs, score=0.500, total=   0.0s\n",
      "[CV] activation=identity, hidden_layer_sizes=(20, 20), max_iter=300, solver=sgd \n",
      "[CV]  activation=identity, hidden_layer_sizes=(20, 20), max_iter=300, solver=sgd, score=0.612, total=   0.0s\n",
      "[CV] activation=identity, hidden_layer_sizes=(20, 20), max_iter=300, solver=sgd \n",
      "[CV]  activation=identity, hidden_layer_sizes=(20, 20), max_iter=300, solver=sgd, score=0.510, total=   0.0s\n",
      "[CV] activation=identity, hidden_layer_sizes=(20, 20), max_iter=300, solver=sgd \n"
     ]
    },
    {
     "name": "stderr",
     "output_type": "stream",
     "text": [
      "/Users/Strawberry/anaconda3/lib/python3.7/site-packages/sklearn/neural_network/_multilayer_perceptron.py:571: ConvergenceWarning: Stochastic Optimizer: Maximum iterations (200) reached and the optimization hasn't converged yet.\n",
      "  % self.max_iter, ConvergenceWarning)\n"
     ]
    },
    {
     "name": "stdout",
     "output_type": "stream",
     "text": [
      "[CV]  activation=identity, hidden_layer_sizes=(20, 20), max_iter=300, solver=sgd, score=0.458, total=   0.0s\n",
      "[CV] activation=identity, hidden_layer_sizes=(20, 20), max_iter=300, solver=sgd \n",
      "[CV]  activation=identity, hidden_layer_sizes=(20, 20), max_iter=300, solver=sgd, score=0.646, total=   0.0s\n",
      "[CV] activation=identity, hidden_layer_sizes=(20, 20), max_iter=300, solver=sgd \n",
      "[CV]  activation=identity, hidden_layer_sizes=(20, 20), max_iter=300, solver=sgd, score=0.625, total=   0.0s\n",
      "[CV] activation=identity, hidden_layer_sizes=(20, 20), max_iter=300, solver=adam \n"
     ]
    },
    {
     "name": "stderr",
     "output_type": "stream",
     "text": [
      "/Users/Strawberry/anaconda3/lib/python3.7/site-packages/sklearn/neural_network/_multilayer_perceptron.py:571: ConvergenceWarning: Stochastic Optimizer: Maximum iterations (300) reached and the optimization hasn't converged yet.\n",
      "  % self.max_iter, ConvergenceWarning)\n",
      "/Users/Strawberry/anaconda3/lib/python3.7/site-packages/sklearn/neural_network/_multilayer_perceptron.py:571: ConvergenceWarning: Stochastic Optimizer: Maximum iterations (300) reached and the optimization hasn't converged yet.\n",
      "  % self.max_iter, ConvergenceWarning)\n"
     ]
    },
    {
     "name": "stdout",
     "output_type": "stream",
     "text": [
      "[CV]  activation=identity, hidden_layer_sizes=(20, 20), max_iter=300, solver=adam, score=0.755, total=   0.2s\n",
      "[CV] activation=identity, hidden_layer_sizes=(20, 20), max_iter=300, solver=adam \n",
      "[CV]  activation=identity, hidden_layer_sizes=(20, 20), max_iter=300, solver=adam, score=0.837, total=   0.2s\n",
      "[CV] activation=identity, hidden_layer_sizes=(20, 20), max_iter=300, solver=adam \n"
     ]
    },
    {
     "name": "stderr",
     "output_type": "stream",
     "text": [
      "/Users/Strawberry/anaconda3/lib/python3.7/site-packages/sklearn/neural_network/_multilayer_perceptron.py:571: ConvergenceWarning: Stochastic Optimizer: Maximum iterations (300) reached and the optimization hasn't converged yet.\n",
      "  % self.max_iter, ConvergenceWarning)\n",
      "/Users/Strawberry/anaconda3/lib/python3.7/site-packages/sklearn/neural_network/_multilayer_perceptron.py:571: ConvergenceWarning: Stochastic Optimizer: Maximum iterations (300) reached and the optimization hasn't converged yet.\n",
      "  % self.max_iter, ConvergenceWarning)\n"
     ]
    },
    {
     "name": "stdout",
     "output_type": "stream",
     "text": [
      "[CV]  activation=identity, hidden_layer_sizes=(20, 20), max_iter=300, solver=adam, score=0.875, total=   0.2s\n",
      "[CV] activation=identity, hidden_layer_sizes=(20, 20), max_iter=300, solver=adam \n",
      "[CV]  activation=identity, hidden_layer_sizes=(20, 20), max_iter=300, solver=adam, score=0.917, total=   0.2s\n",
      "[CV] activation=identity, hidden_layer_sizes=(20, 20), max_iter=300, solver=adam \n"
     ]
    },
    {
     "name": "stderr",
     "output_type": "stream",
     "text": [
      "/Users/Strawberry/anaconda3/lib/python3.7/site-packages/sklearn/neural_network/_multilayer_perceptron.py:571: ConvergenceWarning: Stochastic Optimizer: Maximum iterations (300) reached and the optimization hasn't converged yet.\n",
      "  % self.max_iter, ConvergenceWarning)\n",
      "/Users/Strawberry/anaconda3/lib/python3.7/site-packages/sklearn/neural_network/_multilayer_perceptron.py:571: ConvergenceWarning: Stochastic Optimizer: Maximum iterations (100) reached and the optimization hasn't converged yet.\n",
      "  % self.max_iter, ConvergenceWarning)\n",
      "/Users/Strawberry/anaconda3/lib/python3.7/site-packages/sklearn/neural_network/_multilayer_perceptron.py:571: ConvergenceWarning: Stochastic Optimizer: Maximum iterations (100) reached and the optimization hasn't converged yet.\n",
      "  % self.max_iter, ConvergenceWarning)\n"
     ]
    },
    {
     "name": "stdout",
     "output_type": "stream",
     "text": [
      "[CV]  activation=identity, hidden_layer_sizes=(20, 20), max_iter=300, solver=adam, score=0.771, total=   0.2s\n",
      "[CV] activation=identity, hidden_layer_sizes=(20, 30), max_iter=100, solver=lbfgs \n",
      "[CV]  activation=identity, hidden_layer_sizes=(20, 30), max_iter=100, solver=lbfgs, score=0.531, total=   0.0s\n",
      "[CV] activation=identity, hidden_layer_sizes=(20, 30), max_iter=100, solver=lbfgs \n",
      "[CV]  activation=identity, hidden_layer_sizes=(20, 30), max_iter=100, solver=lbfgs, score=0.510, total=   0.0s\n",
      "[CV] activation=identity, hidden_layer_sizes=(20, 30), max_iter=100, solver=lbfgs \n",
      "[CV]  activation=identity, hidden_layer_sizes=(20, 30), max_iter=100, solver=lbfgs, score=0.604, total=   0.0s\n",
      "[CV] activation=identity, hidden_layer_sizes=(20, 30), max_iter=100, solver=lbfgs \n",
      "[CV]  activation=identity, hidden_layer_sizes=(20, 30), max_iter=100, solver=lbfgs, score=0.583, total=   0.0s\n",
      "[CV] activation=identity, hidden_layer_sizes=(20, 30), max_iter=100, solver=lbfgs \n",
      "[CV]  activation=identity, hidden_layer_sizes=(20, 30), max_iter=100, solver=lbfgs, score=0.562, total=   0.0s\n",
      "[CV] activation=identity, hidden_layer_sizes=(20, 30), max_iter=100, solver=sgd \n",
      "[CV]  activation=identity, hidden_layer_sizes=(20, 30), max_iter=100, solver=sgd, score=0.592, total=   0.0s\n",
      "[CV] activation=identity, hidden_layer_sizes=(20, 30), max_iter=100, solver=sgd \n",
      "[CV]  activation=identity, hidden_layer_sizes=(20, 30), max_iter=100, solver=sgd, score=0.551, total=   0.0s\n",
      "[CV] activation=identity, hidden_layer_sizes=(20, 30), max_iter=100, solver=sgd \n",
      "[CV]  activation=identity, hidden_layer_sizes=(20, 30), max_iter=100, solver=sgd, score=0.688, total=   0.1s\n",
      "[CV] activation=identity, hidden_layer_sizes=(20, 30), max_iter=100, solver=sgd \n",
      "[CV]  activation=identity, hidden_layer_sizes=(20, 30), max_iter=100, solver=sgd, score=0.562, total=   0.0s\n",
      "[CV] activation=identity, hidden_layer_sizes=(20, 30), max_iter=100, solver=sgd \n",
      "[CV]  activation=identity, hidden_layer_sizes=(20, 30), max_iter=100, solver=sgd, score=0.688, total=   0.1s\n",
      "[CV] activation=identity, hidden_layer_sizes=(20, 30), max_iter=100, solver=adam \n"
     ]
    },
    {
     "name": "stderr",
     "output_type": "stream",
     "text": [
      "/Users/Strawberry/anaconda3/lib/python3.7/site-packages/sklearn/neural_network/_multilayer_perceptron.py:571: ConvergenceWarning: Stochastic Optimizer: Maximum iterations (100) reached and the optimization hasn't converged yet.\n",
      "  % self.max_iter, ConvergenceWarning)\n",
      "/Users/Strawberry/anaconda3/lib/python3.7/site-packages/sklearn/neural_network/_multilayer_perceptron.py:571: ConvergenceWarning: Stochastic Optimizer: Maximum iterations (100) reached and the optimization hasn't converged yet.\n",
      "  % self.max_iter, ConvergenceWarning)\n",
      "/Users/Strawberry/anaconda3/lib/python3.7/site-packages/sklearn/neural_network/_multilayer_perceptron.py:571: ConvergenceWarning: Stochastic Optimizer: Maximum iterations (100) reached and the optimization hasn't converged yet.\n",
      "  % self.max_iter, ConvergenceWarning)\n",
      "/Users/Strawberry/anaconda3/lib/python3.7/site-packages/sklearn/neural_network/_multilayer_perceptron.py:571: ConvergenceWarning: Stochastic Optimizer: Maximum iterations (100) reached and the optimization hasn't converged yet.\n",
      "  % self.max_iter, ConvergenceWarning)\n"
     ]
    },
    {
     "name": "stdout",
     "output_type": "stream",
     "text": [
      "[CV]  activation=identity, hidden_layer_sizes=(20, 30), max_iter=100, solver=adam, score=0.735, total=   0.1s\n",
      "[CV] activation=identity, hidden_layer_sizes=(20, 30), max_iter=100, solver=adam \n",
      "[CV]  activation=identity, hidden_layer_sizes=(20, 30), max_iter=100, solver=adam, score=0.735, total=   0.1s\n",
      "[CV] activation=identity, hidden_layer_sizes=(20, 30), max_iter=100, solver=adam \n",
      "[CV]  activation=identity, hidden_layer_sizes=(20, 30), max_iter=100, solver=adam, score=0.792, total=   0.1s\n",
      "[CV] activation=identity, hidden_layer_sizes=(20, 30), max_iter=100, solver=adam \n",
      "[CV]  activation=identity, hidden_layer_sizes=(20, 30), max_iter=100, solver=adam, score=0.896, total=   0.1s\n",
      "[CV] activation=identity, hidden_layer_sizes=(20, 30), max_iter=100, solver=adam \n"
     ]
    },
    {
     "name": "stderr",
     "output_type": "stream",
     "text": [
      "/Users/Strawberry/anaconda3/lib/python3.7/site-packages/sklearn/neural_network/_multilayer_perceptron.py:571: ConvergenceWarning: Stochastic Optimizer: Maximum iterations (100) reached and the optimization hasn't converged yet.\n",
      "  % self.max_iter, ConvergenceWarning)\n"
     ]
    },
    {
     "name": "stdout",
     "output_type": "stream",
     "text": [
      "[CV]  activation=identity, hidden_layer_sizes=(20, 30), max_iter=100, solver=adam, score=0.771, total=   0.1s\n",
      "[CV] activation=identity, hidden_layer_sizes=(20, 30), max_iter=200, solver=lbfgs \n",
      "[CV]  activation=identity, hidden_layer_sizes=(20, 30), max_iter=200, solver=lbfgs, score=0.531, total=   0.0s\n",
      "[CV] activation=identity, hidden_layer_sizes=(20, 30), max_iter=200, solver=lbfgs \n",
      "[CV]  activation=identity, hidden_layer_sizes=(20, 30), max_iter=200, solver=lbfgs, score=0.510, total=   0.0s\n",
      "[CV] activation=identity, hidden_layer_sizes=(20, 30), max_iter=200, solver=lbfgs \n",
      "[CV]  activation=identity, hidden_layer_sizes=(20, 30), max_iter=200, solver=lbfgs, score=0.604, total=   0.0s\n",
      "[CV] activation=identity, hidden_layer_sizes=(20, 30), max_iter=200, solver=lbfgs \n",
      "[CV]  activation=identity, hidden_layer_sizes=(20, 30), max_iter=200, solver=lbfgs, score=0.583, total=   0.0s\n",
      "[CV] activation=identity, hidden_layer_sizes=(20, 30), max_iter=200, solver=lbfgs \n",
      "[CV]  activation=identity, hidden_layer_sizes=(20, 30), max_iter=200, solver=lbfgs, score=0.562, total=   0.0s\n",
      "[CV] activation=identity, hidden_layer_sizes=(20, 30), max_iter=200, solver=sgd \n",
      "[CV]  activation=identity, hidden_layer_sizes=(20, 30), max_iter=200, solver=sgd, score=0.592, total=   0.0s\n",
      "[CV] activation=identity, hidden_layer_sizes=(20, 30), max_iter=200, solver=sgd \n",
      "[CV]  activation=identity, hidden_layer_sizes=(20, 30), max_iter=200, solver=sgd, score=0.551, total=   0.0s\n",
      "[CV] activation=identity, hidden_layer_sizes=(20, 30), max_iter=200, solver=sgd \n",
      "[CV]  activation=identity, hidden_layer_sizes=(20, 30), max_iter=200, solver=sgd, score=0.646, total=   0.1s\n",
      "[CV] activation=identity, hidden_layer_sizes=(20, 30), max_iter=200, solver=sgd \n",
      "[CV]  activation=identity, hidden_layer_sizes=(20, 30), max_iter=200, solver=sgd, score=0.562, total=   0.0s\n",
      "[CV] activation=identity, hidden_layer_sizes=(20, 30), max_iter=200, solver=sgd \n",
      "[CV]  activation=identity, hidden_layer_sizes=(20, 30), max_iter=200, solver=sgd, score=0.667, total=   0.1s\n",
      "[CV] activation=identity, hidden_layer_sizes=(20, 30), max_iter=200, solver=adam \n",
      "[CV]  activation=identity, hidden_layer_sizes=(20, 30), max_iter=200, solver=adam, score=0.755, total=   0.1s\n",
      "[CV] activation=identity, hidden_layer_sizes=(20, 30), max_iter=200, solver=adam \n"
     ]
    },
    {
     "name": "stderr",
     "output_type": "stream",
     "text": [
      "/Users/Strawberry/anaconda3/lib/python3.7/site-packages/sklearn/neural_network/_multilayer_perceptron.py:571: ConvergenceWarning: Stochastic Optimizer: Maximum iterations (200) reached and the optimization hasn't converged yet.\n",
      "  % self.max_iter, ConvergenceWarning)\n",
      "/Users/Strawberry/anaconda3/lib/python3.7/site-packages/sklearn/neural_network/_multilayer_perceptron.py:571: ConvergenceWarning: Stochastic Optimizer: Maximum iterations (200) reached and the optimization hasn't converged yet.\n",
      "  % self.max_iter, ConvergenceWarning)\n"
     ]
    },
    {
     "name": "stdout",
     "output_type": "stream",
     "text": [
      "[CV]  activation=identity, hidden_layer_sizes=(20, 30), max_iter=200, solver=adam, score=0.776, total=   0.1s\n",
      "[CV] activation=identity, hidden_layer_sizes=(20, 30), max_iter=200, solver=adam \n",
      "[CV]  activation=identity, hidden_layer_sizes=(20, 30), max_iter=200, solver=adam, score=0.812, total=   0.1s\n",
      "[CV] activation=identity, hidden_layer_sizes=(20, 30), max_iter=200, solver=adam \n"
     ]
    },
    {
     "name": "stderr",
     "output_type": "stream",
     "text": [
      "/Users/Strawberry/anaconda3/lib/python3.7/site-packages/sklearn/neural_network/_multilayer_perceptron.py:571: ConvergenceWarning: Stochastic Optimizer: Maximum iterations (200) reached and the optimization hasn't converged yet.\n",
      "  % self.max_iter, ConvergenceWarning)\n",
      "/Users/Strawberry/anaconda3/lib/python3.7/site-packages/sklearn/neural_network/_multilayer_perceptron.py:571: ConvergenceWarning: Stochastic Optimizer: Maximum iterations (200) reached and the optimization hasn't converged yet.\n",
      "  % self.max_iter, ConvergenceWarning)\n"
     ]
    },
    {
     "name": "stdout",
     "output_type": "stream",
     "text": [
      "[CV]  activation=identity, hidden_layer_sizes=(20, 30), max_iter=200, solver=adam, score=0.917, total=   0.1s\n",
      "[CV] activation=identity, hidden_layer_sizes=(20, 30), max_iter=200, solver=adam \n",
      "[CV]  activation=identity, hidden_layer_sizes=(20, 30), max_iter=200, solver=adam, score=0.771, total=   0.1s\n",
      "[CV] activation=identity, hidden_layer_sizes=(20, 30), max_iter=300, solver=lbfgs \n",
      "[CV]  activation=identity, hidden_layer_sizes=(20, 30), max_iter=300, solver=lbfgs, score=0.531, total=   0.0s\n",
      "[CV] activation=identity, hidden_layer_sizes=(20, 30), max_iter=300, solver=lbfgs \n",
      "[CV]  activation=identity, hidden_layer_sizes=(20, 30), max_iter=300, solver=lbfgs, score=0.510, total=   0.0s\n",
      "[CV] activation=identity, hidden_layer_sizes=(20, 30), max_iter=300, solver=lbfgs \n",
      "[CV]  activation=identity, hidden_layer_sizes=(20, 30), max_iter=300, solver=lbfgs, score=0.604, total=   0.0s\n",
      "[CV] activation=identity, hidden_layer_sizes=(20, 30), max_iter=300, solver=lbfgs \n",
      "[CV]  activation=identity, hidden_layer_sizes=(20, 30), max_iter=300, solver=lbfgs, score=0.583, total=   0.0s\n",
      "[CV] activation=identity, hidden_layer_sizes=(20, 30), max_iter=300, solver=lbfgs \n",
      "[CV]  activation=identity, hidden_layer_sizes=(20, 30), max_iter=300, solver=lbfgs, score=0.562, total=   0.0s\n",
      "[CV] activation=identity, hidden_layer_sizes=(20, 30), max_iter=300, solver=sgd \n",
      "[CV]  activation=identity, hidden_layer_sizes=(20, 30), max_iter=300, solver=sgd, score=0.592, total=   0.0s\n",
      "[CV] activation=identity, hidden_layer_sizes=(20, 30), max_iter=300, solver=sgd \n",
      "[CV]  activation=identity, hidden_layer_sizes=(20, 30), max_iter=300, solver=sgd, score=0.551, total=   0.0s\n",
      "[CV] activation=identity, hidden_layer_sizes=(20, 30), max_iter=300, solver=sgd \n"
     ]
    },
    {
     "name": "stderr",
     "output_type": "stream",
     "text": [
      "/Users/Strawberry/anaconda3/lib/python3.7/site-packages/sklearn/neural_network/_multilayer_perceptron.py:571: ConvergenceWarning: Stochastic Optimizer: Maximum iterations (200) reached and the optimization hasn't converged yet.\n",
      "  % self.max_iter, ConvergenceWarning)\n"
     ]
    },
    {
     "name": "stdout",
     "output_type": "stream",
     "text": [
      "[CV]  activation=identity, hidden_layer_sizes=(20, 30), max_iter=300, solver=sgd, score=0.646, total=   0.1s\n",
      "[CV] activation=identity, hidden_layer_sizes=(20, 30), max_iter=300, solver=sgd \n",
      "[CV]  activation=identity, hidden_layer_sizes=(20, 30), max_iter=300, solver=sgd, score=0.562, total=   0.0s\n",
      "[CV] activation=identity, hidden_layer_sizes=(20, 30), max_iter=300, solver=sgd \n",
      "[CV]  activation=identity, hidden_layer_sizes=(20, 30), max_iter=300, solver=sgd, score=0.667, total=   0.1s\n",
      "[CV] activation=identity, hidden_layer_sizes=(20, 30), max_iter=300, solver=adam \n"
     ]
    },
    {
     "name": "stderr",
     "output_type": "stream",
     "text": [
      "/Users/Strawberry/anaconda3/lib/python3.7/site-packages/sklearn/neural_network/_multilayer_perceptron.py:571: ConvergenceWarning: Stochastic Optimizer: Maximum iterations (300) reached and the optimization hasn't converged yet.\n",
      "  % self.max_iter, ConvergenceWarning)\n",
      "/Users/Strawberry/anaconda3/lib/python3.7/site-packages/sklearn/neural_network/_multilayer_perceptron.py:571: ConvergenceWarning: Stochastic Optimizer: Maximum iterations (300) reached and the optimization hasn't converged yet.\n",
      "  % self.max_iter, ConvergenceWarning)\n"
     ]
    },
    {
     "name": "stdout",
     "output_type": "stream",
     "text": [
      "[CV]  activation=identity, hidden_layer_sizes=(20, 30), max_iter=300, solver=adam, score=0.796, total=   0.2s\n",
      "[CV] activation=identity, hidden_layer_sizes=(20, 30), max_iter=300, solver=adam \n",
      "[CV]  activation=identity, hidden_layer_sizes=(20, 30), max_iter=300, solver=adam, score=0.796, total=   0.2s\n",
      "[CV] activation=identity, hidden_layer_sizes=(20, 30), max_iter=300, solver=adam \n"
     ]
    },
    {
     "name": "stderr",
     "output_type": "stream",
     "text": [
      "/Users/Strawberry/anaconda3/lib/python3.7/site-packages/sklearn/neural_network/_multilayer_perceptron.py:571: ConvergenceWarning: Stochastic Optimizer: Maximum iterations (300) reached and the optimization hasn't converged yet.\n",
      "  % self.max_iter, ConvergenceWarning)\n",
      "/Users/Strawberry/anaconda3/lib/python3.7/site-packages/sklearn/neural_network/_multilayer_perceptron.py:571: ConvergenceWarning: Stochastic Optimizer: Maximum iterations (300) reached and the optimization hasn't converged yet.\n",
      "  % self.max_iter, ConvergenceWarning)\n"
     ]
    },
    {
     "name": "stdout",
     "output_type": "stream",
     "text": [
      "[CV]  activation=identity, hidden_layer_sizes=(20, 30), max_iter=300, solver=adam, score=0.854, total=   0.2s\n",
      "[CV] activation=identity, hidden_layer_sizes=(20, 30), max_iter=300, solver=adam \n",
      "[CV]  activation=identity, hidden_layer_sizes=(20, 30), max_iter=300, solver=adam, score=0.917, total=   0.2s\n",
      "[CV] activation=identity, hidden_layer_sizes=(20, 30), max_iter=300, solver=adam \n"
     ]
    },
    {
     "name": "stderr",
     "output_type": "stream",
     "text": [
      "/Users/Strawberry/anaconda3/lib/python3.7/site-packages/sklearn/neural_network/_multilayer_perceptron.py:571: ConvergenceWarning: Stochastic Optimizer: Maximum iterations (300) reached and the optimization hasn't converged yet.\n",
      "  % self.max_iter, ConvergenceWarning)\n",
      "/Users/Strawberry/anaconda3/lib/python3.7/site-packages/sklearn/neural_network/_multilayer_perceptron.py:571: ConvergenceWarning: Stochastic Optimizer: Maximum iterations (100) reached and the optimization hasn't converged yet.\n",
      "  % self.max_iter, ConvergenceWarning)\n"
     ]
    },
    {
     "name": "stdout",
     "output_type": "stream",
     "text": [
      "[CV]  activation=identity, hidden_layer_sizes=(20, 30), max_iter=300, solver=adam, score=0.771, total=   0.2s\n",
      "[CV] activation=identity, hidden_layer_sizes=(20, 40), max_iter=100, solver=lbfgs \n",
      "[CV]  activation=identity, hidden_layer_sizes=(20, 40), max_iter=100, solver=lbfgs, score=0.449, total=   0.0s\n",
      "[CV] activation=identity, hidden_layer_sizes=(20, 40), max_iter=100, solver=lbfgs \n",
      "[CV]  activation=identity, hidden_layer_sizes=(20, 40), max_iter=100, solver=lbfgs, score=0.469, total=   0.0s\n",
      "[CV] activation=identity, hidden_layer_sizes=(20, 40), max_iter=100, solver=lbfgs \n",
      "[CV]  activation=identity, hidden_layer_sizes=(20, 40), max_iter=100, solver=lbfgs, score=0.458, total=   0.0s\n",
      "[CV] activation=identity, hidden_layer_sizes=(20, 40), max_iter=100, solver=lbfgs \n",
      "[CV]  activation=identity, hidden_layer_sizes=(20, 40), max_iter=100, solver=lbfgs, score=0.479, total=   0.0s\n",
      "[CV] activation=identity, hidden_layer_sizes=(20, 40), max_iter=100, solver=lbfgs \n",
      "[CV]  activation=identity, hidden_layer_sizes=(20, 40), max_iter=100, solver=lbfgs, score=0.458, total=   0.0s\n",
      "[CV] activation=identity, hidden_layer_sizes=(20, 40), max_iter=100, solver=sgd \n",
      "[CV]  activation=identity, hidden_layer_sizes=(20, 40), max_iter=100, solver=sgd, score=0.449, total=   0.0s\n",
      "[CV] activation=identity, hidden_layer_sizes=(20, 40), max_iter=100, solver=sgd \n",
      "[CV]  activation=identity, hidden_layer_sizes=(20, 40), max_iter=100, solver=sgd, score=0.469, total=   0.0s\n",
      "[CV] activation=identity, hidden_layer_sizes=(20, 40), max_iter=100, solver=sgd \n",
      "[CV]  activation=identity, hidden_layer_sizes=(20, 40), max_iter=100, solver=sgd, score=0.583, total=   0.0s\n",
      "[CV] activation=identity, hidden_layer_sizes=(20, 40), max_iter=100, solver=sgd \n",
      "[CV]  activation=identity, hidden_layer_sizes=(20, 40), max_iter=100, solver=sgd, score=0.458, total=   0.0s\n",
      "[CV] activation=identity, hidden_layer_sizes=(20, 40), max_iter=100, solver=sgd \n",
      "[CV]  activation=identity, hidden_layer_sizes=(20, 40), max_iter=100, solver=sgd, score=0.583, total=   0.0s\n",
      "[CV] activation=identity, hidden_layer_sizes=(20, 40), max_iter=100, solver=adam \n",
      "[CV]  activation=identity, hidden_layer_sizes=(20, 40), max_iter=100, solver=adam, score=0.592, total=   0.1s\n",
      "[CV] activation=identity, hidden_layer_sizes=(20, 40), max_iter=100, solver=adam \n"
     ]
    },
    {
     "name": "stderr",
     "output_type": "stream",
     "text": [
      "/Users/Strawberry/anaconda3/lib/python3.7/site-packages/sklearn/neural_network/_multilayer_perceptron.py:571: ConvergenceWarning: Stochastic Optimizer: Maximum iterations (100) reached and the optimization hasn't converged yet.\n",
      "  % self.max_iter, ConvergenceWarning)\n",
      "/Users/Strawberry/anaconda3/lib/python3.7/site-packages/sklearn/neural_network/_multilayer_perceptron.py:571: ConvergenceWarning: Stochastic Optimizer: Maximum iterations (100) reached and the optimization hasn't converged yet.\n",
      "  % self.max_iter, ConvergenceWarning)\n",
      "/Users/Strawberry/anaconda3/lib/python3.7/site-packages/sklearn/neural_network/_multilayer_perceptron.py:571: ConvergenceWarning: Stochastic Optimizer: Maximum iterations (100) reached and the optimization hasn't converged yet.\n",
      "  % self.max_iter, ConvergenceWarning)\n",
      "/Users/Strawberry/anaconda3/lib/python3.7/site-packages/sklearn/neural_network/_multilayer_perceptron.py:571: ConvergenceWarning: Stochastic Optimizer: Maximum iterations (100) reached and the optimization hasn't converged yet.\n",
      "  % self.max_iter, ConvergenceWarning)\n"
     ]
    },
    {
     "name": "stdout",
     "output_type": "stream",
     "text": [
      "[CV]  activation=identity, hidden_layer_sizes=(20, 40), max_iter=100, solver=adam, score=0.633, total=   0.1s\n",
      "[CV] activation=identity, hidden_layer_sizes=(20, 40), max_iter=100, solver=adam \n",
      "[CV]  activation=identity, hidden_layer_sizes=(20, 40), max_iter=100, solver=adam, score=0.625, total=   0.1s\n",
      "[CV] activation=identity, hidden_layer_sizes=(20, 40), max_iter=100, solver=adam \n",
      "[CV]  activation=identity, hidden_layer_sizes=(20, 40), max_iter=100, solver=adam, score=0.708, total=   0.1s\n",
      "[CV] activation=identity, hidden_layer_sizes=(20, 40), max_iter=100, solver=adam \n",
      "[CV]  activation=identity, hidden_layer_sizes=(20, 40), max_iter=100, solver=adam, score=0.667, total=   0.1s\n",
      "[CV] activation=identity, hidden_layer_sizes=(20, 40), max_iter=200, solver=lbfgs \n",
      "[CV]  activation=identity, hidden_layer_sizes=(20, 40), max_iter=200, solver=lbfgs, score=0.449, total=   0.0s\n",
      "[CV] activation=identity, hidden_layer_sizes=(20, 40), max_iter=200, solver=lbfgs \n",
      "[CV]  activation=identity, hidden_layer_sizes=(20, 40), max_iter=200, solver=lbfgs, score=0.469, total=   0.0s\n",
      "[CV] activation=identity, hidden_layer_sizes=(20, 40), max_iter=200, solver=lbfgs \n",
      "[CV]  activation=identity, hidden_layer_sizes=(20, 40), max_iter=200, solver=lbfgs, score=0.458, total=   0.0s\n",
      "[CV] activation=identity, hidden_layer_sizes=(20, 40), max_iter=200, solver=lbfgs \n",
      "[CV]  activation=identity, hidden_layer_sizes=(20, 40), max_iter=200, solver=lbfgs, score=0.479, total=   0.0s\n",
      "[CV] activation=identity, hidden_layer_sizes=(20, 40), max_iter=200, solver=lbfgs \n",
      "[CV]  activation=identity, hidden_layer_sizes=(20, 40), max_iter=200, solver=lbfgs, score=0.458, total=   0.0s\n",
      "[CV] activation=identity, hidden_layer_sizes=(20, 40), max_iter=200, solver=sgd \n",
      "[CV]  activation=identity, hidden_layer_sizes=(20, 40), max_iter=200, solver=sgd, score=0.449, total=   0.0s\n",
      "[CV] activation=identity, hidden_layer_sizes=(20, 40), max_iter=200, solver=sgd \n",
      "[CV]  activation=identity, hidden_layer_sizes=(20, 40), max_iter=200, solver=sgd, score=0.469, total=   0.0s\n",
      "[CV] activation=identity, hidden_layer_sizes=(20, 40), max_iter=200, solver=sgd \n",
      "[CV]  activation=identity, hidden_layer_sizes=(20, 40), max_iter=200, solver=sgd, score=0.583, total=   0.0s\n",
      "[CV] activation=identity, hidden_layer_sizes=(20, 40), max_iter=200, solver=sgd \n",
      "[CV]  activation=identity, hidden_layer_sizes=(20, 40), max_iter=200, solver=sgd, score=0.458, total=   0.0s\n",
      "[CV] activation=identity, hidden_layer_sizes=(20, 40), max_iter=200, solver=sgd \n",
      "[CV]  activation=identity, hidden_layer_sizes=(20, 40), max_iter=200, solver=sgd, score=0.583, total=   0.0s\n",
      "[CV] activation=identity, hidden_layer_sizes=(20, 40), max_iter=200, solver=adam \n"
     ]
    },
    {
     "name": "stderr",
     "output_type": "stream",
     "text": [
      "/Users/Strawberry/anaconda3/lib/python3.7/site-packages/sklearn/neural_network/_multilayer_perceptron.py:571: ConvergenceWarning: Stochastic Optimizer: Maximum iterations (200) reached and the optimization hasn't converged yet.\n",
      "  % self.max_iter, ConvergenceWarning)\n",
      "/Users/Strawberry/anaconda3/lib/python3.7/site-packages/sklearn/neural_network/_multilayer_perceptron.py:571: ConvergenceWarning: Stochastic Optimizer: Maximum iterations (200) reached and the optimization hasn't converged yet.\n",
      "  % self.max_iter, ConvergenceWarning)\n"
     ]
    },
    {
     "name": "stdout",
     "output_type": "stream",
     "text": [
      "[CV]  activation=identity, hidden_layer_sizes=(20, 40), max_iter=200, solver=adam, score=0.796, total=   0.1s\n",
      "[CV] activation=identity, hidden_layer_sizes=(20, 40), max_iter=200, solver=adam \n",
      "[CV]  activation=identity, hidden_layer_sizes=(20, 40), max_iter=200, solver=adam, score=0.714, total=   0.1s\n",
      "[CV] activation=identity, hidden_layer_sizes=(20, 40), max_iter=200, solver=adam \n"
     ]
    },
    {
     "name": "stderr",
     "output_type": "stream",
     "text": [
      "/Users/Strawberry/anaconda3/lib/python3.7/site-packages/sklearn/neural_network/_multilayer_perceptron.py:571: ConvergenceWarning: Stochastic Optimizer: Maximum iterations (200) reached and the optimization hasn't converged yet.\n",
      "  % self.max_iter, ConvergenceWarning)\n",
      "/Users/Strawberry/anaconda3/lib/python3.7/site-packages/sklearn/neural_network/_multilayer_perceptron.py:571: ConvergenceWarning: Stochastic Optimizer: Maximum iterations (200) reached and the optimization hasn't converged yet.\n",
      "  % self.max_iter, ConvergenceWarning)\n"
     ]
    },
    {
     "name": "stdout",
     "output_type": "stream",
     "text": [
      "[CV]  activation=identity, hidden_layer_sizes=(20, 40), max_iter=200, solver=adam, score=0.875, total=   0.1s\n",
      "[CV] activation=identity, hidden_layer_sizes=(20, 40), max_iter=200, solver=adam \n",
      "[CV]  activation=identity, hidden_layer_sizes=(20, 40), max_iter=200, solver=adam, score=0.875, total=   0.1s\n",
      "[CV] activation=identity, hidden_layer_sizes=(20, 40), max_iter=200, solver=adam \n"
     ]
    },
    {
     "name": "stderr",
     "output_type": "stream",
     "text": [
      "/Users/Strawberry/anaconda3/lib/python3.7/site-packages/sklearn/neural_network/_multilayer_perceptron.py:571: ConvergenceWarning: Stochastic Optimizer: Maximum iterations (200) reached and the optimization hasn't converged yet.\n",
      "  % self.max_iter, ConvergenceWarning)\n"
     ]
    },
    {
     "name": "stdout",
     "output_type": "stream",
     "text": [
      "[CV]  activation=identity, hidden_layer_sizes=(20, 40), max_iter=200, solver=adam, score=0.812, total=   0.1s\n",
      "[CV] activation=identity, hidden_layer_sizes=(20, 40), max_iter=300, solver=lbfgs \n",
      "[CV]  activation=identity, hidden_layer_sizes=(20, 40), max_iter=300, solver=lbfgs, score=0.449, total=   0.0s\n",
      "[CV] activation=identity, hidden_layer_sizes=(20, 40), max_iter=300, solver=lbfgs \n",
      "[CV]  activation=identity, hidden_layer_sizes=(20, 40), max_iter=300, solver=lbfgs, score=0.469, total=   0.0s\n",
      "[CV] activation=identity, hidden_layer_sizes=(20, 40), max_iter=300, solver=lbfgs \n",
      "[CV]  activation=identity, hidden_layer_sizes=(20, 40), max_iter=300, solver=lbfgs, score=0.458, total=   0.0s\n",
      "[CV] activation=identity, hidden_layer_sizes=(20, 40), max_iter=300, solver=lbfgs \n",
      "[CV]  activation=identity, hidden_layer_sizes=(20, 40), max_iter=300, solver=lbfgs, score=0.479, total=   0.0s\n",
      "[CV] activation=identity, hidden_layer_sizes=(20, 40), max_iter=300, solver=lbfgs \n",
      "[CV]  activation=identity, hidden_layer_sizes=(20, 40), max_iter=300, solver=lbfgs, score=0.458, total=   0.0s\n",
      "[CV] activation=identity, hidden_layer_sizes=(20, 40), max_iter=300, solver=sgd \n",
      "[CV]  activation=identity, hidden_layer_sizes=(20, 40), max_iter=300, solver=sgd, score=0.449, total=   0.0s\n",
      "[CV] activation=identity, hidden_layer_sizes=(20, 40), max_iter=300, solver=sgd \n",
      "[CV]  activation=identity, hidden_layer_sizes=(20, 40), max_iter=300, solver=sgd, score=0.469, total=   0.0s\n",
      "[CV] activation=identity, hidden_layer_sizes=(20, 40), max_iter=300, solver=sgd \n",
      "[CV]  activation=identity, hidden_layer_sizes=(20, 40), max_iter=300, solver=sgd, score=0.583, total=   0.0s\n",
      "[CV] activation=identity, hidden_layer_sizes=(20, 40), max_iter=300, solver=sgd \n",
      "[CV]  activation=identity, hidden_layer_sizes=(20, 40), max_iter=300, solver=sgd, score=0.458, total=   0.0s\n",
      "[CV] activation=identity, hidden_layer_sizes=(20, 40), max_iter=300, solver=sgd \n",
      "[CV]  activation=identity, hidden_layer_sizes=(20, 40), max_iter=300, solver=sgd, score=0.583, total=   0.0s\n",
      "[CV] activation=identity, hidden_layer_sizes=(20, 40), max_iter=300, solver=adam \n"
     ]
    },
    {
     "name": "stderr",
     "output_type": "stream",
     "text": [
      "/Users/Strawberry/anaconda3/lib/python3.7/site-packages/sklearn/neural_network/_multilayer_perceptron.py:571: ConvergenceWarning: Stochastic Optimizer: Maximum iterations (300) reached and the optimization hasn't converged yet.\n",
      "  % self.max_iter, ConvergenceWarning)\n",
      "/Users/Strawberry/anaconda3/lib/python3.7/site-packages/sklearn/neural_network/_multilayer_perceptron.py:571: ConvergenceWarning: Stochastic Optimizer: Maximum iterations (300) reached and the optimization hasn't converged yet.\n",
      "  % self.max_iter, ConvergenceWarning)\n"
     ]
    },
    {
     "name": "stdout",
     "output_type": "stream",
     "text": [
      "[CV]  activation=identity, hidden_layer_sizes=(20, 40), max_iter=300, solver=adam, score=0.755, total=   0.2s\n",
      "[CV] activation=identity, hidden_layer_sizes=(20, 40), max_iter=300, solver=adam \n",
      "[CV]  activation=identity, hidden_layer_sizes=(20, 40), max_iter=300, solver=adam, score=0.796, total=   0.2s\n",
      "[CV] activation=identity, hidden_layer_sizes=(20, 40), max_iter=300, solver=adam \n"
     ]
    },
    {
     "name": "stderr",
     "output_type": "stream",
     "text": [
      "/Users/Strawberry/anaconda3/lib/python3.7/site-packages/sklearn/neural_network/_multilayer_perceptron.py:571: ConvergenceWarning: Stochastic Optimizer: Maximum iterations (300) reached and the optimization hasn't converged yet.\n",
      "  % self.max_iter, ConvergenceWarning)\n",
      "/Users/Strawberry/anaconda3/lib/python3.7/site-packages/sklearn/neural_network/_multilayer_perceptron.py:571: ConvergenceWarning: Stochastic Optimizer: Maximum iterations (300) reached and the optimization hasn't converged yet.\n",
      "  % self.max_iter, ConvergenceWarning)\n"
     ]
    },
    {
     "name": "stdout",
     "output_type": "stream",
     "text": [
      "[CV]  activation=identity, hidden_layer_sizes=(20, 40), max_iter=300, solver=adam, score=0.875, total=   0.2s\n",
      "[CV] activation=identity, hidden_layer_sizes=(20, 40), max_iter=300, solver=adam \n",
      "[CV]  activation=identity, hidden_layer_sizes=(20, 40), max_iter=300, solver=adam, score=0.854, total=   0.2s\n",
      "[CV] activation=identity, hidden_layer_sizes=(20, 40), max_iter=300, solver=adam \n"
     ]
    },
    {
     "name": "stderr",
     "output_type": "stream",
     "text": [
      "/Users/Strawberry/anaconda3/lib/python3.7/site-packages/sklearn/neural_network/_multilayer_perceptron.py:571: ConvergenceWarning: Stochastic Optimizer: Maximum iterations (300) reached and the optimization hasn't converged yet.\n",
      "  % self.max_iter, ConvergenceWarning)\n"
     ]
    },
    {
     "name": "stdout",
     "output_type": "stream",
     "text": [
      "[CV]  activation=identity, hidden_layer_sizes=(20, 40), max_iter=300, solver=adam, score=0.792, total=   0.2s\n",
      "[CV] activation=identity, hidden_layer_sizes=(30, 10), max_iter=100, solver=lbfgs \n",
      "[CV]  activation=identity, hidden_layer_sizes=(30, 10), max_iter=100, solver=lbfgs, score=0.449, total=   0.0s\n",
      "[CV] activation=identity, hidden_layer_sizes=(30, 10), max_iter=100, solver=lbfgs \n",
      "[CV]  activation=identity, hidden_layer_sizes=(30, 10), max_iter=100, solver=lbfgs, score=0.469, total=   0.0s\n",
      "[CV] activation=identity, hidden_layer_sizes=(30, 10), max_iter=100, solver=lbfgs \n",
      "[CV]  activation=identity, hidden_layer_sizes=(30, 10), max_iter=100, solver=lbfgs, score=0.458, total=   0.0s\n",
      "[CV] activation=identity, hidden_layer_sizes=(30, 10), max_iter=100, solver=lbfgs \n",
      "[CV]  activation=identity, hidden_layer_sizes=(30, 10), max_iter=100, solver=lbfgs, score=0.458, total=   0.0s\n",
      "[CV] activation=identity, hidden_layer_sizes=(30, 10), max_iter=100, solver=lbfgs \n",
      "[CV]  activation=identity, hidden_layer_sizes=(30, 10), max_iter=100, solver=lbfgs, score=0.458, total=   0.0s\n",
      "[CV] activation=identity, hidden_layer_sizes=(30, 10), max_iter=100, solver=sgd \n",
      "[CV]  activation=identity, hidden_layer_sizes=(30, 10), max_iter=100, solver=sgd, score=0.571, total=   0.0s\n",
      "[CV] activation=identity, hidden_layer_sizes=(30, 10), max_iter=100, solver=sgd \n",
      "[CV]  activation=identity, hidden_layer_sizes=(30, 10), max_iter=100, solver=sgd, score=0.592, total=   0.0s\n",
      "[CV] activation=identity, hidden_layer_sizes=(30, 10), max_iter=100, solver=sgd \n",
      "[CV]  activation=identity, hidden_layer_sizes=(30, 10), max_iter=100, solver=sgd, score=0.625, total=   0.0s\n",
      "[CV] activation=identity, hidden_layer_sizes=(30, 10), max_iter=100, solver=sgd \n",
      "[CV]  activation=identity, hidden_layer_sizes=(30, 10), max_iter=100, solver=sgd, score=0.646, total=   0.0s\n",
      "[CV] activation=identity, hidden_layer_sizes=(30, 10), max_iter=100, solver=sgd \n",
      "[CV]  activation=identity, hidden_layer_sizes=(30, 10), max_iter=100, solver=sgd, score=0.688, total=   0.0s\n",
      "[CV] activation=identity, hidden_layer_sizes=(30, 10), max_iter=100, solver=adam \n"
     ]
    },
    {
     "name": "stderr",
     "output_type": "stream",
     "text": [
      "/Users/Strawberry/anaconda3/lib/python3.7/site-packages/sklearn/neural_network/_multilayer_perceptron.py:571: ConvergenceWarning: Stochastic Optimizer: Maximum iterations (100) reached and the optimization hasn't converged yet.\n",
      "  % self.max_iter, ConvergenceWarning)\n",
      "/Users/Strawberry/anaconda3/lib/python3.7/site-packages/sklearn/neural_network/_multilayer_perceptron.py:571: ConvergenceWarning: Stochastic Optimizer: Maximum iterations (100) reached and the optimization hasn't converged yet.\n",
      "  % self.max_iter, ConvergenceWarning)\n",
      "/Users/Strawberry/anaconda3/lib/python3.7/site-packages/sklearn/neural_network/_multilayer_perceptron.py:571: ConvergenceWarning: Stochastic Optimizer: Maximum iterations (100) reached and the optimization hasn't converged yet.\n",
      "  % self.max_iter, ConvergenceWarning)\n",
      "/Users/Strawberry/anaconda3/lib/python3.7/site-packages/sklearn/neural_network/_multilayer_perceptron.py:571: ConvergenceWarning: Stochastic Optimizer: Maximum iterations (100) reached and the optimization hasn't converged yet.\n",
      "  % self.max_iter, ConvergenceWarning)\n"
     ]
    },
    {
     "name": "stdout",
     "output_type": "stream",
     "text": [
      "[CV]  activation=identity, hidden_layer_sizes=(30, 10), max_iter=100, solver=adam, score=0.714, total=   0.1s\n",
      "[CV] activation=identity, hidden_layer_sizes=(30, 10), max_iter=100, solver=adam \n",
      "[CV]  activation=identity, hidden_layer_sizes=(30, 10), max_iter=100, solver=adam, score=0.714, total=   0.1s\n",
      "[CV] activation=identity, hidden_layer_sizes=(30, 10), max_iter=100, solver=adam \n",
      "[CV]  activation=identity, hidden_layer_sizes=(30, 10), max_iter=100, solver=adam, score=0.854, total=   0.1s\n",
      "[CV] activation=identity, hidden_layer_sizes=(30, 10), max_iter=100, solver=adam \n",
      "[CV]  activation=identity, hidden_layer_sizes=(30, 10), max_iter=100, solver=adam, score=0.938, total=   0.1s\n",
      "[CV] activation=identity, hidden_layer_sizes=(30, 10), max_iter=100, solver=adam \n"
     ]
    },
    {
     "name": "stderr",
     "output_type": "stream",
     "text": [
      "/Users/Strawberry/anaconda3/lib/python3.7/site-packages/sklearn/neural_network/_multilayer_perceptron.py:571: ConvergenceWarning: Stochastic Optimizer: Maximum iterations (100) reached and the optimization hasn't converged yet.\n",
      "  % self.max_iter, ConvergenceWarning)\n"
     ]
    },
    {
     "name": "stdout",
     "output_type": "stream",
     "text": [
      "[CV]  activation=identity, hidden_layer_sizes=(30, 10), max_iter=100, solver=adam, score=0.729, total=   0.1s\n",
      "[CV] activation=identity, hidden_layer_sizes=(30, 10), max_iter=200, solver=lbfgs \n",
      "[CV]  activation=identity, hidden_layer_sizes=(30, 10), max_iter=200, solver=lbfgs, score=0.449, total=   0.0s\n",
      "[CV] activation=identity, hidden_layer_sizes=(30, 10), max_iter=200, solver=lbfgs \n",
      "[CV]  activation=identity, hidden_layer_sizes=(30, 10), max_iter=200, solver=lbfgs, score=0.469, total=   0.0s\n",
      "[CV] activation=identity, hidden_layer_sizes=(30, 10), max_iter=200, solver=lbfgs \n",
      "[CV]  activation=identity, hidden_layer_sizes=(30, 10), max_iter=200, solver=lbfgs, score=0.458, total=   0.0s\n",
      "[CV] activation=identity, hidden_layer_sizes=(30, 10), max_iter=200, solver=lbfgs \n",
      "[CV]  activation=identity, hidden_layer_sizes=(30, 10), max_iter=200, solver=lbfgs, score=0.458, total=   0.0s\n",
      "[CV] activation=identity, hidden_layer_sizes=(30, 10), max_iter=200, solver=lbfgs \n",
      "[CV]  activation=identity, hidden_layer_sizes=(30, 10), max_iter=200, solver=lbfgs, score=0.458, total=   0.0s\n",
      "[CV] activation=identity, hidden_layer_sizes=(30, 10), max_iter=200, solver=sgd \n",
      "[CV]  activation=identity, hidden_layer_sizes=(30, 10), max_iter=200, solver=sgd, score=0.571, total=   0.0s\n",
      "[CV] activation=identity, hidden_layer_sizes=(30, 10), max_iter=200, solver=sgd \n",
      "[CV]  activation=identity, hidden_layer_sizes=(30, 10), max_iter=200, solver=sgd, score=0.592, total=   0.0s\n",
      "[CV] activation=identity, hidden_layer_sizes=(30, 10), max_iter=200, solver=sgd \n",
      "[CV]  activation=identity, hidden_layer_sizes=(30, 10), max_iter=200, solver=sgd, score=0.625, total=   0.0s\n",
      "[CV] activation=identity, hidden_layer_sizes=(30, 10), max_iter=200, solver=sgd \n",
      "[CV]  activation=identity, hidden_layer_sizes=(30, 10), max_iter=200, solver=sgd, score=0.646, total=   0.0s\n",
      "[CV] activation=identity, hidden_layer_sizes=(30, 10), max_iter=200, solver=sgd \n",
      "[CV]  activation=identity, hidden_layer_sizes=(30, 10), max_iter=200, solver=sgd, score=0.688, total=   0.0s\n",
      "[CV] activation=identity, hidden_layer_sizes=(30, 10), max_iter=200, solver=adam \n"
     ]
    },
    {
     "name": "stderr",
     "output_type": "stream",
     "text": [
      "/Users/Strawberry/anaconda3/lib/python3.7/site-packages/sklearn/neural_network/_multilayer_perceptron.py:571: ConvergenceWarning: Stochastic Optimizer: Maximum iterations (200) reached and the optimization hasn't converged yet.\n",
      "  % self.max_iter, ConvergenceWarning)\n",
      "/Users/Strawberry/anaconda3/lib/python3.7/site-packages/sklearn/neural_network/_multilayer_perceptron.py:571: ConvergenceWarning: Stochastic Optimizer: Maximum iterations (200) reached and the optimization hasn't converged yet.\n",
      "  % self.max_iter, ConvergenceWarning)\n"
     ]
    },
    {
     "name": "stdout",
     "output_type": "stream",
     "text": [
      "[CV]  activation=identity, hidden_layer_sizes=(30, 10), max_iter=200, solver=adam, score=0.714, total=   0.1s\n",
      "[CV] activation=identity, hidden_layer_sizes=(30, 10), max_iter=200, solver=adam \n",
      "[CV]  activation=identity, hidden_layer_sizes=(30, 10), max_iter=200, solver=adam, score=0.755, total=   0.1s\n",
      "[CV] activation=identity, hidden_layer_sizes=(30, 10), max_iter=200, solver=adam \n"
     ]
    },
    {
     "name": "stderr",
     "output_type": "stream",
     "text": [
      "/Users/Strawberry/anaconda3/lib/python3.7/site-packages/sklearn/neural_network/_multilayer_perceptron.py:571: ConvergenceWarning: Stochastic Optimizer: Maximum iterations (200) reached and the optimization hasn't converged yet.\n",
      "  % self.max_iter, ConvergenceWarning)\n",
      "/Users/Strawberry/anaconda3/lib/python3.7/site-packages/sklearn/neural_network/_multilayer_perceptron.py:571: ConvergenceWarning: Stochastic Optimizer: Maximum iterations (200) reached and the optimization hasn't converged yet.\n",
      "  % self.max_iter, ConvergenceWarning)\n"
     ]
    },
    {
     "name": "stdout",
     "output_type": "stream",
     "text": [
      "[CV]  activation=identity, hidden_layer_sizes=(30, 10), max_iter=200, solver=adam, score=0.854, total=   0.1s\n",
      "[CV] activation=identity, hidden_layer_sizes=(30, 10), max_iter=200, solver=adam \n",
      "[CV]  activation=identity, hidden_layer_sizes=(30, 10), max_iter=200, solver=adam, score=0.896, total=   0.1s\n",
      "[CV] activation=identity, hidden_layer_sizes=(30, 10), max_iter=200, solver=adam \n"
     ]
    },
    {
     "name": "stderr",
     "output_type": "stream",
     "text": [
      "/Users/Strawberry/anaconda3/lib/python3.7/site-packages/sklearn/neural_network/_multilayer_perceptron.py:571: ConvergenceWarning: Stochastic Optimizer: Maximum iterations (200) reached and the optimization hasn't converged yet.\n",
      "  % self.max_iter, ConvergenceWarning)\n"
     ]
    },
    {
     "name": "stdout",
     "output_type": "stream",
     "text": [
      "[CV]  activation=identity, hidden_layer_sizes=(30, 10), max_iter=200, solver=adam, score=0.750, total=   0.1s\n",
      "[CV] activation=identity, hidden_layer_sizes=(30, 10), max_iter=300, solver=lbfgs \n",
      "[CV]  activation=identity, hidden_layer_sizes=(30, 10), max_iter=300, solver=lbfgs, score=0.449, total=   0.0s\n",
      "[CV] activation=identity, hidden_layer_sizes=(30, 10), max_iter=300, solver=lbfgs \n",
      "[CV]  activation=identity, hidden_layer_sizes=(30, 10), max_iter=300, solver=lbfgs, score=0.469, total=   0.0s\n",
      "[CV] activation=identity, hidden_layer_sizes=(30, 10), max_iter=300, solver=lbfgs \n",
      "[CV]  activation=identity, hidden_layer_sizes=(30, 10), max_iter=300, solver=lbfgs, score=0.458, total=   0.0s\n",
      "[CV] activation=identity, hidden_layer_sizes=(30, 10), max_iter=300, solver=lbfgs \n",
      "[CV]  activation=identity, hidden_layer_sizes=(30, 10), max_iter=300, solver=lbfgs, score=0.458, total=   0.0s\n",
      "[CV] activation=identity, hidden_layer_sizes=(30, 10), max_iter=300, solver=lbfgs \n",
      "[CV]  activation=identity, hidden_layer_sizes=(30, 10), max_iter=300, solver=lbfgs, score=0.458, total=   0.0s\n",
      "[CV] activation=identity, hidden_layer_sizes=(30, 10), max_iter=300, solver=sgd \n",
      "[CV]  activation=identity, hidden_layer_sizes=(30, 10), max_iter=300, solver=sgd, score=0.571, total=   0.0s\n",
      "[CV] activation=identity, hidden_layer_sizes=(30, 10), max_iter=300, solver=sgd \n",
      "[CV]  activation=identity, hidden_layer_sizes=(30, 10), max_iter=300, solver=sgd, score=0.592, total=   0.0s\n",
      "[CV] activation=identity, hidden_layer_sizes=(30, 10), max_iter=300, solver=sgd \n",
      "[CV]  activation=identity, hidden_layer_sizes=(30, 10), max_iter=300, solver=sgd, score=0.625, total=   0.0s\n",
      "[CV] activation=identity, hidden_layer_sizes=(30, 10), max_iter=300, solver=sgd \n",
      "[CV]  activation=identity, hidden_layer_sizes=(30, 10), max_iter=300, solver=sgd, score=0.646, total=   0.0s\n",
      "[CV] activation=identity, hidden_layer_sizes=(30, 10), max_iter=300, solver=sgd \n",
      "[CV]  activation=identity, hidden_layer_sizes=(30, 10), max_iter=300, solver=sgd, score=0.688, total=   0.0s\n",
      "[CV] activation=identity, hidden_layer_sizes=(30, 10), max_iter=300, solver=adam \n"
     ]
    },
    {
     "name": "stderr",
     "output_type": "stream",
     "text": [
      "/Users/Strawberry/anaconda3/lib/python3.7/site-packages/sklearn/neural_network/_multilayer_perceptron.py:571: ConvergenceWarning: Stochastic Optimizer: Maximum iterations (300) reached and the optimization hasn't converged yet.\n",
      "  % self.max_iter, ConvergenceWarning)\n",
      "/Users/Strawberry/anaconda3/lib/python3.7/site-packages/sklearn/neural_network/_multilayer_perceptron.py:571: ConvergenceWarning: Stochastic Optimizer: Maximum iterations (300) reached and the optimization hasn't converged yet.\n",
      "  % self.max_iter, ConvergenceWarning)\n"
     ]
    },
    {
     "name": "stdout",
     "output_type": "stream",
     "text": [
      "[CV]  activation=identity, hidden_layer_sizes=(30, 10), max_iter=300, solver=adam, score=0.776, total=   0.2s\n",
      "[CV] activation=identity, hidden_layer_sizes=(30, 10), max_iter=300, solver=adam \n",
      "[CV]  activation=identity, hidden_layer_sizes=(30, 10), max_iter=300, solver=adam, score=0.816, total=   0.2s\n",
      "[CV] activation=identity, hidden_layer_sizes=(30, 10), max_iter=300, solver=adam \n"
     ]
    },
    {
     "name": "stderr",
     "output_type": "stream",
     "text": [
      "/Users/Strawberry/anaconda3/lib/python3.7/site-packages/sklearn/neural_network/_multilayer_perceptron.py:571: ConvergenceWarning: Stochastic Optimizer: Maximum iterations (300) reached and the optimization hasn't converged yet.\n",
      "  % self.max_iter, ConvergenceWarning)\n",
      "/Users/Strawberry/anaconda3/lib/python3.7/site-packages/sklearn/neural_network/_multilayer_perceptron.py:571: ConvergenceWarning: Stochastic Optimizer: Maximum iterations (300) reached and the optimization hasn't converged yet.\n",
      "  % self.max_iter, ConvergenceWarning)\n"
     ]
    },
    {
     "name": "stdout",
     "output_type": "stream",
     "text": [
      "[CV]  activation=identity, hidden_layer_sizes=(30, 10), max_iter=300, solver=adam, score=0.854, total=   0.2s\n",
      "[CV] activation=identity, hidden_layer_sizes=(30, 10), max_iter=300, solver=adam \n",
      "[CV]  activation=identity, hidden_layer_sizes=(30, 10), max_iter=300, solver=adam, score=0.896, total=   0.2s\n",
      "[CV] activation=identity, hidden_layer_sizes=(30, 10), max_iter=300, solver=adam \n"
     ]
    },
    {
     "name": "stderr",
     "output_type": "stream",
     "text": [
      "/Users/Strawberry/anaconda3/lib/python3.7/site-packages/sklearn/neural_network/_multilayer_perceptron.py:571: ConvergenceWarning: Stochastic Optimizer: Maximum iterations (300) reached and the optimization hasn't converged yet.\n",
      "  % self.max_iter, ConvergenceWarning)\n"
     ]
    },
    {
     "name": "stdout",
     "output_type": "stream",
     "text": [
      "[CV]  activation=identity, hidden_layer_sizes=(30, 10), max_iter=300, solver=adam, score=0.771, total=   0.2s\n",
      "[CV] activation=identity, hidden_layer_sizes=(30, 20), max_iter=100, solver=lbfgs \n",
      "[CV]  activation=identity, hidden_layer_sizes=(30, 20), max_iter=100, solver=lbfgs, score=0.449, total=   0.0s\n",
      "[CV] activation=identity, hidden_layer_sizes=(30, 20), max_iter=100, solver=lbfgs \n",
      "[CV]  activation=identity, hidden_layer_sizes=(30, 20), max_iter=100, solver=lbfgs, score=0.469, total=   0.0s\n",
      "[CV] activation=identity, hidden_layer_sizes=(30, 20), max_iter=100, solver=lbfgs \n",
      "[CV]  activation=identity, hidden_layer_sizes=(30, 20), max_iter=100, solver=lbfgs, score=0.458, total=   0.0s\n",
      "[CV] activation=identity, hidden_layer_sizes=(30, 20), max_iter=100, solver=lbfgs \n",
      "[CV]  activation=identity, hidden_layer_sizes=(30, 20), max_iter=100, solver=lbfgs, score=0.458, total=   0.0s\n",
      "[CV] activation=identity, hidden_layer_sizes=(30, 20), max_iter=100, solver=lbfgs \n",
      "[CV]  activation=identity, hidden_layer_sizes=(30, 20), max_iter=100, solver=lbfgs, score=0.458, total=   0.0s\n",
      "[CV] activation=identity, hidden_layer_sizes=(30, 20), max_iter=100, solver=sgd \n",
      "[CV]  activation=identity, hidden_layer_sizes=(30, 20), max_iter=100, solver=sgd, score=0.449, total=   0.0s\n",
      "[CV] activation=identity, hidden_layer_sizes=(30, 20), max_iter=100, solver=sgd \n",
      "[CV]  activation=identity, hidden_layer_sizes=(30, 20), max_iter=100, solver=sgd, score=0.551, total=   0.0s\n",
      "[CV] activation=identity, hidden_layer_sizes=(30, 20), max_iter=100, solver=sgd \n",
      "[CV]  activation=identity, hidden_layer_sizes=(30, 20), max_iter=100, solver=sgd, score=0.521, total=   0.0s\n",
      "[CV] activation=identity, hidden_layer_sizes=(30, 20), max_iter=100, solver=sgd \n",
      "[CV]  activation=identity, hidden_layer_sizes=(30, 20), max_iter=100, solver=sgd, score=0.562, total=   0.0s\n",
      "[CV] activation=identity, hidden_layer_sizes=(30, 20), max_iter=100, solver=sgd \n",
      "[CV]  activation=identity, hidden_layer_sizes=(30, 20), max_iter=100, solver=sgd, score=0.500, total=   0.0s\n",
      "[CV] activation=identity, hidden_layer_sizes=(30, 20), max_iter=100, solver=adam \n",
      "[CV]  activation=identity, hidden_layer_sizes=(30, 20), max_iter=100, solver=adam, score=0.694, total=   0.0s\n",
      "[CV] activation=identity, hidden_layer_sizes=(30, 20), max_iter=100, solver=adam \n",
      "[CV]  activation=identity, hidden_layer_sizes=(30, 20), max_iter=100, solver=adam, score=0.592, total=   0.0s\n",
      "[CV] activation=identity, hidden_layer_sizes=(30, 20), max_iter=100, solver=adam \n",
      "[CV]  activation=identity, hidden_layer_sizes=(30, 20), max_iter=100, solver=adam, score=0.646, total=   0.0s\n",
      "[CV] activation=identity, hidden_layer_sizes=(30, 20), max_iter=100, solver=adam \n",
      "[CV]  activation=identity, hidden_layer_sizes=(30, 20), max_iter=100, solver=adam, score=0.792, total=   0.0s\n",
      "[CV] activation=identity, hidden_layer_sizes=(30, 20), max_iter=100, solver=adam \n",
      "[CV]  activation=identity, hidden_layer_sizes=(30, 20), max_iter=100, solver=adam, score=0.729, total=   0.0s\n",
      "[CV] activation=identity, hidden_layer_sizes=(30, 20), max_iter=200, solver=lbfgs \n",
      "[CV]  activation=identity, hidden_layer_sizes=(30, 20), max_iter=200, solver=lbfgs, score=0.449, total=   0.0s\n",
      "[CV] activation=identity, hidden_layer_sizes=(30, 20), max_iter=200, solver=lbfgs \n",
      "[CV]  activation=identity, hidden_layer_sizes=(30, 20), max_iter=200, solver=lbfgs, score=0.469, total=   0.0s\n",
      "[CV] activation=identity, hidden_layer_sizes=(30, 20), max_iter=200, solver=lbfgs \n",
      "[CV]  activation=identity, hidden_layer_sizes=(30, 20), max_iter=200, solver=lbfgs, score=0.458, total=   0.0s\n",
      "[CV] activation=identity, hidden_layer_sizes=(30, 20), max_iter=200, solver=lbfgs \n",
      "[CV]  activation=identity, hidden_layer_sizes=(30, 20), max_iter=200, solver=lbfgs, score=0.458, total=   0.0s\n",
      "[CV] activation=identity, hidden_layer_sizes=(30, 20), max_iter=200, solver=lbfgs \n",
      "[CV]  activation=identity, hidden_layer_sizes=(30, 20), max_iter=200, solver=lbfgs, score=0.458, total=   0.0s\n",
      "[CV] activation=identity, hidden_layer_sizes=(30, 20), max_iter=200, solver=sgd \n",
      "[CV]  activation=identity, hidden_layer_sizes=(30, 20), max_iter=200, solver=sgd, score=0.449, total=   0.0s\n",
      "[CV] activation=identity, hidden_layer_sizes=(30, 20), max_iter=200, solver=sgd \n",
      "[CV]  activation=identity, hidden_layer_sizes=(30, 20), max_iter=200, solver=sgd, score=0.551, total=   0.0s\n",
      "[CV] activation=identity, hidden_layer_sizes=(30, 20), max_iter=200, solver=sgd \n",
      "[CV]  activation=identity, hidden_layer_sizes=(30, 20), max_iter=200, solver=sgd, score=0.521, total=   0.0s\n",
      "[CV] activation=identity, hidden_layer_sizes=(30, 20), max_iter=200, solver=sgd \n",
      "[CV]  activation=identity, hidden_layer_sizes=(30, 20), max_iter=200, solver=sgd, score=0.562, total=   0.0s\n",
      "[CV] activation=identity, hidden_layer_sizes=(30, 20), max_iter=200, solver=sgd \n",
      "[CV]  activation=identity, hidden_layer_sizes=(30, 20), max_iter=200, solver=sgd, score=0.500, total=   0.0s\n",
      "[CV] activation=identity, hidden_layer_sizes=(30, 20), max_iter=200, solver=adam \n",
      "[CV]  activation=identity, hidden_layer_sizes=(30, 20), max_iter=200, solver=adam, score=0.694, total=   0.0s\n",
      "[CV] activation=identity, hidden_layer_sizes=(30, 20), max_iter=200, solver=adam \n",
      "[CV]  activation=identity, hidden_layer_sizes=(30, 20), max_iter=200, solver=adam, score=0.592, total=   0.0s\n",
      "[CV] activation=identity, hidden_layer_sizes=(30, 20), max_iter=200, solver=adam \n",
      "[CV]  activation=identity, hidden_layer_sizes=(30, 20), max_iter=200, solver=adam, score=0.646, total=   0.0s\n",
      "[CV] activation=identity, hidden_layer_sizes=(30, 20), max_iter=200, solver=adam \n",
      "[CV]  activation=identity, hidden_layer_sizes=(30, 20), max_iter=200, solver=adam, score=0.792, total=   0.0s\n",
      "[CV] activation=identity, hidden_layer_sizes=(30, 20), max_iter=200, solver=adam \n",
      "[CV]  activation=identity, hidden_layer_sizes=(30, 20), max_iter=200, solver=adam, score=0.729, total=   0.0s\n",
      "[CV] activation=identity, hidden_layer_sizes=(30, 20), max_iter=300, solver=lbfgs \n",
      "[CV]  activation=identity, hidden_layer_sizes=(30, 20), max_iter=300, solver=lbfgs, score=0.449, total=   0.0s\n",
      "[CV] activation=identity, hidden_layer_sizes=(30, 20), max_iter=300, solver=lbfgs \n",
      "[CV]  activation=identity, hidden_layer_sizes=(30, 20), max_iter=300, solver=lbfgs, score=0.469, total=   0.0s\n",
      "[CV] activation=identity, hidden_layer_sizes=(30, 20), max_iter=300, solver=lbfgs \n",
      "[CV]  activation=identity, hidden_layer_sizes=(30, 20), max_iter=300, solver=lbfgs, score=0.458, total=   0.0s\n",
      "[CV] activation=identity, hidden_layer_sizes=(30, 20), max_iter=300, solver=lbfgs \n",
      "[CV]  activation=identity, hidden_layer_sizes=(30, 20), max_iter=300, solver=lbfgs, score=0.458, total=   0.0s\n",
      "[CV] activation=identity, hidden_layer_sizes=(30, 20), max_iter=300, solver=lbfgs \n",
      "[CV]  activation=identity, hidden_layer_sizes=(30, 20), max_iter=300, solver=lbfgs, score=0.458, total=   0.0s\n",
      "[CV] activation=identity, hidden_layer_sizes=(30, 20), max_iter=300, solver=sgd \n",
      "[CV]  activation=identity, hidden_layer_sizes=(30, 20), max_iter=300, solver=sgd, score=0.449, total=   0.0s\n",
      "[CV] activation=identity, hidden_layer_sizes=(30, 20), max_iter=300, solver=sgd \n",
      "[CV]  activation=identity, hidden_layer_sizes=(30, 20), max_iter=300, solver=sgd, score=0.551, total=   0.0s\n",
      "[CV] activation=identity, hidden_layer_sizes=(30, 20), max_iter=300, solver=sgd \n",
      "[CV]  activation=identity, hidden_layer_sizes=(30, 20), max_iter=300, solver=sgd, score=0.521, total=   0.0s\n",
      "[CV] activation=identity, hidden_layer_sizes=(30, 20), max_iter=300, solver=sgd \n",
      "[CV]  activation=identity, hidden_layer_sizes=(30, 20), max_iter=300, solver=sgd, score=0.562, total=   0.0s\n",
      "[CV] activation=identity, hidden_layer_sizes=(30, 20), max_iter=300, solver=sgd \n",
      "[CV]  activation=identity, hidden_layer_sizes=(30, 20), max_iter=300, solver=sgd, score=0.500, total=   0.0s\n",
      "[CV] activation=identity, hidden_layer_sizes=(30, 20), max_iter=300, solver=adam \n",
      "[CV]  activation=identity, hidden_layer_sizes=(30, 20), max_iter=300, solver=adam, score=0.694, total=   0.0s\n",
      "[CV] activation=identity, hidden_layer_sizes=(30, 20), max_iter=300, solver=adam \n",
      "[CV]  activation=identity, hidden_layer_sizes=(30, 20), max_iter=300, solver=adam, score=0.592, total=   0.0s\n",
      "[CV] activation=identity, hidden_layer_sizes=(30, 20), max_iter=300, solver=adam \n",
      "[CV]  activation=identity, hidden_layer_sizes=(30, 20), max_iter=300, solver=adam, score=0.646, total=   0.0s\n",
      "[CV] activation=identity, hidden_layer_sizes=(30, 20), max_iter=300, solver=adam \n",
      "[CV]  activation=identity, hidden_layer_sizes=(30, 20), max_iter=300, solver=adam, score=0.792, total=   0.0s\n",
      "[CV] activation=identity, hidden_layer_sizes=(30, 20), max_iter=300, solver=adam \n"
     ]
    },
    {
     "name": "stdout",
     "output_type": "stream",
     "text": [
      "[CV]  activation=identity, hidden_layer_sizes=(30, 20), max_iter=300, solver=adam, score=0.729, total=   0.0s\n",
      "[CV] activation=identity, hidden_layer_sizes=(30, 30), max_iter=100, solver=lbfgs \n",
      "[CV]  activation=identity, hidden_layer_sizes=(30, 30), max_iter=100, solver=lbfgs, score=0.449, total=   0.0s\n",
      "[CV] activation=identity, hidden_layer_sizes=(30, 30), max_iter=100, solver=lbfgs \n",
      "[CV]  activation=identity, hidden_layer_sizes=(30, 30), max_iter=100, solver=lbfgs, score=0.469, total=   0.0s\n",
      "[CV] activation=identity, hidden_layer_sizes=(30, 30), max_iter=100, solver=lbfgs \n",
      "[CV]  activation=identity, hidden_layer_sizes=(30, 30), max_iter=100, solver=lbfgs, score=0.458, total=   0.0s\n",
      "[CV] activation=identity, hidden_layer_sizes=(30, 30), max_iter=100, solver=lbfgs \n",
      "[CV]  activation=identity, hidden_layer_sizes=(30, 30), max_iter=100, solver=lbfgs, score=0.458, total=   0.0s\n",
      "[CV] activation=identity, hidden_layer_sizes=(30, 30), max_iter=100, solver=lbfgs \n",
      "[CV]  activation=identity, hidden_layer_sizes=(30, 30), max_iter=100, solver=lbfgs, score=0.458, total=   0.0s\n",
      "[CV] activation=identity, hidden_layer_sizes=(30, 30), max_iter=100, solver=sgd \n",
      "[CV]  activation=identity, hidden_layer_sizes=(30, 30), max_iter=100, solver=sgd, score=0.633, total=   0.0s\n",
      "[CV] activation=identity, hidden_layer_sizes=(30, 30), max_iter=100, solver=sgd \n",
      "[CV]  activation=identity, hidden_layer_sizes=(30, 30), max_iter=100, solver=sgd, score=0.592, total=   0.0s\n",
      "[CV] activation=identity, hidden_layer_sizes=(30, 30), max_iter=100, solver=sgd \n",
      "[CV]  activation=identity, hidden_layer_sizes=(30, 30), max_iter=100, solver=sgd, score=0.646, total=   0.0s\n",
      "[CV] activation=identity, hidden_layer_sizes=(30, 30), max_iter=100, solver=sgd \n",
      "[CV]  activation=identity, hidden_layer_sizes=(30, 30), max_iter=100, solver=sgd, score=0.667, total=   0.0s\n",
      "[CV] activation=identity, hidden_layer_sizes=(30, 30), max_iter=100, solver=sgd \n",
      "[CV]  activation=identity, hidden_layer_sizes=(30, 30), max_iter=100, solver=sgd, score=0.625, total=   0.0s\n",
      "[CV] activation=identity, hidden_layer_sizes=(30, 30), max_iter=100, solver=adam \n",
      "[CV]  activation=identity, hidden_layer_sizes=(30, 30), max_iter=100, solver=adam, score=0.551, total=   0.0s\n",
      "[CV] activation=identity, hidden_layer_sizes=(30, 30), max_iter=100, solver=adam \n",
      "[CV]  activation=identity, hidden_layer_sizes=(30, 30), max_iter=100, solver=adam, score=0.551, total=   0.0s\n",
      "[CV] activation=identity, hidden_layer_sizes=(30, 30), max_iter=100, solver=adam \n",
      "[CV]  activation=identity, hidden_layer_sizes=(30, 30), max_iter=100, solver=adam, score=0.771, total=   0.1s\n",
      "[CV] activation=identity, hidden_layer_sizes=(30, 30), max_iter=100, solver=adam \n",
      "[CV]  activation=identity, hidden_layer_sizes=(30, 30), max_iter=100, solver=adam, score=0.583, total=   0.0s\n",
      "[CV] activation=identity, hidden_layer_sizes=(30, 30), max_iter=100, solver=adam \n",
      "[CV]  activation=identity, hidden_layer_sizes=(30, 30), max_iter=100, solver=adam, score=0.542, total=   0.0s\n",
      "[CV] activation=identity, hidden_layer_sizes=(30, 30), max_iter=200, solver=lbfgs \n",
      "[CV]  activation=identity, hidden_layer_sizes=(30, 30), max_iter=200, solver=lbfgs, score=0.449, total=   0.0s\n",
      "[CV] activation=identity, hidden_layer_sizes=(30, 30), max_iter=200, solver=lbfgs \n",
      "[CV]  activation=identity, hidden_layer_sizes=(30, 30), max_iter=200, solver=lbfgs, score=0.469, total=   0.0s\n",
      "[CV] activation=identity, hidden_layer_sizes=(30, 30), max_iter=200, solver=lbfgs \n",
      "[CV]  activation=identity, hidden_layer_sizes=(30, 30), max_iter=200, solver=lbfgs, score=0.458, total=   0.0s\n",
      "[CV] activation=identity, hidden_layer_sizes=(30, 30), max_iter=200, solver=lbfgs \n",
      "[CV]  activation=identity, hidden_layer_sizes=(30, 30), max_iter=200, solver=lbfgs, score=0.458, total=   0.0s\n",
      "[CV] activation=identity, hidden_layer_sizes=(30, 30), max_iter=200, solver=lbfgs \n",
      "[CV]  activation=identity, hidden_layer_sizes=(30, 30), max_iter=200, solver=lbfgs, score=0.458, total=   0.0s\n",
      "[CV] activation=identity, hidden_layer_sizes=(30, 30), max_iter=200, solver=sgd \n"
     ]
    },
    {
     "name": "stderr",
     "output_type": "stream",
     "text": [
      "/Users/Strawberry/anaconda3/lib/python3.7/site-packages/sklearn/neural_network/_multilayer_perceptron.py:571: ConvergenceWarning: Stochastic Optimizer: Maximum iterations (100) reached and the optimization hasn't converged yet.\n",
      "  % self.max_iter, ConvergenceWarning)\n"
     ]
    },
    {
     "name": "stdout",
     "output_type": "stream",
     "text": [
      "[CV]  activation=identity, hidden_layer_sizes=(30, 30), max_iter=200, solver=sgd, score=0.633, total=   0.0s\n",
      "[CV] activation=identity, hidden_layer_sizes=(30, 30), max_iter=200, solver=sgd \n",
      "[CV]  activation=identity, hidden_layer_sizes=(30, 30), max_iter=200, solver=sgd, score=0.592, total=   0.0s\n",
      "[CV] activation=identity, hidden_layer_sizes=(30, 30), max_iter=200, solver=sgd \n",
      "[CV]  activation=identity, hidden_layer_sizes=(30, 30), max_iter=200, solver=sgd, score=0.646, total=   0.0s\n",
      "[CV] activation=identity, hidden_layer_sizes=(30, 30), max_iter=200, solver=sgd \n",
      "[CV]  activation=identity, hidden_layer_sizes=(30, 30), max_iter=200, solver=sgd, score=0.667, total=   0.0s\n",
      "[CV] activation=identity, hidden_layer_sizes=(30, 30), max_iter=200, solver=sgd \n",
      "[CV]  activation=identity, hidden_layer_sizes=(30, 30), max_iter=200, solver=sgd, score=0.625, total=   0.0s\n",
      "[CV] activation=identity, hidden_layer_sizes=(30, 30), max_iter=200, solver=adam \n",
      "[CV]  activation=identity, hidden_layer_sizes=(30, 30), max_iter=200, solver=adam, score=0.551, total=   0.0s\n",
      "[CV] activation=identity, hidden_layer_sizes=(30, 30), max_iter=200, solver=adam \n",
      "[CV]  activation=identity, hidden_layer_sizes=(30, 30), max_iter=200, solver=adam, score=0.551, total=   0.0s\n",
      "[CV] activation=identity, hidden_layer_sizes=(30, 30), max_iter=200, solver=adam \n"
     ]
    },
    {
     "name": "stderr",
     "output_type": "stream",
     "text": [
      "/Users/Strawberry/anaconda3/lib/python3.7/site-packages/sklearn/neural_network/_multilayer_perceptron.py:571: ConvergenceWarning: Stochastic Optimizer: Maximum iterations (200) reached and the optimization hasn't converged yet.\n",
      "  % self.max_iter, ConvergenceWarning)\n"
     ]
    },
    {
     "name": "stdout",
     "output_type": "stream",
     "text": [
      "[CV]  activation=identity, hidden_layer_sizes=(30, 30), max_iter=200, solver=adam, score=0.854, total=   0.1s\n",
      "[CV] activation=identity, hidden_layer_sizes=(30, 30), max_iter=200, solver=adam \n",
      "[CV]  activation=identity, hidden_layer_sizes=(30, 30), max_iter=200, solver=adam, score=0.583, total=   0.0s\n",
      "[CV] activation=identity, hidden_layer_sizes=(30, 30), max_iter=200, solver=adam \n",
      "[CV]  activation=identity, hidden_layer_sizes=(30, 30), max_iter=200, solver=adam, score=0.542, total=   0.0s\n",
      "[CV] activation=identity, hidden_layer_sizes=(30, 30), max_iter=300, solver=lbfgs \n",
      "[CV]  activation=identity, hidden_layer_sizes=(30, 30), max_iter=300, solver=lbfgs, score=0.449, total=   0.0s\n",
      "[CV] activation=identity, hidden_layer_sizes=(30, 30), max_iter=300, solver=lbfgs \n",
      "[CV]  activation=identity, hidden_layer_sizes=(30, 30), max_iter=300, solver=lbfgs, score=0.469, total=   0.0s\n",
      "[CV] activation=identity, hidden_layer_sizes=(30, 30), max_iter=300, solver=lbfgs \n",
      "[CV]  activation=identity, hidden_layer_sizes=(30, 30), max_iter=300, solver=lbfgs, score=0.458, total=   0.0s\n",
      "[CV] activation=identity, hidden_layer_sizes=(30, 30), max_iter=300, solver=lbfgs \n",
      "[CV]  activation=identity, hidden_layer_sizes=(30, 30), max_iter=300, solver=lbfgs, score=0.458, total=   0.0s\n",
      "[CV] activation=identity, hidden_layer_sizes=(30, 30), max_iter=300, solver=lbfgs \n",
      "[CV]  activation=identity, hidden_layer_sizes=(30, 30), max_iter=300, solver=lbfgs, score=0.458, total=   0.0s\n",
      "[CV] activation=identity, hidden_layer_sizes=(30, 30), max_iter=300, solver=sgd \n",
      "[CV]  activation=identity, hidden_layer_sizes=(30, 30), max_iter=300, solver=sgd, score=0.633, total=   0.0s\n",
      "[CV] activation=identity, hidden_layer_sizes=(30, 30), max_iter=300, solver=sgd \n",
      "[CV]  activation=identity, hidden_layer_sizes=(30, 30), max_iter=300, solver=sgd, score=0.592, total=   0.0s\n",
      "[CV] activation=identity, hidden_layer_sizes=(30, 30), max_iter=300, solver=sgd \n",
      "[CV]  activation=identity, hidden_layer_sizes=(30, 30), max_iter=300, solver=sgd, score=0.646, total=   0.0s\n",
      "[CV] activation=identity, hidden_layer_sizes=(30, 30), max_iter=300, solver=sgd \n",
      "[CV]  activation=identity, hidden_layer_sizes=(30, 30), max_iter=300, solver=sgd, score=0.667, total=   0.0s\n",
      "[CV] activation=identity, hidden_layer_sizes=(30, 30), max_iter=300, solver=sgd \n",
      "[CV]  activation=identity, hidden_layer_sizes=(30, 30), max_iter=300, solver=sgd, score=0.625, total=   0.0s\n",
      "[CV] activation=identity, hidden_layer_sizes=(30, 30), max_iter=300, solver=adam \n",
      "[CV]  activation=identity, hidden_layer_sizes=(30, 30), max_iter=300, solver=adam, score=0.551, total=   0.0s\n",
      "[CV] activation=identity, hidden_layer_sizes=(30, 30), max_iter=300, solver=adam \n",
      "[CV]  activation=identity, hidden_layer_sizes=(30, 30), max_iter=300, solver=adam, score=0.551, total=   0.0s\n",
      "[CV] activation=identity, hidden_layer_sizes=(30, 30), max_iter=300, solver=adam \n"
     ]
    },
    {
     "name": "stderr",
     "output_type": "stream",
     "text": [
      "/Users/Strawberry/anaconda3/lib/python3.7/site-packages/sklearn/neural_network/_multilayer_perceptron.py:571: ConvergenceWarning: Stochastic Optimizer: Maximum iterations (300) reached and the optimization hasn't converged yet.\n",
      "  % self.max_iter, ConvergenceWarning)\n"
     ]
    },
    {
     "name": "stdout",
     "output_type": "stream",
     "text": [
      "[CV]  activation=identity, hidden_layer_sizes=(30, 30), max_iter=300, solver=adam, score=0.875, total=   0.2s\n",
      "[CV] activation=identity, hidden_layer_sizes=(30, 30), max_iter=300, solver=adam \n",
      "[CV]  activation=identity, hidden_layer_sizes=(30, 30), max_iter=300, solver=adam, score=0.583, total=   0.0s\n",
      "[CV] activation=identity, hidden_layer_sizes=(30, 30), max_iter=300, solver=adam \n",
      "[CV]  activation=identity, hidden_layer_sizes=(30, 30), max_iter=300, solver=adam, score=0.542, total=   0.0s\n",
      "[CV] activation=identity, hidden_layer_sizes=(30, 40), max_iter=100, solver=lbfgs \n",
      "[CV]  activation=identity, hidden_layer_sizes=(30, 40), max_iter=100, solver=lbfgs, score=0.449, total=   0.0s\n",
      "[CV] activation=identity, hidden_layer_sizes=(30, 40), max_iter=100, solver=lbfgs \n",
      "[CV]  activation=identity, hidden_layer_sizes=(30, 40), max_iter=100, solver=lbfgs, score=0.469, total=   0.0s\n",
      "[CV] activation=identity, hidden_layer_sizes=(30, 40), max_iter=100, solver=lbfgs \n",
      "[CV]  activation=identity, hidden_layer_sizes=(30, 40), max_iter=100, solver=lbfgs, score=0.458, total=   0.0s\n",
      "[CV] activation=identity, hidden_layer_sizes=(30, 40), max_iter=100, solver=lbfgs \n",
      "[CV]  activation=identity, hidden_layer_sizes=(30, 40), max_iter=100, solver=lbfgs, score=0.458, total=   0.0s\n",
      "[CV] activation=identity, hidden_layer_sizes=(30, 40), max_iter=100, solver=lbfgs \n",
      "[CV]  activation=identity, hidden_layer_sizes=(30, 40), max_iter=100, solver=lbfgs, score=0.458, total=   0.0s\n",
      "[CV] activation=identity, hidden_layer_sizes=(30, 40), max_iter=100, solver=sgd \n",
      "[CV]  activation=identity, hidden_layer_sizes=(30, 40), max_iter=100, solver=sgd, score=0.633, total=   0.0s\n",
      "[CV] activation=identity, hidden_layer_sizes=(30, 40), max_iter=100, solver=sgd \n",
      "[CV]  activation=identity, hidden_layer_sizes=(30, 40), max_iter=100, solver=sgd, score=0.551, total=   0.0s\n",
      "[CV] activation=identity, hidden_layer_sizes=(30, 40), max_iter=100, solver=sgd \n",
      "[CV]  activation=identity, hidden_layer_sizes=(30, 40), max_iter=100, solver=sgd, score=0.542, total=   0.0s\n",
      "[CV] activation=identity, hidden_layer_sizes=(30, 40), max_iter=100, solver=sgd \n",
      "[CV]  activation=identity, hidden_layer_sizes=(30, 40), max_iter=100, solver=sgd, score=0.542, total=   0.0s\n",
      "[CV] activation=identity, hidden_layer_sizes=(30, 40), max_iter=100, solver=sgd \n",
      "[CV]  activation=identity, hidden_layer_sizes=(30, 40), max_iter=100, solver=sgd, score=0.604, total=   0.0s\n",
      "[CV] activation=identity, hidden_layer_sizes=(30, 40), max_iter=100, solver=adam \n"
     ]
    },
    {
     "name": "stderr",
     "output_type": "stream",
     "text": [
      "/Users/Strawberry/anaconda3/lib/python3.7/site-packages/sklearn/neural_network/_multilayer_perceptron.py:571: ConvergenceWarning: Stochastic Optimizer: Maximum iterations (100) reached and the optimization hasn't converged yet.\n",
      "  % self.max_iter, ConvergenceWarning)\n",
      "/Users/Strawberry/anaconda3/lib/python3.7/site-packages/sklearn/neural_network/_multilayer_perceptron.py:571: ConvergenceWarning: Stochastic Optimizer: Maximum iterations (100) reached and the optimization hasn't converged yet.\n",
      "  % self.max_iter, ConvergenceWarning)\n",
      "/Users/Strawberry/anaconda3/lib/python3.7/site-packages/sklearn/neural_network/_multilayer_perceptron.py:571: ConvergenceWarning: Stochastic Optimizer: Maximum iterations (100) reached and the optimization hasn't converged yet.\n",
      "  % self.max_iter, ConvergenceWarning)\n",
      "/Users/Strawberry/anaconda3/lib/python3.7/site-packages/sklearn/neural_network/_multilayer_perceptron.py:571: ConvergenceWarning: Stochastic Optimizer: Maximum iterations (100) reached and the optimization hasn't converged yet.\n",
      "  % self.max_iter, ConvergenceWarning)\n"
     ]
    },
    {
     "name": "stdout",
     "output_type": "stream",
     "text": [
      "[CV]  activation=identity, hidden_layer_sizes=(30, 40), max_iter=100, solver=adam, score=0.612, total=   0.1s\n",
      "[CV] activation=identity, hidden_layer_sizes=(30, 40), max_iter=100, solver=adam \n",
      "[CV]  activation=identity, hidden_layer_sizes=(30, 40), max_iter=100, solver=adam, score=0.694, total=   0.1s\n",
      "[CV] activation=identity, hidden_layer_sizes=(30, 40), max_iter=100, solver=adam \n",
      "[CV]  activation=identity, hidden_layer_sizes=(30, 40), max_iter=100, solver=adam, score=0.646, total=   0.1s\n",
      "[CV] activation=identity, hidden_layer_sizes=(30, 40), max_iter=100, solver=adam \n",
      "[CV]  activation=identity, hidden_layer_sizes=(30, 40), max_iter=100, solver=adam, score=0.708, total=   0.1s\n",
      "[CV] activation=identity, hidden_layer_sizes=(30, 40), max_iter=100, solver=adam \n"
     ]
    },
    {
     "name": "stderr",
     "output_type": "stream",
     "text": [
      "/Users/Strawberry/anaconda3/lib/python3.7/site-packages/sklearn/neural_network/_multilayer_perceptron.py:571: ConvergenceWarning: Stochastic Optimizer: Maximum iterations (100) reached and the optimization hasn't converged yet.\n",
      "  % self.max_iter, ConvergenceWarning)\n"
     ]
    },
    {
     "name": "stdout",
     "output_type": "stream",
     "text": [
      "[CV]  activation=identity, hidden_layer_sizes=(30, 40), max_iter=100, solver=adam, score=0.646, total=   0.1s\n",
      "[CV] activation=identity, hidden_layer_sizes=(30, 40), max_iter=200, solver=lbfgs \n",
      "[CV]  activation=identity, hidden_layer_sizes=(30, 40), max_iter=200, solver=lbfgs, score=0.449, total=   0.0s\n",
      "[CV] activation=identity, hidden_layer_sizes=(30, 40), max_iter=200, solver=lbfgs \n",
      "[CV]  activation=identity, hidden_layer_sizes=(30, 40), max_iter=200, solver=lbfgs, score=0.469, total=   0.0s\n",
      "[CV] activation=identity, hidden_layer_sizes=(30, 40), max_iter=200, solver=lbfgs \n",
      "[CV]  activation=identity, hidden_layer_sizes=(30, 40), max_iter=200, solver=lbfgs, score=0.458, total=   0.0s\n",
      "[CV] activation=identity, hidden_layer_sizes=(30, 40), max_iter=200, solver=lbfgs \n",
      "[CV]  activation=identity, hidden_layer_sizes=(30, 40), max_iter=200, solver=lbfgs, score=0.458, total=   0.0s\n",
      "[CV] activation=identity, hidden_layer_sizes=(30, 40), max_iter=200, solver=lbfgs \n",
      "[CV]  activation=identity, hidden_layer_sizes=(30, 40), max_iter=200, solver=lbfgs, score=0.458, total=   0.0s\n",
      "[CV] activation=identity, hidden_layer_sizes=(30, 40), max_iter=200, solver=sgd \n",
      "[CV]  activation=identity, hidden_layer_sizes=(30, 40), max_iter=200, solver=sgd, score=0.633, total=   0.0s\n",
      "[CV] activation=identity, hidden_layer_sizes=(30, 40), max_iter=200, solver=sgd \n",
      "[CV]  activation=identity, hidden_layer_sizes=(30, 40), max_iter=200, solver=sgd, score=0.551, total=   0.0s\n",
      "[CV] activation=identity, hidden_layer_sizes=(30, 40), max_iter=200, solver=sgd \n",
      "[CV]  activation=identity, hidden_layer_sizes=(30, 40), max_iter=200, solver=sgd, score=0.542, total=   0.0s\n",
      "[CV] activation=identity, hidden_layer_sizes=(30, 40), max_iter=200, solver=sgd \n",
      "[CV]  activation=identity, hidden_layer_sizes=(30, 40), max_iter=200, solver=sgd, score=0.542, total=   0.0s\n",
      "[CV] activation=identity, hidden_layer_sizes=(30, 40), max_iter=200, solver=sgd \n",
      "[CV]  activation=identity, hidden_layer_sizes=(30, 40), max_iter=200, solver=sgd, score=0.604, total=   0.0s\n",
      "[CV] activation=identity, hidden_layer_sizes=(30, 40), max_iter=200, solver=adam \n"
     ]
    },
    {
     "name": "stderr",
     "output_type": "stream",
     "text": [
      "/Users/Strawberry/anaconda3/lib/python3.7/site-packages/sklearn/neural_network/_multilayer_perceptron.py:571: ConvergenceWarning: Stochastic Optimizer: Maximum iterations (200) reached and the optimization hasn't converged yet.\n",
      "  % self.max_iter, ConvergenceWarning)\n",
      "/Users/Strawberry/anaconda3/lib/python3.7/site-packages/sklearn/neural_network/_multilayer_perceptron.py:571: ConvergenceWarning: Stochastic Optimizer: Maximum iterations (200) reached and the optimization hasn't converged yet.\n",
      "  % self.max_iter, ConvergenceWarning)\n"
     ]
    },
    {
     "name": "stdout",
     "output_type": "stream",
     "text": [
      "[CV]  activation=identity, hidden_layer_sizes=(30, 40), max_iter=200, solver=adam, score=0.735, total=   0.1s\n",
      "[CV] activation=identity, hidden_layer_sizes=(30, 40), max_iter=200, solver=adam \n",
      "[CV]  activation=identity, hidden_layer_sizes=(30, 40), max_iter=200, solver=adam, score=0.755, total=   0.1s\n",
      "[CV] activation=identity, hidden_layer_sizes=(30, 40), max_iter=200, solver=adam \n"
     ]
    },
    {
     "name": "stderr",
     "output_type": "stream",
     "text": [
      "/Users/Strawberry/anaconda3/lib/python3.7/site-packages/sklearn/neural_network/_multilayer_perceptron.py:571: ConvergenceWarning: Stochastic Optimizer: Maximum iterations (200) reached and the optimization hasn't converged yet.\n",
      "  % self.max_iter, ConvergenceWarning)\n",
      "/Users/Strawberry/anaconda3/lib/python3.7/site-packages/sklearn/neural_network/_multilayer_perceptron.py:571: ConvergenceWarning: Stochastic Optimizer: Maximum iterations (200) reached and the optimization hasn't converged yet.\n",
      "  % self.max_iter, ConvergenceWarning)\n"
     ]
    },
    {
     "name": "stdout",
     "output_type": "stream",
     "text": [
      "[CV]  activation=identity, hidden_layer_sizes=(30, 40), max_iter=200, solver=adam, score=0.750, total=   0.1s\n",
      "[CV] activation=identity, hidden_layer_sizes=(30, 40), max_iter=200, solver=adam \n",
      "[CV]  activation=identity, hidden_layer_sizes=(30, 40), max_iter=200, solver=adam, score=0.896, total=   0.1s\n",
      "[CV] activation=identity, hidden_layer_sizes=(30, 40), max_iter=200, solver=adam \n"
     ]
    },
    {
     "name": "stderr",
     "output_type": "stream",
     "text": [
      "/Users/Strawberry/anaconda3/lib/python3.7/site-packages/sklearn/neural_network/_multilayer_perceptron.py:571: ConvergenceWarning: Stochastic Optimizer: Maximum iterations (200) reached and the optimization hasn't converged yet.\n",
      "  % self.max_iter, ConvergenceWarning)\n"
     ]
    },
    {
     "name": "stdout",
     "output_type": "stream",
     "text": [
      "[CV]  activation=identity, hidden_layer_sizes=(30, 40), max_iter=200, solver=adam, score=0.812, total=   0.1s\n",
      "[CV] activation=identity, hidden_layer_sizes=(30, 40), max_iter=300, solver=lbfgs \n",
      "[CV]  activation=identity, hidden_layer_sizes=(30, 40), max_iter=300, solver=lbfgs, score=0.449, total=   0.0s\n",
      "[CV] activation=identity, hidden_layer_sizes=(30, 40), max_iter=300, solver=lbfgs \n",
      "[CV]  activation=identity, hidden_layer_sizes=(30, 40), max_iter=300, solver=lbfgs, score=0.469, total=   0.0s\n",
      "[CV] activation=identity, hidden_layer_sizes=(30, 40), max_iter=300, solver=lbfgs \n",
      "[CV]  activation=identity, hidden_layer_sizes=(30, 40), max_iter=300, solver=lbfgs, score=0.458, total=   0.0s\n",
      "[CV] activation=identity, hidden_layer_sizes=(30, 40), max_iter=300, solver=lbfgs \n",
      "[CV]  activation=identity, hidden_layer_sizes=(30, 40), max_iter=300, solver=lbfgs, score=0.458, total=   0.0s\n",
      "[CV] activation=identity, hidden_layer_sizes=(30, 40), max_iter=300, solver=lbfgs \n",
      "[CV]  activation=identity, hidden_layer_sizes=(30, 40), max_iter=300, solver=lbfgs, score=0.458, total=   0.0s\n",
      "[CV] activation=identity, hidden_layer_sizes=(30, 40), max_iter=300, solver=sgd \n",
      "[CV]  activation=identity, hidden_layer_sizes=(30, 40), max_iter=300, solver=sgd, score=0.633, total=   0.0s\n",
      "[CV] activation=identity, hidden_layer_sizes=(30, 40), max_iter=300, solver=sgd \n",
      "[CV]  activation=identity, hidden_layer_sizes=(30, 40), max_iter=300, solver=sgd, score=0.551, total=   0.0s\n",
      "[CV] activation=identity, hidden_layer_sizes=(30, 40), max_iter=300, solver=sgd \n",
      "[CV]  activation=identity, hidden_layer_sizes=(30, 40), max_iter=300, solver=sgd, score=0.542, total=   0.0s\n",
      "[CV] activation=identity, hidden_layer_sizes=(30, 40), max_iter=300, solver=sgd \n",
      "[CV]  activation=identity, hidden_layer_sizes=(30, 40), max_iter=300, solver=sgd, score=0.542, total=   0.0s\n",
      "[CV] activation=identity, hidden_layer_sizes=(30, 40), max_iter=300, solver=sgd \n",
      "[CV]  activation=identity, hidden_layer_sizes=(30, 40), max_iter=300, solver=sgd, score=0.604, total=   0.0s\n",
      "[CV] activation=identity, hidden_layer_sizes=(30, 40), max_iter=300, solver=adam \n"
     ]
    },
    {
     "name": "stderr",
     "output_type": "stream",
     "text": [
      "/Users/Strawberry/anaconda3/lib/python3.7/site-packages/sklearn/neural_network/_multilayer_perceptron.py:571: ConvergenceWarning: Stochastic Optimizer: Maximum iterations (300) reached and the optimization hasn't converged yet.\n",
      "  % self.max_iter, ConvergenceWarning)\n",
      "/Users/Strawberry/anaconda3/lib/python3.7/site-packages/sklearn/neural_network/_multilayer_perceptron.py:571: ConvergenceWarning: Stochastic Optimizer: Maximum iterations (300) reached and the optimization hasn't converged yet.\n",
      "  % self.max_iter, ConvergenceWarning)\n"
     ]
    },
    {
     "name": "stdout",
     "output_type": "stream",
     "text": [
      "[CV]  activation=identity, hidden_layer_sizes=(30, 40), max_iter=300, solver=adam, score=0.796, total=   0.2s\n",
      "[CV] activation=identity, hidden_layer_sizes=(30, 40), max_iter=300, solver=adam \n",
      "[CV]  activation=identity, hidden_layer_sizes=(30, 40), max_iter=300, solver=adam, score=0.755, total=   0.2s\n",
      "[CV] activation=identity, hidden_layer_sizes=(30, 40), max_iter=300, solver=adam \n"
     ]
    },
    {
     "name": "stderr",
     "output_type": "stream",
     "text": [
      "/Users/Strawberry/anaconda3/lib/python3.7/site-packages/sklearn/neural_network/_multilayer_perceptron.py:571: ConvergenceWarning: Stochastic Optimizer: Maximum iterations (300) reached and the optimization hasn't converged yet.\n",
      "  % self.max_iter, ConvergenceWarning)\n",
      "/Users/Strawberry/anaconda3/lib/python3.7/site-packages/sklearn/neural_network/_multilayer_perceptron.py:571: ConvergenceWarning: Stochastic Optimizer: Maximum iterations (300) reached and the optimization hasn't converged yet.\n",
      "  % self.max_iter, ConvergenceWarning)\n"
     ]
    },
    {
     "name": "stdout",
     "output_type": "stream",
     "text": [
      "[CV]  activation=identity, hidden_layer_sizes=(30, 40), max_iter=300, solver=adam, score=0.812, total=   0.2s\n",
      "[CV] activation=identity, hidden_layer_sizes=(30, 40), max_iter=300, solver=adam \n",
      "[CV]  activation=identity, hidden_layer_sizes=(30, 40), max_iter=300, solver=adam, score=0.917, total=   0.2s\n",
      "[CV] activation=identity, hidden_layer_sizes=(30, 40), max_iter=300, solver=adam \n"
     ]
    },
    {
     "name": "stderr",
     "output_type": "stream",
     "text": [
      "/Users/Strawberry/anaconda3/lib/python3.7/site-packages/sklearn/neural_network/_multilayer_perceptron.py:571: ConvergenceWarning: Stochastic Optimizer: Maximum iterations (300) reached and the optimization hasn't converged yet.\n",
      "  % self.max_iter, ConvergenceWarning)\n",
      "/Users/Strawberry/anaconda3/lib/python3.7/site-packages/sklearn/neural_network/_multilayer_perceptron.py:571: ConvergenceWarning: Stochastic Optimizer: Maximum iterations (100) reached and the optimization hasn't converged yet.\n",
      "  % self.max_iter, ConvergenceWarning)\n"
     ]
    },
    {
     "name": "stdout",
     "output_type": "stream",
     "text": [
      "[CV]  activation=identity, hidden_layer_sizes=(30, 40), max_iter=300, solver=adam, score=0.792, total=   0.2s\n",
      "[CV] activation=identity, hidden_layer_sizes=(40, 10), max_iter=100, solver=lbfgs \n",
      "[CV]  activation=identity, hidden_layer_sizes=(40, 10), max_iter=100, solver=lbfgs, score=0.449, total=   0.0s\n",
      "[CV] activation=identity, hidden_layer_sizes=(40, 10), max_iter=100, solver=lbfgs \n",
      "[CV]  activation=identity, hidden_layer_sizes=(40, 10), max_iter=100, solver=lbfgs, score=0.469, total=   0.0s\n",
      "[CV] activation=identity, hidden_layer_sizes=(40, 10), max_iter=100, solver=lbfgs \n",
      "[CV]  activation=identity, hidden_layer_sizes=(40, 10), max_iter=100, solver=lbfgs, score=0.458, total=   0.0s\n",
      "[CV] activation=identity, hidden_layer_sizes=(40, 10), max_iter=100, solver=lbfgs \n",
      "[CV]  activation=identity, hidden_layer_sizes=(40, 10), max_iter=100, solver=lbfgs, score=0.458, total=   0.0s\n",
      "[CV] activation=identity, hidden_layer_sizes=(40, 10), max_iter=100, solver=lbfgs \n",
      "[CV]  activation=identity, hidden_layer_sizes=(40, 10), max_iter=100, solver=lbfgs, score=0.458, total=   0.0s\n",
      "[CV] activation=identity, hidden_layer_sizes=(40, 10), max_iter=100, solver=sgd \n",
      "[CV]  activation=identity, hidden_layer_sizes=(40, 10), max_iter=100, solver=sgd, score=0.633, total=   0.0s\n",
      "[CV] activation=identity, hidden_layer_sizes=(40, 10), max_iter=100, solver=sgd \n",
      "[CV]  activation=identity, hidden_layer_sizes=(40, 10), max_iter=100, solver=sgd, score=0.612, total=   0.1s\n",
      "[CV] activation=identity, hidden_layer_sizes=(40, 10), max_iter=100, solver=sgd \n",
      "[CV]  activation=identity, hidden_layer_sizes=(40, 10), max_iter=100, solver=sgd, score=0.625, total=   0.0s\n",
      "[CV] activation=identity, hidden_layer_sizes=(40, 10), max_iter=100, solver=sgd \n",
      "[CV]  activation=identity, hidden_layer_sizes=(40, 10), max_iter=100, solver=sgd, score=0.812, total=   0.0s\n",
      "[CV] activation=identity, hidden_layer_sizes=(40, 10), max_iter=100, solver=sgd \n",
      "[CV]  activation=identity, hidden_layer_sizes=(40, 10), max_iter=100, solver=sgd, score=0.646, total=   0.0s\n",
      "[CV] activation=identity, hidden_layer_sizes=(40, 10), max_iter=100, solver=adam \n",
      "[CV]  activation=identity, hidden_layer_sizes=(40, 10), max_iter=100, solver=adam, score=0.694, total=   0.1s\n",
      "[CV] activation=identity, hidden_layer_sizes=(40, 10), max_iter=100, solver=adam \n",
      "[CV]  activation=identity, hidden_layer_sizes=(40, 10), max_iter=100, solver=adam, score=0.490, total=   0.0s\n",
      "[CV] activation=identity, hidden_layer_sizes=(40, 10), max_iter=100, solver=adam \n",
      "[CV]  activation=identity, hidden_layer_sizes=(40, 10), max_iter=100, solver=adam, score=0.688, total=   0.0s\n",
      "[CV] activation=identity, hidden_layer_sizes=(40, 10), max_iter=100, solver=adam \n",
      "[CV]  activation=identity, hidden_layer_sizes=(40, 10), max_iter=100, solver=adam, score=0.458, total=   0.0s\n",
      "[CV] activation=identity, hidden_layer_sizes=(40, 10), max_iter=100, solver=adam \n",
      "[CV]  activation=identity, hidden_layer_sizes=(40, 10), max_iter=100, solver=adam, score=0.688, total=   0.0s\n",
      "[CV] activation=identity, hidden_layer_sizes=(40, 10), max_iter=200, solver=lbfgs \n",
      "[CV]  activation=identity, hidden_layer_sizes=(40, 10), max_iter=200, solver=lbfgs, score=0.449, total=   0.0s\n",
      "[CV] activation=identity, hidden_layer_sizes=(40, 10), max_iter=200, solver=lbfgs \n",
      "[CV]  activation=identity, hidden_layer_sizes=(40, 10), max_iter=200, solver=lbfgs, score=0.469, total=   0.0s\n",
      "[CV] activation=identity, hidden_layer_sizes=(40, 10), max_iter=200, solver=lbfgs \n",
      "[CV]  activation=identity, hidden_layer_sizes=(40, 10), max_iter=200, solver=lbfgs, score=0.458, total=   0.0s\n",
      "[CV] activation=identity, hidden_layer_sizes=(40, 10), max_iter=200, solver=lbfgs \n",
      "[CV]  activation=identity, hidden_layer_sizes=(40, 10), max_iter=200, solver=lbfgs, score=0.458, total=   0.0s\n",
      "[CV] activation=identity, hidden_layer_sizes=(40, 10), max_iter=200, solver=lbfgs \n",
      "[CV]  activation=identity, hidden_layer_sizes=(40, 10), max_iter=200, solver=lbfgs, score=0.458, total=   0.0s\n",
      "[CV] activation=identity, hidden_layer_sizes=(40, 10), max_iter=200, solver=sgd \n",
      "[CV]  activation=identity, hidden_layer_sizes=(40, 10), max_iter=200, solver=sgd, score=0.633, total=   0.0s\n",
      "[CV] activation=identity, hidden_layer_sizes=(40, 10), max_iter=200, solver=sgd \n",
      "[CV]  activation=identity, hidden_layer_sizes=(40, 10), max_iter=200, solver=sgd, score=0.612, total=   0.1s\n",
      "[CV] activation=identity, hidden_layer_sizes=(40, 10), max_iter=200, solver=sgd \n",
      "[CV]  activation=identity, hidden_layer_sizes=(40, 10), max_iter=200, solver=sgd, score=0.625, total=   0.0s\n",
      "[CV] activation=identity, hidden_layer_sizes=(40, 10), max_iter=200, solver=sgd \n",
      "[CV]  activation=identity, hidden_layer_sizes=(40, 10), max_iter=200, solver=sgd, score=0.812, total=   0.0s\n",
      "[CV] activation=identity, hidden_layer_sizes=(40, 10), max_iter=200, solver=sgd \n",
      "[CV]  activation=identity, hidden_layer_sizes=(40, 10), max_iter=200, solver=sgd, score=0.646, total=   0.0s\n",
      "[CV] activation=identity, hidden_layer_sizes=(40, 10), max_iter=200, solver=adam \n",
      "[CV]  activation=identity, hidden_layer_sizes=(40, 10), max_iter=200, solver=adam, score=0.694, total=   0.0s\n",
      "[CV] activation=identity, hidden_layer_sizes=(40, 10), max_iter=200, solver=adam \n",
      "[CV]  activation=identity, hidden_layer_sizes=(40, 10), max_iter=200, solver=adam, score=0.490, total=   0.0s\n",
      "[CV] activation=identity, hidden_layer_sizes=(40, 10), max_iter=200, solver=adam \n",
      "[CV]  activation=identity, hidden_layer_sizes=(40, 10), max_iter=200, solver=adam, score=0.688, total=   0.0s\n",
      "[CV] activation=identity, hidden_layer_sizes=(40, 10), max_iter=200, solver=adam \n",
      "[CV]  activation=identity, hidden_layer_sizes=(40, 10), max_iter=200, solver=adam, score=0.458, total=   0.0s\n",
      "[CV] activation=identity, hidden_layer_sizes=(40, 10), max_iter=200, solver=adam \n",
      "[CV]  activation=identity, hidden_layer_sizes=(40, 10), max_iter=200, solver=adam, score=0.688, total=   0.0s\n",
      "[CV] activation=identity, hidden_layer_sizes=(40, 10), max_iter=300, solver=lbfgs \n",
      "[CV]  activation=identity, hidden_layer_sizes=(40, 10), max_iter=300, solver=lbfgs, score=0.449, total=   0.0s\n",
      "[CV] activation=identity, hidden_layer_sizes=(40, 10), max_iter=300, solver=lbfgs \n",
      "[CV]  activation=identity, hidden_layer_sizes=(40, 10), max_iter=300, solver=lbfgs, score=0.469, total=   0.0s\n",
      "[CV] activation=identity, hidden_layer_sizes=(40, 10), max_iter=300, solver=lbfgs \n",
      "[CV]  activation=identity, hidden_layer_sizes=(40, 10), max_iter=300, solver=lbfgs, score=0.458, total=   0.0s\n",
      "[CV] activation=identity, hidden_layer_sizes=(40, 10), max_iter=300, solver=lbfgs \n",
      "[CV]  activation=identity, hidden_layer_sizes=(40, 10), max_iter=300, solver=lbfgs, score=0.458, total=   0.0s\n",
      "[CV] activation=identity, hidden_layer_sizes=(40, 10), max_iter=300, solver=lbfgs \n",
      "[CV]  activation=identity, hidden_layer_sizes=(40, 10), max_iter=300, solver=lbfgs, score=0.458, total=   0.0s\n",
      "[CV] activation=identity, hidden_layer_sizes=(40, 10), max_iter=300, solver=sgd \n",
      "[CV]  activation=identity, hidden_layer_sizes=(40, 10), max_iter=300, solver=sgd, score=0.633, total=   0.0s\n",
      "[CV] activation=identity, hidden_layer_sizes=(40, 10), max_iter=300, solver=sgd \n",
      "[CV]  activation=identity, hidden_layer_sizes=(40, 10), max_iter=300, solver=sgd, score=0.612, total=   0.1s\n",
      "[CV] activation=identity, hidden_layer_sizes=(40, 10), max_iter=300, solver=sgd \n",
      "[CV]  activation=identity, hidden_layer_sizes=(40, 10), max_iter=300, solver=sgd, score=0.625, total=   0.0s\n",
      "[CV] activation=identity, hidden_layer_sizes=(40, 10), max_iter=300, solver=sgd \n",
      "[CV]  activation=identity, hidden_layer_sizes=(40, 10), max_iter=300, solver=sgd, score=0.812, total=   0.0s\n",
      "[CV] activation=identity, hidden_layer_sizes=(40, 10), max_iter=300, solver=sgd \n",
      "[CV]  activation=identity, hidden_layer_sizes=(40, 10), max_iter=300, solver=sgd, score=0.646, total=   0.0s\n",
      "[CV] activation=identity, hidden_layer_sizes=(40, 10), max_iter=300, solver=adam \n",
      "[CV]  activation=identity, hidden_layer_sizes=(40, 10), max_iter=300, solver=adam, score=0.694, total=   0.0s\n",
      "[CV] activation=identity, hidden_layer_sizes=(40, 10), max_iter=300, solver=adam \n",
      "[CV]  activation=identity, hidden_layer_sizes=(40, 10), max_iter=300, solver=adam, score=0.490, total=   0.0s\n",
      "[CV] activation=identity, hidden_layer_sizes=(40, 10), max_iter=300, solver=adam \n",
      "[CV]  activation=identity, hidden_layer_sizes=(40, 10), max_iter=300, solver=adam, score=0.688, total=   0.0s\n",
      "[CV] activation=identity, hidden_layer_sizes=(40, 10), max_iter=300, solver=adam \n",
      "[CV]  activation=identity, hidden_layer_sizes=(40, 10), max_iter=300, solver=adam, score=0.458, total=   0.0s\n",
      "[CV] activation=identity, hidden_layer_sizes=(40, 10), max_iter=300, solver=adam \n",
      "[CV]  activation=identity, hidden_layer_sizes=(40, 10), max_iter=300, solver=adam, score=0.688, total=   0.0s\n",
      "[CV] activation=identity, hidden_layer_sizes=(40, 20), max_iter=100, solver=lbfgs \n",
      "[CV]  activation=identity, hidden_layer_sizes=(40, 20), max_iter=100, solver=lbfgs, score=0.449, total=   0.0s\n",
      "[CV] activation=identity, hidden_layer_sizes=(40, 20), max_iter=100, solver=lbfgs \n",
      "[CV]  activation=identity, hidden_layer_sizes=(40, 20), max_iter=100, solver=lbfgs, score=0.469, total=   0.0s\n",
      "[CV] activation=identity, hidden_layer_sizes=(40, 20), max_iter=100, solver=lbfgs \n",
      "[CV]  activation=identity, hidden_layer_sizes=(40, 20), max_iter=100, solver=lbfgs, score=0.458, total=   0.0s\n",
      "[CV] activation=identity, hidden_layer_sizes=(40, 20), max_iter=100, solver=lbfgs \n",
      "[CV]  activation=identity, hidden_layer_sizes=(40, 20), max_iter=100, solver=lbfgs, score=0.458, total=   0.0s\n",
      "[CV] activation=identity, hidden_layer_sizes=(40, 20), max_iter=100, solver=lbfgs \n",
      "[CV]  activation=identity, hidden_layer_sizes=(40, 20), max_iter=100, solver=lbfgs, score=0.458, total=   0.0s\n",
      "[CV] activation=identity, hidden_layer_sizes=(40, 20), max_iter=100, solver=sgd \n",
      "[CV]  activation=identity, hidden_layer_sizes=(40, 20), max_iter=100, solver=sgd, score=0.653, total=   0.0s\n",
      "[CV] activation=identity, hidden_layer_sizes=(40, 20), max_iter=100, solver=sgd \n"
     ]
    },
    {
     "name": "stderr",
     "output_type": "stream",
     "text": [
      "/Users/Strawberry/anaconda3/lib/python3.7/site-packages/sklearn/neural_network/_multilayer_perceptron.py:571: ConvergenceWarning: Stochastic Optimizer: Maximum iterations (100) reached and the optimization hasn't converged yet.\n",
      "  % self.max_iter, ConvergenceWarning)\n",
      "/Users/Strawberry/anaconda3/lib/python3.7/site-packages/sklearn/neural_network/_multilayer_perceptron.py:571: ConvergenceWarning: Stochastic Optimizer: Maximum iterations (100) reached and the optimization hasn't converged yet.\n",
      "  % self.max_iter, ConvergenceWarning)\n"
     ]
    },
    {
     "name": "stdout",
     "output_type": "stream",
     "text": [
      "[CV]  activation=identity, hidden_layer_sizes=(40, 20), max_iter=100, solver=sgd, score=0.612, total=   0.1s\n",
      "[CV] activation=identity, hidden_layer_sizes=(40, 20), max_iter=100, solver=sgd \n",
      "[CV]  activation=identity, hidden_layer_sizes=(40, 20), max_iter=100, solver=sgd, score=0.604, total=   0.0s\n",
      "[CV] activation=identity, hidden_layer_sizes=(40, 20), max_iter=100, solver=sgd \n",
      "[CV]  activation=identity, hidden_layer_sizes=(40, 20), max_iter=100, solver=sgd, score=0.667, total=   0.1s\n",
      "[CV] activation=identity, hidden_layer_sizes=(40, 20), max_iter=100, solver=sgd \n",
      "[CV]  activation=identity, hidden_layer_sizes=(40, 20), max_iter=100, solver=sgd, score=0.688, total=   0.0s\n",
      "[CV] activation=identity, hidden_layer_sizes=(40, 20), max_iter=100, solver=adam \n",
      "[CV]  activation=identity, hidden_layer_sizes=(40, 20), max_iter=100, solver=adam, score=0.694, total=   0.0s\n",
      "[CV] activation=identity, hidden_layer_sizes=(40, 20), max_iter=100, solver=adam \n",
      "[CV]  activation=identity, hidden_layer_sizes=(40, 20), max_iter=100, solver=adam, score=0.592, total=   0.0s\n",
      "[CV] activation=identity, hidden_layer_sizes=(40, 20), max_iter=100, solver=adam \n",
      "[CV]  activation=identity, hidden_layer_sizes=(40, 20), max_iter=100, solver=adam, score=0.792, total=   0.1s\n",
      "[CV] activation=identity, hidden_layer_sizes=(40, 20), max_iter=100, solver=adam \n",
      "[CV]  activation=identity, hidden_layer_sizes=(40, 20), max_iter=100, solver=adam, score=0.854, total=   0.1s\n",
      "[CV] activation=identity, hidden_layer_sizes=(40, 20), max_iter=100, solver=adam \n",
      "[CV]  activation=identity, hidden_layer_sizes=(40, 20), max_iter=100, solver=adam, score=0.771, total=   0.1s\n",
      "[CV] activation=identity, hidden_layer_sizes=(40, 20), max_iter=200, solver=lbfgs \n",
      "[CV]  activation=identity, hidden_layer_sizes=(40, 20), max_iter=200, solver=lbfgs, score=0.449, total=   0.0s\n",
      "[CV] activation=identity, hidden_layer_sizes=(40, 20), max_iter=200, solver=lbfgs \n"
     ]
    },
    {
     "name": "stderr",
     "output_type": "stream",
     "text": [
      "/Users/Strawberry/anaconda3/lib/python3.7/site-packages/sklearn/neural_network/_multilayer_perceptron.py:571: ConvergenceWarning: Stochastic Optimizer: Maximum iterations (100) reached and the optimization hasn't converged yet.\n",
      "  % self.max_iter, ConvergenceWarning)\n",
      "/Users/Strawberry/anaconda3/lib/python3.7/site-packages/sklearn/neural_network/_multilayer_perceptron.py:571: ConvergenceWarning: Stochastic Optimizer: Maximum iterations (100) reached and the optimization hasn't converged yet.\n",
      "  % self.max_iter, ConvergenceWarning)\n",
      "/Users/Strawberry/anaconda3/lib/python3.7/site-packages/sklearn/neural_network/_multilayer_perceptron.py:571: ConvergenceWarning: Stochastic Optimizer: Maximum iterations (100) reached and the optimization hasn't converged yet.\n",
      "  % self.max_iter, ConvergenceWarning)\n"
     ]
    },
    {
     "name": "stdout",
     "output_type": "stream",
     "text": [
      "[CV]  activation=identity, hidden_layer_sizes=(40, 20), max_iter=200, solver=lbfgs, score=0.469, total=   0.0s\n",
      "[CV] activation=identity, hidden_layer_sizes=(40, 20), max_iter=200, solver=lbfgs \n",
      "[CV]  activation=identity, hidden_layer_sizes=(40, 20), max_iter=200, solver=lbfgs, score=0.458, total=   0.0s\n",
      "[CV] activation=identity, hidden_layer_sizes=(40, 20), max_iter=200, solver=lbfgs \n",
      "[CV]  activation=identity, hidden_layer_sizes=(40, 20), max_iter=200, solver=lbfgs, score=0.458, total=   0.0s\n",
      "[CV] activation=identity, hidden_layer_sizes=(40, 20), max_iter=200, solver=lbfgs \n",
      "[CV]  activation=identity, hidden_layer_sizes=(40, 20), max_iter=200, solver=lbfgs, score=0.458, total=   0.0s\n",
      "[CV] activation=identity, hidden_layer_sizes=(40, 20), max_iter=200, solver=sgd \n",
      "[CV]  activation=identity, hidden_layer_sizes=(40, 20), max_iter=200, solver=sgd, score=0.653, total=   0.0s\n",
      "[CV] activation=identity, hidden_layer_sizes=(40, 20), max_iter=200, solver=sgd \n",
      "[CV]  activation=identity, hidden_layer_sizes=(40, 20), max_iter=200, solver=sgd, score=0.633, total=   0.1s\n",
      "[CV] activation=identity, hidden_layer_sizes=(40, 20), max_iter=200, solver=sgd \n",
      "[CV]  activation=identity, hidden_layer_sizes=(40, 20), max_iter=200, solver=sgd, score=0.604, total=   0.0s\n",
      "[CV] activation=identity, hidden_layer_sizes=(40, 20), max_iter=200, solver=sgd \n"
     ]
    },
    {
     "name": "stderr",
     "output_type": "stream",
     "text": [
      "/Users/Strawberry/anaconda3/lib/python3.7/site-packages/sklearn/neural_network/_multilayer_perceptron.py:571: ConvergenceWarning: Stochastic Optimizer: Maximum iterations (200) reached and the optimization hasn't converged yet.\n",
      "  % self.max_iter, ConvergenceWarning)\n"
     ]
    },
    {
     "name": "stdout",
     "output_type": "stream",
     "text": [
      "[CV]  activation=identity, hidden_layer_sizes=(40, 20), max_iter=200, solver=sgd, score=0.646, total=   0.1s\n",
      "[CV] activation=identity, hidden_layer_sizes=(40, 20), max_iter=200, solver=sgd \n",
      "[CV]  activation=identity, hidden_layer_sizes=(40, 20), max_iter=200, solver=sgd, score=0.688, total=   0.0s\n",
      "[CV] activation=identity, hidden_layer_sizes=(40, 20), max_iter=200, solver=adam \n",
      "[CV]  activation=identity, hidden_layer_sizes=(40, 20), max_iter=200, solver=adam, score=0.694, total=   0.0s\n",
      "[CV] activation=identity, hidden_layer_sizes=(40, 20), max_iter=200, solver=adam \n",
      "[CV]  activation=identity, hidden_layer_sizes=(40, 20), max_iter=200, solver=adam, score=0.592, total=   0.0s\n",
      "[CV] activation=identity, hidden_layer_sizes=(40, 20), max_iter=200, solver=adam \n"
     ]
    },
    {
     "name": "stderr",
     "output_type": "stream",
     "text": [
      "/Users/Strawberry/anaconda3/lib/python3.7/site-packages/sklearn/neural_network/_multilayer_perceptron.py:571: ConvergenceWarning: Stochastic Optimizer: Maximum iterations (200) reached and the optimization hasn't converged yet.\n",
      "  % self.max_iter, ConvergenceWarning)\n",
      "/Users/Strawberry/anaconda3/lib/python3.7/site-packages/sklearn/neural_network/_multilayer_perceptron.py:571: ConvergenceWarning: Stochastic Optimizer: Maximum iterations (200) reached and the optimization hasn't converged yet.\n",
      "  % self.max_iter, ConvergenceWarning)\n"
     ]
    },
    {
     "name": "stdout",
     "output_type": "stream",
     "text": [
      "[CV]  activation=identity, hidden_layer_sizes=(40, 20), max_iter=200, solver=adam, score=0.896, total=   0.1s\n",
      "[CV] activation=identity, hidden_layer_sizes=(40, 20), max_iter=200, solver=adam \n",
      "[CV]  activation=identity, hidden_layer_sizes=(40, 20), max_iter=200, solver=adam, score=0.896, total=   0.1s\n",
      "[CV] activation=identity, hidden_layer_sizes=(40, 20), max_iter=200, solver=adam \n"
     ]
    },
    {
     "name": "stderr",
     "output_type": "stream",
     "text": [
      "/Users/Strawberry/anaconda3/lib/python3.7/site-packages/sklearn/neural_network/_multilayer_perceptron.py:571: ConvergenceWarning: Stochastic Optimizer: Maximum iterations (200) reached and the optimization hasn't converged yet.\n",
      "  % self.max_iter, ConvergenceWarning)\n"
     ]
    },
    {
     "name": "stdout",
     "output_type": "stream",
     "text": [
      "[CV]  activation=identity, hidden_layer_sizes=(40, 20), max_iter=200, solver=adam, score=0.812, total=   0.1s\n",
      "[CV] activation=identity, hidden_layer_sizes=(40, 20), max_iter=300, solver=lbfgs \n",
      "[CV]  activation=identity, hidden_layer_sizes=(40, 20), max_iter=300, solver=lbfgs, score=0.449, total=   0.0s\n",
      "[CV] activation=identity, hidden_layer_sizes=(40, 20), max_iter=300, solver=lbfgs \n",
      "[CV]  activation=identity, hidden_layer_sizes=(40, 20), max_iter=300, solver=lbfgs, score=0.469, total=   0.0s\n",
      "[CV] activation=identity, hidden_layer_sizes=(40, 20), max_iter=300, solver=lbfgs \n",
      "[CV]  activation=identity, hidden_layer_sizes=(40, 20), max_iter=300, solver=lbfgs, score=0.458, total=   0.0s\n",
      "[CV] activation=identity, hidden_layer_sizes=(40, 20), max_iter=300, solver=lbfgs \n",
      "[CV]  activation=identity, hidden_layer_sizes=(40, 20), max_iter=300, solver=lbfgs, score=0.458, total=   0.0s\n",
      "[CV] activation=identity, hidden_layer_sizes=(40, 20), max_iter=300, solver=lbfgs \n",
      "[CV]  activation=identity, hidden_layer_sizes=(40, 20), max_iter=300, solver=lbfgs, score=0.458, total=   0.0s\n",
      "[CV] activation=identity, hidden_layer_sizes=(40, 20), max_iter=300, solver=sgd \n",
      "[CV]  activation=identity, hidden_layer_sizes=(40, 20), max_iter=300, solver=sgd, score=0.653, total=   0.0s\n",
      "[CV] activation=identity, hidden_layer_sizes=(40, 20), max_iter=300, solver=sgd \n",
      "[CV]  activation=identity, hidden_layer_sizes=(40, 20), max_iter=300, solver=sgd, score=0.633, total=   0.1s\n",
      "[CV] activation=identity, hidden_layer_sizes=(40, 20), max_iter=300, solver=sgd \n",
      "[CV]  activation=identity, hidden_layer_sizes=(40, 20), max_iter=300, solver=sgd, score=0.604, total=   0.0s\n",
      "[CV] activation=identity, hidden_layer_sizes=(40, 20), max_iter=300, solver=sgd \n",
      "[CV]  activation=identity, hidden_layer_sizes=(40, 20), max_iter=300, solver=sgd, score=0.771, total=   0.1s\n",
      "[CV] activation=identity, hidden_layer_sizes=(40, 20), max_iter=300, solver=sgd \n",
      "[CV]  activation=identity, hidden_layer_sizes=(40, 20), max_iter=300, solver=sgd, score=0.688, total=   0.0s\n",
      "[CV] activation=identity, hidden_layer_sizes=(40, 20), max_iter=300, solver=adam \n",
      "[CV]  activation=identity, hidden_layer_sizes=(40, 20), max_iter=300, solver=adam, score=0.694, total=   0.0s\n",
      "[CV] activation=identity, hidden_layer_sizes=(40, 20), max_iter=300, solver=adam \n",
      "[CV]  activation=identity, hidden_layer_sizes=(40, 20), max_iter=300, solver=adam, score=0.592, total=   0.0s\n",
      "[CV] activation=identity, hidden_layer_sizes=(40, 20), max_iter=300, solver=adam \n"
     ]
    },
    {
     "name": "stderr",
     "output_type": "stream",
     "text": [
      "/Users/Strawberry/anaconda3/lib/python3.7/site-packages/sklearn/neural_network/_multilayer_perceptron.py:571: ConvergenceWarning: Stochastic Optimizer: Maximum iterations (300) reached and the optimization hasn't converged yet.\n",
      "  % self.max_iter, ConvergenceWarning)\n",
      "/Users/Strawberry/anaconda3/lib/python3.7/site-packages/sklearn/neural_network/_multilayer_perceptron.py:571: ConvergenceWarning: Stochastic Optimizer: Maximum iterations (300) reached and the optimization hasn't converged yet.\n",
      "  % self.max_iter, ConvergenceWarning)\n"
     ]
    },
    {
     "name": "stdout",
     "output_type": "stream",
     "text": [
      "[CV]  activation=identity, hidden_layer_sizes=(40, 20), max_iter=300, solver=adam, score=0.875, total=   0.2s\n",
      "[CV] activation=identity, hidden_layer_sizes=(40, 20), max_iter=300, solver=adam \n",
      "[CV]  activation=identity, hidden_layer_sizes=(40, 20), max_iter=300, solver=adam, score=0.917, total=   0.2s\n",
      "[CV] activation=identity, hidden_layer_sizes=(40, 20), max_iter=300, solver=adam \n"
     ]
    },
    {
     "name": "stderr",
     "output_type": "stream",
     "text": [
      "/Users/Strawberry/anaconda3/lib/python3.7/site-packages/sklearn/neural_network/_multilayer_perceptron.py:571: ConvergenceWarning: Stochastic Optimizer: Maximum iterations (300) reached and the optimization hasn't converged yet.\n",
      "  % self.max_iter, ConvergenceWarning)\n",
      "/Users/Strawberry/anaconda3/lib/python3.7/site-packages/sklearn/neural_network/_multilayer_perceptron.py:571: ConvergenceWarning: Stochastic Optimizer: Maximum iterations (100) reached and the optimization hasn't converged yet.\n",
      "  % self.max_iter, ConvergenceWarning)\n",
      "/Users/Strawberry/anaconda3/lib/python3.7/site-packages/sklearn/neural_network/_multilayer_perceptron.py:571: ConvergenceWarning: Stochastic Optimizer: Maximum iterations (100) reached and the optimization hasn't converged yet.\n",
      "  % self.max_iter, ConvergenceWarning)\n"
     ]
    },
    {
     "name": "stdout",
     "output_type": "stream",
     "text": [
      "[CV]  activation=identity, hidden_layer_sizes=(40, 20), max_iter=300, solver=adam, score=0.792, total=   0.2s\n",
      "[CV] activation=identity, hidden_layer_sizes=(40, 30), max_iter=100, solver=lbfgs \n",
      "[CV]  activation=identity, hidden_layer_sizes=(40, 30), max_iter=100, solver=lbfgs, score=0.449, total=   0.0s\n",
      "[CV] activation=identity, hidden_layer_sizes=(40, 30), max_iter=100, solver=lbfgs \n",
      "[CV]  activation=identity, hidden_layer_sizes=(40, 30), max_iter=100, solver=lbfgs, score=0.469, total=   0.0s\n",
      "[CV] activation=identity, hidden_layer_sizes=(40, 30), max_iter=100, solver=lbfgs \n",
      "[CV]  activation=identity, hidden_layer_sizes=(40, 30), max_iter=100, solver=lbfgs, score=0.458, total=   0.0s\n",
      "[CV] activation=identity, hidden_layer_sizes=(40, 30), max_iter=100, solver=lbfgs \n",
      "[CV]  activation=identity, hidden_layer_sizes=(40, 30), max_iter=100, solver=lbfgs, score=0.458, total=   0.0s\n",
      "[CV] activation=identity, hidden_layer_sizes=(40, 30), max_iter=100, solver=lbfgs \n",
      "[CV]  activation=identity, hidden_layer_sizes=(40, 30), max_iter=100, solver=lbfgs, score=0.458, total=   0.0s\n",
      "[CV] activation=identity, hidden_layer_sizes=(40, 30), max_iter=100, solver=sgd \n",
      "[CV]  activation=identity, hidden_layer_sizes=(40, 30), max_iter=100, solver=sgd, score=0.653, total=   0.1s\n",
      "[CV] activation=identity, hidden_layer_sizes=(40, 30), max_iter=100, solver=sgd \n",
      "[CV]  activation=identity, hidden_layer_sizes=(40, 30), max_iter=100, solver=sgd, score=0.633, total=   0.1s\n",
      "[CV] activation=identity, hidden_layer_sizes=(40, 30), max_iter=100, solver=sgd \n"
     ]
    },
    {
     "name": "stderr",
     "output_type": "stream",
     "text": [
      "/Users/Strawberry/anaconda3/lib/python3.7/site-packages/sklearn/neural_network/_multilayer_perceptron.py:571: ConvergenceWarning: Stochastic Optimizer: Maximum iterations (100) reached and the optimization hasn't converged yet.\n",
      "  % self.max_iter, ConvergenceWarning)\n",
      "/Users/Strawberry/anaconda3/lib/python3.7/site-packages/sklearn/neural_network/_multilayer_perceptron.py:571: ConvergenceWarning: Stochastic Optimizer: Maximum iterations (100) reached and the optimization hasn't converged yet.\n",
      "  % self.max_iter, ConvergenceWarning)\n",
      "/Users/Strawberry/anaconda3/lib/python3.7/site-packages/sklearn/neural_network/_multilayer_perceptron.py:571: ConvergenceWarning: Stochastic Optimizer: Maximum iterations (100) reached and the optimization hasn't converged yet.\n",
      "  % self.max_iter, ConvergenceWarning)\n"
     ]
    },
    {
     "name": "stdout",
     "output_type": "stream",
     "text": [
      "[CV]  activation=identity, hidden_layer_sizes=(40, 30), max_iter=100, solver=sgd, score=0.688, total=   0.1s\n",
      "[CV] activation=identity, hidden_layer_sizes=(40, 30), max_iter=100, solver=sgd \n",
      "[CV]  activation=identity, hidden_layer_sizes=(40, 30), max_iter=100, solver=sgd, score=0.479, total=   0.1s\n",
      "[CV] activation=identity, hidden_layer_sizes=(40, 30), max_iter=100, solver=sgd \n",
      "[CV]  activation=identity, hidden_layer_sizes=(40, 30), max_iter=100, solver=sgd, score=0.688, total=   0.1s\n",
      "[CV] activation=identity, hidden_layer_sizes=(40, 30), max_iter=100, solver=adam \n",
      "[CV]  activation=identity, hidden_layer_sizes=(40, 30), max_iter=100, solver=adam, score=0.571, total=   0.0s\n",
      "[CV] activation=identity, hidden_layer_sizes=(40, 30), max_iter=100, solver=adam \n",
      "[CV]  activation=identity, hidden_layer_sizes=(40, 30), max_iter=100, solver=adam, score=0.551, total=   0.0s\n",
      "[CV] activation=identity, hidden_layer_sizes=(40, 30), max_iter=100, solver=adam \n",
      "[CV]  activation=identity, hidden_layer_sizes=(40, 30), max_iter=100, solver=adam, score=0.604, total=   0.0s\n",
      "[CV] activation=identity, hidden_layer_sizes=(40, 30), max_iter=100, solver=adam \n",
      "[CV]  activation=identity, hidden_layer_sizes=(40, 30), max_iter=100, solver=adam, score=0.604, total=   0.0s\n",
      "[CV] activation=identity, hidden_layer_sizes=(40, 30), max_iter=100, solver=adam \n",
      "[CV]  activation=identity, hidden_layer_sizes=(40, 30), max_iter=100, solver=adam, score=0.646, total=   0.0s\n",
      "[CV] activation=identity, hidden_layer_sizes=(40, 30), max_iter=200, solver=lbfgs \n",
      "[CV]  activation=identity, hidden_layer_sizes=(40, 30), max_iter=200, solver=lbfgs, score=0.449, total=   0.0s\n",
      "[CV] activation=identity, hidden_layer_sizes=(40, 30), max_iter=200, solver=lbfgs \n",
      "[CV]  activation=identity, hidden_layer_sizes=(40, 30), max_iter=200, solver=lbfgs, score=0.469, total=   0.0s\n",
      "[CV] activation=identity, hidden_layer_sizes=(40, 30), max_iter=200, solver=lbfgs \n",
      "[CV]  activation=identity, hidden_layer_sizes=(40, 30), max_iter=200, solver=lbfgs, score=0.458, total=   0.0s\n",
      "[CV] activation=identity, hidden_layer_sizes=(40, 30), max_iter=200, solver=lbfgs \n",
      "[CV]  activation=identity, hidden_layer_sizes=(40, 30), max_iter=200, solver=lbfgs, score=0.458, total=   0.0s\n",
      "[CV] activation=identity, hidden_layer_sizes=(40, 30), max_iter=200, solver=lbfgs \n",
      "[CV]  activation=identity, hidden_layer_sizes=(40, 30), max_iter=200, solver=lbfgs, score=0.458, total=   0.0s\n",
      "[CV] activation=identity, hidden_layer_sizes=(40, 30), max_iter=200, solver=sgd \n",
      "[CV]  activation=identity, hidden_layer_sizes=(40, 30), max_iter=200, solver=sgd, score=0.633, total=   0.1s\n",
      "[CV] activation=identity, hidden_layer_sizes=(40, 30), max_iter=200, solver=sgd \n",
      "[CV]  activation=identity, hidden_layer_sizes=(40, 30), max_iter=200, solver=sgd, score=0.633, total=   0.1s\n",
      "[CV] activation=identity, hidden_layer_sizes=(40, 30), max_iter=200, solver=sgd \n",
      "[CV]  activation=identity, hidden_layer_sizes=(40, 30), max_iter=200, solver=sgd, score=0.625, total=   0.1s\n",
      "[CV] activation=identity, hidden_layer_sizes=(40, 30), max_iter=200, solver=sgd \n",
      "[CV]  activation=identity, hidden_layer_sizes=(40, 30), max_iter=200, solver=sgd, score=0.792, total=   0.1s\n",
      "[CV] activation=identity, hidden_layer_sizes=(40, 30), max_iter=200, solver=sgd \n",
      "[CV]  activation=identity, hidden_layer_sizes=(40, 30), max_iter=200, solver=sgd, score=0.667, total=   0.1s\n",
      "[CV] activation=identity, hidden_layer_sizes=(40, 30), max_iter=200, solver=adam \n",
      "[CV]  activation=identity, hidden_layer_sizes=(40, 30), max_iter=200, solver=adam, score=0.571, total=   0.0s\n",
      "[CV] activation=identity, hidden_layer_sizes=(40, 30), max_iter=200, solver=adam \n",
      "[CV]  activation=identity, hidden_layer_sizes=(40, 30), max_iter=200, solver=adam, score=0.551, total=   0.0s\n",
      "[CV] activation=identity, hidden_layer_sizes=(40, 30), max_iter=200, solver=adam \n",
      "[CV]  activation=identity, hidden_layer_sizes=(40, 30), max_iter=200, solver=adam, score=0.604, total=   0.0s\n",
      "[CV] activation=identity, hidden_layer_sizes=(40, 30), max_iter=200, solver=adam \n",
      "[CV]  activation=identity, hidden_layer_sizes=(40, 30), max_iter=200, solver=adam, score=0.604, total=   0.0s\n",
      "[CV] activation=identity, hidden_layer_sizes=(40, 30), max_iter=200, solver=adam \n",
      "[CV]  activation=identity, hidden_layer_sizes=(40, 30), max_iter=200, solver=adam, score=0.646, total=   0.0s\n",
      "[CV] activation=identity, hidden_layer_sizes=(40, 30), max_iter=300, solver=lbfgs \n",
      "[CV]  activation=identity, hidden_layer_sizes=(40, 30), max_iter=300, solver=lbfgs, score=0.449, total=   0.0s\n",
      "[CV] activation=identity, hidden_layer_sizes=(40, 30), max_iter=300, solver=lbfgs \n",
      "[CV]  activation=identity, hidden_layer_sizes=(40, 30), max_iter=300, solver=lbfgs, score=0.469, total=   0.0s\n",
      "[CV] activation=identity, hidden_layer_sizes=(40, 30), max_iter=300, solver=lbfgs \n",
      "[CV]  activation=identity, hidden_layer_sizes=(40, 30), max_iter=300, solver=lbfgs, score=0.458, total=   0.0s\n",
      "[CV] activation=identity, hidden_layer_sizes=(40, 30), max_iter=300, solver=lbfgs \n",
      "[CV]  activation=identity, hidden_layer_sizes=(40, 30), max_iter=300, solver=lbfgs, score=0.458, total=   0.0s\n",
      "[CV] activation=identity, hidden_layer_sizes=(40, 30), max_iter=300, solver=lbfgs \n",
      "[CV]  activation=identity, hidden_layer_sizes=(40, 30), max_iter=300, solver=lbfgs, score=0.458, total=   0.0s\n",
      "[CV] activation=identity, hidden_layer_sizes=(40, 30), max_iter=300, solver=sgd \n",
      "[CV]  activation=identity, hidden_layer_sizes=(40, 30), max_iter=300, solver=sgd, score=0.633, total=   0.1s\n",
      "[CV] activation=identity, hidden_layer_sizes=(40, 30), max_iter=300, solver=sgd \n",
      "[CV]  activation=identity, hidden_layer_sizes=(40, 30), max_iter=300, solver=sgd, score=0.633, total=   0.1s\n",
      "[CV] activation=identity, hidden_layer_sizes=(40, 30), max_iter=300, solver=sgd \n",
      "[CV]  activation=identity, hidden_layer_sizes=(40, 30), max_iter=300, solver=sgd, score=0.625, total=   0.1s\n",
      "[CV] activation=identity, hidden_layer_sizes=(40, 30), max_iter=300, solver=sgd \n",
      "[CV]  activation=identity, hidden_layer_sizes=(40, 30), max_iter=300, solver=sgd, score=0.792, total=   0.1s\n",
      "[CV] activation=identity, hidden_layer_sizes=(40, 30), max_iter=300, solver=sgd \n",
      "[CV]  activation=identity, hidden_layer_sizes=(40, 30), max_iter=300, solver=sgd, score=0.667, total=   0.1s\n",
      "[CV] activation=identity, hidden_layer_sizes=(40, 30), max_iter=300, solver=adam \n",
      "[CV]  activation=identity, hidden_layer_sizes=(40, 30), max_iter=300, solver=adam, score=0.571, total=   0.0s\n",
      "[CV] activation=identity, hidden_layer_sizes=(40, 30), max_iter=300, solver=adam \n",
      "[CV]  activation=identity, hidden_layer_sizes=(40, 30), max_iter=300, solver=adam, score=0.551, total=   0.0s\n",
      "[CV] activation=identity, hidden_layer_sizes=(40, 30), max_iter=300, solver=adam \n",
      "[CV]  activation=identity, hidden_layer_sizes=(40, 30), max_iter=300, solver=adam, score=0.604, total=   0.0s\n",
      "[CV] activation=identity, hidden_layer_sizes=(40, 30), max_iter=300, solver=adam \n",
      "[CV]  activation=identity, hidden_layer_sizes=(40, 30), max_iter=300, solver=adam, score=0.604, total=   0.0s\n",
      "[CV] activation=identity, hidden_layer_sizes=(40, 30), max_iter=300, solver=adam \n",
      "[CV]  activation=identity, hidden_layer_sizes=(40, 30), max_iter=300, solver=adam, score=0.646, total=   0.0s\n",
      "[CV] activation=identity, hidden_layer_sizes=(40, 40), max_iter=100, solver=lbfgs \n",
      "[CV]  activation=identity, hidden_layer_sizes=(40, 40), max_iter=100, solver=lbfgs, score=0.449, total=   0.0s\n",
      "[CV] activation=identity, hidden_layer_sizes=(40, 40), max_iter=100, solver=lbfgs \n",
      "[CV]  activation=identity, hidden_layer_sizes=(40, 40), max_iter=100, solver=lbfgs, score=0.469, total=   0.0s\n",
      "[CV] activation=identity, hidden_layer_sizes=(40, 40), max_iter=100, solver=lbfgs \n",
      "[CV]  activation=identity, hidden_layer_sizes=(40, 40), max_iter=100, solver=lbfgs, score=0.458, total=   0.0s\n",
      "[CV] activation=identity, hidden_layer_sizes=(40, 40), max_iter=100, solver=lbfgs \n",
      "[CV]  activation=identity, hidden_layer_sizes=(40, 40), max_iter=100, solver=lbfgs, score=0.458, total=   0.0s\n",
      "[CV] activation=identity, hidden_layer_sizes=(40, 40), max_iter=100, solver=lbfgs \n",
      "[CV]  activation=identity, hidden_layer_sizes=(40, 40), max_iter=100, solver=lbfgs, score=0.458, total=   0.0s\n",
      "[CV] activation=identity, hidden_layer_sizes=(40, 40), max_iter=100, solver=sgd \n",
      "[CV]  activation=identity, hidden_layer_sizes=(40, 40), max_iter=100, solver=sgd, score=0.449, total=   0.0s\n",
      "[CV] activation=identity, hidden_layer_sizes=(40, 40), max_iter=100, solver=sgd \n",
      "[CV]  activation=identity, hidden_layer_sizes=(40, 40), max_iter=100, solver=sgd, score=0.490, total=   0.0s\n",
      "[CV] activation=identity, hidden_layer_sizes=(40, 40), max_iter=100, solver=sgd \n",
      "[CV]  activation=identity, hidden_layer_sizes=(40, 40), max_iter=100, solver=sgd, score=0.542, total=   0.0s\n",
      "[CV] activation=identity, hidden_layer_sizes=(40, 40), max_iter=100, solver=sgd \n",
      "[CV]  activation=identity, hidden_layer_sizes=(40, 40), max_iter=100, solver=sgd, score=0.583, total=   0.0s\n",
      "[CV] activation=identity, hidden_layer_sizes=(40, 40), max_iter=100, solver=sgd \n"
     ]
    },
    {
     "name": "stdout",
     "output_type": "stream",
     "text": [
      "[CV]  activation=identity, hidden_layer_sizes=(40, 40), max_iter=100, solver=sgd, score=0.542, total=   0.0s\n",
      "[CV] activation=identity, hidden_layer_sizes=(40, 40), max_iter=100, solver=adam \n",
      "[CV]  activation=identity, hidden_layer_sizes=(40, 40), max_iter=100, solver=adam, score=0.755, total=   0.1s\n",
      "[CV] activation=identity, hidden_layer_sizes=(40, 40), max_iter=100, solver=adam \n",
      "[CV]  activation=identity, hidden_layer_sizes=(40, 40), max_iter=100, solver=adam, score=0.714, total=   0.1s\n",
      "[CV] activation=identity, hidden_layer_sizes=(40, 40), max_iter=100, solver=adam \n",
      "[CV]  activation=identity, hidden_layer_sizes=(40, 40), max_iter=100, solver=adam, score=0.833, total=   0.1s\n",
      "[CV] activation=identity, hidden_layer_sizes=(40, 40), max_iter=100, solver=adam \n"
     ]
    },
    {
     "name": "stderr",
     "output_type": "stream",
     "text": [
      "/Users/Strawberry/anaconda3/lib/python3.7/site-packages/sklearn/neural_network/_multilayer_perceptron.py:571: ConvergenceWarning: Stochastic Optimizer: Maximum iterations (100) reached and the optimization hasn't converged yet.\n",
      "  % self.max_iter, ConvergenceWarning)\n",
      "/Users/Strawberry/anaconda3/lib/python3.7/site-packages/sklearn/neural_network/_multilayer_perceptron.py:571: ConvergenceWarning: Stochastic Optimizer: Maximum iterations (100) reached and the optimization hasn't converged yet.\n",
      "  % self.max_iter, ConvergenceWarning)\n",
      "/Users/Strawberry/anaconda3/lib/python3.7/site-packages/sklearn/neural_network/_multilayer_perceptron.py:571: ConvergenceWarning: Stochastic Optimizer: Maximum iterations (100) reached and the optimization hasn't converged yet.\n",
      "  % self.max_iter, ConvergenceWarning)\n",
      "/Users/Strawberry/anaconda3/lib/python3.7/site-packages/sklearn/neural_network/_multilayer_perceptron.py:571: ConvergenceWarning: Stochastic Optimizer: Maximum iterations (100) reached and the optimization hasn't converged yet.\n",
      "  % self.max_iter, ConvergenceWarning)\n",
      "/Users/Strawberry/anaconda3/lib/python3.7/site-packages/sklearn/neural_network/_multilayer_perceptron.py:571: ConvergenceWarning: Stochastic Optimizer: Maximum iterations (100) reached and the optimization hasn't converged yet.\n",
      "  % self.max_iter, ConvergenceWarning)\n"
     ]
    },
    {
     "name": "stdout",
     "output_type": "stream",
     "text": [
      "[CV]  activation=identity, hidden_layer_sizes=(40, 40), max_iter=100, solver=adam, score=0.875, total=   0.1s\n",
      "[CV] activation=identity, hidden_layer_sizes=(40, 40), max_iter=100, solver=adam \n",
      "[CV]  activation=identity, hidden_layer_sizes=(40, 40), max_iter=100, solver=adam, score=0.792, total=   0.1s\n",
      "[CV] activation=identity, hidden_layer_sizes=(40, 40), max_iter=200, solver=lbfgs \n",
      "[CV]  activation=identity, hidden_layer_sizes=(40, 40), max_iter=200, solver=lbfgs, score=0.449, total=   0.0s\n",
      "[CV] activation=identity, hidden_layer_sizes=(40, 40), max_iter=200, solver=lbfgs \n",
      "[CV]  activation=identity, hidden_layer_sizes=(40, 40), max_iter=200, solver=lbfgs, score=0.469, total=   0.0s\n",
      "[CV] activation=identity, hidden_layer_sizes=(40, 40), max_iter=200, solver=lbfgs \n",
      "[CV]  activation=identity, hidden_layer_sizes=(40, 40), max_iter=200, solver=lbfgs, score=0.458, total=   0.0s\n",
      "[CV] activation=identity, hidden_layer_sizes=(40, 40), max_iter=200, solver=lbfgs \n",
      "[CV]  activation=identity, hidden_layer_sizes=(40, 40), max_iter=200, solver=lbfgs, score=0.458, total=   0.0s\n",
      "[CV] activation=identity, hidden_layer_sizes=(40, 40), max_iter=200, solver=lbfgs \n",
      "[CV]  activation=identity, hidden_layer_sizes=(40, 40), max_iter=200, solver=lbfgs, score=0.458, total=   0.0s\n",
      "[CV] activation=identity, hidden_layer_sizes=(40, 40), max_iter=200, solver=sgd \n",
      "[CV]  activation=identity, hidden_layer_sizes=(40, 40), max_iter=200, solver=sgd, score=0.449, total=   0.0s\n",
      "[CV] activation=identity, hidden_layer_sizes=(40, 40), max_iter=200, solver=sgd \n",
      "[CV]  activation=identity, hidden_layer_sizes=(40, 40), max_iter=200, solver=sgd, score=0.490, total=   0.0s\n",
      "[CV] activation=identity, hidden_layer_sizes=(40, 40), max_iter=200, solver=sgd \n",
      "[CV]  activation=identity, hidden_layer_sizes=(40, 40), max_iter=200, solver=sgd, score=0.542, total=   0.0s\n",
      "[CV] activation=identity, hidden_layer_sizes=(40, 40), max_iter=200, solver=sgd \n",
      "[CV]  activation=identity, hidden_layer_sizes=(40, 40), max_iter=200, solver=sgd, score=0.583, total=   0.0s\n",
      "[CV] activation=identity, hidden_layer_sizes=(40, 40), max_iter=200, solver=sgd \n",
      "[CV]  activation=identity, hidden_layer_sizes=(40, 40), max_iter=200, solver=sgd, score=0.542, total=   0.0s\n",
      "[CV] activation=identity, hidden_layer_sizes=(40, 40), max_iter=200, solver=adam \n"
     ]
    },
    {
     "name": "stderr",
     "output_type": "stream",
     "text": [
      "/Users/Strawberry/anaconda3/lib/python3.7/site-packages/sklearn/neural_network/_multilayer_perceptron.py:571: ConvergenceWarning: Stochastic Optimizer: Maximum iterations (200) reached and the optimization hasn't converged yet.\n",
      "  % self.max_iter, ConvergenceWarning)\n",
      "/Users/Strawberry/anaconda3/lib/python3.7/site-packages/sklearn/neural_network/_multilayer_perceptron.py:571: ConvergenceWarning: Stochastic Optimizer: Maximum iterations (200) reached and the optimization hasn't converged yet.\n",
      "  % self.max_iter, ConvergenceWarning)\n"
     ]
    },
    {
     "name": "stdout",
     "output_type": "stream",
     "text": [
      "[CV]  activation=identity, hidden_layer_sizes=(40, 40), max_iter=200, solver=adam, score=0.796, total=   0.1s\n",
      "[CV] activation=identity, hidden_layer_sizes=(40, 40), max_iter=200, solver=adam \n",
      "[CV]  activation=identity, hidden_layer_sizes=(40, 40), max_iter=200, solver=adam, score=0.776, total=   0.1s\n",
      "[CV] activation=identity, hidden_layer_sizes=(40, 40), max_iter=200, solver=adam \n"
     ]
    },
    {
     "name": "stderr",
     "output_type": "stream",
     "text": [
      "/Users/Strawberry/anaconda3/lib/python3.7/site-packages/sklearn/neural_network/_multilayer_perceptron.py:571: ConvergenceWarning: Stochastic Optimizer: Maximum iterations (200) reached and the optimization hasn't converged yet.\n",
      "  % self.max_iter, ConvergenceWarning)\n",
      "/Users/Strawberry/anaconda3/lib/python3.7/site-packages/sklearn/neural_network/_multilayer_perceptron.py:571: ConvergenceWarning: Stochastic Optimizer: Maximum iterations (200) reached and the optimization hasn't converged yet.\n",
      "  % self.max_iter, ConvergenceWarning)\n"
     ]
    },
    {
     "name": "stdout",
     "output_type": "stream",
     "text": [
      "[CV]  activation=identity, hidden_layer_sizes=(40, 40), max_iter=200, solver=adam, score=0.854, total=   0.1s\n",
      "[CV] activation=identity, hidden_layer_sizes=(40, 40), max_iter=200, solver=adam \n",
      "[CV]  activation=identity, hidden_layer_sizes=(40, 40), max_iter=200, solver=adam, score=0.896, total=   0.1s\n",
      "[CV] activation=identity, hidden_layer_sizes=(40, 40), max_iter=200, solver=adam \n"
     ]
    },
    {
     "name": "stderr",
     "output_type": "stream",
     "text": [
      "/Users/Strawberry/anaconda3/lib/python3.7/site-packages/sklearn/neural_network/_multilayer_perceptron.py:571: ConvergenceWarning: Stochastic Optimizer: Maximum iterations (200) reached and the optimization hasn't converged yet.\n",
      "  % self.max_iter, ConvergenceWarning)\n"
     ]
    },
    {
     "name": "stdout",
     "output_type": "stream",
     "text": [
      "[CV]  activation=identity, hidden_layer_sizes=(40, 40), max_iter=200, solver=adam, score=0.792, total=   0.1s\n",
      "[CV] activation=identity, hidden_layer_sizes=(40, 40), max_iter=300, solver=lbfgs \n",
      "[CV]  activation=identity, hidden_layer_sizes=(40, 40), max_iter=300, solver=lbfgs, score=0.449, total=   0.0s\n",
      "[CV] activation=identity, hidden_layer_sizes=(40, 40), max_iter=300, solver=lbfgs \n",
      "[CV]  activation=identity, hidden_layer_sizes=(40, 40), max_iter=300, solver=lbfgs, score=0.469, total=   0.0s\n",
      "[CV] activation=identity, hidden_layer_sizes=(40, 40), max_iter=300, solver=lbfgs \n",
      "[CV]  activation=identity, hidden_layer_sizes=(40, 40), max_iter=300, solver=lbfgs, score=0.458, total=   0.0s\n",
      "[CV] activation=identity, hidden_layer_sizes=(40, 40), max_iter=300, solver=lbfgs \n",
      "[CV]  activation=identity, hidden_layer_sizes=(40, 40), max_iter=300, solver=lbfgs, score=0.458, total=   0.0s\n",
      "[CV] activation=identity, hidden_layer_sizes=(40, 40), max_iter=300, solver=lbfgs \n",
      "[CV]  activation=identity, hidden_layer_sizes=(40, 40), max_iter=300, solver=lbfgs, score=0.458, total=   0.0s\n",
      "[CV] activation=identity, hidden_layer_sizes=(40, 40), max_iter=300, solver=sgd \n",
      "[CV]  activation=identity, hidden_layer_sizes=(40, 40), max_iter=300, solver=sgd, score=0.449, total=   0.0s\n",
      "[CV] activation=identity, hidden_layer_sizes=(40, 40), max_iter=300, solver=sgd \n",
      "[CV]  activation=identity, hidden_layer_sizes=(40, 40), max_iter=300, solver=sgd, score=0.490, total=   0.0s\n",
      "[CV] activation=identity, hidden_layer_sizes=(40, 40), max_iter=300, solver=sgd \n",
      "[CV]  activation=identity, hidden_layer_sizes=(40, 40), max_iter=300, solver=sgd, score=0.542, total=   0.0s\n",
      "[CV] activation=identity, hidden_layer_sizes=(40, 40), max_iter=300, solver=sgd \n",
      "[CV]  activation=identity, hidden_layer_sizes=(40, 40), max_iter=300, solver=sgd, score=0.583, total=   0.0s\n",
      "[CV] activation=identity, hidden_layer_sizes=(40, 40), max_iter=300, solver=sgd \n",
      "[CV]  activation=identity, hidden_layer_sizes=(40, 40), max_iter=300, solver=sgd, score=0.542, total=   0.0s\n",
      "[CV] activation=identity, hidden_layer_sizes=(40, 40), max_iter=300, solver=adam \n"
     ]
    },
    {
     "name": "stderr",
     "output_type": "stream",
     "text": [
      "/Users/Strawberry/anaconda3/lib/python3.7/site-packages/sklearn/neural_network/_multilayer_perceptron.py:571: ConvergenceWarning: Stochastic Optimizer: Maximum iterations (300) reached and the optimization hasn't converged yet.\n",
      "  % self.max_iter, ConvergenceWarning)\n",
      "/Users/Strawberry/anaconda3/lib/python3.7/site-packages/sklearn/neural_network/_multilayer_perceptron.py:571: ConvergenceWarning: Stochastic Optimizer: Maximum iterations (300) reached and the optimization hasn't converged yet.\n",
      "  % self.max_iter, ConvergenceWarning)\n"
     ]
    },
    {
     "name": "stdout",
     "output_type": "stream",
     "text": [
      "[CV]  activation=identity, hidden_layer_sizes=(40, 40), max_iter=300, solver=adam, score=0.776, total=   0.2s\n",
      "[CV] activation=identity, hidden_layer_sizes=(40, 40), max_iter=300, solver=adam \n",
      "[CV]  activation=identity, hidden_layer_sizes=(40, 40), max_iter=300, solver=adam, score=0.796, total=   0.2s\n",
      "[CV] activation=identity, hidden_layer_sizes=(40, 40), max_iter=300, solver=adam \n"
     ]
    },
    {
     "name": "stderr",
     "output_type": "stream",
     "text": [
      "/Users/Strawberry/anaconda3/lib/python3.7/site-packages/sklearn/neural_network/_multilayer_perceptron.py:571: ConvergenceWarning: Stochastic Optimizer: Maximum iterations (300) reached and the optimization hasn't converged yet.\n",
      "  % self.max_iter, ConvergenceWarning)\n",
      "/Users/Strawberry/anaconda3/lib/python3.7/site-packages/sklearn/neural_network/_multilayer_perceptron.py:571: ConvergenceWarning: Stochastic Optimizer: Maximum iterations (300) reached and the optimization hasn't converged yet.\n",
      "  % self.max_iter, ConvergenceWarning)\n"
     ]
    },
    {
     "name": "stdout",
     "output_type": "stream",
     "text": [
      "[CV]  activation=identity, hidden_layer_sizes=(40, 40), max_iter=300, solver=adam, score=0.896, total=   0.2s\n",
      "[CV] activation=identity, hidden_layer_sizes=(40, 40), max_iter=300, solver=adam \n",
      "[CV]  activation=identity, hidden_layer_sizes=(40, 40), max_iter=300, solver=adam, score=0.917, total=   0.2s\n",
      "[CV] activation=identity, hidden_layer_sizes=(40, 40), max_iter=300, solver=adam \n"
     ]
    },
    {
     "name": "stderr",
     "output_type": "stream",
     "text": [
      "/Users/Strawberry/anaconda3/lib/python3.7/site-packages/sklearn/neural_network/_multilayer_perceptron.py:571: ConvergenceWarning: Stochastic Optimizer: Maximum iterations (300) reached and the optimization hasn't converged yet.\n",
      "  % self.max_iter, ConvergenceWarning)\n"
     ]
    },
    {
     "name": "stdout",
     "output_type": "stream",
     "text": [
      "[CV]  activation=identity, hidden_layer_sizes=(40, 40), max_iter=300, solver=adam, score=0.771, total=   0.2s\n",
      "[CV] activation=relu, hidden_layer_sizes=(10, 10), max_iter=100, solver=lbfgs \n",
      "[CV]  activation=relu, hidden_layer_sizes=(10, 10), max_iter=100, solver=lbfgs, score=0.449, total=   0.0s\n",
      "[CV] activation=relu, hidden_layer_sizes=(10, 10), max_iter=100, solver=lbfgs \n",
      "[CV]  activation=relu, hidden_layer_sizes=(10, 10), max_iter=100, solver=lbfgs, score=0.469, total=   0.0s\n",
      "[CV] activation=relu, hidden_layer_sizes=(10, 10), max_iter=100, solver=lbfgs \n",
      "[CV]  activation=relu, hidden_layer_sizes=(10, 10), max_iter=100, solver=lbfgs, score=0.458, total=   0.0s\n",
      "[CV] activation=relu, hidden_layer_sizes=(10, 10), max_iter=100, solver=lbfgs \n",
      "[CV]  activation=relu, hidden_layer_sizes=(10, 10), max_iter=100, solver=lbfgs, score=0.458, total=   0.0s\n",
      "[CV] activation=relu, hidden_layer_sizes=(10, 10), max_iter=100, solver=lbfgs \n",
      "[CV]  activation=relu, hidden_layer_sizes=(10, 10), max_iter=100, solver=lbfgs, score=0.458, total=   0.0s\n",
      "[CV] activation=relu, hidden_layer_sizes=(10, 10), max_iter=100, solver=sgd \n",
      "[CV]  activation=relu, hidden_layer_sizes=(10, 10), max_iter=100, solver=sgd, score=0.449, total=   0.0s\n",
      "[CV] activation=relu, hidden_layer_sizes=(10, 10), max_iter=100, solver=sgd \n",
      "[CV]  activation=relu, hidden_layer_sizes=(10, 10), max_iter=100, solver=sgd, score=0.531, total=   0.0s\n",
      "[CV] activation=relu, hidden_layer_sizes=(10, 10), max_iter=100, solver=sgd \n",
      "[CV]  activation=relu, hidden_layer_sizes=(10, 10), max_iter=100, solver=sgd, score=0.458, total=   0.0s\n",
      "[CV] activation=relu, hidden_layer_sizes=(10, 10), max_iter=100, solver=sgd \n",
      "[CV]  activation=relu, hidden_layer_sizes=(10, 10), max_iter=100, solver=sgd, score=0.542, total=   0.0s\n",
      "[CV] activation=relu, hidden_layer_sizes=(10, 10), max_iter=100, solver=sgd \n",
      "[CV]  activation=relu, hidden_layer_sizes=(10, 10), max_iter=100, solver=sgd, score=0.458, total=   0.0s\n",
      "[CV] activation=relu, hidden_layer_sizes=(10, 10), max_iter=100, solver=adam \n",
      "[CV]  activation=relu, hidden_layer_sizes=(10, 10), max_iter=100, solver=adam, score=0.633, total=   0.0s\n",
      "[CV] activation=relu, hidden_layer_sizes=(10, 10), max_iter=100, solver=adam \n",
      "[CV]  activation=relu, hidden_layer_sizes=(10, 10), max_iter=100, solver=adam, score=0.510, total=   0.0s\n",
      "[CV] activation=relu, hidden_layer_sizes=(10, 10), max_iter=100, solver=adam \n",
      "[CV]  activation=relu, hidden_layer_sizes=(10, 10), max_iter=100, solver=adam, score=0.604, total=   0.0s\n",
      "[CV] activation=relu, hidden_layer_sizes=(10, 10), max_iter=100, solver=adam \n",
      "[CV]  activation=relu, hidden_layer_sizes=(10, 10), max_iter=100, solver=adam, score=0.562, total=   0.0s\n",
      "[CV] activation=relu, hidden_layer_sizes=(10, 10), max_iter=100, solver=adam \n",
      "[CV]  activation=relu, hidden_layer_sizes=(10, 10), max_iter=100, solver=adam, score=0.625, total=   0.0s\n",
      "[CV] activation=relu, hidden_layer_sizes=(10, 10), max_iter=200, solver=lbfgs \n",
      "[CV]  activation=relu, hidden_layer_sizes=(10, 10), max_iter=200, solver=lbfgs, score=0.449, total=   0.0s\n",
      "[CV] activation=relu, hidden_layer_sizes=(10, 10), max_iter=200, solver=lbfgs \n",
      "[CV]  activation=relu, hidden_layer_sizes=(10, 10), max_iter=200, solver=lbfgs, score=0.469, total=   0.0s\n",
      "[CV] activation=relu, hidden_layer_sizes=(10, 10), max_iter=200, solver=lbfgs \n",
      "[CV]  activation=relu, hidden_layer_sizes=(10, 10), max_iter=200, solver=lbfgs, score=0.458, total=   0.0s\n",
      "[CV] activation=relu, hidden_layer_sizes=(10, 10), max_iter=200, solver=lbfgs \n",
      "[CV]  activation=relu, hidden_layer_sizes=(10, 10), max_iter=200, solver=lbfgs, score=0.458, total=   0.0s\n",
      "[CV] activation=relu, hidden_layer_sizes=(10, 10), max_iter=200, solver=lbfgs \n",
      "[CV]  activation=relu, hidden_layer_sizes=(10, 10), max_iter=200, solver=lbfgs, score=0.458, total=   0.0s\n",
      "[CV] activation=relu, hidden_layer_sizes=(10, 10), max_iter=200, solver=sgd \n",
      "[CV]  activation=relu, hidden_layer_sizes=(10, 10), max_iter=200, solver=sgd, score=0.449, total=   0.0s\n",
      "[CV] activation=relu, hidden_layer_sizes=(10, 10), max_iter=200, solver=sgd \n",
      "[CV]  activation=relu, hidden_layer_sizes=(10, 10), max_iter=200, solver=sgd, score=0.531, total=   0.0s\n",
      "[CV] activation=relu, hidden_layer_sizes=(10, 10), max_iter=200, solver=sgd \n",
      "[CV]  activation=relu, hidden_layer_sizes=(10, 10), max_iter=200, solver=sgd, score=0.458, total=   0.0s\n",
      "[CV] activation=relu, hidden_layer_sizes=(10, 10), max_iter=200, solver=sgd \n",
      "[CV]  activation=relu, hidden_layer_sizes=(10, 10), max_iter=200, solver=sgd, score=0.542, total=   0.0s\n",
      "[CV] activation=relu, hidden_layer_sizes=(10, 10), max_iter=200, solver=sgd \n",
      "[CV]  activation=relu, hidden_layer_sizes=(10, 10), max_iter=200, solver=sgd, score=0.458, total=   0.0s\n",
      "[CV] activation=relu, hidden_layer_sizes=(10, 10), max_iter=200, solver=adam \n",
      "[CV]  activation=relu, hidden_layer_sizes=(10, 10), max_iter=200, solver=adam, score=0.633, total=   0.0s\n",
      "[CV] activation=relu, hidden_layer_sizes=(10, 10), max_iter=200, solver=adam \n",
      "[CV]  activation=relu, hidden_layer_sizes=(10, 10), max_iter=200, solver=adam, score=0.510, total=   0.0s\n",
      "[CV] activation=relu, hidden_layer_sizes=(10, 10), max_iter=200, solver=adam \n",
      "[CV]  activation=relu, hidden_layer_sizes=(10, 10), max_iter=200, solver=adam, score=0.604, total=   0.0s\n",
      "[CV] activation=relu, hidden_layer_sizes=(10, 10), max_iter=200, solver=adam \n",
      "[CV]  activation=relu, hidden_layer_sizes=(10, 10), max_iter=200, solver=adam, score=0.562, total=   0.0s\n",
      "[CV] activation=relu, hidden_layer_sizes=(10, 10), max_iter=200, solver=adam \n",
      "[CV]  activation=relu, hidden_layer_sizes=(10, 10), max_iter=200, solver=adam, score=0.625, total=   0.0s\n",
      "[CV] activation=relu, hidden_layer_sizes=(10, 10), max_iter=300, solver=lbfgs \n",
      "[CV]  activation=relu, hidden_layer_sizes=(10, 10), max_iter=300, solver=lbfgs, score=0.449, total=   0.0s\n",
      "[CV] activation=relu, hidden_layer_sizes=(10, 10), max_iter=300, solver=lbfgs \n",
      "[CV]  activation=relu, hidden_layer_sizes=(10, 10), max_iter=300, solver=lbfgs, score=0.469, total=   0.0s\n",
      "[CV] activation=relu, hidden_layer_sizes=(10, 10), max_iter=300, solver=lbfgs \n",
      "[CV]  activation=relu, hidden_layer_sizes=(10, 10), max_iter=300, solver=lbfgs, score=0.458, total=   0.0s\n",
      "[CV] activation=relu, hidden_layer_sizes=(10, 10), max_iter=300, solver=lbfgs \n",
      "[CV]  activation=relu, hidden_layer_sizes=(10, 10), max_iter=300, solver=lbfgs, score=0.458, total=   0.0s\n",
      "[CV] activation=relu, hidden_layer_sizes=(10, 10), max_iter=300, solver=lbfgs \n",
      "[CV]  activation=relu, hidden_layer_sizes=(10, 10), max_iter=300, solver=lbfgs, score=0.458, total=   0.0s\n",
      "[CV] activation=relu, hidden_layer_sizes=(10, 10), max_iter=300, solver=sgd \n",
      "[CV]  activation=relu, hidden_layer_sizes=(10, 10), max_iter=300, solver=sgd, score=0.449, total=   0.0s\n",
      "[CV] activation=relu, hidden_layer_sizes=(10, 10), max_iter=300, solver=sgd \n",
      "[CV]  activation=relu, hidden_layer_sizes=(10, 10), max_iter=300, solver=sgd, score=0.531, total=   0.0s\n",
      "[CV] activation=relu, hidden_layer_sizes=(10, 10), max_iter=300, solver=sgd \n",
      "[CV]  activation=relu, hidden_layer_sizes=(10, 10), max_iter=300, solver=sgd, score=0.458, total=   0.0s\n",
      "[CV] activation=relu, hidden_layer_sizes=(10, 10), max_iter=300, solver=sgd \n",
      "[CV]  activation=relu, hidden_layer_sizes=(10, 10), max_iter=300, solver=sgd, score=0.542, total=   0.0s\n",
      "[CV] activation=relu, hidden_layer_sizes=(10, 10), max_iter=300, solver=sgd \n",
      "[CV]  activation=relu, hidden_layer_sizes=(10, 10), max_iter=300, solver=sgd, score=0.458, total=   0.0s\n",
      "[CV] activation=relu, hidden_layer_sizes=(10, 10), max_iter=300, solver=adam \n",
      "[CV]  activation=relu, hidden_layer_sizes=(10, 10), max_iter=300, solver=adam, score=0.633, total=   0.0s\n",
      "[CV] activation=relu, hidden_layer_sizes=(10, 10), max_iter=300, solver=adam \n",
      "[CV]  activation=relu, hidden_layer_sizes=(10, 10), max_iter=300, solver=adam, score=0.510, total=   0.0s\n",
      "[CV] activation=relu, hidden_layer_sizes=(10, 10), max_iter=300, solver=adam \n",
      "[CV]  activation=relu, hidden_layer_sizes=(10, 10), max_iter=300, solver=adam, score=0.604, total=   0.0s\n",
      "[CV] activation=relu, hidden_layer_sizes=(10, 10), max_iter=300, solver=adam \n",
      "[CV]  activation=relu, hidden_layer_sizes=(10, 10), max_iter=300, solver=adam, score=0.562, total=   0.0s\n",
      "[CV] activation=relu, hidden_layer_sizes=(10, 10), max_iter=300, solver=adam \n",
      "[CV]  activation=relu, hidden_layer_sizes=(10, 10), max_iter=300, solver=adam, score=0.625, total=   0.0s\n",
      "[CV] activation=relu, hidden_layer_sizes=(10, 20), max_iter=100, solver=lbfgs \n",
      "[CV]  activation=relu, hidden_layer_sizes=(10, 20), max_iter=100, solver=lbfgs, score=0.449, total=   0.0s\n",
      "[CV] activation=relu, hidden_layer_sizes=(10, 20), max_iter=100, solver=lbfgs \n",
      "[CV]  activation=relu, hidden_layer_sizes=(10, 20), max_iter=100, solver=lbfgs, score=0.469, total=   0.0s\n",
      "[CV] activation=relu, hidden_layer_sizes=(10, 20), max_iter=100, solver=lbfgs \n",
      "[CV]  activation=relu, hidden_layer_sizes=(10, 20), max_iter=100, solver=lbfgs, score=0.458, total=   0.0s\n",
      "[CV] activation=relu, hidden_layer_sizes=(10, 20), max_iter=100, solver=lbfgs \n",
      "[CV]  activation=relu, hidden_layer_sizes=(10, 20), max_iter=100, solver=lbfgs, score=0.458, total=   0.0s\n",
      "[CV] activation=relu, hidden_layer_sizes=(10, 20), max_iter=100, solver=lbfgs \n",
      "[CV]  activation=relu, hidden_layer_sizes=(10, 20), max_iter=100, solver=lbfgs, score=0.458, total=   0.0s\n",
      "[CV] activation=relu, hidden_layer_sizes=(10, 20), max_iter=100, solver=sgd \n"
     ]
    },
    {
     "name": "stderr",
     "output_type": "stream",
     "text": [
      "/Users/Strawberry/anaconda3/lib/python3.7/site-packages/sklearn/neural_network/_multilayer_perceptron.py:571: ConvergenceWarning: Stochastic Optimizer: Maximum iterations (100) reached and the optimization hasn't converged yet.\n",
      "  % self.max_iter, ConvergenceWarning)\n",
      "/Users/Strawberry/anaconda3/lib/python3.7/site-packages/sklearn/neural_network/_multilayer_perceptron.py:571: ConvergenceWarning: Stochastic Optimizer: Maximum iterations (100) reached and the optimization hasn't converged yet.\n",
      "  % self.max_iter, ConvergenceWarning)\n",
      "/Users/Strawberry/anaconda3/lib/python3.7/site-packages/sklearn/neural_network/_multilayer_perceptron.py:571: ConvergenceWarning: Stochastic Optimizer: Maximum iterations (100) reached and the optimization hasn't converged yet.\n",
      "  % self.max_iter, ConvergenceWarning)\n"
     ]
    },
    {
     "name": "stdout",
     "output_type": "stream",
     "text": [
      "[CV]  activation=relu, hidden_layer_sizes=(10, 20), max_iter=100, solver=sgd, score=0.673, total=   0.1s\n",
      "[CV] activation=relu, hidden_layer_sizes=(10, 20), max_iter=100, solver=sgd \n",
      "[CV]  activation=relu, hidden_layer_sizes=(10, 20), max_iter=100, solver=sgd, score=0.469, total=   0.0s\n",
      "[CV] activation=relu, hidden_layer_sizes=(10, 20), max_iter=100, solver=sgd \n",
      "[CV]  activation=relu, hidden_layer_sizes=(10, 20), max_iter=100, solver=sgd, score=0.646, total=   0.1s\n",
      "[CV] activation=relu, hidden_layer_sizes=(10, 20), max_iter=100, solver=sgd \n",
      "[CV]  activation=relu, hidden_layer_sizes=(10, 20), max_iter=100, solver=sgd, score=0.562, total=   0.0s\n",
      "[CV] activation=relu, hidden_layer_sizes=(10, 20), max_iter=100, solver=sgd \n",
      "[CV]  activation=relu, hidden_layer_sizes=(10, 20), max_iter=100, solver=sgd, score=0.708, total=   0.1s\n",
      "[CV] activation=relu, hidden_layer_sizes=(10, 20), max_iter=100, solver=adam \n",
      "[CV]  activation=relu, hidden_layer_sizes=(10, 20), max_iter=100, solver=adam, score=0.571, total=   0.0s\n",
      "[CV] activation=relu, hidden_layer_sizes=(10, 20), max_iter=100, solver=adam \n",
      "[CV]  activation=relu, hidden_layer_sizes=(10, 20), max_iter=100, solver=adam, score=0.531, total=   0.0s\n",
      "[CV] activation=relu, hidden_layer_sizes=(10, 20), max_iter=100, solver=adam \n",
      "[CV]  activation=relu, hidden_layer_sizes=(10, 20), max_iter=100, solver=adam, score=0.521, total=   0.0s\n",
      "[CV] activation=relu, hidden_layer_sizes=(10, 20), max_iter=100, solver=adam \n",
      "[CV]  activation=relu, hidden_layer_sizes=(10, 20), max_iter=100, solver=adam, score=0.583, total=   0.0s\n",
      "[CV] activation=relu, hidden_layer_sizes=(10, 20), max_iter=100, solver=adam \n",
      "[CV]  activation=relu, hidden_layer_sizes=(10, 20), max_iter=100, solver=adam, score=0.500, total=   0.0s\n",
      "[CV] activation=relu, hidden_layer_sizes=(10, 20), max_iter=200, solver=lbfgs \n",
      "[CV]  activation=relu, hidden_layer_sizes=(10, 20), max_iter=200, solver=lbfgs, score=0.449, total=   0.0s\n",
      "[CV] activation=relu, hidden_layer_sizes=(10, 20), max_iter=200, solver=lbfgs \n",
      "[CV]  activation=relu, hidden_layer_sizes=(10, 20), max_iter=200, solver=lbfgs, score=0.469, total=   0.0s\n",
      "[CV] activation=relu, hidden_layer_sizes=(10, 20), max_iter=200, solver=lbfgs \n",
      "[CV]  activation=relu, hidden_layer_sizes=(10, 20), max_iter=200, solver=lbfgs, score=0.458, total=   0.0s\n",
      "[CV] activation=relu, hidden_layer_sizes=(10, 20), max_iter=200, solver=lbfgs \n",
      "[CV]  activation=relu, hidden_layer_sizes=(10, 20), max_iter=200, solver=lbfgs, score=0.458, total=   0.0s\n",
      "[CV] activation=relu, hidden_layer_sizes=(10, 20), max_iter=200, solver=lbfgs \n",
      "[CV]  activation=relu, hidden_layer_sizes=(10, 20), max_iter=200, solver=lbfgs, score=0.458, total=   0.0s\n",
      "[CV] activation=relu, hidden_layer_sizes=(10, 20), max_iter=200, solver=sgd \n",
      "[CV]  activation=relu, hidden_layer_sizes=(10, 20), max_iter=200, solver=sgd, score=0.653, total=   0.1s\n",
      "[CV] activation=relu, hidden_layer_sizes=(10, 20), max_iter=200, solver=sgd \n",
      "[CV]  activation=relu, hidden_layer_sizes=(10, 20), max_iter=200, solver=sgd, score=0.469, total=   0.0s\n",
      "[CV] activation=relu, hidden_layer_sizes=(10, 20), max_iter=200, solver=sgd \n",
      "[CV]  activation=relu, hidden_layer_sizes=(10, 20), max_iter=200, solver=sgd, score=0.646, total=   0.1s\n",
      "[CV] activation=relu, hidden_layer_sizes=(10, 20), max_iter=200, solver=sgd \n",
      "[CV]  activation=relu, hidden_layer_sizes=(10, 20), max_iter=200, solver=sgd, score=0.562, total=   0.0s\n",
      "[CV] activation=relu, hidden_layer_sizes=(10, 20), max_iter=200, solver=sgd \n",
      "[CV]  activation=relu, hidden_layer_sizes=(10, 20), max_iter=200, solver=sgd, score=0.708, total=   0.1s\n",
      "[CV] activation=relu, hidden_layer_sizes=(10, 20), max_iter=200, solver=adam \n",
      "[CV]  activation=relu, hidden_layer_sizes=(10, 20), max_iter=200, solver=adam, score=0.571, total=   0.0s\n",
      "[CV] activation=relu, hidden_layer_sizes=(10, 20), max_iter=200, solver=adam \n",
      "[CV]  activation=relu, hidden_layer_sizes=(10, 20), max_iter=200, solver=adam, score=0.531, total=   0.0s\n",
      "[CV] activation=relu, hidden_layer_sizes=(10, 20), max_iter=200, solver=adam \n",
      "[CV]  activation=relu, hidden_layer_sizes=(10, 20), max_iter=200, solver=adam, score=0.521, total=   0.0s\n",
      "[CV] activation=relu, hidden_layer_sizes=(10, 20), max_iter=200, solver=adam \n",
      "[CV]  activation=relu, hidden_layer_sizes=(10, 20), max_iter=200, solver=adam, score=0.583, total=   0.0s\n",
      "[CV] activation=relu, hidden_layer_sizes=(10, 20), max_iter=200, solver=adam \n",
      "[CV]  activation=relu, hidden_layer_sizes=(10, 20), max_iter=200, solver=adam, score=0.500, total=   0.0s\n",
      "[CV] activation=relu, hidden_layer_sizes=(10, 20), max_iter=300, solver=lbfgs \n",
      "[CV]  activation=relu, hidden_layer_sizes=(10, 20), max_iter=300, solver=lbfgs, score=0.449, total=   0.0s\n",
      "[CV] activation=relu, hidden_layer_sizes=(10, 20), max_iter=300, solver=lbfgs \n",
      "[CV]  activation=relu, hidden_layer_sizes=(10, 20), max_iter=300, solver=lbfgs, score=0.469, total=   0.0s\n",
      "[CV] activation=relu, hidden_layer_sizes=(10, 20), max_iter=300, solver=lbfgs \n",
      "[CV]  activation=relu, hidden_layer_sizes=(10, 20), max_iter=300, solver=lbfgs, score=0.458, total=   0.0s\n",
      "[CV] activation=relu, hidden_layer_sizes=(10, 20), max_iter=300, solver=lbfgs \n",
      "[CV]  activation=relu, hidden_layer_sizes=(10, 20), max_iter=300, solver=lbfgs, score=0.458, total=   0.0s\n",
      "[CV] activation=relu, hidden_layer_sizes=(10, 20), max_iter=300, solver=lbfgs \n",
      "[CV]  activation=relu, hidden_layer_sizes=(10, 20), max_iter=300, solver=lbfgs, score=0.458, total=   0.0s\n",
      "[CV] activation=relu, hidden_layer_sizes=(10, 20), max_iter=300, solver=sgd \n",
      "[CV]  activation=relu, hidden_layer_sizes=(10, 20), max_iter=300, solver=sgd, score=0.653, total=   0.1s\n",
      "[CV] activation=relu, hidden_layer_sizes=(10, 20), max_iter=300, solver=sgd \n",
      "[CV]  activation=relu, hidden_layer_sizes=(10, 20), max_iter=300, solver=sgd, score=0.469, total=   0.0s\n",
      "[CV] activation=relu, hidden_layer_sizes=(10, 20), max_iter=300, solver=sgd \n",
      "[CV]  activation=relu, hidden_layer_sizes=(10, 20), max_iter=300, solver=sgd, score=0.646, total=   0.1s\n",
      "[CV] activation=relu, hidden_layer_sizes=(10, 20), max_iter=300, solver=sgd \n",
      "[CV]  activation=relu, hidden_layer_sizes=(10, 20), max_iter=300, solver=sgd, score=0.562, total=   0.0s\n",
      "[CV] activation=relu, hidden_layer_sizes=(10, 20), max_iter=300, solver=sgd \n",
      "[CV]  activation=relu, hidden_layer_sizes=(10, 20), max_iter=300, solver=sgd, score=0.708, total=   0.1s\n",
      "[CV] activation=relu, hidden_layer_sizes=(10, 20), max_iter=300, solver=adam \n",
      "[CV]  activation=relu, hidden_layer_sizes=(10, 20), max_iter=300, solver=adam, score=0.571, total=   0.0s\n",
      "[CV] activation=relu, hidden_layer_sizes=(10, 20), max_iter=300, solver=adam \n",
      "[CV]  activation=relu, hidden_layer_sizes=(10, 20), max_iter=300, solver=adam, score=0.531, total=   0.0s\n",
      "[CV] activation=relu, hidden_layer_sizes=(10, 20), max_iter=300, solver=adam \n",
      "[CV]  activation=relu, hidden_layer_sizes=(10, 20), max_iter=300, solver=adam, score=0.521, total=   0.0s\n",
      "[CV] activation=relu, hidden_layer_sizes=(10, 20), max_iter=300, solver=adam \n",
      "[CV]  activation=relu, hidden_layer_sizes=(10, 20), max_iter=300, solver=adam, score=0.583, total=   0.0s\n",
      "[CV] activation=relu, hidden_layer_sizes=(10, 20), max_iter=300, solver=adam \n",
      "[CV]  activation=relu, hidden_layer_sizes=(10, 20), max_iter=300, solver=adam, score=0.500, total=   0.0s\n",
      "[CV] activation=relu, hidden_layer_sizes=(10, 30), max_iter=100, solver=lbfgs \n",
      "[CV]  activation=relu, hidden_layer_sizes=(10, 30), max_iter=100, solver=lbfgs, score=0.367, total=   0.0s\n",
      "[CV] activation=relu, hidden_layer_sizes=(10, 30), max_iter=100, solver=lbfgs \n",
      "[CV]  activation=relu, hidden_layer_sizes=(10, 30), max_iter=100, solver=lbfgs, score=0.429, total=   0.0s\n",
      "[CV] activation=relu, hidden_layer_sizes=(10, 30), max_iter=100, solver=lbfgs \n",
      "[CV]  activation=relu, hidden_layer_sizes=(10, 30), max_iter=100, solver=lbfgs, score=0.375, total=   0.0s\n",
      "[CV] activation=relu, hidden_layer_sizes=(10, 30), max_iter=100, solver=lbfgs \n",
      "[CV]  activation=relu, hidden_layer_sizes=(10, 30), max_iter=100, solver=lbfgs, score=0.417, total=   0.0s\n",
      "[CV] activation=relu, hidden_layer_sizes=(10, 30), max_iter=100, solver=lbfgs \n",
      "[CV]  activation=relu, hidden_layer_sizes=(10, 30), max_iter=100, solver=lbfgs, score=0.354, total=   0.0s\n",
      "[CV] activation=relu, hidden_layer_sizes=(10, 30), max_iter=100, solver=sgd \n"
     ]
    },
    {
     "name": "stderr",
     "output_type": "stream",
     "text": [
      "/Users/Strawberry/anaconda3/lib/python3.7/site-packages/sklearn/neural_network/_multilayer_perceptron.py:571: ConvergenceWarning: Stochastic Optimizer: Maximum iterations (100) reached and the optimization hasn't converged yet.\n",
      "  % self.max_iter, ConvergenceWarning)\n",
      "/Users/Strawberry/anaconda3/lib/python3.7/site-packages/sklearn/neural_network/_multilayer_perceptron.py:571: ConvergenceWarning: Stochastic Optimizer: Maximum iterations (100) reached and the optimization hasn't converged yet.\n",
      "  % self.max_iter, ConvergenceWarning)\n",
      "/Users/Strawberry/anaconda3/lib/python3.7/site-packages/sklearn/neural_network/_multilayer_perceptron.py:571: ConvergenceWarning: Stochastic Optimizer: Maximum iterations (100) reached and the optimization hasn't converged yet.\n",
      "  % self.max_iter, ConvergenceWarning)\n"
     ]
    },
    {
     "name": "stdout",
     "output_type": "stream",
     "text": [
      "[CV]  activation=relu, hidden_layer_sizes=(10, 30), max_iter=100, solver=sgd, score=0.673, total=   0.1s\n",
      "[CV] activation=relu, hidden_layer_sizes=(10, 30), max_iter=100, solver=sgd \n",
      "[CV]  activation=relu, hidden_layer_sizes=(10, 30), max_iter=100, solver=sgd, score=0.510, total=   0.1s\n",
      "[CV] activation=relu, hidden_layer_sizes=(10, 30), max_iter=100, solver=sgd \n",
      "[CV]  activation=relu, hidden_layer_sizes=(10, 30), max_iter=100, solver=sgd, score=0.646, total=   0.1s\n",
      "[CV] activation=relu, hidden_layer_sizes=(10, 30), max_iter=100, solver=sgd \n"
     ]
    },
    {
     "name": "stderr",
     "output_type": "stream",
     "text": [
      "/Users/Strawberry/anaconda3/lib/python3.7/site-packages/sklearn/neural_network/_multilayer_perceptron.py:571: ConvergenceWarning: Stochastic Optimizer: Maximum iterations (100) reached and the optimization hasn't converged yet.\n",
      "  % self.max_iter, ConvergenceWarning)\n",
      "/Users/Strawberry/anaconda3/lib/python3.7/site-packages/sklearn/neural_network/_multilayer_perceptron.py:571: ConvergenceWarning: Stochastic Optimizer: Maximum iterations (100) reached and the optimization hasn't converged yet.\n",
      "  % self.max_iter, ConvergenceWarning)\n",
      "/Users/Strawberry/anaconda3/lib/python3.7/site-packages/sklearn/neural_network/_multilayer_perceptron.py:571: ConvergenceWarning: Stochastic Optimizer: Maximum iterations (100) reached and the optimization hasn't converged yet.\n",
      "  % self.max_iter, ConvergenceWarning)\n"
     ]
    },
    {
     "name": "stdout",
     "output_type": "stream",
     "text": [
      "[CV]  activation=relu, hidden_layer_sizes=(10, 30), max_iter=100, solver=sgd, score=0.604, total=   0.1s\n",
      "[CV] activation=relu, hidden_layer_sizes=(10, 30), max_iter=100, solver=sgd \n",
      "[CV]  activation=relu, hidden_layer_sizes=(10, 30), max_iter=100, solver=sgd, score=0.729, total=   0.1s\n",
      "[CV] activation=relu, hidden_layer_sizes=(10, 30), max_iter=100, solver=adam \n",
      "[CV]  activation=relu, hidden_layer_sizes=(10, 30), max_iter=100, solver=adam, score=0.633, total=   0.1s\n",
      "[CV] activation=relu, hidden_layer_sizes=(10, 30), max_iter=100, solver=adam \n"
     ]
    },
    {
     "name": "stderr",
     "output_type": "stream",
     "text": [
      "/Users/Strawberry/anaconda3/lib/python3.7/site-packages/sklearn/neural_network/_multilayer_perceptron.py:571: ConvergenceWarning: Stochastic Optimizer: Maximum iterations (100) reached and the optimization hasn't converged yet.\n",
      "  % self.max_iter, ConvergenceWarning)\n",
      "/Users/Strawberry/anaconda3/lib/python3.7/site-packages/sklearn/neural_network/_multilayer_perceptron.py:571: ConvergenceWarning: Stochastic Optimizer: Maximum iterations (100) reached and the optimization hasn't converged yet.\n",
      "  % self.max_iter, ConvergenceWarning)\n",
      "/Users/Strawberry/anaconda3/lib/python3.7/site-packages/sklearn/neural_network/_multilayer_perceptron.py:571: ConvergenceWarning: Stochastic Optimizer: Maximum iterations (100) reached and the optimization hasn't converged yet.\n",
      "  % self.max_iter, ConvergenceWarning)\n"
     ]
    },
    {
     "name": "stdout",
     "output_type": "stream",
     "text": [
      "[CV]  activation=relu, hidden_layer_sizes=(10, 30), max_iter=100, solver=adam, score=0.551, total=   0.1s\n",
      "[CV] activation=relu, hidden_layer_sizes=(10, 30), max_iter=100, solver=adam \n",
      "[CV]  activation=relu, hidden_layer_sizes=(10, 30), max_iter=100, solver=adam, score=0.646, total=   0.1s\n",
      "[CV] activation=relu, hidden_layer_sizes=(10, 30), max_iter=100, solver=adam \n",
      "[CV]  activation=relu, hidden_layer_sizes=(10, 30), max_iter=100, solver=adam, score=0.521, total=   0.1s\n",
      "[CV] activation=relu, hidden_layer_sizes=(10, 30), max_iter=100, solver=adam \n"
     ]
    },
    {
     "name": "stderr",
     "output_type": "stream",
     "text": [
      "/Users/Strawberry/anaconda3/lib/python3.7/site-packages/sklearn/neural_network/_multilayer_perceptron.py:571: ConvergenceWarning: Stochastic Optimizer: Maximum iterations (100) reached and the optimization hasn't converged yet.\n",
      "  % self.max_iter, ConvergenceWarning)\n"
     ]
    },
    {
     "name": "stdout",
     "output_type": "stream",
     "text": [
      "[CV]  activation=relu, hidden_layer_sizes=(10, 30), max_iter=100, solver=adam, score=0.646, total=   0.1s\n",
      "[CV] activation=relu, hidden_layer_sizes=(10, 30), max_iter=200, solver=lbfgs \n",
      "[CV]  activation=relu, hidden_layer_sizes=(10, 30), max_iter=200, solver=lbfgs, score=0.367, total=   0.0s\n",
      "[CV] activation=relu, hidden_layer_sizes=(10, 30), max_iter=200, solver=lbfgs \n",
      "[CV]  activation=relu, hidden_layer_sizes=(10, 30), max_iter=200, solver=lbfgs, score=0.429, total=   0.0s\n",
      "[CV] activation=relu, hidden_layer_sizes=(10, 30), max_iter=200, solver=lbfgs \n",
      "[CV]  activation=relu, hidden_layer_sizes=(10, 30), max_iter=200, solver=lbfgs, score=0.375, total=   0.0s\n",
      "[CV] activation=relu, hidden_layer_sizes=(10, 30), max_iter=200, solver=lbfgs \n",
      "[CV]  activation=relu, hidden_layer_sizes=(10, 30), max_iter=200, solver=lbfgs, score=0.417, total=   0.0s\n",
      "[CV] activation=relu, hidden_layer_sizes=(10, 30), max_iter=200, solver=lbfgs \n",
      "[CV]  activation=relu, hidden_layer_sizes=(10, 30), max_iter=200, solver=lbfgs, score=0.354, total=   0.0s\n",
      "[CV] activation=relu, hidden_layer_sizes=(10, 30), max_iter=200, solver=sgd \n",
      "[CV]  activation=relu, hidden_layer_sizes=(10, 30), max_iter=200, solver=sgd, score=0.694, total=   0.1s\n",
      "[CV] activation=relu, hidden_layer_sizes=(10, 30), max_iter=200, solver=sgd \n"
     ]
    },
    {
     "name": "stderr",
     "output_type": "stream",
     "text": [
      "/Users/Strawberry/anaconda3/lib/python3.7/site-packages/sklearn/neural_network/_multilayer_perceptron.py:571: ConvergenceWarning: Stochastic Optimizer: Maximum iterations (200) reached and the optimization hasn't converged yet.\n",
      "  % self.max_iter, ConvergenceWarning)\n",
      "/Users/Strawberry/anaconda3/lib/python3.7/site-packages/sklearn/neural_network/_multilayer_perceptron.py:571: ConvergenceWarning: Stochastic Optimizer: Maximum iterations (200) reached and the optimization hasn't converged yet.\n",
      "  % self.max_iter, ConvergenceWarning)\n"
     ]
    },
    {
     "name": "stdout",
     "output_type": "stream",
     "text": [
      "[CV]  activation=relu, hidden_layer_sizes=(10, 30), max_iter=200, solver=sgd, score=0.592, total=   0.1s\n",
      "[CV] activation=relu, hidden_layer_sizes=(10, 30), max_iter=200, solver=sgd \n",
      "[CV]  activation=relu, hidden_layer_sizes=(10, 30), max_iter=200, solver=sgd, score=0.625, total=   0.1s\n",
      "[CV] activation=relu, hidden_layer_sizes=(10, 30), max_iter=200, solver=sgd \n",
      "[CV]  activation=relu, hidden_layer_sizes=(10, 30), max_iter=200, solver=sgd, score=0.646, total=   0.1s\n",
      "[CV] activation=relu, hidden_layer_sizes=(10, 30), max_iter=200, solver=sgd \n",
      "[CV]  activation=relu, hidden_layer_sizes=(10, 30), max_iter=200, solver=sgd, score=0.708, total=   0.1s\n",
      "[CV] activation=relu, hidden_layer_sizes=(10, 30), max_iter=200, solver=adam \n"
     ]
    },
    {
     "name": "stderr",
     "output_type": "stream",
     "text": [
      "/Users/Strawberry/anaconda3/lib/python3.7/site-packages/sklearn/neural_network/_multilayer_perceptron.py:571: ConvergenceWarning: Stochastic Optimizer: Maximum iterations (200) reached and the optimization hasn't converged yet.\n",
      "  % self.max_iter, ConvergenceWarning)\n",
      "/Users/Strawberry/anaconda3/lib/python3.7/site-packages/sklearn/neural_network/_multilayer_perceptron.py:571: ConvergenceWarning: Stochastic Optimizer: Maximum iterations (200) reached and the optimization hasn't converged yet.\n",
      "  % self.max_iter, ConvergenceWarning)\n"
     ]
    },
    {
     "name": "stdout",
     "output_type": "stream",
     "text": [
      "[CV]  activation=relu, hidden_layer_sizes=(10, 30), max_iter=200, solver=adam, score=0.653, total=   0.1s\n",
      "[CV] activation=relu, hidden_layer_sizes=(10, 30), max_iter=200, solver=adam \n",
      "[CV]  activation=relu, hidden_layer_sizes=(10, 30), max_iter=200, solver=adam, score=0.551, total=   0.1s\n",
      "[CV] activation=relu, hidden_layer_sizes=(10, 30), max_iter=200, solver=adam \n"
     ]
    },
    {
     "name": "stderr",
     "output_type": "stream",
     "text": [
      "/Users/Strawberry/anaconda3/lib/python3.7/site-packages/sklearn/neural_network/_multilayer_perceptron.py:571: ConvergenceWarning: Stochastic Optimizer: Maximum iterations (200) reached and the optimization hasn't converged yet.\n",
      "  % self.max_iter, ConvergenceWarning)\n",
      "/Users/Strawberry/anaconda3/lib/python3.7/site-packages/sklearn/neural_network/_multilayer_perceptron.py:571: ConvergenceWarning: Stochastic Optimizer: Maximum iterations (200) reached and the optimization hasn't converged yet.\n",
      "  % self.max_iter, ConvergenceWarning)\n"
     ]
    },
    {
     "name": "stdout",
     "output_type": "stream",
     "text": [
      "[CV]  activation=relu, hidden_layer_sizes=(10, 30), max_iter=200, solver=adam, score=0.667, total=   0.1s\n",
      "[CV] activation=relu, hidden_layer_sizes=(10, 30), max_iter=200, solver=adam \n",
      "[CV]  activation=relu, hidden_layer_sizes=(10, 30), max_iter=200, solver=adam, score=0.688, total=   0.1s\n",
      "[CV] activation=relu, hidden_layer_sizes=(10, 30), max_iter=200, solver=adam \n"
     ]
    },
    {
     "name": "stderr",
     "output_type": "stream",
     "text": [
      "/Users/Strawberry/anaconda3/lib/python3.7/site-packages/sklearn/neural_network/_multilayer_perceptron.py:571: ConvergenceWarning: Stochastic Optimizer: Maximum iterations (200) reached and the optimization hasn't converged yet.\n",
      "  % self.max_iter, ConvergenceWarning)\n",
      "/Users/Strawberry/anaconda3/lib/python3.7/site-packages/sklearn/neural_network/_multilayer_perceptron.py:571: ConvergenceWarning: Stochastic Optimizer: Maximum iterations (200) reached and the optimization hasn't converged yet.\n",
      "  % self.max_iter, ConvergenceWarning)\n"
     ]
    },
    {
     "name": "stdout",
     "output_type": "stream",
     "text": [
      "[CV]  activation=relu, hidden_layer_sizes=(10, 30), max_iter=200, solver=adam, score=0.667, total=   0.1s\n",
      "[CV] activation=relu, hidden_layer_sizes=(10, 30), max_iter=300, solver=lbfgs \n",
      "[CV]  activation=relu, hidden_layer_sizes=(10, 30), max_iter=300, solver=lbfgs, score=0.367, total=   0.0s\n",
      "[CV] activation=relu, hidden_layer_sizes=(10, 30), max_iter=300, solver=lbfgs \n",
      "[CV]  activation=relu, hidden_layer_sizes=(10, 30), max_iter=300, solver=lbfgs, score=0.429, total=   0.0s\n",
      "[CV] activation=relu, hidden_layer_sizes=(10, 30), max_iter=300, solver=lbfgs \n",
      "[CV]  activation=relu, hidden_layer_sizes=(10, 30), max_iter=300, solver=lbfgs, score=0.375, total=   0.0s\n",
      "[CV] activation=relu, hidden_layer_sizes=(10, 30), max_iter=300, solver=lbfgs \n",
      "[CV]  activation=relu, hidden_layer_sizes=(10, 30), max_iter=300, solver=lbfgs, score=0.417, total=   0.0s\n",
      "[CV] activation=relu, hidden_layer_sizes=(10, 30), max_iter=300, solver=lbfgs \n",
      "[CV]  activation=relu, hidden_layer_sizes=(10, 30), max_iter=300, solver=lbfgs, score=0.354, total=   0.0s\n",
      "[CV] activation=relu, hidden_layer_sizes=(10, 30), max_iter=300, solver=sgd \n",
      "[CV]  activation=relu, hidden_layer_sizes=(10, 30), max_iter=300, solver=sgd, score=0.694, total=   0.1s\n",
      "[CV] activation=relu, hidden_layer_sizes=(10, 30), max_iter=300, solver=sgd \n"
     ]
    },
    {
     "name": "stderr",
     "output_type": "stream",
     "text": [
      "/Users/Strawberry/anaconda3/lib/python3.7/site-packages/sklearn/neural_network/_multilayer_perceptron.py:571: ConvergenceWarning: Stochastic Optimizer: Maximum iterations (300) reached and the optimization hasn't converged yet.\n",
      "  % self.max_iter, ConvergenceWarning)\n"
     ]
    },
    {
     "name": "stdout",
     "output_type": "stream",
     "text": [
      "[CV]  activation=relu, hidden_layer_sizes=(10, 30), max_iter=300, solver=sgd, score=0.571, total=   0.2s\n",
      "[CV] activation=relu, hidden_layer_sizes=(10, 30), max_iter=300, solver=sgd \n",
      "[CV]  activation=relu, hidden_layer_sizes=(10, 30), max_iter=300, solver=sgd, score=0.625, total=   0.1s\n",
      "[CV] activation=relu, hidden_layer_sizes=(10, 30), max_iter=300, solver=sgd \n",
      "[CV]  activation=relu, hidden_layer_sizes=(10, 30), max_iter=300, solver=sgd, score=0.646, total=   0.1s\n",
      "[CV] activation=relu, hidden_layer_sizes=(10, 30), max_iter=300, solver=sgd \n",
      "[CV]  activation=relu, hidden_layer_sizes=(10, 30), max_iter=300, solver=sgd, score=0.708, total=   0.1s\n",
      "[CV] activation=relu, hidden_layer_sizes=(10, 30), max_iter=300, solver=adam \n"
     ]
    },
    {
     "name": "stderr",
     "output_type": "stream",
     "text": [
      "/Users/Strawberry/anaconda3/lib/python3.7/site-packages/sklearn/neural_network/_multilayer_perceptron.py:571: ConvergenceWarning: Stochastic Optimizer: Maximum iterations (300) reached and the optimization hasn't converged yet.\n",
      "  % self.max_iter, ConvergenceWarning)\n"
     ]
    },
    {
     "name": "stdout",
     "output_type": "stream",
     "text": [
      "[CV]  activation=relu, hidden_layer_sizes=(10, 30), max_iter=300, solver=adam, score=0.653, total=   0.2s\n",
      "[CV] activation=relu, hidden_layer_sizes=(10, 30), max_iter=300, solver=adam \n"
     ]
    },
    {
     "name": "stderr",
     "output_type": "stream",
     "text": [
      "/Users/Strawberry/anaconda3/lib/python3.7/site-packages/sklearn/neural_network/_multilayer_perceptron.py:571: ConvergenceWarning: Stochastic Optimizer: Maximum iterations (300) reached and the optimization hasn't converged yet.\n",
      "  % self.max_iter, ConvergenceWarning)\n"
     ]
    },
    {
     "name": "stdout",
     "output_type": "stream",
     "text": [
      "[CV]  activation=relu, hidden_layer_sizes=(10, 30), max_iter=300, solver=adam, score=0.633, total=   0.2s\n",
      "[CV] activation=relu, hidden_layer_sizes=(10, 30), max_iter=300, solver=adam \n"
     ]
    },
    {
     "name": "stderr",
     "output_type": "stream",
     "text": [
      "/Users/Strawberry/anaconda3/lib/python3.7/site-packages/sklearn/neural_network/_multilayer_perceptron.py:571: ConvergenceWarning: Stochastic Optimizer: Maximum iterations (300) reached and the optimization hasn't converged yet.\n",
      "  % self.max_iter, ConvergenceWarning)\n"
     ]
    },
    {
     "name": "stdout",
     "output_type": "stream",
     "text": [
      "[CV]  activation=relu, hidden_layer_sizes=(10, 30), max_iter=300, solver=adam, score=0.708, total=   0.2s\n",
      "[CV] activation=relu, hidden_layer_sizes=(10, 30), max_iter=300, solver=adam \n"
     ]
    },
    {
     "name": "stderr",
     "output_type": "stream",
     "text": [
      "/Users/Strawberry/anaconda3/lib/python3.7/site-packages/sklearn/neural_network/_multilayer_perceptron.py:571: ConvergenceWarning: Stochastic Optimizer: Maximum iterations (300) reached and the optimization hasn't converged yet.\n",
      "  % self.max_iter, ConvergenceWarning)\n"
     ]
    },
    {
     "name": "stdout",
     "output_type": "stream",
     "text": [
      "[CV]  activation=relu, hidden_layer_sizes=(10, 30), max_iter=300, solver=adam, score=0.729, total=   0.2s\n",
      "[CV] activation=relu, hidden_layer_sizes=(10, 30), max_iter=300, solver=adam \n"
     ]
    },
    {
     "name": "stderr",
     "output_type": "stream",
     "text": [
      "/Users/Strawberry/anaconda3/lib/python3.7/site-packages/sklearn/neural_network/_multilayer_perceptron.py:571: ConvergenceWarning: Stochastic Optimizer: Maximum iterations (300) reached and the optimization hasn't converged yet.\n",
      "  % self.max_iter, ConvergenceWarning)\n"
     ]
    },
    {
     "name": "stdout",
     "output_type": "stream",
     "text": [
      "[CV]  activation=relu, hidden_layer_sizes=(10, 30), max_iter=300, solver=adam, score=0.708, total=   0.2s\n",
      "[CV] activation=relu, hidden_layer_sizes=(10, 40), max_iter=100, solver=lbfgs \n",
      "[CV]  activation=relu, hidden_layer_sizes=(10, 40), max_iter=100, solver=lbfgs, score=0.449, total=   0.0s\n",
      "[CV] activation=relu, hidden_layer_sizes=(10, 40), max_iter=100, solver=lbfgs \n",
      "[CV]  activation=relu, hidden_layer_sizes=(10, 40), max_iter=100, solver=lbfgs, score=0.469, total=   0.0s\n",
      "[CV] activation=relu, hidden_layer_sizes=(10, 40), max_iter=100, solver=lbfgs \n",
      "[CV]  activation=relu, hidden_layer_sizes=(10, 40), max_iter=100, solver=lbfgs, score=0.458, total=   0.0s\n",
      "[CV] activation=relu, hidden_layer_sizes=(10, 40), max_iter=100, solver=lbfgs \n",
      "[CV]  activation=relu, hidden_layer_sizes=(10, 40), max_iter=100, solver=lbfgs, score=0.458, total=   0.0s\n",
      "[CV] activation=relu, hidden_layer_sizes=(10, 40), max_iter=100, solver=lbfgs \n",
      "[CV]  activation=relu, hidden_layer_sizes=(10, 40), max_iter=100, solver=lbfgs, score=0.458, total=   0.0s\n",
      "[CV] activation=relu, hidden_layer_sizes=(10, 40), max_iter=100, solver=sgd \n",
      "[CV]  activation=relu, hidden_layer_sizes=(10, 40), max_iter=100, solver=sgd, score=0.551, total=   0.0s\n",
      "[CV] activation=relu, hidden_layer_sizes=(10, 40), max_iter=100, solver=sgd \n",
      "[CV]  activation=relu, hidden_layer_sizes=(10, 40), max_iter=100, solver=sgd, score=0.531, total=   0.0s\n",
      "[CV] activation=relu, hidden_layer_sizes=(10, 40), max_iter=100, solver=sgd \n",
      "[CV]  activation=relu, hidden_layer_sizes=(10, 40), max_iter=100, solver=sgd, score=0.562, total=   0.1s\n",
      "[CV] activation=relu, hidden_layer_sizes=(10, 40), max_iter=100, solver=sgd \n",
      "[CV]  activation=relu, hidden_layer_sizes=(10, 40), max_iter=100, solver=sgd, score=0.625, total=   0.0s\n",
      "[CV] activation=relu, hidden_layer_sizes=(10, 40), max_iter=100, solver=sgd \n",
      "[CV]  activation=relu, hidden_layer_sizes=(10, 40), max_iter=100, solver=sgd, score=0.562, total=   0.1s\n",
      "[CV] activation=relu, hidden_layer_sizes=(10, 40), max_iter=100, solver=adam \n",
      "[CV]  activation=relu, hidden_layer_sizes=(10, 40), max_iter=100, solver=adam, score=0.633, total=   0.0s\n",
      "[CV] activation=relu, hidden_layer_sizes=(10, 40), max_iter=100, solver=adam \n",
      "[CV]  activation=relu, hidden_layer_sizes=(10, 40), max_iter=100, solver=adam, score=0.469, total=   0.0s\n",
      "[CV] activation=relu, hidden_layer_sizes=(10, 40), max_iter=100, solver=adam \n",
      "[CV]  activation=relu, hidden_layer_sizes=(10, 40), max_iter=100, solver=adam, score=0.646, total=   0.1s\n",
      "[CV] activation=relu, hidden_layer_sizes=(10, 40), max_iter=100, solver=adam \n",
      "[CV]  activation=relu, hidden_layer_sizes=(10, 40), max_iter=100, solver=adam, score=0.458, total=   0.0s\n",
      "[CV] activation=relu, hidden_layer_sizes=(10, 40), max_iter=100, solver=adam \n"
     ]
    },
    {
     "name": "stderr",
     "output_type": "stream",
     "text": [
      "/Users/Strawberry/anaconda3/lib/python3.7/site-packages/sklearn/neural_network/_multilayer_perceptron.py:571: ConvergenceWarning: Stochastic Optimizer: Maximum iterations (100) reached and the optimization hasn't converged yet.\n",
      "  % self.max_iter, ConvergenceWarning)\n",
      "/Users/Strawberry/anaconda3/lib/python3.7/site-packages/sklearn/neural_network/_multilayer_perceptron.py:571: ConvergenceWarning: Stochastic Optimizer: Maximum iterations (100) reached and the optimization hasn't converged yet.\n",
      "  % self.max_iter, ConvergenceWarning)\n"
     ]
    },
    {
     "name": "stdout",
     "output_type": "stream",
     "text": [
      "[CV]  activation=relu, hidden_layer_sizes=(10, 40), max_iter=100, solver=adam, score=0.521, total=   0.1s\n",
      "[CV] activation=relu, hidden_layer_sizes=(10, 40), max_iter=200, solver=lbfgs \n",
      "[CV]  activation=relu, hidden_layer_sizes=(10, 40), max_iter=200, solver=lbfgs, score=0.449, total=   0.0s\n",
      "[CV] activation=relu, hidden_layer_sizes=(10, 40), max_iter=200, solver=lbfgs \n",
      "[CV]  activation=relu, hidden_layer_sizes=(10, 40), max_iter=200, solver=lbfgs, score=0.469, total=   0.0s\n",
      "[CV] activation=relu, hidden_layer_sizes=(10, 40), max_iter=200, solver=lbfgs \n",
      "[CV]  activation=relu, hidden_layer_sizes=(10, 40), max_iter=200, solver=lbfgs, score=0.458, total=   0.0s\n",
      "[CV] activation=relu, hidden_layer_sizes=(10, 40), max_iter=200, solver=lbfgs \n",
      "[CV]  activation=relu, hidden_layer_sizes=(10, 40), max_iter=200, solver=lbfgs, score=0.458, total=   0.0s\n",
      "[CV] activation=relu, hidden_layer_sizes=(10, 40), max_iter=200, solver=lbfgs \n",
      "[CV]  activation=relu, hidden_layer_sizes=(10, 40), max_iter=200, solver=lbfgs, score=0.458, total=   0.0s\n",
      "[CV] activation=relu, hidden_layer_sizes=(10, 40), max_iter=200, solver=sgd \n",
      "[CV]  activation=relu, hidden_layer_sizes=(10, 40), max_iter=200, solver=sgd, score=0.551, total=   0.0s\n",
      "[CV] activation=relu, hidden_layer_sizes=(10, 40), max_iter=200, solver=sgd \n",
      "[CV]  activation=relu, hidden_layer_sizes=(10, 40), max_iter=200, solver=sgd, score=0.531, total=   0.0s\n",
      "[CV] activation=relu, hidden_layer_sizes=(10, 40), max_iter=200, solver=sgd \n",
      "[CV]  activation=relu, hidden_layer_sizes=(10, 40), max_iter=200, solver=sgd, score=0.562, total=   0.1s\n",
      "[CV] activation=relu, hidden_layer_sizes=(10, 40), max_iter=200, solver=sgd \n",
      "[CV]  activation=relu, hidden_layer_sizes=(10, 40), max_iter=200, solver=sgd, score=0.625, total=   0.0s\n",
      "[CV] activation=relu, hidden_layer_sizes=(10, 40), max_iter=200, solver=sgd \n",
      "[CV]  activation=relu, hidden_layer_sizes=(10, 40), max_iter=200, solver=sgd, score=0.562, total=   0.1s\n",
      "[CV] activation=relu, hidden_layer_sizes=(10, 40), max_iter=200, solver=adam \n",
      "[CV]  activation=relu, hidden_layer_sizes=(10, 40), max_iter=200, solver=adam, score=0.633, total=   0.0s\n",
      "[CV] activation=relu, hidden_layer_sizes=(10, 40), max_iter=200, solver=adam \n",
      "[CV]  activation=relu, hidden_layer_sizes=(10, 40), max_iter=200, solver=adam, score=0.469, total=   0.0s\n",
      "[CV] activation=relu, hidden_layer_sizes=(10, 40), max_iter=200, solver=adam \n",
      "[CV]  activation=relu, hidden_layer_sizes=(10, 40), max_iter=200, solver=adam, score=0.667, total=   0.1s\n",
      "[CV] activation=relu, hidden_layer_sizes=(10, 40), max_iter=200, solver=adam \n"
     ]
    },
    {
     "name": "stderr",
     "output_type": "stream",
     "text": [
      "/Users/Strawberry/anaconda3/lib/python3.7/site-packages/sklearn/neural_network/_multilayer_perceptron.py:571: ConvergenceWarning: Stochastic Optimizer: Maximum iterations (200) reached and the optimization hasn't converged yet.\n",
      "  % self.max_iter, ConvergenceWarning)\n",
      "/Users/Strawberry/anaconda3/lib/python3.7/site-packages/sklearn/neural_network/_multilayer_perceptron.py:571: ConvergenceWarning: Stochastic Optimizer: Maximum iterations (200) reached and the optimization hasn't converged yet.\n",
      "  % self.max_iter, ConvergenceWarning)\n"
     ]
    },
    {
     "name": "stdout",
     "output_type": "stream",
     "text": [
      "[CV]  activation=relu, hidden_layer_sizes=(10, 40), max_iter=200, solver=adam, score=0.458, total=   0.0s\n",
      "[CV] activation=relu, hidden_layer_sizes=(10, 40), max_iter=200, solver=adam \n",
      "[CV]  activation=relu, hidden_layer_sizes=(10, 40), max_iter=200, solver=adam, score=0.625, total=   0.1s\n",
      "[CV] activation=relu, hidden_layer_sizes=(10, 40), max_iter=300, solver=lbfgs \n",
      "[CV]  activation=relu, hidden_layer_sizes=(10, 40), max_iter=300, solver=lbfgs, score=0.449, total=   0.0s\n",
      "[CV] activation=relu, hidden_layer_sizes=(10, 40), max_iter=300, solver=lbfgs \n",
      "[CV]  activation=relu, hidden_layer_sizes=(10, 40), max_iter=300, solver=lbfgs, score=0.469, total=   0.0s\n",
      "[CV] activation=relu, hidden_layer_sizes=(10, 40), max_iter=300, solver=lbfgs \n",
      "[CV]  activation=relu, hidden_layer_sizes=(10, 40), max_iter=300, solver=lbfgs, score=0.458, total=   0.0s\n",
      "[CV] activation=relu, hidden_layer_sizes=(10, 40), max_iter=300, solver=lbfgs \n",
      "[CV]  activation=relu, hidden_layer_sizes=(10, 40), max_iter=300, solver=lbfgs, score=0.458, total=   0.0s\n",
      "[CV] activation=relu, hidden_layer_sizes=(10, 40), max_iter=300, solver=lbfgs \n",
      "[CV]  activation=relu, hidden_layer_sizes=(10, 40), max_iter=300, solver=lbfgs, score=0.458, total=   0.0s\n",
      "[CV] activation=relu, hidden_layer_sizes=(10, 40), max_iter=300, solver=sgd \n",
      "[CV]  activation=relu, hidden_layer_sizes=(10, 40), max_iter=300, solver=sgd, score=0.551, total=   0.0s\n",
      "[CV] activation=relu, hidden_layer_sizes=(10, 40), max_iter=300, solver=sgd \n",
      "[CV]  activation=relu, hidden_layer_sizes=(10, 40), max_iter=300, solver=sgd, score=0.531, total=   0.0s\n",
      "[CV] activation=relu, hidden_layer_sizes=(10, 40), max_iter=300, solver=sgd \n",
      "[CV]  activation=relu, hidden_layer_sizes=(10, 40), max_iter=300, solver=sgd, score=0.562, total=   0.1s\n",
      "[CV] activation=relu, hidden_layer_sizes=(10, 40), max_iter=300, solver=sgd \n",
      "[CV]  activation=relu, hidden_layer_sizes=(10, 40), max_iter=300, solver=sgd, score=0.625, total=   0.0s\n",
      "[CV] activation=relu, hidden_layer_sizes=(10, 40), max_iter=300, solver=sgd \n",
      "[CV]  activation=relu, hidden_layer_sizes=(10, 40), max_iter=300, solver=sgd, score=0.562, total=   0.0s\n",
      "[CV] activation=relu, hidden_layer_sizes=(10, 40), max_iter=300, solver=adam \n",
      "[CV]  activation=relu, hidden_layer_sizes=(10, 40), max_iter=300, solver=adam, score=0.633, total=   0.0s\n",
      "[CV] activation=relu, hidden_layer_sizes=(10, 40), max_iter=300, solver=adam \n",
      "[CV]  activation=relu, hidden_layer_sizes=(10, 40), max_iter=300, solver=adam, score=0.469, total=   0.0s\n",
      "[CV] activation=relu, hidden_layer_sizes=(10, 40), max_iter=300, solver=adam \n"
     ]
    },
    {
     "name": "stderr",
     "output_type": "stream",
     "text": [
      "/Users/Strawberry/anaconda3/lib/python3.7/site-packages/sklearn/neural_network/_multilayer_perceptron.py:571: ConvergenceWarning: Stochastic Optimizer: Maximum iterations (300) reached and the optimization hasn't converged yet.\n",
      "  % self.max_iter, ConvergenceWarning)\n"
     ]
    },
    {
     "name": "stdout",
     "output_type": "stream",
     "text": [
      "[CV]  activation=relu, hidden_layer_sizes=(10, 40), max_iter=300, solver=adam, score=0.708, total=   0.2s\n",
      "[CV] activation=relu, hidden_layer_sizes=(10, 40), max_iter=300, solver=adam \n",
      "[CV]  activation=relu, hidden_layer_sizes=(10, 40), max_iter=300, solver=adam, score=0.458, total=   0.0s\n",
      "[CV] activation=relu, hidden_layer_sizes=(10, 40), max_iter=300, solver=adam \n"
     ]
    },
    {
     "name": "stderr",
     "output_type": "stream",
     "text": [
      "/Users/Strawberry/anaconda3/lib/python3.7/site-packages/sklearn/neural_network/_multilayer_perceptron.py:571: ConvergenceWarning: Stochastic Optimizer: Maximum iterations (300) reached and the optimization hasn't converged yet.\n",
      "  % self.max_iter, ConvergenceWarning)\n",
      "/Users/Strawberry/anaconda3/lib/python3.7/site-packages/sklearn/neural_network/_multilayer_perceptron.py:571: ConvergenceWarning: Stochastic Optimizer: Maximum iterations (100) reached and the optimization hasn't converged yet.\n",
      "  % self.max_iter, ConvergenceWarning)\n",
      "/Users/Strawberry/anaconda3/lib/python3.7/site-packages/sklearn/neural_network/_multilayer_perceptron.py:571: ConvergenceWarning: Stochastic Optimizer: Maximum iterations (100) reached and the optimization hasn't converged yet.\n",
      "  % self.max_iter, ConvergenceWarning)\n"
     ]
    },
    {
     "name": "stdout",
     "output_type": "stream",
     "text": [
      "[CV]  activation=relu, hidden_layer_sizes=(10, 40), max_iter=300, solver=adam, score=0.729, total=   0.2s\n",
      "[CV] activation=relu, hidden_layer_sizes=(20, 10), max_iter=100, solver=lbfgs \n",
      "[CV]  activation=relu, hidden_layer_sizes=(20, 10), max_iter=100, solver=lbfgs, score=0.449, total=   0.0s\n",
      "[CV] activation=relu, hidden_layer_sizes=(20, 10), max_iter=100, solver=lbfgs \n",
      "[CV]  activation=relu, hidden_layer_sizes=(20, 10), max_iter=100, solver=lbfgs, score=0.469, total=   0.0s\n",
      "[CV] activation=relu, hidden_layer_sizes=(20, 10), max_iter=100, solver=lbfgs \n",
      "[CV]  activation=relu, hidden_layer_sizes=(20, 10), max_iter=100, solver=lbfgs, score=0.458, total=   0.0s\n",
      "[CV] activation=relu, hidden_layer_sizes=(20, 10), max_iter=100, solver=lbfgs \n",
      "[CV]  activation=relu, hidden_layer_sizes=(20, 10), max_iter=100, solver=lbfgs, score=0.458, total=   0.0s\n",
      "[CV] activation=relu, hidden_layer_sizes=(20, 10), max_iter=100, solver=lbfgs \n",
      "[CV]  activation=relu, hidden_layer_sizes=(20, 10), max_iter=100, solver=lbfgs, score=0.458, total=   0.0s\n",
      "[CV] activation=relu, hidden_layer_sizes=(20, 10), max_iter=100, solver=sgd \n",
      "[CV]  activation=relu, hidden_layer_sizes=(20, 10), max_iter=100, solver=sgd, score=0.694, total=   0.1s\n",
      "[CV] activation=relu, hidden_layer_sizes=(20, 10), max_iter=100, solver=sgd \n",
      "[CV]  activation=relu, hidden_layer_sizes=(20, 10), max_iter=100, solver=sgd, score=0.510, total=   0.0s\n",
      "[CV] activation=relu, hidden_layer_sizes=(20, 10), max_iter=100, solver=sgd \n",
      "[CV]  activation=relu, hidden_layer_sizes=(20, 10), max_iter=100, solver=sgd, score=0.625, total=   0.1s\n",
      "[CV] activation=relu, hidden_layer_sizes=(20, 10), max_iter=100, solver=sgd \n",
      "[CV]  activation=relu, hidden_layer_sizes=(20, 10), max_iter=100, solver=sgd, score=0.625, total=   0.0s\n",
      "[CV] activation=relu, hidden_layer_sizes=(20, 10), max_iter=100, solver=sgd \n"
     ]
    },
    {
     "name": "stderr",
     "output_type": "stream",
     "text": [
      "/Users/Strawberry/anaconda3/lib/python3.7/site-packages/sklearn/neural_network/_multilayer_perceptron.py:571: ConvergenceWarning: Stochastic Optimizer: Maximum iterations (100) reached and the optimization hasn't converged yet.\n",
      "  % self.max_iter, ConvergenceWarning)\n"
     ]
    },
    {
     "name": "stdout",
     "output_type": "stream",
     "text": [
      "[CV]  activation=relu, hidden_layer_sizes=(20, 10), max_iter=100, solver=sgd, score=0.688, total=   0.1s\n",
      "[CV] activation=relu, hidden_layer_sizes=(20, 10), max_iter=100, solver=adam \n",
      "[CV]  activation=relu, hidden_layer_sizes=(20, 10), max_iter=100, solver=adam, score=0.388, total=   0.0s\n",
      "[CV] activation=relu, hidden_layer_sizes=(20, 10), max_iter=100, solver=adam \n",
      "[CV]  activation=relu, hidden_layer_sizes=(20, 10), max_iter=100, solver=adam, score=0.551, total=   0.0s\n",
      "[CV] activation=relu, hidden_layer_sizes=(20, 10), max_iter=100, solver=adam \n",
      "[CV]  activation=relu, hidden_layer_sizes=(20, 10), max_iter=100, solver=adam, score=0.479, total=   0.0s\n",
      "[CV] activation=relu, hidden_layer_sizes=(20, 10), max_iter=100, solver=adam \n",
      "[CV]  activation=relu, hidden_layer_sizes=(20, 10), max_iter=100, solver=adam, score=0.458, total=   0.0s\n",
      "[CV] activation=relu, hidden_layer_sizes=(20, 10), max_iter=100, solver=adam \n",
      "[CV]  activation=relu, hidden_layer_sizes=(20, 10), max_iter=100, solver=adam, score=0.438, total=   0.0s\n",
      "[CV] activation=relu, hidden_layer_sizes=(20, 10), max_iter=200, solver=lbfgs \n",
      "[CV]  activation=relu, hidden_layer_sizes=(20, 10), max_iter=200, solver=lbfgs, score=0.449, total=   0.0s\n",
      "[CV] activation=relu, hidden_layer_sizes=(20, 10), max_iter=200, solver=lbfgs \n",
      "[CV]  activation=relu, hidden_layer_sizes=(20, 10), max_iter=200, solver=lbfgs, score=0.469, total=   0.0s\n",
      "[CV] activation=relu, hidden_layer_sizes=(20, 10), max_iter=200, solver=lbfgs \n",
      "[CV]  activation=relu, hidden_layer_sizes=(20, 10), max_iter=200, solver=lbfgs, score=0.458, total=   0.0s\n",
      "[CV] activation=relu, hidden_layer_sizes=(20, 10), max_iter=200, solver=lbfgs \n",
      "[CV]  activation=relu, hidden_layer_sizes=(20, 10), max_iter=200, solver=lbfgs, score=0.458, total=   0.0s\n",
      "[CV] activation=relu, hidden_layer_sizes=(20, 10), max_iter=200, solver=lbfgs \n",
      "[CV]  activation=relu, hidden_layer_sizes=(20, 10), max_iter=200, solver=lbfgs, score=0.458, total=   0.0s\n",
      "[CV] activation=relu, hidden_layer_sizes=(20, 10), max_iter=200, solver=sgd \n",
      "[CV]  activation=relu, hidden_layer_sizes=(20, 10), max_iter=200, solver=sgd, score=0.694, total=   0.1s\n",
      "[CV] activation=relu, hidden_layer_sizes=(20, 10), max_iter=200, solver=sgd \n",
      "[CV]  activation=relu, hidden_layer_sizes=(20, 10), max_iter=200, solver=sgd, score=0.510, total=   0.0s\n",
      "[CV] activation=relu, hidden_layer_sizes=(20, 10), max_iter=200, solver=sgd \n",
      "[CV]  activation=relu, hidden_layer_sizes=(20, 10), max_iter=200, solver=sgd, score=0.604, total=   0.1s\n",
      "[CV] activation=relu, hidden_layer_sizes=(20, 10), max_iter=200, solver=sgd \n",
      "[CV]  activation=relu, hidden_layer_sizes=(20, 10), max_iter=200, solver=sgd, score=0.625, total=   0.0s\n",
      "[CV] activation=relu, hidden_layer_sizes=(20, 10), max_iter=200, solver=sgd \n",
      "[CV]  activation=relu, hidden_layer_sizes=(20, 10), max_iter=200, solver=sgd, score=0.708, total=   0.1s\n",
      "[CV] activation=relu, hidden_layer_sizes=(20, 10), max_iter=200, solver=adam \n",
      "[CV]  activation=relu, hidden_layer_sizes=(20, 10), max_iter=200, solver=adam, score=0.388, total=   0.0s\n",
      "[CV] activation=relu, hidden_layer_sizes=(20, 10), max_iter=200, solver=adam \n",
      "[CV]  activation=relu, hidden_layer_sizes=(20, 10), max_iter=200, solver=adam, score=0.551, total=   0.0s\n",
      "[CV] activation=relu, hidden_layer_sizes=(20, 10), max_iter=200, solver=adam \n",
      "[CV]  activation=relu, hidden_layer_sizes=(20, 10), max_iter=200, solver=adam, score=0.479, total=   0.0s\n",
      "[CV] activation=relu, hidden_layer_sizes=(20, 10), max_iter=200, solver=adam \n",
      "[CV]  activation=relu, hidden_layer_sizes=(20, 10), max_iter=200, solver=adam, score=0.458, total=   0.0s\n",
      "[CV] activation=relu, hidden_layer_sizes=(20, 10), max_iter=200, solver=adam \n",
      "[CV]  activation=relu, hidden_layer_sizes=(20, 10), max_iter=200, solver=adam, score=0.438, total=   0.0s\n",
      "[CV] activation=relu, hidden_layer_sizes=(20, 10), max_iter=300, solver=lbfgs \n",
      "[CV]  activation=relu, hidden_layer_sizes=(20, 10), max_iter=300, solver=lbfgs, score=0.449, total=   0.0s\n",
      "[CV] activation=relu, hidden_layer_sizes=(20, 10), max_iter=300, solver=lbfgs \n",
      "[CV]  activation=relu, hidden_layer_sizes=(20, 10), max_iter=300, solver=lbfgs, score=0.469, total=   0.0s\n",
      "[CV] activation=relu, hidden_layer_sizes=(20, 10), max_iter=300, solver=lbfgs \n",
      "[CV]  activation=relu, hidden_layer_sizes=(20, 10), max_iter=300, solver=lbfgs, score=0.458, total=   0.0s\n",
      "[CV] activation=relu, hidden_layer_sizes=(20, 10), max_iter=300, solver=lbfgs \n",
      "[CV]  activation=relu, hidden_layer_sizes=(20, 10), max_iter=300, solver=lbfgs, score=0.458, total=   0.0s\n",
      "[CV] activation=relu, hidden_layer_sizes=(20, 10), max_iter=300, solver=lbfgs \n",
      "[CV]  activation=relu, hidden_layer_sizes=(20, 10), max_iter=300, solver=lbfgs, score=0.458, total=   0.0s\n",
      "[CV] activation=relu, hidden_layer_sizes=(20, 10), max_iter=300, solver=sgd \n",
      "[CV]  activation=relu, hidden_layer_sizes=(20, 10), max_iter=300, solver=sgd, score=0.694, total=   0.1s\n",
      "[CV] activation=relu, hidden_layer_sizes=(20, 10), max_iter=300, solver=sgd \n",
      "[CV]  activation=relu, hidden_layer_sizes=(20, 10), max_iter=300, solver=sgd, score=0.510, total=   0.0s\n",
      "[CV] activation=relu, hidden_layer_sizes=(20, 10), max_iter=300, solver=sgd \n",
      "[CV]  activation=relu, hidden_layer_sizes=(20, 10), max_iter=300, solver=sgd, score=0.604, total=   0.1s\n",
      "[CV] activation=relu, hidden_layer_sizes=(20, 10), max_iter=300, solver=sgd \n",
      "[CV]  activation=relu, hidden_layer_sizes=(20, 10), max_iter=300, solver=sgd, score=0.625, total=   0.0s\n",
      "[CV] activation=relu, hidden_layer_sizes=(20, 10), max_iter=300, solver=sgd \n",
      "[CV]  activation=relu, hidden_layer_sizes=(20, 10), max_iter=300, solver=sgd, score=0.708, total=   0.1s\n",
      "[CV] activation=relu, hidden_layer_sizes=(20, 10), max_iter=300, solver=adam \n",
      "[CV]  activation=relu, hidden_layer_sizes=(20, 10), max_iter=300, solver=adam, score=0.388, total=   0.0s\n",
      "[CV] activation=relu, hidden_layer_sizes=(20, 10), max_iter=300, solver=adam \n",
      "[CV]  activation=relu, hidden_layer_sizes=(20, 10), max_iter=300, solver=adam, score=0.551, total=   0.0s\n",
      "[CV] activation=relu, hidden_layer_sizes=(20, 10), max_iter=300, solver=adam \n",
      "[CV]  activation=relu, hidden_layer_sizes=(20, 10), max_iter=300, solver=adam, score=0.479, total=   0.0s\n",
      "[CV] activation=relu, hidden_layer_sizes=(20, 10), max_iter=300, solver=adam \n",
      "[CV]  activation=relu, hidden_layer_sizes=(20, 10), max_iter=300, solver=adam, score=0.458, total=   0.0s\n",
      "[CV] activation=relu, hidden_layer_sizes=(20, 10), max_iter=300, solver=adam \n",
      "[CV]  activation=relu, hidden_layer_sizes=(20, 10), max_iter=300, solver=adam, score=0.438, total=   0.0s\n",
      "[CV] activation=relu, hidden_layer_sizes=(20, 20), max_iter=100, solver=lbfgs \n"
     ]
    },
    {
     "name": "stderr",
     "output_type": "stream",
     "text": [
      "/Users/Strawberry/anaconda3/lib/python3.7/site-packages/sklearn/neural_network/_multilayer_perceptron.py:470: ConvergenceWarning: lbfgs failed to converge (status=1):\n",
      "STOP: TOTAL NO. of ITERATIONS REACHED LIMIT.\n",
      "\n",
      "Increase the number of iterations (max_iter) or scale the data as shown in:\n",
      "    https://scikit-learn.org/stable/modules/preprocessing.html\n",
      "  self.n_iter_ = _check_optimize_result(\"lbfgs\", opt_res, self.max_iter)\n",
      "/Users/Strawberry/anaconda3/lib/python3.7/site-packages/sklearn/neural_network/_multilayer_perceptron.py:470: ConvergenceWarning: lbfgs failed to converge (status=1):\n",
      "STOP: TOTAL NO. of ITERATIONS REACHED LIMIT.\n",
      "\n",
      "Increase the number of iterations (max_iter) or scale the data as shown in:\n",
      "    https://scikit-learn.org/stable/modules/preprocessing.html\n",
      "  self.n_iter_ = _check_optimize_result(\"lbfgs\", opt_res, self.max_iter)\n"
     ]
    },
    {
     "name": "stdout",
     "output_type": "stream",
     "text": [
      "[CV]  activation=relu, hidden_layer_sizes=(20, 20), max_iter=100, solver=lbfgs, score=0.776, total=   0.1s\n",
      "[CV] activation=relu, hidden_layer_sizes=(20, 20), max_iter=100, solver=lbfgs \n",
      "[CV]  activation=relu, hidden_layer_sizes=(20, 20), max_iter=100, solver=lbfgs, score=0.612, total=   0.1s\n",
      "[CV] activation=relu, hidden_layer_sizes=(20, 20), max_iter=100, solver=lbfgs \n",
      "[CV]  activation=relu, hidden_layer_sizes=(20, 20), max_iter=100, solver=lbfgs, score=0.771, total=   0.1s\n",
      "[CV] activation=relu, hidden_layer_sizes=(20, 20), max_iter=100, solver=lbfgs \n"
     ]
    },
    {
     "name": "stderr",
     "output_type": "stream",
     "text": [
      "/Users/Strawberry/anaconda3/lib/python3.7/site-packages/sklearn/neural_network/_multilayer_perceptron.py:470: ConvergenceWarning: lbfgs failed to converge (status=1):\n",
      "STOP: TOTAL NO. of ITERATIONS REACHED LIMIT.\n",
      "\n",
      "Increase the number of iterations (max_iter) or scale the data as shown in:\n",
      "    https://scikit-learn.org/stable/modules/preprocessing.html\n",
      "  self.n_iter_ = _check_optimize_result(\"lbfgs\", opt_res, self.max_iter)\n",
      "/Users/Strawberry/anaconda3/lib/python3.7/site-packages/sklearn/neural_network/_multilayer_perceptron.py:470: ConvergenceWarning: lbfgs failed to converge (status=1):\n",
      "STOP: TOTAL NO. of ITERATIONS REACHED LIMIT.\n",
      "\n",
      "Increase the number of iterations (max_iter) or scale the data as shown in:\n",
      "    https://scikit-learn.org/stable/modules/preprocessing.html\n",
      "  self.n_iter_ = _check_optimize_result(\"lbfgs\", opt_res, self.max_iter)\n",
      "/Users/Strawberry/anaconda3/lib/python3.7/site-packages/sklearn/neural_network/_multilayer_perceptron.py:571: ConvergenceWarning: Stochastic Optimizer: Maximum iterations (100) reached and the optimization hasn't converged yet.\n",
      "  % self.max_iter, ConvergenceWarning)\n"
     ]
    },
    {
     "name": "stdout",
     "output_type": "stream",
     "text": [
      "[CV]  activation=relu, hidden_layer_sizes=(20, 20), max_iter=100, solver=lbfgs, score=0.854, total=   0.1s\n",
      "[CV] activation=relu, hidden_layer_sizes=(20, 20), max_iter=100, solver=lbfgs \n",
      "[CV]  activation=relu, hidden_layer_sizes=(20, 20), max_iter=100, solver=lbfgs, score=0.771, total=   0.1s\n",
      "[CV] activation=relu, hidden_layer_sizes=(20, 20), max_iter=100, solver=sgd \n",
      "[CV]  activation=relu, hidden_layer_sizes=(20, 20), max_iter=100, solver=sgd, score=0.612, total=   0.1s\n",
      "[CV] activation=relu, hidden_layer_sizes=(20, 20), max_iter=100, solver=sgd \n",
      "[CV]  activation=relu, hidden_layer_sizes=(20, 20), max_iter=100, solver=sgd, score=0.469, total=   0.0s\n",
      "[CV] activation=relu, hidden_layer_sizes=(20, 20), max_iter=100, solver=sgd \n"
     ]
    },
    {
     "name": "stderr",
     "output_type": "stream",
     "text": [
      "/Users/Strawberry/anaconda3/lib/python3.7/site-packages/sklearn/neural_network/_multilayer_perceptron.py:571: ConvergenceWarning: Stochastic Optimizer: Maximum iterations (100) reached and the optimization hasn't converged yet.\n",
      "  % self.max_iter, ConvergenceWarning)\n",
      "/Users/Strawberry/anaconda3/lib/python3.7/site-packages/sklearn/neural_network/_multilayer_perceptron.py:571: ConvergenceWarning: Stochastic Optimizer: Maximum iterations (100) reached and the optimization hasn't converged yet.\n",
      "  % self.max_iter, ConvergenceWarning)\n",
      "/Users/Strawberry/anaconda3/lib/python3.7/site-packages/sklearn/neural_network/_multilayer_perceptron.py:571: ConvergenceWarning: Stochastic Optimizer: Maximum iterations (100) reached and the optimization hasn't converged yet.\n",
      "  % self.max_iter, ConvergenceWarning)\n"
     ]
    },
    {
     "name": "stdout",
     "output_type": "stream",
     "text": [
      "[CV]  activation=relu, hidden_layer_sizes=(20, 20), max_iter=100, solver=sgd, score=0.625, total=   0.1s\n",
      "[CV] activation=relu, hidden_layer_sizes=(20, 20), max_iter=100, solver=sgd \n",
      "[CV]  activation=relu, hidden_layer_sizes=(20, 20), max_iter=100, solver=sgd, score=0.479, total=   0.0s\n",
      "[CV] activation=relu, hidden_layer_sizes=(20, 20), max_iter=100, solver=sgd \n",
      "[CV]  activation=relu, hidden_layer_sizes=(20, 20), max_iter=100, solver=sgd, score=0.583, total=   0.1s\n",
      "[CV] activation=relu, hidden_layer_sizes=(20, 20), max_iter=100, solver=adam \n",
      "[CV]  activation=relu, hidden_layer_sizes=(20, 20), max_iter=100, solver=adam, score=0.673, total=   0.1s\n",
      "[CV] activation=relu, hidden_layer_sizes=(20, 20), max_iter=100, solver=adam \n"
     ]
    },
    {
     "name": "stderr",
     "output_type": "stream",
     "text": [
      "/Users/Strawberry/anaconda3/lib/python3.7/site-packages/sklearn/neural_network/_multilayer_perceptron.py:571: ConvergenceWarning: Stochastic Optimizer: Maximum iterations (100) reached and the optimization hasn't converged yet.\n",
      "  % self.max_iter, ConvergenceWarning)\n",
      "/Users/Strawberry/anaconda3/lib/python3.7/site-packages/sklearn/neural_network/_multilayer_perceptron.py:571: ConvergenceWarning: Stochastic Optimizer: Maximum iterations (100) reached and the optimization hasn't converged yet.\n",
      "  % self.max_iter, ConvergenceWarning)\n",
      "/Users/Strawberry/anaconda3/lib/python3.7/site-packages/sklearn/neural_network/_multilayer_perceptron.py:571: ConvergenceWarning: Stochastic Optimizer: Maximum iterations (100) reached and the optimization hasn't converged yet.\n",
      "  % self.max_iter, ConvergenceWarning)\n"
     ]
    },
    {
     "name": "stdout",
     "output_type": "stream",
     "text": [
      "[CV]  activation=relu, hidden_layer_sizes=(20, 20), max_iter=100, solver=adam, score=0.612, total=   0.1s\n",
      "[CV] activation=relu, hidden_layer_sizes=(20, 20), max_iter=100, solver=adam \n",
      "[CV]  activation=relu, hidden_layer_sizes=(20, 20), max_iter=100, solver=adam, score=0.646, total=   0.1s\n",
      "[CV] activation=relu, hidden_layer_sizes=(20, 20), max_iter=100, solver=adam \n",
      "[CV]  activation=relu, hidden_layer_sizes=(20, 20), max_iter=100, solver=adam, score=0.646, total=   0.1s\n",
      "[CV] activation=relu, hidden_layer_sizes=(20, 20), max_iter=100, solver=adam \n"
     ]
    },
    {
     "name": "stderr",
     "output_type": "stream",
     "text": [
      "/Users/Strawberry/anaconda3/lib/python3.7/site-packages/sklearn/neural_network/_multilayer_perceptron.py:571: ConvergenceWarning: Stochastic Optimizer: Maximum iterations (100) reached and the optimization hasn't converged yet.\n",
      "  % self.max_iter, ConvergenceWarning)\n",
      "/Users/Strawberry/anaconda3/lib/python3.7/site-packages/sklearn/neural_network/_multilayer_perceptron.py:470: ConvergenceWarning: lbfgs failed to converge (status=1):\n",
      "STOP: TOTAL NO. of ITERATIONS REACHED LIMIT.\n",
      "\n",
      "Increase the number of iterations (max_iter) or scale the data as shown in:\n",
      "    https://scikit-learn.org/stable/modules/preprocessing.html\n",
      "  self.n_iter_ = _check_optimize_result(\"lbfgs\", opt_res, self.max_iter)\n"
     ]
    },
    {
     "name": "stdout",
     "output_type": "stream",
     "text": [
      "[CV]  activation=relu, hidden_layer_sizes=(20, 20), max_iter=100, solver=adam, score=0.625, total=   0.1s\n",
      "[CV] activation=relu, hidden_layer_sizes=(20, 20), max_iter=200, solver=lbfgs \n",
      "[CV]  activation=relu, hidden_layer_sizes=(20, 20), max_iter=200, solver=lbfgs, score=0.714, total=   0.2s\n",
      "[CV] activation=relu, hidden_layer_sizes=(20, 20), max_iter=200, solver=lbfgs \n"
     ]
    },
    {
     "name": "stderr",
     "output_type": "stream",
     "text": [
      "/Users/Strawberry/anaconda3/lib/python3.7/site-packages/sklearn/neural_network/_multilayer_perceptron.py:470: ConvergenceWarning: lbfgs failed to converge (status=1):\n",
      "STOP: TOTAL NO. of ITERATIONS REACHED LIMIT.\n",
      "\n",
      "Increase the number of iterations (max_iter) or scale the data as shown in:\n",
      "    https://scikit-learn.org/stable/modules/preprocessing.html\n",
      "  self.n_iter_ = _check_optimize_result(\"lbfgs\", opt_res, self.max_iter)\n"
     ]
    },
    {
     "name": "stdout",
     "output_type": "stream",
     "text": [
      "[CV]  activation=relu, hidden_layer_sizes=(20, 20), max_iter=200, solver=lbfgs, score=0.735, total=   0.2s\n",
      "[CV] activation=relu, hidden_layer_sizes=(20, 20), max_iter=200, solver=lbfgs \n",
      "[CV]  activation=relu, hidden_layer_sizes=(20, 20), max_iter=200, solver=lbfgs, score=0.771, total=   0.1s\n",
      "[CV] activation=relu, hidden_layer_sizes=(20, 20), max_iter=200, solver=lbfgs \n"
     ]
    },
    {
     "name": "stderr",
     "output_type": "stream",
     "text": [
      "/Users/Strawberry/anaconda3/lib/python3.7/site-packages/sklearn/neural_network/_multilayer_perceptron.py:470: ConvergenceWarning: lbfgs failed to converge (status=1):\n",
      "STOP: TOTAL NO. of ITERATIONS REACHED LIMIT.\n",
      "\n",
      "Increase the number of iterations (max_iter) or scale the data as shown in:\n",
      "    https://scikit-learn.org/stable/modules/preprocessing.html\n",
      "  self.n_iter_ = _check_optimize_result(\"lbfgs\", opt_res, self.max_iter)\n",
      "/Users/Strawberry/anaconda3/lib/python3.7/site-packages/sklearn/neural_network/_multilayer_perceptron.py:470: ConvergenceWarning: lbfgs failed to converge (status=1):\n",
      "STOP: TOTAL NO. of ITERATIONS REACHED LIMIT.\n",
      "\n",
      "Increase the number of iterations (max_iter) or scale the data as shown in:\n",
      "    https://scikit-learn.org/stable/modules/preprocessing.html\n",
      "  self.n_iter_ = _check_optimize_result(\"lbfgs\", opt_res, self.max_iter)\n"
     ]
    },
    {
     "name": "stdout",
     "output_type": "stream",
     "text": [
      "[CV]  activation=relu, hidden_layer_sizes=(20, 20), max_iter=200, solver=lbfgs, score=0.896, total=   0.2s\n",
      "[CV] activation=relu, hidden_layer_sizes=(20, 20), max_iter=200, solver=lbfgs \n",
      "[CV]  activation=relu, hidden_layer_sizes=(20, 20), max_iter=200, solver=lbfgs, score=0.729, total=   0.2s\n",
      "[CV] activation=relu, hidden_layer_sizes=(20, 20), max_iter=200, solver=sgd \n"
     ]
    },
    {
     "name": "stderr",
     "output_type": "stream",
     "text": [
      "/Users/Strawberry/anaconda3/lib/python3.7/site-packages/sklearn/neural_network/_multilayer_perceptron.py:571: ConvergenceWarning: Stochastic Optimizer: Maximum iterations (200) reached and the optimization hasn't converged yet.\n",
      "  % self.max_iter, ConvergenceWarning)\n",
      "/Users/Strawberry/anaconda3/lib/python3.7/site-packages/sklearn/neural_network/_multilayer_perceptron.py:571: ConvergenceWarning: Stochastic Optimizer: Maximum iterations (200) reached and the optimization hasn't converged yet.\n",
      "  % self.max_iter, ConvergenceWarning)\n"
     ]
    },
    {
     "name": "stdout",
     "output_type": "stream",
     "text": [
      "[CV]  activation=relu, hidden_layer_sizes=(20, 20), max_iter=200, solver=sgd, score=0.612, total=   0.1s\n",
      "[CV] activation=relu, hidden_layer_sizes=(20, 20), max_iter=200, solver=sgd \n",
      "[CV]  activation=relu, hidden_layer_sizes=(20, 20), max_iter=200, solver=sgd, score=0.469, total=   0.0s\n",
      "[CV] activation=relu, hidden_layer_sizes=(20, 20), max_iter=200, solver=sgd \n",
      "[CV]  activation=relu, hidden_layer_sizes=(20, 20), max_iter=200, solver=sgd, score=0.667, total=   0.1s\n",
      "[CV] activation=relu, hidden_layer_sizes=(20, 20), max_iter=200, solver=sgd \n",
      "[CV]  activation=relu, hidden_layer_sizes=(20, 20), max_iter=200, solver=sgd, score=0.479, total=   0.0s\n",
      "[CV] activation=relu, hidden_layer_sizes=(20, 20), max_iter=200, solver=sgd \n"
     ]
    },
    {
     "name": "stderr",
     "output_type": "stream",
     "text": [
      "/Users/Strawberry/anaconda3/lib/python3.7/site-packages/sklearn/neural_network/_multilayer_perceptron.py:571: ConvergenceWarning: Stochastic Optimizer: Maximum iterations (200) reached and the optimization hasn't converged yet.\n",
      "  % self.max_iter, ConvergenceWarning)\n",
      "/Users/Strawberry/anaconda3/lib/python3.7/site-packages/sklearn/neural_network/_multilayer_perceptron.py:571: ConvergenceWarning: Stochastic Optimizer: Maximum iterations (200) reached and the optimization hasn't converged yet.\n",
      "  % self.max_iter, ConvergenceWarning)\n"
     ]
    },
    {
     "name": "stdout",
     "output_type": "stream",
     "text": [
      "[CV]  activation=relu, hidden_layer_sizes=(20, 20), max_iter=200, solver=sgd, score=0.583, total=   0.1s\n",
      "[CV] activation=relu, hidden_layer_sizes=(20, 20), max_iter=200, solver=adam \n",
      "[CV]  activation=relu, hidden_layer_sizes=(20, 20), max_iter=200, solver=adam, score=0.673, total=   0.1s\n",
      "[CV] activation=relu, hidden_layer_sizes=(20, 20), max_iter=200, solver=adam \n"
     ]
    },
    {
     "name": "stderr",
     "output_type": "stream",
     "text": [
      "/Users/Strawberry/anaconda3/lib/python3.7/site-packages/sklearn/neural_network/_multilayer_perceptron.py:571: ConvergenceWarning: Stochastic Optimizer: Maximum iterations (200) reached and the optimization hasn't converged yet.\n",
      "  % self.max_iter, ConvergenceWarning)\n",
      "/Users/Strawberry/anaconda3/lib/python3.7/site-packages/sklearn/neural_network/_multilayer_perceptron.py:571: ConvergenceWarning: Stochastic Optimizer: Maximum iterations (200) reached and the optimization hasn't converged yet.\n",
      "  % self.max_iter, ConvergenceWarning)\n"
     ]
    },
    {
     "name": "stdout",
     "output_type": "stream",
     "text": [
      "[CV]  activation=relu, hidden_layer_sizes=(20, 20), max_iter=200, solver=adam, score=0.653, total=   0.1s\n",
      "[CV] activation=relu, hidden_layer_sizes=(20, 20), max_iter=200, solver=adam \n",
      "[CV]  activation=relu, hidden_layer_sizes=(20, 20), max_iter=200, solver=adam, score=0.792, total=   0.1s\n",
      "[CV] activation=relu, hidden_layer_sizes=(20, 20), max_iter=200, solver=adam \n"
     ]
    },
    {
     "name": "stderr",
     "output_type": "stream",
     "text": [
      "/Users/Strawberry/anaconda3/lib/python3.7/site-packages/sklearn/neural_network/_multilayer_perceptron.py:571: ConvergenceWarning: Stochastic Optimizer: Maximum iterations (200) reached and the optimization hasn't converged yet.\n",
      "  % self.max_iter, ConvergenceWarning)\n",
      "/Users/Strawberry/anaconda3/lib/python3.7/site-packages/sklearn/neural_network/_multilayer_perceptron.py:571: ConvergenceWarning: Stochastic Optimizer: Maximum iterations (200) reached and the optimization hasn't converged yet.\n",
      "  % self.max_iter, ConvergenceWarning)\n"
     ]
    },
    {
     "name": "stdout",
     "output_type": "stream",
     "text": [
      "[CV]  activation=relu, hidden_layer_sizes=(20, 20), max_iter=200, solver=adam, score=0.708, total=   0.1s\n",
      "[CV] activation=relu, hidden_layer_sizes=(20, 20), max_iter=200, solver=adam \n",
      "[CV]  activation=relu, hidden_layer_sizes=(20, 20), max_iter=200, solver=adam, score=0.688, total=   0.1s\n",
      "[CV] activation=relu, hidden_layer_sizes=(20, 20), max_iter=300, solver=lbfgs \n"
     ]
    },
    {
     "name": "stderr",
     "output_type": "stream",
     "text": [
      "/Users/Strawberry/anaconda3/lib/python3.7/site-packages/sklearn/neural_network/_multilayer_perceptron.py:470: ConvergenceWarning: lbfgs failed to converge (status=1):\n",
      "STOP: TOTAL NO. of ITERATIONS REACHED LIMIT.\n",
      "\n",
      "Increase the number of iterations (max_iter) or scale the data as shown in:\n",
      "    https://scikit-learn.org/stable/modules/preprocessing.html\n",
      "  self.n_iter_ = _check_optimize_result(\"lbfgs\", opt_res, self.max_iter)\n"
     ]
    },
    {
     "name": "stdout",
     "output_type": "stream",
     "text": [
      "[CV]  activation=relu, hidden_layer_sizes=(20, 20), max_iter=300, solver=lbfgs, score=0.694, total=   0.2s\n",
      "[CV] activation=relu, hidden_layer_sizes=(20, 20), max_iter=300, solver=lbfgs \n"
     ]
    },
    {
     "name": "stderr",
     "output_type": "stream",
     "text": [
      "/Users/Strawberry/anaconda3/lib/python3.7/site-packages/sklearn/neural_network/_multilayer_perceptron.py:470: ConvergenceWarning: lbfgs failed to converge (status=1):\n",
      "STOP: TOTAL NO. of ITERATIONS REACHED LIMIT.\n",
      "\n",
      "Increase the number of iterations (max_iter) or scale the data as shown in:\n",
      "    https://scikit-learn.org/stable/modules/preprocessing.html\n",
      "  self.n_iter_ = _check_optimize_result(\"lbfgs\", opt_res, self.max_iter)\n"
     ]
    },
    {
     "name": "stdout",
     "output_type": "stream",
     "text": [
      "[CV]  activation=relu, hidden_layer_sizes=(20, 20), max_iter=300, solver=lbfgs, score=0.796, total=   0.2s\n",
      "[CV] activation=relu, hidden_layer_sizes=(20, 20), max_iter=300, solver=lbfgs \n",
      "[CV]  activation=relu, hidden_layer_sizes=(20, 20), max_iter=300, solver=lbfgs, score=0.771, total=   0.1s\n",
      "[CV] activation=relu, hidden_layer_sizes=(20, 20), max_iter=300, solver=lbfgs \n",
      "[CV]  activation=relu, hidden_layer_sizes=(20, 20), max_iter=300, solver=lbfgs, score=0.896, total=   0.2s\n",
      "[CV] activation=relu, hidden_layer_sizes=(20, 20), max_iter=300, solver=lbfgs \n"
     ]
    },
    {
     "name": "stderr",
     "output_type": "stream",
     "text": [
      "/Users/Strawberry/anaconda3/lib/python3.7/site-packages/sklearn/neural_network/_multilayer_perceptron.py:470: ConvergenceWarning: lbfgs failed to converge (status=1):\n",
      "STOP: TOTAL NO. of ITERATIONS REACHED LIMIT.\n",
      "\n",
      "Increase the number of iterations (max_iter) or scale the data as shown in:\n",
      "    https://scikit-learn.org/stable/modules/preprocessing.html\n",
      "  self.n_iter_ = _check_optimize_result(\"lbfgs\", opt_res, self.max_iter)\n",
      "/Users/Strawberry/anaconda3/lib/python3.7/site-packages/sklearn/neural_network/_multilayer_perceptron.py:571: ConvergenceWarning: Stochastic Optimizer: Maximum iterations (300) reached and the optimization hasn't converged yet.\n",
      "  % self.max_iter, ConvergenceWarning)\n"
     ]
    },
    {
     "name": "stdout",
     "output_type": "stream",
     "text": [
      "[CV]  activation=relu, hidden_layer_sizes=(20, 20), max_iter=300, solver=lbfgs, score=0.708, total=   0.2s\n",
      "[CV] activation=relu, hidden_layer_sizes=(20, 20), max_iter=300, solver=sgd \n",
      "[CV]  activation=relu, hidden_layer_sizes=(20, 20), max_iter=300, solver=sgd, score=0.633, total=   0.2s\n",
      "[CV] activation=relu, hidden_layer_sizes=(20, 20), max_iter=300, solver=sgd \n",
      "[CV]  activation=relu, hidden_layer_sizes=(20, 20), max_iter=300, solver=sgd, score=0.469, total=   0.0s\n",
      "[CV] activation=relu, hidden_layer_sizes=(20, 20), max_iter=300, solver=sgd \n",
      "[CV]  activation=relu, hidden_layer_sizes=(20, 20), max_iter=300, solver=sgd, score=0.667, total=   0.2s\n",
      "[CV] activation=relu, hidden_layer_sizes=(20, 20), max_iter=300, solver=sgd \n"
     ]
    },
    {
     "name": "stderr",
     "output_type": "stream",
     "text": [
      "/Users/Strawberry/anaconda3/lib/python3.7/site-packages/sklearn/neural_network/_multilayer_perceptron.py:571: ConvergenceWarning: Stochastic Optimizer: Maximum iterations (300) reached and the optimization hasn't converged yet.\n",
      "  % self.max_iter, ConvergenceWarning)\n"
     ]
    },
    {
     "name": "stdout",
     "output_type": "stream",
     "text": [
      "[CV]  activation=relu, hidden_layer_sizes=(20, 20), max_iter=300, solver=sgd, score=0.479, total=   0.0s\n",
      "[CV] activation=relu, hidden_layer_sizes=(20, 20), max_iter=300, solver=sgd \n",
      "[CV]  activation=relu, hidden_layer_sizes=(20, 20), max_iter=300, solver=sgd, score=0.583, total=   0.2s\n",
      "[CV] activation=relu, hidden_layer_sizes=(20, 20), max_iter=300, solver=adam \n"
     ]
    },
    {
     "name": "stderr",
     "output_type": "stream",
     "text": [
      "/Users/Strawberry/anaconda3/lib/python3.7/site-packages/sklearn/neural_network/_multilayer_perceptron.py:571: ConvergenceWarning: Stochastic Optimizer: Maximum iterations (300) reached and the optimization hasn't converged yet.\n",
      "  % self.max_iter, ConvergenceWarning)\n",
      "/Users/Strawberry/anaconda3/lib/python3.7/site-packages/sklearn/neural_network/_multilayer_perceptron.py:571: ConvergenceWarning: Stochastic Optimizer: Maximum iterations (300) reached and the optimization hasn't converged yet.\n",
      "  % self.max_iter, ConvergenceWarning)\n",
      "/Users/Strawberry/anaconda3/lib/python3.7/site-packages/sklearn/neural_network/_multilayer_perceptron.py:571: ConvergenceWarning: Stochastic Optimizer: Maximum iterations (300) reached and the optimization hasn't converged yet.\n",
      "  % self.max_iter, ConvergenceWarning)\n"
     ]
    },
    {
     "name": "stdout",
     "output_type": "stream",
     "text": [
      "[CV]  activation=relu, hidden_layer_sizes=(20, 20), max_iter=300, solver=adam, score=0.694, total=   0.2s\n",
      "[CV] activation=relu, hidden_layer_sizes=(20, 20), max_iter=300, solver=adam \n",
      "[CV]  activation=relu, hidden_layer_sizes=(20, 20), max_iter=300, solver=adam, score=0.776, total=   0.2s\n",
      "[CV] activation=relu, hidden_layer_sizes=(20, 20), max_iter=300, solver=adam \n"
     ]
    },
    {
     "name": "stderr",
     "output_type": "stream",
     "text": [
      "/Users/Strawberry/anaconda3/lib/python3.7/site-packages/sklearn/neural_network/_multilayer_perceptron.py:571: ConvergenceWarning: Stochastic Optimizer: Maximum iterations (300) reached and the optimization hasn't converged yet.\n",
      "  % self.max_iter, ConvergenceWarning)\n"
     ]
    },
    {
     "name": "stdout",
     "output_type": "stream",
     "text": [
      "[CV]  activation=relu, hidden_layer_sizes=(20, 20), max_iter=300, solver=adam, score=0.833, total=   0.2s\n",
      "[CV] activation=relu, hidden_layer_sizes=(20, 20), max_iter=300, solver=adam \n"
     ]
    },
    {
     "name": "stderr",
     "output_type": "stream",
     "text": [
      "/Users/Strawberry/anaconda3/lib/python3.7/site-packages/sklearn/neural_network/_multilayer_perceptron.py:571: ConvergenceWarning: Stochastic Optimizer: Maximum iterations (300) reached and the optimization hasn't converged yet.\n",
      "  % self.max_iter, ConvergenceWarning)\n"
     ]
    },
    {
     "name": "stdout",
     "output_type": "stream",
     "text": [
      "[CV]  activation=relu, hidden_layer_sizes=(20, 20), max_iter=300, solver=adam, score=0.750, total=   0.2s\n",
      "[CV] activation=relu, hidden_layer_sizes=(20, 20), max_iter=300, solver=adam \n"
     ]
    },
    {
     "name": "stderr",
     "output_type": "stream",
     "text": [
      "/Users/Strawberry/anaconda3/lib/python3.7/site-packages/sklearn/neural_network/_multilayer_perceptron.py:571: ConvergenceWarning: Stochastic Optimizer: Maximum iterations (300) reached and the optimization hasn't converged yet.\n",
      "  % self.max_iter, ConvergenceWarning)\n",
      "/Users/Strawberry/anaconda3/lib/python3.7/site-packages/sklearn/neural_network/_multilayer_perceptron.py:571: ConvergenceWarning: Stochastic Optimizer: Maximum iterations (100) reached and the optimization hasn't converged yet.\n",
      "  % self.max_iter, ConvergenceWarning)\n",
      "/Users/Strawberry/anaconda3/lib/python3.7/site-packages/sklearn/neural_network/_multilayer_perceptron.py:571: ConvergenceWarning: Stochastic Optimizer: Maximum iterations (100) reached and the optimization hasn't converged yet.\n",
      "  % self.max_iter, ConvergenceWarning)\n"
     ]
    },
    {
     "name": "stdout",
     "output_type": "stream",
     "text": [
      "[CV]  activation=relu, hidden_layer_sizes=(20, 20), max_iter=300, solver=adam, score=0.729, total=   0.2s\n",
      "[CV] activation=relu, hidden_layer_sizes=(20, 30), max_iter=100, solver=lbfgs \n",
      "[CV]  activation=relu, hidden_layer_sizes=(20, 30), max_iter=100, solver=lbfgs, score=0.449, total=   0.0s\n",
      "[CV] activation=relu, hidden_layer_sizes=(20, 30), max_iter=100, solver=lbfgs \n",
      "[CV]  activation=relu, hidden_layer_sizes=(20, 30), max_iter=100, solver=lbfgs, score=0.469, total=   0.0s\n",
      "[CV] activation=relu, hidden_layer_sizes=(20, 30), max_iter=100, solver=lbfgs \n",
      "[CV]  activation=relu, hidden_layer_sizes=(20, 30), max_iter=100, solver=lbfgs, score=0.458, total=   0.0s\n",
      "[CV] activation=relu, hidden_layer_sizes=(20, 30), max_iter=100, solver=lbfgs \n",
      "[CV]  activation=relu, hidden_layer_sizes=(20, 30), max_iter=100, solver=lbfgs, score=0.479, total=   0.0s\n",
      "[CV] activation=relu, hidden_layer_sizes=(20, 30), max_iter=100, solver=lbfgs \n",
      "[CV]  activation=relu, hidden_layer_sizes=(20, 30), max_iter=100, solver=lbfgs, score=0.458, total=   0.0s\n",
      "[CV] activation=relu, hidden_layer_sizes=(20, 30), max_iter=100, solver=sgd \n",
      "[CV]  activation=relu, hidden_layer_sizes=(20, 30), max_iter=100, solver=sgd, score=0.633, total=   0.1s\n",
      "[CV] activation=relu, hidden_layer_sizes=(20, 30), max_iter=100, solver=sgd \n",
      "[CV]  activation=relu, hidden_layer_sizes=(20, 30), max_iter=100, solver=sgd, score=0.551, total=   0.1s\n",
      "[CV] activation=relu, hidden_layer_sizes=(20, 30), max_iter=100, solver=sgd \n"
     ]
    },
    {
     "name": "stderr",
     "output_type": "stream",
     "text": [
      "/Users/Strawberry/anaconda3/lib/python3.7/site-packages/sklearn/neural_network/_multilayer_perceptron.py:571: ConvergenceWarning: Stochastic Optimizer: Maximum iterations (100) reached and the optimization hasn't converged yet.\n",
      "  % self.max_iter, ConvergenceWarning)\n",
      "/Users/Strawberry/anaconda3/lib/python3.7/site-packages/sklearn/neural_network/_multilayer_perceptron.py:571: ConvergenceWarning: Stochastic Optimizer: Maximum iterations (100) reached and the optimization hasn't converged yet.\n",
      "  % self.max_iter, ConvergenceWarning)\n",
      "/Users/Strawberry/anaconda3/lib/python3.7/site-packages/sklearn/neural_network/_multilayer_perceptron.py:571: ConvergenceWarning: Stochastic Optimizer: Maximum iterations (100) reached and the optimization hasn't converged yet.\n",
      "  % self.max_iter, ConvergenceWarning)\n"
     ]
    },
    {
     "name": "stdout",
     "output_type": "stream",
     "text": [
      "[CV]  activation=relu, hidden_layer_sizes=(20, 30), max_iter=100, solver=sgd, score=0.688, total=   0.1s\n",
      "[CV] activation=relu, hidden_layer_sizes=(20, 30), max_iter=100, solver=sgd \n",
      "[CV]  activation=relu, hidden_layer_sizes=(20, 30), max_iter=100, solver=sgd, score=0.667, total=   0.1s\n",
      "[CV] activation=relu, hidden_layer_sizes=(20, 30), max_iter=100, solver=sgd \n",
      "[CV]  activation=relu, hidden_layer_sizes=(20, 30), max_iter=100, solver=sgd, score=0.688, total=   0.1s\n",
      "[CV] activation=relu, hidden_layer_sizes=(20, 30), max_iter=100, solver=adam \n"
     ]
    },
    {
     "name": "stderr",
     "output_type": "stream",
     "text": [
      "/Users/Strawberry/anaconda3/lib/python3.7/site-packages/sklearn/neural_network/_multilayer_perceptron.py:571: ConvergenceWarning: Stochastic Optimizer: Maximum iterations (100) reached and the optimization hasn't converged yet.\n",
      "  % self.max_iter, ConvergenceWarning)\n",
      "/Users/Strawberry/anaconda3/lib/python3.7/site-packages/sklearn/neural_network/_multilayer_perceptron.py:571: ConvergenceWarning: Stochastic Optimizer: Maximum iterations (100) reached and the optimization hasn't converged yet.\n",
      "  % self.max_iter, ConvergenceWarning)\n",
      "/Users/Strawberry/anaconda3/lib/python3.7/site-packages/sklearn/neural_network/_multilayer_perceptron.py:571: ConvergenceWarning: Stochastic Optimizer: Maximum iterations (100) reached and the optimization hasn't converged yet.\n",
      "  % self.max_iter, ConvergenceWarning)\n"
     ]
    },
    {
     "name": "stdout",
     "output_type": "stream",
     "text": [
      "[CV]  activation=relu, hidden_layer_sizes=(20, 30), max_iter=100, solver=adam, score=0.653, total=   0.1s\n",
      "[CV] activation=relu, hidden_layer_sizes=(20, 30), max_iter=100, solver=adam \n",
      "[CV]  activation=relu, hidden_layer_sizes=(20, 30), max_iter=100, solver=adam, score=0.592, total=   0.1s\n",
      "[CV] activation=relu, hidden_layer_sizes=(20, 30), max_iter=100, solver=adam \n",
      "[CV]  activation=relu, hidden_layer_sizes=(20, 30), max_iter=100, solver=adam, score=0.729, total=   0.1s\n",
      "[CV] activation=relu, hidden_layer_sizes=(20, 30), max_iter=100, solver=adam \n"
     ]
    },
    {
     "name": "stderr",
     "output_type": "stream",
     "text": [
      "/Users/Strawberry/anaconda3/lib/python3.7/site-packages/sklearn/neural_network/_multilayer_perceptron.py:571: ConvergenceWarning: Stochastic Optimizer: Maximum iterations (100) reached and the optimization hasn't converged yet.\n",
      "  % self.max_iter, ConvergenceWarning)\n",
      "/Users/Strawberry/anaconda3/lib/python3.7/site-packages/sklearn/neural_network/_multilayer_perceptron.py:571: ConvergenceWarning: Stochastic Optimizer: Maximum iterations (100) reached and the optimization hasn't converged yet.\n",
      "  % self.max_iter, ConvergenceWarning)\n"
     ]
    },
    {
     "name": "stdout",
     "output_type": "stream",
     "text": [
      "[CV]  activation=relu, hidden_layer_sizes=(20, 30), max_iter=100, solver=adam, score=0.729, total=   0.1s\n",
      "[CV] activation=relu, hidden_layer_sizes=(20, 30), max_iter=100, solver=adam \n",
      "[CV]  activation=relu, hidden_layer_sizes=(20, 30), max_iter=100, solver=adam, score=0.667, total=   0.1s\n",
      "[CV] activation=relu, hidden_layer_sizes=(20, 30), max_iter=200, solver=lbfgs \n",
      "[CV]  activation=relu, hidden_layer_sizes=(20, 30), max_iter=200, solver=lbfgs, score=0.449, total=   0.0s\n",
      "[CV] activation=relu, hidden_layer_sizes=(20, 30), max_iter=200, solver=lbfgs \n",
      "[CV]  activation=relu, hidden_layer_sizes=(20, 30), max_iter=200, solver=lbfgs, score=0.469, total=   0.0s\n",
      "[CV] activation=relu, hidden_layer_sizes=(20, 30), max_iter=200, solver=lbfgs \n",
      "[CV]  activation=relu, hidden_layer_sizes=(20, 30), max_iter=200, solver=lbfgs, score=0.458, total=   0.0s\n",
      "[CV] activation=relu, hidden_layer_sizes=(20, 30), max_iter=200, solver=lbfgs \n",
      "[CV]  activation=relu, hidden_layer_sizes=(20, 30), max_iter=200, solver=lbfgs, score=0.479, total=   0.0s\n",
      "[CV] activation=relu, hidden_layer_sizes=(20, 30), max_iter=200, solver=lbfgs \n",
      "[CV]  activation=relu, hidden_layer_sizes=(20, 30), max_iter=200, solver=lbfgs, score=0.458, total=   0.0s\n",
      "[CV] activation=relu, hidden_layer_sizes=(20, 30), max_iter=200, solver=sgd \n",
      "[CV]  activation=relu, hidden_layer_sizes=(20, 30), max_iter=200, solver=sgd, score=0.653, total=   0.1s\n",
      "[CV] activation=relu, hidden_layer_sizes=(20, 30), max_iter=200, solver=sgd \n",
      "[CV]  activation=relu, hidden_layer_sizes=(20, 30), max_iter=200, solver=sgd, score=0.612, total=   0.1s\n",
      "[CV] activation=relu, hidden_layer_sizes=(20, 30), max_iter=200, solver=sgd \n",
      "[CV]  activation=relu, hidden_layer_sizes=(20, 30), max_iter=200, solver=sgd, score=0.667, total=   0.1s\n",
      "[CV] activation=relu, hidden_layer_sizes=(20, 30), max_iter=200, solver=sgd \n"
     ]
    },
    {
     "name": "stderr",
     "output_type": "stream",
     "text": [
      "/Users/Strawberry/anaconda3/lib/python3.7/site-packages/sklearn/neural_network/_multilayer_perceptron.py:571: ConvergenceWarning: Stochastic Optimizer: Maximum iterations (200) reached and the optimization hasn't converged yet.\n",
      "  % self.max_iter, ConvergenceWarning)\n",
      "/Users/Strawberry/anaconda3/lib/python3.7/site-packages/sklearn/neural_network/_multilayer_perceptron.py:571: ConvergenceWarning: Stochastic Optimizer: Maximum iterations (200) reached and the optimization hasn't converged yet.\n",
      "  % self.max_iter, ConvergenceWarning)\n"
     ]
    },
    {
     "name": "stdout",
     "output_type": "stream",
     "text": [
      "[CV]  activation=relu, hidden_layer_sizes=(20, 30), max_iter=200, solver=sgd, score=0.688, total=   0.1s\n",
      "[CV] activation=relu, hidden_layer_sizes=(20, 30), max_iter=200, solver=sgd \n",
      "[CV]  activation=relu, hidden_layer_sizes=(20, 30), max_iter=200, solver=sgd, score=0.708, total=   0.1s\n",
      "[CV] activation=relu, hidden_layer_sizes=(20, 30), max_iter=200, solver=adam \n"
     ]
    },
    {
     "name": "stderr",
     "output_type": "stream",
     "text": [
      "/Users/Strawberry/anaconda3/lib/python3.7/site-packages/sklearn/neural_network/_multilayer_perceptron.py:571: ConvergenceWarning: Stochastic Optimizer: Maximum iterations (200) reached and the optimization hasn't converged yet.\n",
      "  % self.max_iter, ConvergenceWarning)\n",
      "/Users/Strawberry/anaconda3/lib/python3.7/site-packages/sklearn/neural_network/_multilayer_perceptron.py:571: ConvergenceWarning: Stochastic Optimizer: Maximum iterations (200) reached and the optimization hasn't converged yet.\n",
      "  % self.max_iter, ConvergenceWarning)\n"
     ]
    },
    {
     "name": "stdout",
     "output_type": "stream",
     "text": [
      "[CV]  activation=relu, hidden_layer_sizes=(20, 30), max_iter=200, solver=adam, score=0.673, total=   0.2s\n",
      "[CV] activation=relu, hidden_layer_sizes=(20, 30), max_iter=200, solver=adam \n",
      "[CV]  activation=relu, hidden_layer_sizes=(20, 30), max_iter=200, solver=adam, score=0.653, total=   0.2s\n",
      "[CV] activation=relu, hidden_layer_sizes=(20, 30), max_iter=200, solver=adam \n"
     ]
    },
    {
     "name": "stderr",
     "output_type": "stream",
     "text": [
      "/Users/Strawberry/anaconda3/lib/python3.7/site-packages/sklearn/neural_network/_multilayer_perceptron.py:571: ConvergenceWarning: Stochastic Optimizer: Maximum iterations (200) reached and the optimization hasn't converged yet.\n",
      "  % self.max_iter, ConvergenceWarning)\n",
      "/Users/Strawberry/anaconda3/lib/python3.7/site-packages/sklearn/neural_network/_multilayer_perceptron.py:571: ConvergenceWarning: Stochastic Optimizer: Maximum iterations (200) reached and the optimization hasn't converged yet.\n",
      "  % self.max_iter, ConvergenceWarning)\n"
     ]
    },
    {
     "name": "stdout",
     "output_type": "stream",
     "text": [
      "[CV]  activation=relu, hidden_layer_sizes=(20, 30), max_iter=200, solver=adam, score=0.729, total=   0.2s\n",
      "[CV] activation=relu, hidden_layer_sizes=(20, 30), max_iter=200, solver=adam \n",
      "[CV]  activation=relu, hidden_layer_sizes=(20, 30), max_iter=200, solver=adam, score=0.708, total=   0.2s\n",
      "[CV] activation=relu, hidden_layer_sizes=(20, 30), max_iter=200, solver=adam \n"
     ]
    },
    {
     "name": "stderr",
     "output_type": "stream",
     "text": [
      "/Users/Strawberry/anaconda3/lib/python3.7/site-packages/sklearn/neural_network/_multilayer_perceptron.py:571: ConvergenceWarning: Stochastic Optimizer: Maximum iterations (200) reached and the optimization hasn't converged yet.\n",
      "  % self.max_iter, ConvergenceWarning)\n",
      "/Users/Strawberry/anaconda3/lib/python3.7/site-packages/sklearn/neural_network/_multilayer_perceptron.py:571: ConvergenceWarning: Stochastic Optimizer: Maximum iterations (200) reached and the optimization hasn't converged yet.\n",
      "  % self.max_iter, ConvergenceWarning)\n"
     ]
    },
    {
     "name": "stdout",
     "output_type": "stream",
     "text": [
      "[CV]  activation=relu, hidden_layer_sizes=(20, 30), max_iter=200, solver=adam, score=0.646, total=   0.2s\n",
      "[CV] activation=relu, hidden_layer_sizes=(20, 30), max_iter=300, solver=lbfgs \n",
      "[CV]  activation=relu, hidden_layer_sizes=(20, 30), max_iter=300, solver=lbfgs, score=0.449, total=   0.0s\n",
      "[CV] activation=relu, hidden_layer_sizes=(20, 30), max_iter=300, solver=lbfgs \n",
      "[CV]  activation=relu, hidden_layer_sizes=(20, 30), max_iter=300, solver=lbfgs, score=0.469, total=   0.0s\n",
      "[CV] activation=relu, hidden_layer_sizes=(20, 30), max_iter=300, solver=lbfgs \n",
      "[CV]  activation=relu, hidden_layer_sizes=(20, 30), max_iter=300, solver=lbfgs, score=0.458, total=   0.0s\n",
      "[CV] activation=relu, hidden_layer_sizes=(20, 30), max_iter=300, solver=lbfgs \n",
      "[CV]  activation=relu, hidden_layer_sizes=(20, 30), max_iter=300, solver=lbfgs, score=0.479, total=   0.0s\n",
      "[CV] activation=relu, hidden_layer_sizes=(20, 30), max_iter=300, solver=lbfgs \n",
      "[CV]  activation=relu, hidden_layer_sizes=(20, 30), max_iter=300, solver=lbfgs, score=0.458, total=   0.0s\n",
      "[CV] activation=relu, hidden_layer_sizes=(20, 30), max_iter=300, solver=sgd \n",
      "[CV]  activation=relu, hidden_layer_sizes=(20, 30), max_iter=300, solver=sgd, score=0.653, total=   0.1s\n",
      "[CV] activation=relu, hidden_layer_sizes=(20, 30), max_iter=300, solver=sgd \n",
      "[CV]  activation=relu, hidden_layer_sizes=(20, 30), max_iter=300, solver=sgd, score=0.612, total=   0.1s\n",
      "[CV] activation=relu, hidden_layer_sizes=(20, 30), max_iter=300, solver=sgd \n",
      "[CV]  activation=relu, hidden_layer_sizes=(20, 30), max_iter=300, solver=sgd, score=0.708, total=   0.2s\n",
      "[CV] activation=relu, hidden_layer_sizes=(20, 30), max_iter=300, solver=sgd \n"
     ]
    },
    {
     "name": "stderr",
     "output_type": "stream",
     "text": [
      "/Users/Strawberry/anaconda3/lib/python3.7/site-packages/sklearn/neural_network/_multilayer_perceptron.py:571: ConvergenceWarning: Stochastic Optimizer: Maximum iterations (300) reached and the optimization hasn't converged yet.\n",
      "  % self.max_iter, ConvergenceWarning)\n"
     ]
    },
    {
     "name": "stdout",
     "output_type": "stream",
     "text": [
      "[CV]  activation=relu, hidden_layer_sizes=(20, 30), max_iter=300, solver=sgd, score=0.688, total=   0.2s\n",
      "[CV] activation=relu, hidden_layer_sizes=(20, 30), max_iter=300, solver=sgd \n",
      "[CV]  activation=relu, hidden_layer_sizes=(20, 30), max_iter=300, solver=sgd, score=0.708, total=   0.1s\n",
      "[CV] activation=relu, hidden_layer_sizes=(20, 30), max_iter=300, solver=adam \n"
     ]
    },
    {
     "name": "stderr",
     "output_type": "stream",
     "text": [
      "/Users/Strawberry/anaconda3/lib/python3.7/site-packages/sklearn/neural_network/_multilayer_perceptron.py:571: ConvergenceWarning: Stochastic Optimizer: Maximum iterations (300) reached and the optimization hasn't converged yet.\n",
      "  % self.max_iter, ConvergenceWarning)\n"
     ]
    },
    {
     "name": "stdout",
     "output_type": "stream",
     "text": [
      "[CV]  activation=relu, hidden_layer_sizes=(20, 30), max_iter=300, solver=adam, score=0.735, total=   0.2s\n",
      "[CV] activation=relu, hidden_layer_sizes=(20, 30), max_iter=300, solver=adam \n"
     ]
    },
    {
     "name": "stderr",
     "output_type": "stream",
     "text": [
      "/Users/Strawberry/anaconda3/lib/python3.7/site-packages/sklearn/neural_network/_multilayer_perceptron.py:571: ConvergenceWarning: Stochastic Optimizer: Maximum iterations (300) reached and the optimization hasn't converged yet.\n",
      "  % self.max_iter, ConvergenceWarning)\n"
     ]
    },
    {
     "name": "stdout",
     "output_type": "stream",
     "text": [
      "[CV]  activation=relu, hidden_layer_sizes=(20, 30), max_iter=300, solver=adam, score=0.673, total=   0.2s\n",
      "[CV] activation=relu, hidden_layer_sizes=(20, 30), max_iter=300, solver=adam \n"
     ]
    },
    {
     "name": "stderr",
     "output_type": "stream",
     "text": [
      "/Users/Strawberry/anaconda3/lib/python3.7/site-packages/sklearn/neural_network/_multilayer_perceptron.py:571: ConvergenceWarning: Stochastic Optimizer: Maximum iterations (300) reached and the optimization hasn't converged yet.\n",
      "  % self.max_iter, ConvergenceWarning)\n"
     ]
    },
    {
     "name": "stdout",
     "output_type": "stream",
     "text": [
      "[CV]  activation=relu, hidden_layer_sizes=(20, 30), max_iter=300, solver=adam, score=0.729, total=   0.2s\n",
      "[CV] activation=relu, hidden_layer_sizes=(20, 30), max_iter=300, solver=adam \n"
     ]
    },
    {
     "name": "stderr",
     "output_type": "stream",
     "text": [
      "/Users/Strawberry/anaconda3/lib/python3.7/site-packages/sklearn/neural_network/_multilayer_perceptron.py:571: ConvergenceWarning: Stochastic Optimizer: Maximum iterations (300) reached and the optimization hasn't converged yet.\n",
      "  % self.max_iter, ConvergenceWarning)\n"
     ]
    },
    {
     "name": "stdout",
     "output_type": "stream",
     "text": [
      "[CV]  activation=relu, hidden_layer_sizes=(20, 30), max_iter=300, solver=adam, score=0.792, total=   0.2s\n",
      "[CV] activation=relu, hidden_layer_sizes=(20, 30), max_iter=300, solver=adam \n"
     ]
    },
    {
     "name": "stderr",
     "output_type": "stream",
     "text": [
      "/Users/Strawberry/anaconda3/lib/python3.7/site-packages/sklearn/neural_network/_multilayer_perceptron.py:571: ConvergenceWarning: Stochastic Optimizer: Maximum iterations (300) reached and the optimization hasn't converged yet.\n",
      "  % self.max_iter, ConvergenceWarning)\n",
      "/Users/Strawberry/anaconda3/lib/python3.7/site-packages/sklearn/neural_network/_multilayer_perceptron.py:571: ConvergenceWarning: Stochastic Optimizer: Maximum iterations (100) reached and the optimization hasn't converged yet.\n",
      "  % self.max_iter, ConvergenceWarning)\n"
     ]
    },
    {
     "name": "stdout",
     "output_type": "stream",
     "text": [
      "[CV]  activation=relu, hidden_layer_sizes=(20, 30), max_iter=300, solver=adam, score=0.708, total=   0.2s\n",
      "[CV] activation=relu, hidden_layer_sizes=(20, 40), max_iter=100, solver=lbfgs \n",
      "[CV]  activation=relu, hidden_layer_sizes=(20, 40), max_iter=100, solver=lbfgs, score=0.449, total=   0.0s\n",
      "[CV] activation=relu, hidden_layer_sizes=(20, 40), max_iter=100, solver=lbfgs \n",
      "[CV]  activation=relu, hidden_layer_sizes=(20, 40), max_iter=100, solver=lbfgs, score=0.469, total=   0.0s\n",
      "[CV] activation=relu, hidden_layer_sizes=(20, 40), max_iter=100, solver=lbfgs \n",
      "[CV]  activation=relu, hidden_layer_sizes=(20, 40), max_iter=100, solver=lbfgs, score=0.458, total=   0.0s\n",
      "[CV] activation=relu, hidden_layer_sizes=(20, 40), max_iter=100, solver=lbfgs \n",
      "[CV]  activation=relu, hidden_layer_sizes=(20, 40), max_iter=100, solver=lbfgs, score=0.458, total=   0.0s\n",
      "[CV] activation=relu, hidden_layer_sizes=(20, 40), max_iter=100, solver=lbfgs \n",
      "[CV]  activation=relu, hidden_layer_sizes=(20, 40), max_iter=100, solver=lbfgs, score=0.458, total=   0.0s\n",
      "[CV] activation=relu, hidden_layer_sizes=(20, 40), max_iter=100, solver=sgd \n",
      "[CV]  activation=relu, hidden_layer_sizes=(20, 40), max_iter=100, solver=sgd, score=0.653, total=   0.1s\n",
      "[CV] activation=relu, hidden_layer_sizes=(20, 40), max_iter=100, solver=sgd \n",
      "[CV]  activation=relu, hidden_layer_sizes=(20, 40), max_iter=100, solver=sgd, score=0.592, total=   0.0s\n",
      "[CV] activation=relu, hidden_layer_sizes=(20, 40), max_iter=100, solver=sgd \n",
      "[CV]  activation=relu, hidden_layer_sizes=(20, 40), max_iter=100, solver=sgd, score=0.562, total=   0.0s\n",
      "[CV] activation=relu, hidden_layer_sizes=(20, 40), max_iter=100, solver=sgd \n",
      "[CV]  activation=relu, hidden_layer_sizes=(20, 40), max_iter=100, solver=sgd, score=0.646, total=   0.0s\n",
      "[CV] activation=relu, hidden_layer_sizes=(20, 40), max_iter=100, solver=sgd \n",
      "[CV]  activation=relu, hidden_layer_sizes=(20, 40), max_iter=100, solver=sgd, score=0.417, total=   0.0s\n",
      "[CV] activation=relu, hidden_layer_sizes=(20, 40), max_iter=100, solver=adam \n"
     ]
    },
    {
     "name": "stderr",
     "output_type": "stream",
     "text": [
      "/Users/Strawberry/anaconda3/lib/python3.7/site-packages/sklearn/neural_network/_multilayer_perceptron.py:571: ConvergenceWarning: Stochastic Optimizer: Maximum iterations (100) reached and the optimization hasn't converged yet.\n",
      "  % self.max_iter, ConvergenceWarning)\n",
      "/Users/Strawberry/anaconda3/lib/python3.7/site-packages/sklearn/neural_network/_multilayer_perceptron.py:571: ConvergenceWarning: Stochastic Optimizer: Maximum iterations (100) reached and the optimization hasn't converged yet.\n",
      "  % self.max_iter, ConvergenceWarning)\n",
      "/Users/Strawberry/anaconda3/lib/python3.7/site-packages/sklearn/neural_network/_multilayer_perceptron.py:571: ConvergenceWarning: Stochastic Optimizer: Maximum iterations (100) reached and the optimization hasn't converged yet.\n",
      "  % self.max_iter, ConvergenceWarning)\n"
     ]
    },
    {
     "name": "stdout",
     "output_type": "stream",
     "text": [
      "[CV]  activation=relu, hidden_layer_sizes=(20, 40), max_iter=100, solver=adam, score=0.551, total=   0.1s\n",
      "[CV] activation=relu, hidden_layer_sizes=(20, 40), max_iter=100, solver=adam \n",
      "[CV]  activation=relu, hidden_layer_sizes=(20, 40), max_iter=100, solver=adam, score=0.612, total=   0.1s\n",
      "[CV] activation=relu, hidden_layer_sizes=(20, 40), max_iter=100, solver=adam \n",
      "[CV]  activation=relu, hidden_layer_sizes=(20, 40), max_iter=100, solver=adam, score=0.583, total=   0.1s\n",
      "[CV] activation=relu, hidden_layer_sizes=(20, 40), max_iter=100, solver=adam \n"
     ]
    },
    {
     "name": "stderr",
     "output_type": "stream",
     "text": [
      "/Users/Strawberry/anaconda3/lib/python3.7/site-packages/sklearn/neural_network/_multilayer_perceptron.py:571: ConvergenceWarning: Stochastic Optimizer: Maximum iterations (100) reached and the optimization hasn't converged yet.\n",
      "  % self.max_iter, ConvergenceWarning)\n",
      "/Users/Strawberry/anaconda3/lib/python3.7/site-packages/sklearn/neural_network/_multilayer_perceptron.py:571: ConvergenceWarning: Stochastic Optimizer: Maximum iterations (100) reached and the optimization hasn't converged yet.\n",
      "  % self.max_iter, ConvergenceWarning)\n"
     ]
    },
    {
     "name": "stdout",
     "output_type": "stream",
     "text": [
      "[CV]  activation=relu, hidden_layer_sizes=(20, 40), max_iter=100, solver=adam, score=0.604, total=   0.1s\n",
      "[CV] activation=relu, hidden_layer_sizes=(20, 40), max_iter=100, solver=adam \n",
      "[CV]  activation=relu, hidden_layer_sizes=(20, 40), max_iter=100, solver=adam, score=0.542, total=   0.1s\n",
      "[CV] activation=relu, hidden_layer_sizes=(20, 40), max_iter=200, solver=lbfgs \n",
      "[CV]  activation=relu, hidden_layer_sizes=(20, 40), max_iter=200, solver=lbfgs, score=0.449, total=   0.0s\n",
      "[CV] activation=relu, hidden_layer_sizes=(20, 40), max_iter=200, solver=lbfgs \n",
      "[CV]  activation=relu, hidden_layer_sizes=(20, 40), max_iter=200, solver=lbfgs, score=0.469, total=   0.0s\n",
      "[CV] activation=relu, hidden_layer_sizes=(20, 40), max_iter=200, solver=lbfgs \n",
      "[CV]  activation=relu, hidden_layer_sizes=(20, 40), max_iter=200, solver=lbfgs, score=0.458, total=   0.0s\n",
      "[CV] activation=relu, hidden_layer_sizes=(20, 40), max_iter=200, solver=lbfgs \n",
      "[CV]  activation=relu, hidden_layer_sizes=(20, 40), max_iter=200, solver=lbfgs, score=0.458, total=   0.0s\n",
      "[CV] activation=relu, hidden_layer_sizes=(20, 40), max_iter=200, solver=lbfgs \n",
      "[CV]  activation=relu, hidden_layer_sizes=(20, 40), max_iter=200, solver=lbfgs, score=0.458, total=   0.0s\n",
      "[CV] activation=relu, hidden_layer_sizes=(20, 40), max_iter=200, solver=sgd \n",
      "[CV]  activation=relu, hidden_layer_sizes=(20, 40), max_iter=200, solver=sgd, score=0.653, total=   0.1s\n",
      "[CV] activation=relu, hidden_layer_sizes=(20, 40), max_iter=200, solver=sgd \n",
      "[CV]  activation=relu, hidden_layer_sizes=(20, 40), max_iter=200, solver=sgd, score=0.592, total=   0.0s\n",
      "[CV] activation=relu, hidden_layer_sizes=(20, 40), max_iter=200, solver=sgd \n",
      "[CV]  activation=relu, hidden_layer_sizes=(20, 40), max_iter=200, solver=sgd, score=0.562, total=   0.0s\n",
      "[CV] activation=relu, hidden_layer_sizes=(20, 40), max_iter=200, solver=sgd \n",
      "[CV]  activation=relu, hidden_layer_sizes=(20, 40), max_iter=200, solver=sgd, score=0.646, total=   0.0s\n",
      "[CV] activation=relu, hidden_layer_sizes=(20, 40), max_iter=200, solver=sgd \n",
      "[CV]  activation=relu, hidden_layer_sizes=(20, 40), max_iter=200, solver=sgd, score=0.417, total=   0.0s\n",
      "[CV] activation=relu, hidden_layer_sizes=(20, 40), max_iter=200, solver=adam \n"
     ]
    },
    {
     "name": "stderr",
     "output_type": "stream",
     "text": [
      "/Users/Strawberry/anaconda3/lib/python3.7/site-packages/sklearn/neural_network/_multilayer_perceptron.py:571: ConvergenceWarning: Stochastic Optimizer: Maximum iterations (200) reached and the optimization hasn't converged yet.\n",
      "  % self.max_iter, ConvergenceWarning)\n",
      "/Users/Strawberry/anaconda3/lib/python3.7/site-packages/sklearn/neural_network/_multilayer_perceptron.py:571: ConvergenceWarning: Stochastic Optimizer: Maximum iterations (200) reached and the optimization hasn't converged yet.\n",
      "  % self.max_iter, ConvergenceWarning)\n"
     ]
    },
    {
     "name": "stdout",
     "output_type": "stream",
     "text": [
      "[CV]  activation=relu, hidden_layer_sizes=(20, 40), max_iter=200, solver=adam, score=0.592, total=   0.2s\n",
      "[CV] activation=relu, hidden_layer_sizes=(20, 40), max_iter=200, solver=adam \n",
      "[CV]  activation=relu, hidden_layer_sizes=(20, 40), max_iter=200, solver=adam, score=0.673, total=   0.2s\n",
      "[CV] activation=relu, hidden_layer_sizes=(20, 40), max_iter=200, solver=adam \n"
     ]
    },
    {
     "name": "stderr",
     "output_type": "stream",
     "text": [
      "/Users/Strawberry/anaconda3/lib/python3.7/site-packages/sklearn/neural_network/_multilayer_perceptron.py:571: ConvergenceWarning: Stochastic Optimizer: Maximum iterations (200) reached and the optimization hasn't converged yet.\n",
      "  % self.max_iter, ConvergenceWarning)\n",
      "/Users/Strawberry/anaconda3/lib/python3.7/site-packages/sklearn/neural_network/_multilayer_perceptron.py:571: ConvergenceWarning: Stochastic Optimizer: Maximum iterations (200) reached and the optimization hasn't converged yet.\n",
      "  % self.max_iter, ConvergenceWarning)\n"
     ]
    },
    {
     "name": "stdout",
     "output_type": "stream",
     "text": [
      "[CV]  activation=relu, hidden_layer_sizes=(20, 40), max_iter=200, solver=adam, score=0.729, total=   0.2s\n",
      "[CV] activation=relu, hidden_layer_sizes=(20, 40), max_iter=200, solver=adam \n",
      "[CV]  activation=relu, hidden_layer_sizes=(20, 40), max_iter=200, solver=adam, score=0.708, total=   0.2s\n",
      "[CV] activation=relu, hidden_layer_sizes=(20, 40), max_iter=200, solver=adam \n"
     ]
    },
    {
     "name": "stderr",
     "output_type": "stream",
     "text": [
      "/Users/Strawberry/anaconda3/lib/python3.7/site-packages/sklearn/neural_network/_multilayer_perceptron.py:571: ConvergenceWarning: Stochastic Optimizer: Maximum iterations (200) reached and the optimization hasn't converged yet.\n",
      "  % self.max_iter, ConvergenceWarning)\n"
     ]
    },
    {
     "name": "stdout",
     "output_type": "stream",
     "text": [
      "[CV]  activation=relu, hidden_layer_sizes=(20, 40), max_iter=200, solver=adam, score=0.562, total=   0.2s\n",
      "[CV] activation=relu, hidden_layer_sizes=(20, 40), max_iter=300, solver=lbfgs \n",
      "[CV]  activation=relu, hidden_layer_sizes=(20, 40), max_iter=300, solver=lbfgs, score=0.449, total=   0.0s\n",
      "[CV] activation=relu, hidden_layer_sizes=(20, 40), max_iter=300, solver=lbfgs \n",
      "[CV]  activation=relu, hidden_layer_sizes=(20, 40), max_iter=300, solver=lbfgs, score=0.469, total=   0.0s\n",
      "[CV] activation=relu, hidden_layer_sizes=(20, 40), max_iter=300, solver=lbfgs \n",
      "[CV]  activation=relu, hidden_layer_sizes=(20, 40), max_iter=300, solver=lbfgs, score=0.458, total=   0.0s\n",
      "[CV] activation=relu, hidden_layer_sizes=(20, 40), max_iter=300, solver=lbfgs \n",
      "[CV]  activation=relu, hidden_layer_sizes=(20, 40), max_iter=300, solver=lbfgs, score=0.458, total=   0.0s\n",
      "[CV] activation=relu, hidden_layer_sizes=(20, 40), max_iter=300, solver=lbfgs \n",
      "[CV]  activation=relu, hidden_layer_sizes=(20, 40), max_iter=300, solver=lbfgs, score=0.458, total=   0.0s\n",
      "[CV] activation=relu, hidden_layer_sizes=(20, 40), max_iter=300, solver=sgd \n",
      "[CV]  activation=relu, hidden_layer_sizes=(20, 40), max_iter=300, solver=sgd, score=0.653, total=   0.1s\n",
      "[CV] activation=relu, hidden_layer_sizes=(20, 40), max_iter=300, solver=sgd \n",
      "[CV]  activation=relu, hidden_layer_sizes=(20, 40), max_iter=300, solver=sgd, score=0.592, total=   0.0s\n",
      "[CV] activation=relu, hidden_layer_sizes=(20, 40), max_iter=300, solver=sgd \n",
      "[CV]  activation=relu, hidden_layer_sizes=(20, 40), max_iter=300, solver=sgd, score=0.562, total=   0.0s\n",
      "[CV] activation=relu, hidden_layer_sizes=(20, 40), max_iter=300, solver=sgd \n",
      "[CV]  activation=relu, hidden_layer_sizes=(20, 40), max_iter=300, solver=sgd, score=0.646, total=   0.0s\n",
      "[CV] activation=relu, hidden_layer_sizes=(20, 40), max_iter=300, solver=sgd \n",
      "[CV]  activation=relu, hidden_layer_sizes=(20, 40), max_iter=300, solver=sgd, score=0.417, total=   0.0s\n",
      "[CV] activation=relu, hidden_layer_sizes=(20, 40), max_iter=300, solver=adam \n"
     ]
    },
    {
     "name": "stderr",
     "output_type": "stream",
     "text": [
      "/Users/Strawberry/anaconda3/lib/python3.7/site-packages/sklearn/neural_network/_multilayer_perceptron.py:571: ConvergenceWarning: Stochastic Optimizer: Maximum iterations (300) reached and the optimization hasn't converged yet.\n",
      "  % self.max_iter, ConvergenceWarning)\n"
     ]
    },
    {
     "name": "stdout",
     "output_type": "stream",
     "text": [
      "[CV]  activation=relu, hidden_layer_sizes=(20, 40), max_iter=300, solver=adam, score=0.612, total=   0.2s\n",
      "[CV] activation=relu, hidden_layer_sizes=(20, 40), max_iter=300, solver=adam \n"
     ]
    },
    {
     "name": "stderr",
     "output_type": "stream",
     "text": [
      "/Users/Strawberry/anaconda3/lib/python3.7/site-packages/sklearn/neural_network/_multilayer_perceptron.py:571: ConvergenceWarning: Stochastic Optimizer: Maximum iterations (300) reached and the optimization hasn't converged yet.\n",
      "  % self.max_iter, ConvergenceWarning)\n"
     ]
    },
    {
     "name": "stdout",
     "output_type": "stream",
     "text": [
      "[CV]  activation=relu, hidden_layer_sizes=(20, 40), max_iter=300, solver=adam, score=0.673, total=   0.2s\n",
      "[CV] activation=relu, hidden_layer_sizes=(20, 40), max_iter=300, solver=adam \n"
     ]
    },
    {
     "name": "stderr",
     "output_type": "stream",
     "text": [
      "/Users/Strawberry/anaconda3/lib/python3.7/site-packages/sklearn/neural_network/_multilayer_perceptron.py:571: ConvergenceWarning: Stochastic Optimizer: Maximum iterations (300) reached and the optimization hasn't converged yet.\n",
      "  % self.max_iter, ConvergenceWarning)\n"
     ]
    },
    {
     "name": "stdout",
     "output_type": "stream",
     "text": [
      "[CV]  activation=relu, hidden_layer_sizes=(20, 40), max_iter=300, solver=adam, score=0.854, total=   0.2s\n",
      "[CV] activation=relu, hidden_layer_sizes=(20, 40), max_iter=300, solver=adam \n"
     ]
    },
    {
     "name": "stderr",
     "output_type": "stream",
     "text": [
      "/Users/Strawberry/anaconda3/lib/python3.7/site-packages/sklearn/neural_network/_multilayer_perceptron.py:571: ConvergenceWarning: Stochastic Optimizer: Maximum iterations (300) reached and the optimization hasn't converged yet.\n",
      "  % self.max_iter, ConvergenceWarning)\n"
     ]
    },
    {
     "name": "stdout",
     "output_type": "stream",
     "text": [
      "[CV]  activation=relu, hidden_layer_sizes=(20, 40), max_iter=300, solver=adam, score=0.708, total=   0.2s\n",
      "[CV] activation=relu, hidden_layer_sizes=(20, 40), max_iter=300, solver=adam \n"
     ]
    },
    {
     "name": "stderr",
     "output_type": "stream",
     "text": [
      "/Users/Strawberry/anaconda3/lib/python3.7/site-packages/sklearn/neural_network/_multilayer_perceptron.py:571: ConvergenceWarning: Stochastic Optimizer: Maximum iterations (300) reached and the optimization hasn't converged yet.\n",
      "  % self.max_iter, ConvergenceWarning)\n",
      "/Users/Strawberry/anaconda3/lib/python3.7/site-packages/sklearn/neural_network/_multilayer_perceptron.py:571: ConvergenceWarning: Stochastic Optimizer: Maximum iterations (100) reached and the optimization hasn't converged yet.\n",
      "  % self.max_iter, ConvergenceWarning)\n"
     ]
    },
    {
     "name": "stdout",
     "output_type": "stream",
     "text": [
      "[CV]  activation=relu, hidden_layer_sizes=(20, 40), max_iter=300, solver=adam, score=0.646, total=   0.2s\n",
      "[CV] activation=relu, hidden_layer_sizes=(30, 10), max_iter=100, solver=lbfgs \n",
      "[CV]  activation=relu, hidden_layer_sizes=(30, 10), max_iter=100, solver=lbfgs, score=0.429, total=   0.0s\n",
      "[CV] activation=relu, hidden_layer_sizes=(30, 10), max_iter=100, solver=lbfgs \n",
      "[CV]  activation=relu, hidden_layer_sizes=(30, 10), max_iter=100, solver=lbfgs, score=0.490, total=   0.0s\n",
      "[CV] activation=relu, hidden_layer_sizes=(30, 10), max_iter=100, solver=lbfgs \n",
      "[CV]  activation=relu, hidden_layer_sizes=(30, 10), max_iter=100, solver=lbfgs, score=0.396, total=   0.0s\n",
      "[CV] activation=relu, hidden_layer_sizes=(30, 10), max_iter=100, solver=lbfgs \n",
      "[CV]  activation=relu, hidden_layer_sizes=(30, 10), max_iter=100, solver=lbfgs, score=0.542, total=   0.0s\n",
      "[CV] activation=relu, hidden_layer_sizes=(30, 10), max_iter=100, solver=lbfgs \n",
      "[CV]  activation=relu, hidden_layer_sizes=(30, 10), max_iter=100, solver=lbfgs, score=0.396, total=   0.0s\n",
      "[CV] activation=relu, hidden_layer_sizes=(30, 10), max_iter=100, solver=sgd \n",
      "[CV]  activation=relu, hidden_layer_sizes=(30, 10), max_iter=100, solver=sgd, score=0.551, total=   0.0s\n",
      "[CV] activation=relu, hidden_layer_sizes=(30, 10), max_iter=100, solver=sgd \n",
      "[CV]  activation=relu, hidden_layer_sizes=(30, 10), max_iter=100, solver=sgd, score=0.531, total=   0.0s\n",
      "[CV] activation=relu, hidden_layer_sizes=(30, 10), max_iter=100, solver=sgd \n",
      "[CV]  activation=relu, hidden_layer_sizes=(30, 10), max_iter=100, solver=sgd, score=0.542, total=   0.0s\n",
      "[CV] activation=relu, hidden_layer_sizes=(30, 10), max_iter=100, solver=sgd \n",
      "[CV]  activation=relu, hidden_layer_sizes=(30, 10), max_iter=100, solver=sgd, score=0.542, total=   0.1s\n",
      "[CV] activation=relu, hidden_layer_sizes=(30, 10), max_iter=100, solver=sgd \n",
      "[CV]  activation=relu, hidden_layer_sizes=(30, 10), max_iter=100, solver=sgd, score=0.542, total=   0.0s\n",
      "[CV] activation=relu, hidden_layer_sizes=(30, 10), max_iter=100, solver=adam \n"
     ]
    },
    {
     "name": "stderr",
     "output_type": "stream",
     "text": [
      "/Users/Strawberry/anaconda3/lib/python3.7/site-packages/sklearn/neural_network/_multilayer_perceptron.py:571: ConvergenceWarning: Stochastic Optimizer: Maximum iterations (100) reached and the optimization hasn't converged yet.\n",
      "  % self.max_iter, ConvergenceWarning)\n",
      "/Users/Strawberry/anaconda3/lib/python3.7/site-packages/sklearn/neural_network/_multilayer_perceptron.py:571: ConvergenceWarning: Stochastic Optimizer: Maximum iterations (100) reached and the optimization hasn't converged yet.\n",
      "  % self.max_iter, ConvergenceWarning)\n",
      "/Users/Strawberry/anaconda3/lib/python3.7/site-packages/sklearn/neural_network/_multilayer_perceptron.py:571: ConvergenceWarning: Stochastic Optimizer: Maximum iterations (100) reached and the optimization hasn't converged yet.\n",
      "  % self.max_iter, ConvergenceWarning)\n"
     ]
    },
    {
     "name": "stdout",
     "output_type": "stream",
     "text": [
      "[CV]  activation=relu, hidden_layer_sizes=(30, 10), max_iter=100, solver=adam, score=0.694, total=   0.1s\n",
      "[CV] activation=relu, hidden_layer_sizes=(30, 10), max_iter=100, solver=adam \n",
      "[CV]  activation=relu, hidden_layer_sizes=(30, 10), max_iter=100, solver=adam, score=0.592, total=   0.1s\n",
      "[CV] activation=relu, hidden_layer_sizes=(30, 10), max_iter=100, solver=adam \n",
      "[CV]  activation=relu, hidden_layer_sizes=(30, 10), max_iter=100, solver=adam, score=0.729, total=   0.1s\n",
      "[CV] activation=relu, hidden_layer_sizes=(30, 10), max_iter=100, solver=adam \n"
     ]
    },
    {
     "name": "stderr",
     "output_type": "stream",
     "text": [
      "/Users/Strawberry/anaconda3/lib/python3.7/site-packages/sklearn/neural_network/_multilayer_perceptron.py:571: ConvergenceWarning: Stochastic Optimizer: Maximum iterations (100) reached and the optimization hasn't converged yet.\n",
      "  % self.max_iter, ConvergenceWarning)\n",
      "/Users/Strawberry/anaconda3/lib/python3.7/site-packages/sklearn/neural_network/_multilayer_perceptron.py:571: ConvergenceWarning: Stochastic Optimizer: Maximum iterations (100) reached and the optimization hasn't converged yet.\n",
      "  % self.max_iter, ConvergenceWarning)\n"
     ]
    },
    {
     "name": "stdout",
     "output_type": "stream",
     "text": [
      "[CV]  activation=relu, hidden_layer_sizes=(30, 10), max_iter=100, solver=adam, score=0.792, total=   0.1s\n",
      "[CV] activation=relu, hidden_layer_sizes=(30, 10), max_iter=100, solver=adam \n",
      "[CV]  activation=relu, hidden_layer_sizes=(30, 10), max_iter=100, solver=adam, score=0.688, total=   0.1s\n",
      "[CV] activation=relu, hidden_layer_sizes=(30, 10), max_iter=200, solver=lbfgs \n",
      "[CV]  activation=relu, hidden_layer_sizes=(30, 10), max_iter=200, solver=lbfgs, score=0.429, total=   0.0s\n",
      "[CV] activation=relu, hidden_layer_sizes=(30, 10), max_iter=200, solver=lbfgs \n",
      "[CV]  activation=relu, hidden_layer_sizes=(30, 10), max_iter=200, solver=lbfgs, score=0.490, total=   0.0s\n",
      "[CV] activation=relu, hidden_layer_sizes=(30, 10), max_iter=200, solver=lbfgs \n",
      "[CV]  activation=relu, hidden_layer_sizes=(30, 10), max_iter=200, solver=lbfgs, score=0.396, total=   0.0s\n",
      "[CV] activation=relu, hidden_layer_sizes=(30, 10), max_iter=200, solver=lbfgs \n",
      "[CV]  activation=relu, hidden_layer_sizes=(30, 10), max_iter=200, solver=lbfgs, score=0.542, total=   0.0s\n",
      "[CV] activation=relu, hidden_layer_sizes=(30, 10), max_iter=200, solver=lbfgs \n",
      "[CV]  activation=relu, hidden_layer_sizes=(30, 10), max_iter=200, solver=lbfgs, score=0.396, total=   0.0s\n",
      "[CV] activation=relu, hidden_layer_sizes=(30, 10), max_iter=200, solver=sgd \n",
      "[CV]  activation=relu, hidden_layer_sizes=(30, 10), max_iter=200, solver=sgd, score=0.551, total=   0.0s\n",
      "[CV] activation=relu, hidden_layer_sizes=(30, 10), max_iter=200, solver=sgd \n",
      "[CV]  activation=relu, hidden_layer_sizes=(30, 10), max_iter=200, solver=sgd, score=0.531, total=   0.0s\n",
      "[CV] activation=relu, hidden_layer_sizes=(30, 10), max_iter=200, solver=sgd \n",
      "[CV]  activation=relu, hidden_layer_sizes=(30, 10), max_iter=200, solver=sgd, score=0.542, total=   0.0s\n",
      "[CV] activation=relu, hidden_layer_sizes=(30, 10), max_iter=200, solver=sgd \n"
     ]
    },
    {
     "name": "stderr",
     "output_type": "stream",
     "text": [
      "/Users/Strawberry/anaconda3/lib/python3.7/site-packages/sklearn/neural_network/_multilayer_perceptron.py:571: ConvergenceWarning: Stochastic Optimizer: Maximum iterations (200) reached and the optimization hasn't converged yet.\n",
      "  % self.max_iter, ConvergenceWarning)\n",
      "/Users/Strawberry/anaconda3/lib/python3.7/site-packages/sklearn/neural_network/_multilayer_perceptron.py:571: ConvergenceWarning: Stochastic Optimizer: Maximum iterations (200) reached and the optimization hasn't converged yet.\n",
      "  % self.max_iter, ConvergenceWarning)\n"
     ]
    },
    {
     "name": "stdout",
     "output_type": "stream",
     "text": [
      "[CV]  activation=relu, hidden_layer_sizes=(30, 10), max_iter=200, solver=sgd, score=0.542, total=   0.1s\n",
      "[CV] activation=relu, hidden_layer_sizes=(30, 10), max_iter=200, solver=sgd \n",
      "[CV]  activation=relu, hidden_layer_sizes=(30, 10), max_iter=200, solver=sgd, score=0.542, total=   0.0s\n",
      "[CV] activation=relu, hidden_layer_sizes=(30, 10), max_iter=200, solver=adam \n",
      "[CV]  activation=relu, hidden_layer_sizes=(30, 10), max_iter=200, solver=adam, score=0.755, total=   0.1s\n",
      "[CV] activation=relu, hidden_layer_sizes=(30, 10), max_iter=200, solver=adam \n"
     ]
    },
    {
     "name": "stderr",
     "output_type": "stream",
     "text": [
      "/Users/Strawberry/anaconda3/lib/python3.7/site-packages/sklearn/neural_network/_multilayer_perceptron.py:571: ConvergenceWarning: Stochastic Optimizer: Maximum iterations (200) reached and the optimization hasn't converged yet.\n",
      "  % self.max_iter, ConvergenceWarning)\n",
      "/Users/Strawberry/anaconda3/lib/python3.7/site-packages/sklearn/neural_network/_multilayer_perceptron.py:571: ConvergenceWarning: Stochastic Optimizer: Maximum iterations (200) reached and the optimization hasn't converged yet.\n",
      "  % self.max_iter, ConvergenceWarning)\n"
     ]
    },
    {
     "name": "stdout",
     "output_type": "stream",
     "text": [
      "[CV]  activation=relu, hidden_layer_sizes=(30, 10), max_iter=200, solver=adam, score=0.571, total=   0.1s\n",
      "[CV] activation=relu, hidden_layer_sizes=(30, 10), max_iter=200, solver=adam \n",
      "[CV]  activation=relu, hidden_layer_sizes=(30, 10), max_iter=200, solver=adam, score=0.771, total=   0.1s\n",
      "[CV] activation=relu, hidden_layer_sizes=(30, 10), max_iter=200, solver=adam \n"
     ]
    },
    {
     "name": "stderr",
     "output_type": "stream",
     "text": [
      "/Users/Strawberry/anaconda3/lib/python3.7/site-packages/sklearn/neural_network/_multilayer_perceptron.py:571: ConvergenceWarning: Stochastic Optimizer: Maximum iterations (200) reached and the optimization hasn't converged yet.\n",
      "  % self.max_iter, ConvergenceWarning)\n",
      "/Users/Strawberry/anaconda3/lib/python3.7/site-packages/sklearn/neural_network/_multilayer_perceptron.py:571: ConvergenceWarning: Stochastic Optimizer: Maximum iterations (200) reached and the optimization hasn't converged yet.\n",
      "  % self.max_iter, ConvergenceWarning)\n"
     ]
    },
    {
     "name": "stdout",
     "output_type": "stream",
     "text": [
      "[CV]  activation=relu, hidden_layer_sizes=(30, 10), max_iter=200, solver=adam, score=0.875, total=   0.1s\n",
      "[CV] activation=relu, hidden_layer_sizes=(30, 10), max_iter=200, solver=adam \n",
      "[CV]  activation=relu, hidden_layer_sizes=(30, 10), max_iter=200, solver=adam, score=0.771, total=   0.1s\n",
      "[CV] activation=relu, hidden_layer_sizes=(30, 10), max_iter=300, solver=lbfgs \n",
      "[CV]  activation=relu, hidden_layer_sizes=(30, 10), max_iter=300, solver=lbfgs, score=0.429, total=   0.0s\n",
      "[CV] activation=relu, hidden_layer_sizes=(30, 10), max_iter=300, solver=lbfgs \n",
      "[CV]  activation=relu, hidden_layer_sizes=(30, 10), max_iter=300, solver=lbfgs, score=0.490, total=   0.0s\n",
      "[CV] activation=relu, hidden_layer_sizes=(30, 10), max_iter=300, solver=lbfgs \n",
      "[CV]  activation=relu, hidden_layer_sizes=(30, 10), max_iter=300, solver=lbfgs, score=0.396, total=   0.0s\n",
      "[CV] activation=relu, hidden_layer_sizes=(30, 10), max_iter=300, solver=lbfgs \n",
      "[CV]  activation=relu, hidden_layer_sizes=(30, 10), max_iter=300, solver=lbfgs, score=0.542, total=   0.0s\n",
      "[CV] activation=relu, hidden_layer_sizes=(30, 10), max_iter=300, solver=lbfgs \n",
      "[CV]  activation=relu, hidden_layer_sizes=(30, 10), max_iter=300, solver=lbfgs, score=0.396, total=   0.0s\n",
      "[CV] activation=relu, hidden_layer_sizes=(30, 10), max_iter=300, solver=sgd \n",
      "[CV]  activation=relu, hidden_layer_sizes=(30, 10), max_iter=300, solver=sgd, score=0.551, total=   0.0s\n",
      "[CV] activation=relu, hidden_layer_sizes=(30, 10), max_iter=300, solver=sgd \n",
      "[CV]  activation=relu, hidden_layer_sizes=(30, 10), max_iter=300, solver=sgd, score=0.531, total=   0.0s\n",
      "[CV] activation=relu, hidden_layer_sizes=(30, 10), max_iter=300, solver=sgd \n",
      "[CV]  activation=relu, hidden_layer_sizes=(30, 10), max_iter=300, solver=sgd, score=0.542, total=   0.0s\n",
      "[CV] activation=relu, hidden_layer_sizes=(30, 10), max_iter=300, solver=sgd \n"
     ]
    },
    {
     "name": "stderr",
     "output_type": "stream",
     "text": [
      "/Users/Strawberry/anaconda3/lib/python3.7/site-packages/sklearn/neural_network/_multilayer_perceptron.py:571: ConvergenceWarning: Stochastic Optimizer: Maximum iterations (300) reached and the optimization hasn't converged yet.\n",
      "  % self.max_iter, ConvergenceWarning)\n"
     ]
    },
    {
     "name": "stdout",
     "output_type": "stream",
     "text": [
      "[CV]  activation=relu, hidden_layer_sizes=(30, 10), max_iter=300, solver=sgd, score=0.542, total=   0.2s\n",
      "[CV] activation=relu, hidden_layer_sizes=(30, 10), max_iter=300, solver=sgd \n",
      "[CV]  activation=relu, hidden_layer_sizes=(30, 10), max_iter=300, solver=sgd, score=0.542, total=   0.0s\n",
      "[CV] activation=relu, hidden_layer_sizes=(30, 10), max_iter=300, solver=adam \n"
     ]
    },
    {
     "name": "stderr",
     "output_type": "stream",
     "text": [
      "/Users/Strawberry/anaconda3/lib/python3.7/site-packages/sklearn/neural_network/_multilayer_perceptron.py:571: ConvergenceWarning: Stochastic Optimizer: Maximum iterations (300) reached and the optimization hasn't converged yet.\n",
      "  % self.max_iter, ConvergenceWarning)\n"
     ]
    },
    {
     "name": "stdout",
     "output_type": "stream",
     "text": [
      "[CV]  activation=relu, hidden_layer_sizes=(30, 10), max_iter=300, solver=adam, score=0.735, total=   0.2s\n",
      "[CV] activation=relu, hidden_layer_sizes=(30, 10), max_iter=300, solver=adam \n"
     ]
    },
    {
     "name": "stderr",
     "output_type": "stream",
     "text": [
      "/Users/Strawberry/anaconda3/lib/python3.7/site-packages/sklearn/neural_network/_multilayer_perceptron.py:571: ConvergenceWarning: Stochastic Optimizer: Maximum iterations (300) reached and the optimization hasn't converged yet.\n",
      "  % self.max_iter, ConvergenceWarning)\n"
     ]
    },
    {
     "name": "stdout",
     "output_type": "stream",
     "text": [
      "[CV]  activation=relu, hidden_layer_sizes=(30, 10), max_iter=300, solver=adam, score=0.673, total=   0.2s\n",
      "[CV] activation=relu, hidden_layer_sizes=(30, 10), max_iter=300, solver=adam \n"
     ]
    },
    {
     "name": "stderr",
     "output_type": "stream",
     "text": [
      "/Users/Strawberry/anaconda3/lib/python3.7/site-packages/sklearn/neural_network/_multilayer_perceptron.py:571: ConvergenceWarning: Stochastic Optimizer: Maximum iterations (300) reached and the optimization hasn't converged yet.\n",
      "  % self.max_iter, ConvergenceWarning)\n"
     ]
    },
    {
     "name": "stdout",
     "output_type": "stream",
     "text": [
      "[CV]  activation=relu, hidden_layer_sizes=(30, 10), max_iter=300, solver=adam, score=0.833, total=   0.2s\n",
      "[CV] activation=relu, hidden_layer_sizes=(30, 10), max_iter=300, solver=adam \n"
     ]
    },
    {
     "name": "stderr",
     "output_type": "stream",
     "text": [
      "/Users/Strawberry/anaconda3/lib/python3.7/site-packages/sklearn/neural_network/_multilayer_perceptron.py:571: ConvergenceWarning: Stochastic Optimizer: Maximum iterations (300) reached and the optimization hasn't converged yet.\n",
      "  % self.max_iter, ConvergenceWarning)\n"
     ]
    },
    {
     "name": "stdout",
     "output_type": "stream",
     "text": [
      "[CV]  activation=relu, hidden_layer_sizes=(30, 10), max_iter=300, solver=adam, score=0.875, total=   0.2s\n",
      "[CV] activation=relu, hidden_layer_sizes=(30, 10), max_iter=300, solver=adam \n"
     ]
    },
    {
     "name": "stderr",
     "output_type": "stream",
     "text": [
      "/Users/Strawberry/anaconda3/lib/python3.7/site-packages/sklearn/neural_network/_multilayer_perceptron.py:571: ConvergenceWarning: Stochastic Optimizer: Maximum iterations (300) reached and the optimization hasn't converged yet.\n",
      "  % self.max_iter, ConvergenceWarning)\n",
      "/Users/Strawberry/anaconda3/lib/python3.7/site-packages/sklearn/neural_network/_multilayer_perceptron.py:571: ConvergenceWarning: Stochastic Optimizer: Maximum iterations (100) reached and the optimization hasn't converged yet.\n",
      "  % self.max_iter, ConvergenceWarning)\n"
     ]
    },
    {
     "name": "stdout",
     "output_type": "stream",
     "text": [
      "[CV]  activation=relu, hidden_layer_sizes=(30, 10), max_iter=300, solver=adam, score=0.729, total=   0.2s\n",
      "[CV] activation=relu, hidden_layer_sizes=(30, 20), max_iter=100, solver=lbfgs \n",
      "[CV]  activation=relu, hidden_layer_sizes=(30, 20), max_iter=100, solver=lbfgs, score=0.449, total=   0.0s\n",
      "[CV] activation=relu, hidden_layer_sizes=(30, 20), max_iter=100, solver=lbfgs \n",
      "[CV]  activation=relu, hidden_layer_sizes=(30, 20), max_iter=100, solver=lbfgs, score=0.469, total=   0.0s\n",
      "[CV] activation=relu, hidden_layer_sizes=(30, 20), max_iter=100, solver=lbfgs \n",
      "[CV]  activation=relu, hidden_layer_sizes=(30, 20), max_iter=100, solver=lbfgs, score=0.458, total=   0.0s\n",
      "[CV] activation=relu, hidden_layer_sizes=(30, 20), max_iter=100, solver=lbfgs \n",
      "[CV]  activation=relu, hidden_layer_sizes=(30, 20), max_iter=100, solver=lbfgs, score=0.458, total=   0.0s\n",
      "[CV] activation=relu, hidden_layer_sizes=(30, 20), max_iter=100, solver=lbfgs \n",
      "[CV]  activation=relu, hidden_layer_sizes=(30, 20), max_iter=100, solver=lbfgs, score=0.458, total=   0.0s\n",
      "[CV] activation=relu, hidden_layer_sizes=(30, 20), max_iter=100, solver=sgd \n",
      "[CV]  activation=relu, hidden_layer_sizes=(30, 20), max_iter=100, solver=sgd, score=0.673, total=   0.1s\n",
      "[CV] activation=relu, hidden_layer_sizes=(30, 20), max_iter=100, solver=sgd \n",
      "[CV]  activation=relu, hidden_layer_sizes=(30, 20), max_iter=100, solver=sgd, score=0.612, total=   0.1s\n",
      "[CV] activation=relu, hidden_layer_sizes=(30, 20), max_iter=100, solver=sgd \n",
      "[CV]  activation=relu, hidden_layer_sizes=(30, 20), max_iter=100, solver=sgd, score=0.625, total=   0.1s\n",
      "[CV] activation=relu, hidden_layer_sizes=(30, 20), max_iter=100, solver=sgd \n",
      "[CV]  activation=relu, hidden_layer_sizes=(30, 20), max_iter=100, solver=sgd, score=0.625, total=   0.0s\n",
      "[CV] activation=relu, hidden_layer_sizes=(30, 20), max_iter=100, solver=sgd \n",
      "[CV]  activation=relu, hidden_layer_sizes=(30, 20), max_iter=100, solver=sgd, score=0.625, total=   0.0s\n",
      "[CV] activation=relu, hidden_layer_sizes=(30, 20), max_iter=100, solver=adam \n",
      "[CV]  activation=relu, hidden_layer_sizes=(30, 20), max_iter=100, solver=adam, score=0.592, total=   0.0s\n",
      "[CV] activation=relu, hidden_layer_sizes=(30, 20), max_iter=100, solver=adam \n",
      "[CV]  activation=relu, hidden_layer_sizes=(30, 20), max_iter=100, solver=adam, score=0.531, total=   0.0s\n",
      "[CV] activation=relu, hidden_layer_sizes=(30, 20), max_iter=100, solver=adam \n",
      "[CV]  activation=relu, hidden_layer_sizes=(30, 20), max_iter=100, solver=adam, score=0.646, total=   0.0s\n",
      "[CV] activation=relu, hidden_layer_sizes=(30, 20), max_iter=100, solver=adam \n",
      "[CV]  activation=relu, hidden_layer_sizes=(30, 20), max_iter=100, solver=adam, score=0.583, total=   0.0s\n",
      "[CV] activation=relu, hidden_layer_sizes=(30, 20), max_iter=100, solver=adam \n",
      "[CV]  activation=relu, hidden_layer_sizes=(30, 20), max_iter=100, solver=adam, score=0.750, total=   0.0s\n",
      "[CV] activation=relu, hidden_layer_sizes=(30, 20), max_iter=200, solver=lbfgs \n",
      "[CV]  activation=relu, hidden_layer_sizes=(30, 20), max_iter=200, solver=lbfgs, score=0.449, total=   0.0s\n",
      "[CV] activation=relu, hidden_layer_sizes=(30, 20), max_iter=200, solver=lbfgs \n",
      "[CV]  activation=relu, hidden_layer_sizes=(30, 20), max_iter=200, solver=lbfgs, score=0.469, total=   0.0s\n",
      "[CV] activation=relu, hidden_layer_sizes=(30, 20), max_iter=200, solver=lbfgs \n",
      "[CV]  activation=relu, hidden_layer_sizes=(30, 20), max_iter=200, solver=lbfgs, score=0.458, total=   0.0s\n",
      "[CV] activation=relu, hidden_layer_sizes=(30, 20), max_iter=200, solver=lbfgs \n",
      "[CV]  activation=relu, hidden_layer_sizes=(30, 20), max_iter=200, solver=lbfgs, score=0.458, total=   0.0s\n",
      "[CV] activation=relu, hidden_layer_sizes=(30, 20), max_iter=200, solver=lbfgs \n",
      "[CV]  activation=relu, hidden_layer_sizes=(30, 20), max_iter=200, solver=lbfgs, score=0.458, total=   0.0s\n",
      "[CV] activation=relu, hidden_layer_sizes=(30, 20), max_iter=200, solver=sgd \n",
      "[CV]  activation=relu, hidden_layer_sizes=(30, 20), max_iter=200, solver=sgd, score=0.673, total=   0.1s\n",
      "[CV] activation=relu, hidden_layer_sizes=(30, 20), max_iter=200, solver=sgd \n"
     ]
    },
    {
     "name": "stderr",
     "output_type": "stream",
     "text": [
      "/Users/Strawberry/anaconda3/lib/python3.7/site-packages/sklearn/neural_network/_multilayer_perceptron.py:571: ConvergenceWarning: Stochastic Optimizer: Maximum iterations (200) reached and the optimization hasn't converged yet.\n",
      "  % self.max_iter, ConvergenceWarning)\n"
     ]
    },
    {
     "name": "stdout",
     "output_type": "stream",
     "text": [
      "[CV]  activation=relu, hidden_layer_sizes=(30, 20), max_iter=200, solver=sgd, score=0.592, total=   0.1s\n",
      "[CV] activation=relu, hidden_layer_sizes=(30, 20), max_iter=200, solver=sgd \n",
      "[CV]  activation=relu, hidden_layer_sizes=(30, 20), max_iter=200, solver=sgd, score=0.625, total=   0.1s\n",
      "[CV] activation=relu, hidden_layer_sizes=(30, 20), max_iter=200, solver=sgd \n",
      "[CV]  activation=relu, hidden_layer_sizes=(30, 20), max_iter=200, solver=sgd, score=0.625, total=   0.0s\n",
      "[CV] activation=relu, hidden_layer_sizes=(30, 20), max_iter=200, solver=sgd \n",
      "[CV]  activation=relu, hidden_layer_sizes=(30, 20), max_iter=200, solver=sgd, score=0.625, total=   0.0s\n",
      "[CV] activation=relu, hidden_layer_sizes=(30, 20), max_iter=200, solver=adam \n",
      "[CV]  activation=relu, hidden_layer_sizes=(30, 20), max_iter=200, solver=adam, score=0.592, total=   0.0s\n",
      "[CV] activation=relu, hidden_layer_sizes=(30, 20), max_iter=200, solver=adam \n",
      "[CV]  activation=relu, hidden_layer_sizes=(30, 20), max_iter=200, solver=adam, score=0.531, total=   0.0s\n",
      "[CV] activation=relu, hidden_layer_sizes=(30, 20), max_iter=200, solver=adam \n",
      "[CV]  activation=relu, hidden_layer_sizes=(30, 20), max_iter=200, solver=adam, score=0.646, total=   0.0s\n",
      "[CV] activation=relu, hidden_layer_sizes=(30, 20), max_iter=200, solver=adam \n",
      "[CV]  activation=relu, hidden_layer_sizes=(30, 20), max_iter=200, solver=adam, score=0.583, total=   0.0s\n",
      "[CV] activation=relu, hidden_layer_sizes=(30, 20), max_iter=200, solver=adam \n",
      "[CV]  activation=relu, hidden_layer_sizes=(30, 20), max_iter=200, solver=adam, score=0.750, total=   0.0s\n",
      "[CV] activation=relu, hidden_layer_sizes=(30, 20), max_iter=300, solver=lbfgs \n",
      "[CV]  activation=relu, hidden_layer_sizes=(30, 20), max_iter=300, solver=lbfgs, score=0.449, total=   0.0s\n",
      "[CV] activation=relu, hidden_layer_sizes=(30, 20), max_iter=300, solver=lbfgs \n",
      "[CV]  activation=relu, hidden_layer_sizes=(30, 20), max_iter=300, solver=lbfgs, score=0.469, total=   0.0s\n",
      "[CV] activation=relu, hidden_layer_sizes=(30, 20), max_iter=300, solver=lbfgs \n",
      "[CV]  activation=relu, hidden_layer_sizes=(30, 20), max_iter=300, solver=lbfgs, score=0.458, total=   0.0s\n",
      "[CV] activation=relu, hidden_layer_sizes=(30, 20), max_iter=300, solver=lbfgs \n",
      "[CV]  activation=relu, hidden_layer_sizes=(30, 20), max_iter=300, solver=lbfgs, score=0.458, total=   0.0s\n",
      "[CV] activation=relu, hidden_layer_sizes=(30, 20), max_iter=300, solver=lbfgs \n",
      "[CV]  activation=relu, hidden_layer_sizes=(30, 20), max_iter=300, solver=lbfgs, score=0.458, total=   0.0s\n",
      "[CV] activation=relu, hidden_layer_sizes=(30, 20), max_iter=300, solver=sgd \n",
      "[CV]  activation=relu, hidden_layer_sizes=(30, 20), max_iter=300, solver=sgd, score=0.673, total=   0.1s\n",
      "[CV] activation=relu, hidden_layer_sizes=(30, 20), max_iter=300, solver=sgd \n",
      "[CV]  activation=relu, hidden_layer_sizes=(30, 20), max_iter=300, solver=sgd, score=0.592, total=   0.1s\n",
      "[CV] activation=relu, hidden_layer_sizes=(30, 20), max_iter=300, solver=sgd \n",
      "[CV]  activation=relu, hidden_layer_sizes=(30, 20), max_iter=300, solver=sgd, score=0.625, total=   0.1s\n",
      "[CV] activation=relu, hidden_layer_sizes=(30, 20), max_iter=300, solver=sgd \n",
      "[CV]  activation=relu, hidden_layer_sizes=(30, 20), max_iter=300, solver=sgd, score=0.625, total=   0.0s\n",
      "[CV] activation=relu, hidden_layer_sizes=(30, 20), max_iter=300, solver=sgd \n",
      "[CV]  activation=relu, hidden_layer_sizes=(30, 20), max_iter=300, solver=sgd, score=0.625, total=   0.0s\n",
      "[CV] activation=relu, hidden_layer_sizes=(30, 20), max_iter=300, solver=adam \n",
      "[CV]  activation=relu, hidden_layer_sizes=(30, 20), max_iter=300, solver=adam, score=0.592, total=   0.0s\n",
      "[CV] activation=relu, hidden_layer_sizes=(30, 20), max_iter=300, solver=adam \n",
      "[CV]  activation=relu, hidden_layer_sizes=(30, 20), max_iter=300, solver=adam, score=0.531, total=   0.0s\n",
      "[CV] activation=relu, hidden_layer_sizes=(30, 20), max_iter=300, solver=adam \n",
      "[CV]  activation=relu, hidden_layer_sizes=(30, 20), max_iter=300, solver=adam, score=0.646, total=   0.0s\n",
      "[CV] activation=relu, hidden_layer_sizes=(30, 20), max_iter=300, solver=adam \n",
      "[CV]  activation=relu, hidden_layer_sizes=(30, 20), max_iter=300, solver=adam, score=0.583, total=   0.0s\n",
      "[CV] activation=relu, hidden_layer_sizes=(30, 20), max_iter=300, solver=adam \n",
      "[CV]  activation=relu, hidden_layer_sizes=(30, 20), max_iter=300, solver=adam, score=0.750, total=   0.0s\n",
      "[CV] activation=relu, hidden_layer_sizes=(30, 30), max_iter=100, solver=lbfgs \n",
      "[CV]  activation=relu, hidden_layer_sizes=(30, 30), max_iter=100, solver=lbfgs, score=0.490, total=   0.0s\n",
      "[CV] activation=relu, hidden_layer_sizes=(30, 30), max_iter=100, solver=lbfgs \n",
      "[CV]  activation=relu, hidden_layer_sizes=(30, 30), max_iter=100, solver=lbfgs, score=0.531, total=   0.0s\n",
      "[CV] activation=relu, hidden_layer_sizes=(30, 30), max_iter=100, solver=lbfgs \n",
      "[CV]  activation=relu, hidden_layer_sizes=(30, 30), max_iter=100, solver=lbfgs, score=0.438, total=   0.0s\n",
      "[CV] activation=relu, hidden_layer_sizes=(30, 30), max_iter=100, solver=lbfgs \n",
      "[CV]  activation=relu, hidden_layer_sizes=(30, 30), max_iter=100, solver=lbfgs, score=0.583, total=   0.0s\n",
      "[CV] activation=relu, hidden_layer_sizes=(30, 30), max_iter=100, solver=lbfgs \n",
      "[CV]  activation=relu, hidden_layer_sizes=(30, 30), max_iter=100, solver=lbfgs, score=0.458, total=   0.0s\n",
      "[CV] activation=relu, hidden_layer_sizes=(30, 30), max_iter=100, solver=sgd \n",
      "[CV]  activation=relu, hidden_layer_sizes=(30, 30), max_iter=100, solver=sgd, score=0.673, total=   0.1s\n",
      "[CV] activation=relu, hidden_layer_sizes=(30, 30), max_iter=100, solver=sgd \n",
      "[CV]  activation=relu, hidden_layer_sizes=(30, 30), max_iter=100, solver=sgd, score=0.592, total=   0.1s\n",
      "[CV] activation=relu, hidden_layer_sizes=(30, 30), max_iter=100, solver=sgd \n",
      "[CV]  activation=relu, hidden_layer_sizes=(30, 30), max_iter=100, solver=sgd, score=0.604, total=   0.0s\n",
      "[CV] activation=relu, hidden_layer_sizes=(30, 30), max_iter=100, solver=sgd \n",
      "[CV]  activation=relu, hidden_layer_sizes=(30, 30), max_iter=100, solver=sgd, score=0.708, total=   0.1s\n",
      "[CV] activation=relu, hidden_layer_sizes=(30, 30), max_iter=100, solver=sgd \n",
      "[CV]  activation=relu, hidden_layer_sizes=(30, 30), max_iter=100, solver=sgd, score=0.646, total=   0.0s\n",
      "[CV] activation=relu, hidden_layer_sizes=(30, 30), max_iter=100, solver=adam \n",
      "[CV]  activation=relu, hidden_layer_sizes=(30, 30), max_iter=100, solver=adam, score=0.571, total=   0.1s\n",
      "[CV] activation=relu, hidden_layer_sizes=(30, 30), max_iter=100, solver=adam \n"
     ]
    },
    {
     "name": "stderr",
     "output_type": "stream",
     "text": [
      "/Users/Strawberry/anaconda3/lib/python3.7/site-packages/sklearn/neural_network/_multilayer_perceptron.py:571: ConvergenceWarning: Stochastic Optimizer: Maximum iterations (100) reached and the optimization hasn't converged yet.\n",
      "  % self.max_iter, ConvergenceWarning)\n",
      "/Users/Strawberry/anaconda3/lib/python3.7/site-packages/sklearn/neural_network/_multilayer_perceptron.py:571: ConvergenceWarning: Stochastic Optimizer: Maximum iterations (100) reached and the optimization hasn't converged yet.\n",
      "  % self.max_iter, ConvergenceWarning)\n",
      "/Users/Strawberry/anaconda3/lib/python3.7/site-packages/sklearn/neural_network/_multilayer_perceptron.py:571: ConvergenceWarning: Stochastic Optimizer: Maximum iterations (100) reached and the optimization hasn't converged yet.\n",
      "  % self.max_iter, ConvergenceWarning)\n"
     ]
    },
    {
     "name": "stdout",
     "output_type": "stream",
     "text": [
      "[CV]  activation=relu, hidden_layer_sizes=(30, 30), max_iter=100, solver=adam, score=0.653, total=   0.1s\n",
      "[CV] activation=relu, hidden_layer_sizes=(30, 30), max_iter=100, solver=adam \n",
      "[CV]  activation=relu, hidden_layer_sizes=(30, 30), max_iter=100, solver=adam, score=0.729, total=   0.1s\n",
      "[CV] activation=relu, hidden_layer_sizes=(30, 30), max_iter=100, solver=adam \n",
      "[CV]  activation=relu, hidden_layer_sizes=(30, 30), max_iter=100, solver=adam, score=0.771, total=   0.1s\n",
      "[CV] activation=relu, hidden_layer_sizes=(30, 30), max_iter=100, solver=adam \n"
     ]
    },
    {
     "name": "stderr",
     "output_type": "stream",
     "text": [
      "/Users/Strawberry/anaconda3/lib/python3.7/site-packages/sklearn/neural_network/_multilayer_perceptron.py:571: ConvergenceWarning: Stochastic Optimizer: Maximum iterations (100) reached and the optimization hasn't converged yet.\n",
      "  % self.max_iter, ConvergenceWarning)\n",
      "/Users/Strawberry/anaconda3/lib/python3.7/site-packages/sklearn/neural_network/_multilayer_perceptron.py:571: ConvergenceWarning: Stochastic Optimizer: Maximum iterations (100) reached and the optimization hasn't converged yet.\n",
      "  % self.max_iter, ConvergenceWarning)\n"
     ]
    },
    {
     "name": "stdout",
     "output_type": "stream",
     "text": [
      "[CV]  activation=relu, hidden_layer_sizes=(30, 30), max_iter=100, solver=adam, score=0.667, total=   0.1s\n",
      "[CV] activation=relu, hidden_layer_sizes=(30, 30), max_iter=200, solver=lbfgs \n",
      "[CV]  activation=relu, hidden_layer_sizes=(30, 30), max_iter=200, solver=lbfgs, score=0.490, total=   0.0s\n",
      "[CV] activation=relu, hidden_layer_sizes=(30, 30), max_iter=200, solver=lbfgs \n",
      "[CV]  activation=relu, hidden_layer_sizes=(30, 30), max_iter=200, solver=lbfgs, score=0.531, total=   0.0s\n",
      "[CV] activation=relu, hidden_layer_sizes=(30, 30), max_iter=200, solver=lbfgs \n",
      "[CV]  activation=relu, hidden_layer_sizes=(30, 30), max_iter=200, solver=lbfgs, score=0.438, total=   0.0s\n",
      "[CV] activation=relu, hidden_layer_sizes=(30, 30), max_iter=200, solver=lbfgs \n",
      "[CV]  activation=relu, hidden_layer_sizes=(30, 30), max_iter=200, solver=lbfgs, score=0.583, total=   0.0s\n",
      "[CV] activation=relu, hidden_layer_sizes=(30, 30), max_iter=200, solver=lbfgs \n",
      "[CV]  activation=relu, hidden_layer_sizes=(30, 30), max_iter=200, solver=lbfgs, score=0.458, total=   0.0s\n",
      "[CV] activation=relu, hidden_layer_sizes=(30, 30), max_iter=200, solver=sgd \n",
      "[CV]  activation=relu, hidden_layer_sizes=(30, 30), max_iter=200, solver=sgd, score=0.673, total=   0.1s\n",
      "[CV] activation=relu, hidden_layer_sizes=(30, 30), max_iter=200, solver=sgd \n",
      "[CV]  activation=relu, hidden_layer_sizes=(30, 30), max_iter=200, solver=sgd, score=0.592, total=   0.1s\n",
      "[CV] activation=relu, hidden_layer_sizes=(30, 30), max_iter=200, solver=sgd \n",
      "[CV]  activation=relu, hidden_layer_sizes=(30, 30), max_iter=200, solver=sgd, score=0.604, total=   0.0s\n",
      "[CV] activation=relu, hidden_layer_sizes=(30, 30), max_iter=200, solver=sgd \n",
      "[CV]  activation=relu, hidden_layer_sizes=(30, 30), max_iter=200, solver=sgd, score=0.708, total=   0.1s\n",
      "[CV] activation=relu, hidden_layer_sizes=(30, 30), max_iter=200, solver=sgd \n",
      "[CV]  activation=relu, hidden_layer_sizes=(30, 30), max_iter=200, solver=sgd, score=0.646, total=   0.0s\n",
      "[CV] activation=relu, hidden_layer_sizes=(30, 30), max_iter=200, solver=adam \n",
      "[CV]  activation=relu, hidden_layer_sizes=(30, 30), max_iter=200, solver=adam, score=0.714, total=   0.2s\n",
      "[CV] activation=relu, hidden_layer_sizes=(30, 30), max_iter=200, solver=adam \n"
     ]
    },
    {
     "name": "stderr",
     "output_type": "stream",
     "text": [
      "/Users/Strawberry/anaconda3/lib/python3.7/site-packages/sklearn/neural_network/_multilayer_perceptron.py:571: ConvergenceWarning: Stochastic Optimizer: Maximum iterations (200) reached and the optimization hasn't converged yet.\n",
      "  % self.max_iter, ConvergenceWarning)\n",
      "/Users/Strawberry/anaconda3/lib/python3.7/site-packages/sklearn/neural_network/_multilayer_perceptron.py:571: ConvergenceWarning: Stochastic Optimizer: Maximum iterations (200) reached and the optimization hasn't converged yet.\n",
      "  % self.max_iter, ConvergenceWarning)\n"
     ]
    },
    {
     "name": "stdout",
     "output_type": "stream",
     "text": [
      "[CV]  activation=relu, hidden_layer_sizes=(30, 30), max_iter=200, solver=adam, score=0.653, total=   0.2s\n",
      "[CV] activation=relu, hidden_layer_sizes=(30, 30), max_iter=200, solver=adam \n",
      "[CV]  activation=relu, hidden_layer_sizes=(30, 30), max_iter=200, solver=adam, score=0.750, total=   0.2s\n",
      "[CV] activation=relu, hidden_layer_sizes=(30, 30), max_iter=200, solver=adam \n"
     ]
    },
    {
     "name": "stderr",
     "output_type": "stream",
     "text": [
      "/Users/Strawberry/anaconda3/lib/python3.7/site-packages/sklearn/neural_network/_multilayer_perceptron.py:571: ConvergenceWarning: Stochastic Optimizer: Maximum iterations (200) reached and the optimization hasn't converged yet.\n",
      "  % self.max_iter, ConvergenceWarning)\n",
      "/Users/Strawberry/anaconda3/lib/python3.7/site-packages/sklearn/neural_network/_multilayer_perceptron.py:571: ConvergenceWarning: Stochastic Optimizer: Maximum iterations (200) reached and the optimization hasn't converged yet.\n",
      "  % self.max_iter, ConvergenceWarning)\n"
     ]
    },
    {
     "name": "stdout",
     "output_type": "stream",
     "text": [
      "[CV]  activation=relu, hidden_layer_sizes=(30, 30), max_iter=200, solver=adam, score=0.854, total=   0.2s\n",
      "[CV] activation=relu, hidden_layer_sizes=(30, 30), max_iter=200, solver=adam \n",
      "[CV]  activation=relu, hidden_layer_sizes=(30, 30), max_iter=200, solver=adam, score=0.792, total=   0.2s\n",
      "[CV] activation=relu, hidden_layer_sizes=(30, 30), max_iter=300, solver=lbfgs \n",
      "[CV]  activation=relu, hidden_layer_sizes=(30, 30), max_iter=300, solver=lbfgs, score=0.490, total=   0.0s\n",
      "[CV] activation=relu, hidden_layer_sizes=(30, 30), max_iter=300, solver=lbfgs \n",
      "[CV]  activation=relu, hidden_layer_sizes=(30, 30), max_iter=300, solver=lbfgs, score=0.531, total=   0.0s\n",
      "[CV] activation=relu, hidden_layer_sizes=(30, 30), max_iter=300, solver=lbfgs \n",
      "[CV]  activation=relu, hidden_layer_sizes=(30, 30), max_iter=300, solver=lbfgs, score=0.438, total=   0.0s\n",
      "[CV] activation=relu, hidden_layer_sizes=(30, 30), max_iter=300, solver=lbfgs \n",
      "[CV]  activation=relu, hidden_layer_sizes=(30, 30), max_iter=300, solver=lbfgs, score=0.583, total=   0.0s\n",
      "[CV] activation=relu, hidden_layer_sizes=(30, 30), max_iter=300, solver=lbfgs \n"
     ]
    },
    {
     "name": "stderr",
     "output_type": "stream",
     "text": [
      "/Users/Strawberry/anaconda3/lib/python3.7/site-packages/sklearn/neural_network/_multilayer_perceptron.py:571: ConvergenceWarning: Stochastic Optimizer: Maximum iterations (200) reached and the optimization hasn't converged yet.\n",
      "  % self.max_iter, ConvergenceWarning)\n"
     ]
    },
    {
     "name": "stdout",
     "output_type": "stream",
     "text": [
      "[CV]  activation=relu, hidden_layer_sizes=(30, 30), max_iter=300, solver=lbfgs, score=0.458, total=   0.0s\n",
      "[CV] activation=relu, hidden_layer_sizes=(30, 30), max_iter=300, solver=sgd \n",
      "[CV]  activation=relu, hidden_layer_sizes=(30, 30), max_iter=300, solver=sgd, score=0.673, total=   0.1s\n",
      "[CV] activation=relu, hidden_layer_sizes=(30, 30), max_iter=300, solver=sgd \n",
      "[CV]  activation=relu, hidden_layer_sizes=(30, 30), max_iter=300, solver=sgd, score=0.592, total=   0.1s\n",
      "[CV] activation=relu, hidden_layer_sizes=(30, 30), max_iter=300, solver=sgd \n",
      "[CV]  activation=relu, hidden_layer_sizes=(30, 30), max_iter=300, solver=sgd, score=0.604, total=   0.0s\n",
      "[CV] activation=relu, hidden_layer_sizes=(30, 30), max_iter=300, solver=sgd \n",
      "[CV]  activation=relu, hidden_layer_sizes=(30, 30), max_iter=300, solver=sgd, score=0.708, total=   0.1s\n",
      "[CV] activation=relu, hidden_layer_sizes=(30, 30), max_iter=300, solver=sgd \n",
      "[CV]  activation=relu, hidden_layer_sizes=(30, 30), max_iter=300, solver=sgd, score=0.646, total=   0.0s\n",
      "[CV] activation=relu, hidden_layer_sizes=(30, 30), max_iter=300, solver=adam \n"
     ]
    },
    {
     "name": "stderr",
     "output_type": "stream",
     "text": [
      "/Users/Strawberry/anaconda3/lib/python3.7/site-packages/sklearn/neural_network/_multilayer_perceptron.py:571: ConvergenceWarning: Stochastic Optimizer: Maximum iterations (300) reached and the optimization hasn't converged yet.\n",
      "  % self.max_iter, ConvergenceWarning)\n"
     ]
    },
    {
     "name": "stdout",
     "output_type": "stream",
     "text": [
      "[CV]  activation=relu, hidden_layer_sizes=(30, 30), max_iter=300, solver=adam, score=0.673, total=   0.2s\n",
      "[CV] activation=relu, hidden_layer_sizes=(30, 30), max_iter=300, solver=adam \n"
     ]
    },
    {
     "name": "stderr",
     "output_type": "stream",
     "text": [
      "/Users/Strawberry/anaconda3/lib/python3.7/site-packages/sklearn/neural_network/_multilayer_perceptron.py:571: ConvergenceWarning: Stochastic Optimizer: Maximum iterations (300) reached and the optimization hasn't converged yet.\n",
      "  % self.max_iter, ConvergenceWarning)\n"
     ]
    },
    {
     "name": "stdout",
     "output_type": "stream",
     "text": [
      "[CV]  activation=relu, hidden_layer_sizes=(30, 30), max_iter=300, solver=adam, score=0.694, total=   0.2s\n",
      "[CV] activation=relu, hidden_layer_sizes=(30, 30), max_iter=300, solver=adam \n"
     ]
    },
    {
     "name": "stderr",
     "output_type": "stream",
     "text": [
      "/Users/Strawberry/anaconda3/lib/python3.7/site-packages/sklearn/neural_network/_multilayer_perceptron.py:571: ConvergenceWarning: Stochastic Optimizer: Maximum iterations (300) reached and the optimization hasn't converged yet.\n",
      "  % self.max_iter, ConvergenceWarning)\n"
     ]
    },
    {
     "name": "stdout",
     "output_type": "stream",
     "text": [
      "[CV]  activation=relu, hidden_layer_sizes=(30, 30), max_iter=300, solver=adam, score=0.833, total=   0.2s\n",
      "[CV] activation=relu, hidden_layer_sizes=(30, 30), max_iter=300, solver=adam \n"
     ]
    },
    {
     "name": "stderr",
     "output_type": "stream",
     "text": [
      "/Users/Strawberry/anaconda3/lib/python3.7/site-packages/sklearn/neural_network/_multilayer_perceptron.py:571: ConvergenceWarning: Stochastic Optimizer: Maximum iterations (300) reached and the optimization hasn't converged yet.\n",
      "  % self.max_iter, ConvergenceWarning)\n"
     ]
    },
    {
     "name": "stdout",
     "output_type": "stream",
     "text": [
      "[CV]  activation=relu, hidden_layer_sizes=(30, 30), max_iter=300, solver=adam, score=0.896, total=   0.3s\n",
      "[CV] activation=relu, hidden_layer_sizes=(30, 30), max_iter=300, solver=adam \n"
     ]
    },
    {
     "name": "stderr",
     "output_type": "stream",
     "text": [
      "/Users/Strawberry/anaconda3/lib/python3.7/site-packages/sklearn/neural_network/_multilayer_perceptron.py:571: ConvergenceWarning: Stochastic Optimizer: Maximum iterations (300) reached and the optimization hasn't converged yet.\n",
      "  % self.max_iter, ConvergenceWarning)\n",
      "/Users/Strawberry/anaconda3/lib/python3.7/site-packages/sklearn/neural_network/_multilayer_perceptron.py:571: ConvergenceWarning: Stochastic Optimizer: Maximum iterations (100) reached and the optimization hasn't converged yet.\n",
      "  % self.max_iter, ConvergenceWarning)\n"
     ]
    },
    {
     "name": "stdout",
     "output_type": "stream",
     "text": [
      "[CV]  activation=relu, hidden_layer_sizes=(30, 30), max_iter=300, solver=adam, score=0.708, total=   0.2s\n",
      "[CV] activation=relu, hidden_layer_sizes=(30, 40), max_iter=100, solver=lbfgs \n",
      "[CV]  activation=relu, hidden_layer_sizes=(30, 40), max_iter=100, solver=lbfgs, score=0.449, total=   0.0s\n",
      "[CV] activation=relu, hidden_layer_sizes=(30, 40), max_iter=100, solver=lbfgs \n",
      "[CV]  activation=relu, hidden_layer_sizes=(30, 40), max_iter=100, solver=lbfgs, score=0.469, total=   0.0s\n",
      "[CV] activation=relu, hidden_layer_sizes=(30, 40), max_iter=100, solver=lbfgs \n",
      "[CV]  activation=relu, hidden_layer_sizes=(30, 40), max_iter=100, solver=lbfgs, score=0.458, total=   0.0s\n",
      "[CV] activation=relu, hidden_layer_sizes=(30, 40), max_iter=100, solver=lbfgs \n",
      "[CV]  activation=relu, hidden_layer_sizes=(30, 40), max_iter=100, solver=lbfgs, score=0.458, total=   0.0s\n",
      "[CV] activation=relu, hidden_layer_sizes=(30, 40), max_iter=100, solver=lbfgs \n",
      "[CV]  activation=relu, hidden_layer_sizes=(30, 40), max_iter=100, solver=lbfgs, score=0.458, total=   0.0s\n",
      "[CV] activation=relu, hidden_layer_sizes=(30, 40), max_iter=100, solver=sgd \n",
      "[CV]  activation=relu, hidden_layer_sizes=(30, 40), max_iter=100, solver=sgd, score=0.673, total=   0.1s\n",
      "[CV] activation=relu, hidden_layer_sizes=(30, 40), max_iter=100, solver=sgd \n",
      "[CV]  activation=relu, hidden_layer_sizes=(30, 40), max_iter=100, solver=sgd, score=0.592, total=   0.0s\n",
      "[CV] activation=relu, hidden_layer_sizes=(30, 40), max_iter=100, solver=sgd \n"
     ]
    },
    {
     "name": "stderr",
     "output_type": "stream",
     "text": [
      "/Users/Strawberry/anaconda3/lib/python3.7/site-packages/sklearn/neural_network/_multilayer_perceptron.py:571: ConvergenceWarning: Stochastic Optimizer: Maximum iterations (100) reached and the optimization hasn't converged yet.\n",
      "  % self.max_iter, ConvergenceWarning)\n",
      "/Users/Strawberry/anaconda3/lib/python3.7/site-packages/sklearn/neural_network/_multilayer_perceptron.py:571: ConvergenceWarning: Stochastic Optimizer: Maximum iterations (100) reached and the optimization hasn't converged yet.\n",
      "  % self.max_iter, ConvergenceWarning)\n",
      "/Users/Strawberry/anaconda3/lib/python3.7/site-packages/sklearn/neural_network/_multilayer_perceptron.py:571: ConvergenceWarning: Stochastic Optimizer: Maximum iterations (100) reached and the optimization hasn't converged yet.\n",
      "  % self.max_iter, ConvergenceWarning)\n"
     ]
    },
    {
     "name": "stdout",
     "output_type": "stream",
     "text": [
      "[CV]  activation=relu, hidden_layer_sizes=(30, 40), max_iter=100, solver=sgd, score=0.667, total=   0.1s\n",
      "[CV] activation=relu, hidden_layer_sizes=(30, 40), max_iter=100, solver=sgd \n",
      "[CV]  activation=relu, hidden_layer_sizes=(30, 40), max_iter=100, solver=sgd, score=0.708, total=   0.1s\n",
      "[CV] activation=relu, hidden_layer_sizes=(30, 40), max_iter=100, solver=sgd \n",
      "[CV]  activation=relu, hidden_layer_sizes=(30, 40), max_iter=100, solver=sgd, score=0.667, total=   0.1s\n",
      "[CV] activation=relu, hidden_layer_sizes=(30, 40), max_iter=100, solver=adam \n",
      "[CV]  activation=relu, hidden_layer_sizes=(30, 40), max_iter=100, solver=adam, score=0.633, total=   0.0s\n",
      "[CV] activation=relu, hidden_layer_sizes=(30, 40), max_iter=100, solver=adam \n",
      "[CV]  activation=relu, hidden_layer_sizes=(30, 40), max_iter=100, solver=adam, score=0.490, total=   0.0s\n",
      "[CV] activation=relu, hidden_layer_sizes=(30, 40), max_iter=100, solver=adam \n",
      "[CV]  activation=relu, hidden_layer_sizes=(30, 40), max_iter=100, solver=adam, score=0.625, total=   0.0s\n",
      "[CV] activation=relu, hidden_layer_sizes=(30, 40), max_iter=100, solver=adam \n",
      "[CV]  activation=relu, hidden_layer_sizes=(30, 40), max_iter=100, solver=adam, score=0.500, total=   0.0s\n",
      "[CV] activation=relu, hidden_layer_sizes=(30, 40), max_iter=100, solver=adam \n",
      "[CV]  activation=relu, hidden_layer_sizes=(30, 40), max_iter=100, solver=adam, score=0.750, total=   0.0s\n",
      "[CV] activation=relu, hidden_layer_sizes=(30, 40), max_iter=200, solver=lbfgs \n",
      "[CV]  activation=relu, hidden_layer_sizes=(30, 40), max_iter=200, solver=lbfgs, score=0.449, total=   0.0s\n",
      "[CV] activation=relu, hidden_layer_sizes=(30, 40), max_iter=200, solver=lbfgs \n",
      "[CV]  activation=relu, hidden_layer_sizes=(30, 40), max_iter=200, solver=lbfgs, score=0.469, total=   0.0s\n",
      "[CV] activation=relu, hidden_layer_sizes=(30, 40), max_iter=200, solver=lbfgs \n",
      "[CV]  activation=relu, hidden_layer_sizes=(30, 40), max_iter=200, solver=lbfgs, score=0.458, total=   0.0s\n",
      "[CV] activation=relu, hidden_layer_sizes=(30, 40), max_iter=200, solver=lbfgs \n",
      "[CV]  activation=relu, hidden_layer_sizes=(30, 40), max_iter=200, solver=lbfgs, score=0.458, total=   0.0s\n",
      "[CV] activation=relu, hidden_layer_sizes=(30, 40), max_iter=200, solver=lbfgs \n",
      "[CV]  activation=relu, hidden_layer_sizes=(30, 40), max_iter=200, solver=lbfgs, score=0.458, total=   0.0s\n",
      "[CV] activation=relu, hidden_layer_sizes=(30, 40), max_iter=200, solver=sgd \n"
     ]
    },
    {
     "name": "stderr",
     "output_type": "stream",
     "text": [
      "/Users/Strawberry/anaconda3/lib/python3.7/site-packages/sklearn/neural_network/_multilayer_perceptron.py:571: ConvergenceWarning: Stochastic Optimizer: Maximum iterations (200) reached and the optimization hasn't converged yet.\n",
      "  % self.max_iter, ConvergenceWarning)\n",
      "/Users/Strawberry/anaconda3/lib/python3.7/site-packages/sklearn/neural_network/_multilayer_perceptron.py:571: ConvergenceWarning: Stochastic Optimizer: Maximum iterations (200) reached and the optimization hasn't converged yet.\n",
      "  % self.max_iter, ConvergenceWarning)\n"
     ]
    },
    {
     "name": "stdout",
     "output_type": "stream",
     "text": [
      "[CV]  activation=relu, hidden_layer_sizes=(30, 40), max_iter=200, solver=sgd, score=0.694, total=   0.2s\n",
      "[CV] activation=relu, hidden_layer_sizes=(30, 40), max_iter=200, solver=sgd \n",
      "[CV]  activation=relu, hidden_layer_sizes=(30, 40), max_iter=200, solver=sgd, score=0.592, total=   0.0s\n",
      "[CV] activation=relu, hidden_layer_sizes=(30, 40), max_iter=200, solver=sgd \n",
      "[CV]  activation=relu, hidden_layer_sizes=(30, 40), max_iter=200, solver=sgd, score=0.667, total=   0.1s\n",
      "[CV] activation=relu, hidden_layer_sizes=(30, 40), max_iter=200, solver=sgd \n"
     ]
    },
    {
     "name": "stderr",
     "output_type": "stream",
     "text": [
      "/Users/Strawberry/anaconda3/lib/python3.7/site-packages/sklearn/neural_network/_multilayer_perceptron.py:571: ConvergenceWarning: Stochastic Optimizer: Maximum iterations (200) reached and the optimization hasn't converged yet.\n",
      "  % self.max_iter, ConvergenceWarning)\n",
      "/Users/Strawberry/anaconda3/lib/python3.7/site-packages/sklearn/neural_network/_multilayer_perceptron.py:571: ConvergenceWarning: Stochastic Optimizer: Maximum iterations (200) reached and the optimization hasn't converged yet.\n",
      "  % self.max_iter, ConvergenceWarning)\n"
     ]
    },
    {
     "name": "stdout",
     "output_type": "stream",
     "text": [
      "[CV]  activation=relu, hidden_layer_sizes=(30, 40), max_iter=200, solver=sgd, score=0.708, total=   0.2s\n",
      "[CV] activation=relu, hidden_layer_sizes=(30, 40), max_iter=200, solver=sgd \n",
      "[CV]  activation=relu, hidden_layer_sizes=(30, 40), max_iter=200, solver=sgd, score=0.667, total=   0.2s\n",
      "[CV] activation=relu, hidden_layer_sizes=(30, 40), max_iter=200, solver=adam \n",
      "[CV]  activation=relu, hidden_layer_sizes=(30, 40), max_iter=200, solver=adam, score=0.633, total=   0.0s\n",
      "[CV] activation=relu, hidden_layer_sizes=(30, 40), max_iter=200, solver=adam \n",
      "[CV]  activation=relu, hidden_layer_sizes=(30, 40), max_iter=200, solver=adam, score=0.490, total=   0.0s\n",
      "[CV] activation=relu, hidden_layer_sizes=(30, 40), max_iter=200, solver=adam \n",
      "[CV]  activation=relu, hidden_layer_sizes=(30, 40), max_iter=200, solver=adam, score=0.625, total=   0.0s\n",
      "[CV] activation=relu, hidden_layer_sizes=(30, 40), max_iter=200, solver=adam \n",
      "[CV]  activation=relu, hidden_layer_sizes=(30, 40), max_iter=200, solver=adam, score=0.500, total=   0.0s\n",
      "[CV] activation=relu, hidden_layer_sizes=(30, 40), max_iter=200, solver=adam \n",
      "[CV]  activation=relu, hidden_layer_sizes=(30, 40), max_iter=200, solver=adam, score=0.750, total=   0.0s\n",
      "[CV] activation=relu, hidden_layer_sizes=(30, 40), max_iter=300, solver=lbfgs \n",
      "[CV]  activation=relu, hidden_layer_sizes=(30, 40), max_iter=300, solver=lbfgs, score=0.449, total=   0.0s\n",
      "[CV] activation=relu, hidden_layer_sizes=(30, 40), max_iter=300, solver=lbfgs \n",
      "[CV]  activation=relu, hidden_layer_sizes=(30, 40), max_iter=300, solver=lbfgs, score=0.469, total=   0.0s\n",
      "[CV] activation=relu, hidden_layer_sizes=(30, 40), max_iter=300, solver=lbfgs \n",
      "[CV]  activation=relu, hidden_layer_sizes=(30, 40), max_iter=300, solver=lbfgs, score=0.458, total=   0.0s\n",
      "[CV] activation=relu, hidden_layer_sizes=(30, 40), max_iter=300, solver=lbfgs \n",
      "[CV]  activation=relu, hidden_layer_sizes=(30, 40), max_iter=300, solver=lbfgs, score=0.458, total=   0.0s\n",
      "[CV] activation=relu, hidden_layer_sizes=(30, 40), max_iter=300, solver=lbfgs \n",
      "[CV]  activation=relu, hidden_layer_sizes=(30, 40), max_iter=300, solver=lbfgs, score=0.458, total=   0.0s\n",
      "[CV] activation=relu, hidden_layer_sizes=(30, 40), max_iter=300, solver=sgd \n",
      "[CV]  activation=relu, hidden_layer_sizes=(30, 40), max_iter=300, solver=sgd, score=0.673, total=   0.2s\n",
      "[CV] activation=relu, hidden_layer_sizes=(30, 40), max_iter=300, solver=sgd \n",
      "[CV]  activation=relu, hidden_layer_sizes=(30, 40), max_iter=300, solver=sgd, score=0.592, total=   0.0s\n",
      "[CV] activation=relu, hidden_layer_sizes=(30, 40), max_iter=300, solver=sgd \n",
      "[CV]  activation=relu, hidden_layer_sizes=(30, 40), max_iter=300, solver=sgd, score=0.688, total=   0.2s\n",
      "[CV] activation=relu, hidden_layer_sizes=(30, 40), max_iter=300, solver=sgd \n"
     ]
    },
    {
     "name": "stderr",
     "output_type": "stream",
     "text": [
      "/Users/Strawberry/anaconda3/lib/python3.7/site-packages/sklearn/neural_network/_multilayer_perceptron.py:571: ConvergenceWarning: Stochastic Optimizer: Maximum iterations (300) reached and the optimization hasn't converged yet.\n",
      "  % self.max_iter, ConvergenceWarning)\n"
     ]
    },
    {
     "name": "stdout",
     "output_type": "stream",
     "text": [
      "[CV]  activation=relu, hidden_layer_sizes=(30, 40), max_iter=300, solver=sgd, score=0.729, total=   0.2s\n",
      "[CV] activation=relu, hidden_layer_sizes=(30, 40), max_iter=300, solver=sgd \n",
      "[CV]  activation=relu, hidden_layer_sizes=(30, 40), max_iter=300, solver=sgd, score=0.708, total=   0.2s\n",
      "[CV] activation=relu, hidden_layer_sizes=(30, 40), max_iter=300, solver=adam \n",
      "[CV]  activation=relu, hidden_layer_sizes=(30, 40), max_iter=300, solver=adam, score=0.633, total=   0.0s\n",
      "[CV] activation=relu, hidden_layer_sizes=(30, 40), max_iter=300, solver=adam \n",
      "[CV]  activation=relu, hidden_layer_sizes=(30, 40), max_iter=300, solver=adam, score=0.490, total=   0.0s\n",
      "[CV] activation=relu, hidden_layer_sizes=(30, 40), max_iter=300, solver=adam \n",
      "[CV]  activation=relu, hidden_layer_sizes=(30, 40), max_iter=300, solver=adam, score=0.625, total=   0.0s\n",
      "[CV] activation=relu, hidden_layer_sizes=(30, 40), max_iter=300, solver=adam \n",
      "[CV]  activation=relu, hidden_layer_sizes=(30, 40), max_iter=300, solver=adam, score=0.500, total=   0.0s\n",
      "[CV] activation=relu, hidden_layer_sizes=(30, 40), max_iter=300, solver=adam \n",
      "[CV]  activation=relu, hidden_layer_sizes=(30, 40), max_iter=300, solver=adam, score=0.750, total=   0.0s\n",
      "[CV] activation=relu, hidden_layer_sizes=(40, 10), max_iter=100, solver=lbfgs \n",
      "[CV]  activation=relu, hidden_layer_sizes=(40, 10), max_iter=100, solver=lbfgs, score=0.449, total=   0.0s\n",
      "[CV] activation=relu, hidden_layer_sizes=(40, 10), max_iter=100, solver=lbfgs \n",
      "[CV]  activation=relu, hidden_layer_sizes=(40, 10), max_iter=100, solver=lbfgs, score=0.469, total=   0.0s\n",
      "[CV] activation=relu, hidden_layer_sizes=(40, 10), max_iter=100, solver=lbfgs \n",
      "[CV]  activation=relu, hidden_layer_sizes=(40, 10), max_iter=100, solver=lbfgs, score=0.458, total=   0.0s\n",
      "[CV] activation=relu, hidden_layer_sizes=(40, 10), max_iter=100, solver=lbfgs \n",
      "[CV]  activation=relu, hidden_layer_sizes=(40, 10), max_iter=100, solver=lbfgs, score=0.458, total=   0.0s\n",
      "[CV] activation=relu, hidden_layer_sizes=(40, 10), max_iter=100, solver=lbfgs \n",
      "[CV]  activation=relu, hidden_layer_sizes=(40, 10), max_iter=100, solver=lbfgs, score=0.458, total=   0.0s\n",
      "[CV] activation=relu, hidden_layer_sizes=(40, 10), max_iter=100, solver=sgd \n",
      "[CV]  activation=relu, hidden_layer_sizes=(40, 10), max_iter=100, solver=sgd, score=0.673, total=   0.0s\n",
      "[CV] activation=relu, hidden_layer_sizes=(40, 10), max_iter=100, solver=sgd \n",
      "[CV]  activation=relu, hidden_layer_sizes=(40, 10), max_iter=100, solver=sgd, score=0.633, total=   0.0s\n",
      "[CV] activation=relu, hidden_layer_sizes=(40, 10), max_iter=100, solver=sgd \n",
      "[CV]  activation=relu, hidden_layer_sizes=(40, 10), max_iter=100, solver=sgd, score=0.646, total=   0.0s\n",
      "[CV] activation=relu, hidden_layer_sizes=(40, 10), max_iter=100, solver=sgd \n",
      "[CV]  activation=relu, hidden_layer_sizes=(40, 10), max_iter=100, solver=sgd, score=0.625, total=   0.1s\n",
      "[CV] activation=relu, hidden_layer_sizes=(40, 10), max_iter=100, solver=sgd \n",
      "[CV]  activation=relu, hidden_layer_sizes=(40, 10), max_iter=100, solver=sgd, score=0.583, total=   0.0s\n",
      "[CV] activation=relu, hidden_layer_sizes=(40, 10), max_iter=100, solver=adam \n",
      "[CV]  activation=relu, hidden_layer_sizes=(40, 10), max_iter=100, solver=adam, score=0.735, total=   0.1s\n",
      "[CV] activation=relu, hidden_layer_sizes=(40, 10), max_iter=100, solver=adam \n"
     ]
    },
    {
     "name": "stderr",
     "output_type": "stream",
     "text": [
      "/Users/Strawberry/anaconda3/lib/python3.7/site-packages/sklearn/neural_network/_multilayer_perceptron.py:571: ConvergenceWarning: Stochastic Optimizer: Maximum iterations (100) reached and the optimization hasn't converged yet.\n",
      "  % self.max_iter, ConvergenceWarning)\n",
      "/Users/Strawberry/anaconda3/lib/python3.7/site-packages/sklearn/neural_network/_multilayer_perceptron.py:571: ConvergenceWarning: Stochastic Optimizer: Maximum iterations (100) reached and the optimization hasn't converged yet.\n",
      "  % self.max_iter, ConvergenceWarning)\n",
      "/Users/Strawberry/anaconda3/lib/python3.7/site-packages/sklearn/neural_network/_multilayer_perceptron.py:571: ConvergenceWarning: Stochastic Optimizer: Maximum iterations (100) reached and the optimization hasn't converged yet.\n",
      "  % self.max_iter, ConvergenceWarning)\n"
     ]
    },
    {
     "name": "stdout",
     "output_type": "stream",
     "text": [
      "[CV]  activation=relu, hidden_layer_sizes=(40, 10), max_iter=100, solver=adam, score=0.571, total=   0.1s\n",
      "[CV] activation=relu, hidden_layer_sizes=(40, 10), max_iter=100, solver=adam \n",
      "[CV]  activation=relu, hidden_layer_sizes=(40, 10), max_iter=100, solver=adam, score=0.750, total=   0.1s\n",
      "[CV] activation=relu, hidden_layer_sizes=(40, 10), max_iter=100, solver=adam \n",
      "[CV]  activation=relu, hidden_layer_sizes=(40, 10), max_iter=100, solver=adam, score=0.854, total=   0.1s\n",
      "[CV] activation=relu, hidden_layer_sizes=(40, 10), max_iter=100, solver=adam \n"
     ]
    },
    {
     "name": "stderr",
     "output_type": "stream",
     "text": [
      "/Users/Strawberry/anaconda3/lib/python3.7/site-packages/sklearn/neural_network/_multilayer_perceptron.py:571: ConvergenceWarning: Stochastic Optimizer: Maximum iterations (100) reached and the optimization hasn't converged yet.\n",
      "  % self.max_iter, ConvergenceWarning)\n",
      "/Users/Strawberry/anaconda3/lib/python3.7/site-packages/sklearn/neural_network/_multilayer_perceptron.py:571: ConvergenceWarning: Stochastic Optimizer: Maximum iterations (100) reached and the optimization hasn't converged yet.\n",
      "  % self.max_iter, ConvergenceWarning)\n",
      "/Users/Strawberry/anaconda3/lib/python3.7/site-packages/sklearn/neural_network/_multilayer_perceptron.py:571: ConvergenceWarning: Stochastic Optimizer: Maximum iterations (100) reached and the optimization hasn't converged yet.\n",
      "  % self.max_iter, ConvergenceWarning)\n"
     ]
    },
    {
     "name": "stdout",
     "output_type": "stream",
     "text": [
      "[CV]  activation=relu, hidden_layer_sizes=(40, 10), max_iter=100, solver=adam, score=0.729, total=   0.1s\n",
      "[CV] activation=relu, hidden_layer_sizes=(40, 10), max_iter=200, solver=lbfgs \n",
      "[CV]  activation=relu, hidden_layer_sizes=(40, 10), max_iter=200, solver=lbfgs, score=0.449, total=   0.0s\n",
      "[CV] activation=relu, hidden_layer_sizes=(40, 10), max_iter=200, solver=lbfgs \n",
      "[CV]  activation=relu, hidden_layer_sizes=(40, 10), max_iter=200, solver=lbfgs, score=0.469, total=   0.0s\n",
      "[CV] activation=relu, hidden_layer_sizes=(40, 10), max_iter=200, solver=lbfgs \n",
      "[CV]  activation=relu, hidden_layer_sizes=(40, 10), max_iter=200, solver=lbfgs, score=0.458, total=   0.0s\n",
      "[CV] activation=relu, hidden_layer_sizes=(40, 10), max_iter=200, solver=lbfgs \n",
      "[CV]  activation=relu, hidden_layer_sizes=(40, 10), max_iter=200, solver=lbfgs, score=0.458, total=   0.0s\n",
      "[CV] activation=relu, hidden_layer_sizes=(40, 10), max_iter=200, solver=lbfgs \n",
      "[CV]  activation=relu, hidden_layer_sizes=(40, 10), max_iter=200, solver=lbfgs, score=0.458, total=   0.0s\n",
      "[CV] activation=relu, hidden_layer_sizes=(40, 10), max_iter=200, solver=sgd \n",
      "[CV]  activation=relu, hidden_layer_sizes=(40, 10), max_iter=200, solver=sgd, score=0.673, total=   0.0s\n",
      "[CV] activation=relu, hidden_layer_sizes=(40, 10), max_iter=200, solver=sgd \n",
      "[CV]  activation=relu, hidden_layer_sizes=(40, 10), max_iter=200, solver=sgd, score=0.633, total=   0.0s\n",
      "[CV] activation=relu, hidden_layer_sizes=(40, 10), max_iter=200, solver=sgd \n",
      "[CV]  activation=relu, hidden_layer_sizes=(40, 10), max_iter=200, solver=sgd, score=0.646, total=   0.0s\n",
      "[CV] activation=relu, hidden_layer_sizes=(40, 10), max_iter=200, solver=sgd \n",
      "[CV]  activation=relu, hidden_layer_sizes=(40, 10), max_iter=200, solver=sgd, score=0.688, total=   0.1s\n",
      "[CV] activation=relu, hidden_layer_sizes=(40, 10), max_iter=200, solver=sgd \n",
      "[CV]  activation=relu, hidden_layer_sizes=(40, 10), max_iter=200, solver=sgd, score=0.583, total=   0.0s\n",
      "[CV] activation=relu, hidden_layer_sizes=(40, 10), max_iter=200, solver=adam \n",
      "[CV]  activation=relu, hidden_layer_sizes=(40, 10), max_iter=200, solver=adam, score=0.776, total=   0.1s\n",
      "[CV] activation=relu, hidden_layer_sizes=(40, 10), max_iter=200, solver=adam \n"
     ]
    },
    {
     "name": "stderr",
     "output_type": "stream",
     "text": [
      "/Users/Strawberry/anaconda3/lib/python3.7/site-packages/sklearn/neural_network/_multilayer_perceptron.py:571: ConvergenceWarning: Stochastic Optimizer: Maximum iterations (200) reached and the optimization hasn't converged yet.\n",
      "  % self.max_iter, ConvergenceWarning)\n",
      "/Users/Strawberry/anaconda3/lib/python3.7/site-packages/sklearn/neural_network/_multilayer_perceptron.py:571: ConvergenceWarning: Stochastic Optimizer: Maximum iterations (200) reached and the optimization hasn't converged yet.\n",
      "  % self.max_iter, ConvergenceWarning)\n"
     ]
    },
    {
     "name": "stdout",
     "output_type": "stream",
     "text": [
      "[CV]  activation=relu, hidden_layer_sizes=(40, 10), max_iter=200, solver=adam, score=0.633, total=   0.2s\n",
      "[CV] activation=relu, hidden_layer_sizes=(40, 10), max_iter=200, solver=adam \n",
      "[CV]  activation=relu, hidden_layer_sizes=(40, 10), max_iter=200, solver=adam, score=0.792, total=   0.2s\n",
      "[CV] activation=relu, hidden_layer_sizes=(40, 10), max_iter=200, solver=adam \n"
     ]
    },
    {
     "name": "stderr",
     "output_type": "stream",
     "text": [
      "/Users/Strawberry/anaconda3/lib/python3.7/site-packages/sklearn/neural_network/_multilayer_perceptron.py:571: ConvergenceWarning: Stochastic Optimizer: Maximum iterations (200) reached and the optimization hasn't converged yet.\n",
      "  % self.max_iter, ConvergenceWarning)\n",
      "/Users/Strawberry/anaconda3/lib/python3.7/site-packages/sklearn/neural_network/_multilayer_perceptron.py:571: ConvergenceWarning: Stochastic Optimizer: Maximum iterations (200) reached and the optimization hasn't converged yet.\n",
      "  % self.max_iter, ConvergenceWarning)\n"
     ]
    },
    {
     "name": "stdout",
     "output_type": "stream",
     "text": [
      "[CV]  activation=relu, hidden_layer_sizes=(40, 10), max_iter=200, solver=adam, score=0.896, total=   0.1s\n",
      "[CV] activation=relu, hidden_layer_sizes=(40, 10), max_iter=200, solver=adam \n",
      "[CV]  activation=relu, hidden_layer_sizes=(40, 10), max_iter=200, solver=adam, score=0.708, total=   0.2s\n",
      "[CV] activation=relu, hidden_layer_sizes=(40, 10), max_iter=300, solver=lbfgs \n",
      "[CV]  activation=relu, hidden_layer_sizes=(40, 10), max_iter=300, solver=lbfgs, score=0.449, total=   0.0s\n",
      "[CV] activation=relu, hidden_layer_sizes=(40, 10), max_iter=300, solver=lbfgs \n",
      "[CV]  activation=relu, hidden_layer_sizes=(40, 10), max_iter=300, solver=lbfgs, score=0.469, total=   0.0s\n",
      "[CV] activation=relu, hidden_layer_sizes=(40, 10), max_iter=300, solver=lbfgs \n",
      "[CV]  activation=relu, hidden_layer_sizes=(40, 10), max_iter=300, solver=lbfgs, score=0.458, total=   0.0s\n",
      "[CV] activation=relu, hidden_layer_sizes=(40, 10), max_iter=300, solver=lbfgs \n",
      "[CV]  activation=relu, hidden_layer_sizes=(40, 10), max_iter=300, solver=lbfgs, score=0.458, total=   0.0s\n",
      "[CV] activation=relu, hidden_layer_sizes=(40, 10), max_iter=300, solver=lbfgs \n",
      "[CV]  activation=relu, hidden_layer_sizes=(40, 10), max_iter=300, solver=lbfgs, score=0.458, total=   0.0s\n",
      "[CV] activation=relu, hidden_layer_sizes=(40, 10), max_iter=300, solver=sgd \n"
     ]
    },
    {
     "name": "stderr",
     "output_type": "stream",
     "text": [
      "/Users/Strawberry/anaconda3/lib/python3.7/site-packages/sklearn/neural_network/_multilayer_perceptron.py:571: ConvergenceWarning: Stochastic Optimizer: Maximum iterations (200) reached and the optimization hasn't converged yet.\n",
      "  % self.max_iter, ConvergenceWarning)\n"
     ]
    },
    {
     "name": "stdout",
     "output_type": "stream",
     "text": [
      "[CV]  activation=relu, hidden_layer_sizes=(40, 10), max_iter=300, solver=sgd, score=0.673, total=   0.0s\n",
      "[CV] activation=relu, hidden_layer_sizes=(40, 10), max_iter=300, solver=sgd \n",
      "[CV]  activation=relu, hidden_layer_sizes=(40, 10), max_iter=300, solver=sgd, score=0.633, total=   0.0s\n",
      "[CV] activation=relu, hidden_layer_sizes=(40, 10), max_iter=300, solver=sgd \n",
      "[CV]  activation=relu, hidden_layer_sizes=(40, 10), max_iter=300, solver=sgd, score=0.646, total=   0.0s\n",
      "[CV] activation=relu, hidden_layer_sizes=(40, 10), max_iter=300, solver=sgd \n",
      "[CV]  activation=relu, hidden_layer_sizes=(40, 10), max_iter=300, solver=sgd, score=0.688, total=   0.1s\n",
      "[CV] activation=relu, hidden_layer_sizes=(40, 10), max_iter=300, solver=sgd \n",
      "[CV]  activation=relu, hidden_layer_sizes=(40, 10), max_iter=300, solver=sgd, score=0.583, total=   0.0s\n",
      "[CV] activation=relu, hidden_layer_sizes=(40, 10), max_iter=300, solver=adam \n"
     ]
    },
    {
     "name": "stderr",
     "output_type": "stream",
     "text": [
      "/Users/Strawberry/anaconda3/lib/python3.7/site-packages/sklearn/neural_network/_multilayer_perceptron.py:571: ConvergenceWarning: Stochastic Optimizer: Maximum iterations (300) reached and the optimization hasn't converged yet.\n",
      "  % self.max_iter, ConvergenceWarning)\n"
     ]
    },
    {
     "name": "stdout",
     "output_type": "stream",
     "text": [
      "[CV]  activation=relu, hidden_layer_sizes=(40, 10), max_iter=300, solver=adam, score=0.755, total=   0.2s\n",
      "[CV] activation=relu, hidden_layer_sizes=(40, 10), max_iter=300, solver=adam \n"
     ]
    },
    {
     "name": "stderr",
     "output_type": "stream",
     "text": [
      "/Users/Strawberry/anaconda3/lib/python3.7/site-packages/sklearn/neural_network/_multilayer_perceptron.py:571: ConvergenceWarning: Stochastic Optimizer: Maximum iterations (300) reached and the optimization hasn't converged yet.\n",
      "  % self.max_iter, ConvergenceWarning)\n"
     ]
    },
    {
     "name": "stdout",
     "output_type": "stream",
     "text": [
      "[CV]  activation=relu, hidden_layer_sizes=(40, 10), max_iter=300, solver=adam, score=0.714, total=   0.2s\n",
      "[CV] activation=relu, hidden_layer_sizes=(40, 10), max_iter=300, solver=adam \n"
     ]
    },
    {
     "name": "stderr",
     "output_type": "stream",
     "text": [
      "/Users/Strawberry/anaconda3/lib/python3.7/site-packages/sklearn/neural_network/_multilayer_perceptron.py:571: ConvergenceWarning: Stochastic Optimizer: Maximum iterations (300) reached and the optimization hasn't converged yet.\n",
      "  % self.max_iter, ConvergenceWarning)\n"
     ]
    },
    {
     "name": "stdout",
     "output_type": "stream",
     "text": [
      "[CV]  activation=relu, hidden_layer_sizes=(40, 10), max_iter=300, solver=adam, score=0.854, total=   0.2s\n",
      "[CV] activation=relu, hidden_layer_sizes=(40, 10), max_iter=300, solver=adam \n"
     ]
    },
    {
     "name": "stderr",
     "output_type": "stream",
     "text": [
      "/Users/Strawberry/anaconda3/lib/python3.7/site-packages/sklearn/neural_network/_multilayer_perceptron.py:571: ConvergenceWarning: Stochastic Optimizer: Maximum iterations (300) reached and the optimization hasn't converged yet.\n",
      "  % self.max_iter, ConvergenceWarning)\n"
     ]
    },
    {
     "name": "stdout",
     "output_type": "stream",
     "text": [
      "[CV]  activation=relu, hidden_layer_sizes=(40, 10), max_iter=300, solver=adam, score=0.938, total=   0.2s\n",
      "[CV] activation=relu, hidden_layer_sizes=(40, 10), max_iter=300, solver=adam \n"
     ]
    },
    {
     "name": "stderr",
     "output_type": "stream",
     "text": [
      "/Users/Strawberry/anaconda3/lib/python3.7/site-packages/sklearn/neural_network/_multilayer_perceptron.py:571: ConvergenceWarning: Stochastic Optimizer: Maximum iterations (300) reached and the optimization hasn't converged yet.\n",
      "  % self.max_iter, ConvergenceWarning)\n",
      "/Users/Strawberry/anaconda3/lib/python3.7/site-packages/sklearn/neural_network/_multilayer_perceptron.py:571: ConvergenceWarning: Stochastic Optimizer: Maximum iterations (100) reached and the optimization hasn't converged yet.\n",
      "  % self.max_iter, ConvergenceWarning)\n",
      "/Users/Strawberry/anaconda3/lib/python3.7/site-packages/sklearn/neural_network/_multilayer_perceptron.py:571: ConvergenceWarning: Stochastic Optimizer: Maximum iterations (100) reached and the optimization hasn't converged yet.\n",
      "  % self.max_iter, ConvergenceWarning)\n"
     ]
    },
    {
     "name": "stdout",
     "output_type": "stream",
     "text": [
      "[CV]  activation=relu, hidden_layer_sizes=(40, 10), max_iter=300, solver=adam, score=0.729, total=   0.2s\n",
      "[CV] activation=relu, hidden_layer_sizes=(40, 20), max_iter=100, solver=lbfgs \n",
      "[CV]  activation=relu, hidden_layer_sizes=(40, 20), max_iter=100, solver=lbfgs, score=0.449, total=   0.0s\n",
      "[CV] activation=relu, hidden_layer_sizes=(40, 20), max_iter=100, solver=lbfgs \n",
      "[CV]  activation=relu, hidden_layer_sizes=(40, 20), max_iter=100, solver=lbfgs, score=0.469, total=   0.0s\n",
      "[CV] activation=relu, hidden_layer_sizes=(40, 20), max_iter=100, solver=lbfgs \n",
      "[CV]  activation=relu, hidden_layer_sizes=(40, 20), max_iter=100, solver=lbfgs, score=0.458, total=   0.0s\n",
      "[CV] activation=relu, hidden_layer_sizes=(40, 20), max_iter=100, solver=lbfgs \n",
      "[CV]  activation=relu, hidden_layer_sizes=(40, 20), max_iter=100, solver=lbfgs, score=0.458, total=   0.0s\n",
      "[CV] activation=relu, hidden_layer_sizes=(40, 20), max_iter=100, solver=lbfgs \n",
      "[CV]  activation=relu, hidden_layer_sizes=(40, 20), max_iter=100, solver=lbfgs, score=0.458, total=   0.0s\n",
      "[CV] activation=relu, hidden_layer_sizes=(40, 20), max_iter=100, solver=sgd \n",
      "[CV]  activation=relu, hidden_layer_sizes=(40, 20), max_iter=100, solver=sgd, score=0.694, total=   0.1s\n",
      "[CV] activation=relu, hidden_layer_sizes=(40, 20), max_iter=100, solver=sgd \n",
      "[CV]  activation=relu, hidden_layer_sizes=(40, 20), max_iter=100, solver=sgd, score=0.612, total=   0.1s\n",
      "[CV] activation=relu, hidden_layer_sizes=(40, 20), max_iter=100, solver=sgd \n"
     ]
    },
    {
     "name": "stderr",
     "output_type": "stream",
     "text": [
      "/Users/Strawberry/anaconda3/lib/python3.7/site-packages/sklearn/neural_network/_multilayer_perceptron.py:571: ConvergenceWarning: Stochastic Optimizer: Maximum iterations (100) reached and the optimization hasn't converged yet.\n",
      "  % self.max_iter, ConvergenceWarning)\n",
      "/Users/Strawberry/anaconda3/lib/python3.7/site-packages/sklearn/neural_network/_multilayer_perceptron.py:571: ConvergenceWarning: Stochastic Optimizer: Maximum iterations (100) reached and the optimization hasn't converged yet.\n",
      "  % self.max_iter, ConvergenceWarning)\n"
     ]
    },
    {
     "name": "stdout",
     "output_type": "stream",
     "text": [
      "[CV]  activation=relu, hidden_layer_sizes=(40, 20), max_iter=100, solver=sgd, score=0.646, total=   0.1s\n",
      "[CV] activation=relu, hidden_layer_sizes=(40, 20), max_iter=100, solver=sgd \n",
      "[CV]  activation=relu, hidden_layer_sizes=(40, 20), max_iter=100, solver=sgd, score=0.688, total=   0.1s\n",
      "[CV] activation=relu, hidden_layer_sizes=(40, 20), max_iter=100, solver=sgd \n",
      "[CV]  activation=relu, hidden_layer_sizes=(40, 20), max_iter=100, solver=sgd, score=0.729, total=   0.1s\n",
      "[CV] activation=relu, hidden_layer_sizes=(40, 20), max_iter=100, solver=adam \n",
      "[CV]  activation=relu, hidden_layer_sizes=(40, 20), max_iter=100, solver=adam, score=0.694, total=   0.0s\n",
      "[CV] activation=relu, hidden_layer_sizes=(40, 20), max_iter=100, solver=adam \n",
      "[CV]  activation=relu, hidden_layer_sizes=(40, 20), max_iter=100, solver=adam, score=0.612, total=   0.0s\n",
      "[CV] activation=relu, hidden_layer_sizes=(40, 20), max_iter=100, solver=adam \n",
      "[CV]  activation=relu, hidden_layer_sizes=(40, 20), max_iter=100, solver=adam, score=0.667, total=   0.0s\n",
      "[CV] activation=relu, hidden_layer_sizes=(40, 20), max_iter=100, solver=adam \n",
      "[CV]  activation=relu, hidden_layer_sizes=(40, 20), max_iter=100, solver=adam, score=0.812, total=   0.0s\n",
      "[CV] activation=relu, hidden_layer_sizes=(40, 20), max_iter=100, solver=adam \n",
      "[CV]  activation=relu, hidden_layer_sizes=(40, 20), max_iter=100, solver=adam, score=0.688, total=   0.0s\n",
      "[CV] activation=relu, hidden_layer_sizes=(40, 20), max_iter=200, solver=lbfgs \n",
      "[CV]  activation=relu, hidden_layer_sizes=(40, 20), max_iter=200, solver=lbfgs, score=0.449, total=   0.0s\n",
      "[CV] activation=relu, hidden_layer_sizes=(40, 20), max_iter=200, solver=lbfgs \n",
      "[CV]  activation=relu, hidden_layer_sizes=(40, 20), max_iter=200, solver=lbfgs, score=0.469, total=   0.0s\n",
      "[CV] activation=relu, hidden_layer_sizes=(40, 20), max_iter=200, solver=lbfgs \n",
      "[CV]  activation=relu, hidden_layer_sizes=(40, 20), max_iter=200, solver=lbfgs, score=0.458, total=   0.0s\n",
      "[CV] activation=relu, hidden_layer_sizes=(40, 20), max_iter=200, solver=lbfgs \n",
      "[CV]  activation=relu, hidden_layer_sizes=(40, 20), max_iter=200, solver=lbfgs, score=0.458, total=   0.0s\n",
      "[CV] activation=relu, hidden_layer_sizes=(40, 20), max_iter=200, solver=lbfgs \n",
      "[CV]  activation=relu, hidden_layer_sizes=(40, 20), max_iter=200, solver=lbfgs, score=0.458, total=   0.0s\n",
      "[CV] activation=relu, hidden_layer_sizes=(40, 20), max_iter=200, solver=sgd \n",
      "[CV]  activation=relu, hidden_layer_sizes=(40, 20), max_iter=200, solver=sgd, score=0.755, total=   0.1s\n",
      "[CV] activation=relu, hidden_layer_sizes=(40, 20), max_iter=200, solver=sgd \n"
     ]
    },
    {
     "name": "stderr",
     "output_type": "stream",
     "text": [
      "/Users/Strawberry/anaconda3/lib/python3.7/site-packages/sklearn/neural_network/_multilayer_perceptron.py:571: ConvergenceWarning: Stochastic Optimizer: Maximum iterations (200) reached and the optimization hasn't converged yet.\n",
      "  % self.max_iter, ConvergenceWarning)\n",
      "/Users/Strawberry/anaconda3/lib/python3.7/site-packages/sklearn/neural_network/_multilayer_perceptron.py:571: ConvergenceWarning: Stochastic Optimizer: Maximum iterations (200) reached and the optimization hasn't converged yet.\n",
      "  % self.max_iter, ConvergenceWarning)\n"
     ]
    },
    {
     "name": "stdout",
     "output_type": "stream",
     "text": [
      "[CV]  activation=relu, hidden_layer_sizes=(40, 20), max_iter=200, solver=sgd, score=0.612, total=   0.1s\n",
      "[CV] activation=relu, hidden_layer_sizes=(40, 20), max_iter=200, solver=sgd \n",
      "[CV]  activation=relu, hidden_layer_sizes=(40, 20), max_iter=200, solver=sgd, score=0.646, total=   0.1s\n",
      "[CV] activation=relu, hidden_layer_sizes=(40, 20), max_iter=200, solver=sgd \n"
     ]
    },
    {
     "name": "stderr",
     "output_type": "stream",
     "text": [
      "/Users/Strawberry/anaconda3/lib/python3.7/site-packages/sklearn/neural_network/_multilayer_perceptron.py:571: ConvergenceWarning: Stochastic Optimizer: Maximum iterations (200) reached and the optimization hasn't converged yet.\n",
      "  % self.max_iter, ConvergenceWarning)\n"
     ]
    },
    {
     "name": "stdout",
     "output_type": "stream",
     "text": [
      "[CV]  activation=relu, hidden_layer_sizes=(40, 20), max_iter=200, solver=sgd, score=0.688, total=   0.1s\n",
      "[CV] activation=relu, hidden_layer_sizes=(40, 20), max_iter=200, solver=sgd \n",
      "[CV]  activation=relu, hidden_layer_sizes=(40, 20), max_iter=200, solver=sgd, score=0.729, total=   0.1s\n",
      "[CV] activation=relu, hidden_layer_sizes=(40, 20), max_iter=200, solver=adam \n",
      "[CV]  activation=relu, hidden_layer_sizes=(40, 20), max_iter=200, solver=adam, score=0.694, total=   0.0s\n",
      "[CV] activation=relu, hidden_layer_sizes=(40, 20), max_iter=200, solver=adam \n",
      "[CV]  activation=relu, hidden_layer_sizes=(40, 20), max_iter=200, solver=adam, score=0.612, total=   0.0s\n",
      "[CV] activation=relu, hidden_layer_sizes=(40, 20), max_iter=200, solver=adam \n",
      "[CV]  activation=relu, hidden_layer_sizes=(40, 20), max_iter=200, solver=adam, score=0.667, total=   0.0s\n",
      "[CV] activation=relu, hidden_layer_sizes=(40, 20), max_iter=200, solver=adam \n",
      "[CV]  activation=relu, hidden_layer_sizes=(40, 20), max_iter=200, solver=adam, score=0.812, total=   0.0s\n",
      "[CV] activation=relu, hidden_layer_sizes=(40, 20), max_iter=200, solver=adam \n",
      "[CV]  activation=relu, hidden_layer_sizes=(40, 20), max_iter=200, solver=adam, score=0.688, total=   0.0s\n",
      "[CV] activation=relu, hidden_layer_sizes=(40, 20), max_iter=300, solver=lbfgs \n",
      "[CV]  activation=relu, hidden_layer_sizes=(40, 20), max_iter=300, solver=lbfgs, score=0.449, total=   0.0s\n",
      "[CV] activation=relu, hidden_layer_sizes=(40, 20), max_iter=300, solver=lbfgs \n",
      "[CV]  activation=relu, hidden_layer_sizes=(40, 20), max_iter=300, solver=lbfgs, score=0.469, total=   0.0s\n",
      "[CV] activation=relu, hidden_layer_sizes=(40, 20), max_iter=300, solver=lbfgs \n",
      "[CV]  activation=relu, hidden_layer_sizes=(40, 20), max_iter=300, solver=lbfgs, score=0.458, total=   0.0s\n",
      "[CV] activation=relu, hidden_layer_sizes=(40, 20), max_iter=300, solver=lbfgs \n",
      "[CV]  activation=relu, hidden_layer_sizes=(40, 20), max_iter=300, solver=lbfgs, score=0.458, total=   0.0s\n",
      "[CV] activation=relu, hidden_layer_sizes=(40, 20), max_iter=300, solver=lbfgs \n",
      "[CV]  activation=relu, hidden_layer_sizes=(40, 20), max_iter=300, solver=lbfgs, score=0.458, total=   0.0s\n",
      "[CV] activation=relu, hidden_layer_sizes=(40, 20), max_iter=300, solver=sgd \n",
      "[CV]  activation=relu, hidden_layer_sizes=(40, 20), max_iter=300, solver=sgd, score=0.694, total=   0.2s\n",
      "[CV] activation=relu, hidden_layer_sizes=(40, 20), max_iter=300, solver=sgd \n",
      "[CV]  activation=relu, hidden_layer_sizes=(40, 20), max_iter=300, solver=sgd, score=0.592, total=   0.2s\n",
      "[CV] activation=relu, hidden_layer_sizes=(40, 20), max_iter=300, solver=sgd \n"
     ]
    },
    {
     "name": "stderr",
     "output_type": "stream",
     "text": [
      "/Users/Strawberry/anaconda3/lib/python3.7/site-packages/sklearn/neural_network/_multilayer_perceptron.py:571: ConvergenceWarning: Stochastic Optimizer: Maximum iterations (300) reached and the optimization hasn't converged yet.\n",
      "  % self.max_iter, ConvergenceWarning)\n"
     ]
    },
    {
     "name": "stdout",
     "output_type": "stream",
     "text": [
      "[CV]  activation=relu, hidden_layer_sizes=(40, 20), max_iter=300, solver=sgd, score=0.625, total=   0.2s\n",
      "[CV] activation=relu, hidden_layer_sizes=(40, 20), max_iter=300, solver=sgd \n",
      "[CV]  activation=relu, hidden_layer_sizes=(40, 20), max_iter=300, solver=sgd, score=0.688, total=   0.1s\n",
      "[CV] activation=relu, hidden_layer_sizes=(40, 20), max_iter=300, solver=sgd \n",
      "[CV]  activation=relu, hidden_layer_sizes=(40, 20), max_iter=300, solver=sgd, score=0.729, total=   0.1s\n",
      "[CV] activation=relu, hidden_layer_sizes=(40, 20), max_iter=300, solver=adam \n",
      "[CV]  activation=relu, hidden_layer_sizes=(40, 20), max_iter=300, solver=adam, score=0.694, total=   0.0s\n",
      "[CV] activation=relu, hidden_layer_sizes=(40, 20), max_iter=300, solver=adam \n",
      "[CV]  activation=relu, hidden_layer_sizes=(40, 20), max_iter=300, solver=adam, score=0.612, total=   0.0s\n",
      "[CV] activation=relu, hidden_layer_sizes=(40, 20), max_iter=300, solver=adam \n",
      "[CV]  activation=relu, hidden_layer_sizes=(40, 20), max_iter=300, solver=adam, score=0.667, total=   0.0s\n",
      "[CV] activation=relu, hidden_layer_sizes=(40, 20), max_iter=300, solver=adam \n",
      "[CV]  activation=relu, hidden_layer_sizes=(40, 20), max_iter=300, solver=adam, score=0.812, total=   0.0s\n",
      "[CV] activation=relu, hidden_layer_sizes=(40, 20), max_iter=300, solver=adam \n",
      "[CV]  activation=relu, hidden_layer_sizes=(40, 20), max_iter=300, solver=adam, score=0.688, total=   0.0s\n",
      "[CV] activation=relu, hidden_layer_sizes=(40, 30), max_iter=100, solver=lbfgs \n",
      "[CV]  activation=relu, hidden_layer_sizes=(40, 30), max_iter=100, solver=lbfgs, score=0.449, total=   0.0s\n",
      "[CV] activation=relu, hidden_layer_sizes=(40, 30), max_iter=100, solver=lbfgs \n",
      "[CV]  activation=relu, hidden_layer_sizes=(40, 30), max_iter=100, solver=lbfgs, score=0.469, total=   0.0s\n",
      "[CV] activation=relu, hidden_layer_sizes=(40, 30), max_iter=100, solver=lbfgs \n",
      "[CV]  activation=relu, hidden_layer_sizes=(40, 30), max_iter=100, solver=lbfgs, score=0.458, total=   0.0s\n",
      "[CV] activation=relu, hidden_layer_sizes=(40, 30), max_iter=100, solver=lbfgs \n",
      "[CV]  activation=relu, hidden_layer_sizes=(40, 30), max_iter=100, solver=lbfgs, score=0.458, total=   0.0s\n",
      "[CV] activation=relu, hidden_layer_sizes=(40, 30), max_iter=100, solver=lbfgs \n",
      "[CV]  activation=relu, hidden_layer_sizes=(40, 30), max_iter=100, solver=lbfgs, score=0.458, total=   0.0s\n",
      "[CV] activation=relu, hidden_layer_sizes=(40, 30), max_iter=100, solver=sgd \n",
      "[CV]  activation=relu, hidden_layer_sizes=(40, 30), max_iter=100, solver=sgd, score=0.592, total=   0.0s\n",
      "[CV] activation=relu, hidden_layer_sizes=(40, 30), max_iter=100, solver=sgd \n",
      "[CV]  activation=relu, hidden_layer_sizes=(40, 30), max_iter=100, solver=sgd, score=0.592, total=   0.0s\n",
      "[CV] activation=relu, hidden_layer_sizes=(40, 30), max_iter=100, solver=sgd \n",
      "[CV]  activation=relu, hidden_layer_sizes=(40, 30), max_iter=100, solver=sgd, score=0.604, total=   0.0s\n",
      "[CV] activation=relu, hidden_layer_sizes=(40, 30), max_iter=100, solver=sgd \n",
      "[CV]  activation=relu, hidden_layer_sizes=(40, 30), max_iter=100, solver=sgd, score=0.667, total=   0.0s\n",
      "[CV] activation=relu, hidden_layer_sizes=(40, 30), max_iter=100, solver=sgd \n",
      "[CV]  activation=relu, hidden_layer_sizes=(40, 30), max_iter=100, solver=sgd, score=0.583, total=   0.0s\n",
      "[CV] activation=relu, hidden_layer_sizes=(40, 30), max_iter=100, solver=adam \n",
      "[CV]  activation=relu, hidden_layer_sizes=(40, 30), max_iter=100, solver=adam, score=0.694, total=   0.1s\n",
      "[CV] activation=relu, hidden_layer_sizes=(40, 30), max_iter=100, solver=adam \n"
     ]
    },
    {
     "name": "stderr",
     "output_type": "stream",
     "text": [
      "/Users/Strawberry/anaconda3/lib/python3.7/site-packages/sklearn/neural_network/_multilayer_perceptron.py:571: ConvergenceWarning: Stochastic Optimizer: Maximum iterations (100) reached and the optimization hasn't converged yet.\n",
      "  % self.max_iter, ConvergenceWarning)\n",
      "/Users/Strawberry/anaconda3/lib/python3.7/site-packages/sklearn/neural_network/_multilayer_perceptron.py:571: ConvergenceWarning: Stochastic Optimizer: Maximum iterations (100) reached and the optimization hasn't converged yet.\n",
      "  % self.max_iter, ConvergenceWarning)\n",
      "/Users/Strawberry/anaconda3/lib/python3.7/site-packages/sklearn/neural_network/_multilayer_perceptron.py:571: ConvergenceWarning: Stochastic Optimizer: Maximum iterations (100) reached and the optimization hasn't converged yet.\n",
      "  % self.max_iter, ConvergenceWarning)\n"
     ]
    },
    {
     "name": "stdout",
     "output_type": "stream",
     "text": [
      "[CV]  activation=relu, hidden_layer_sizes=(40, 30), max_iter=100, solver=adam, score=0.633, total=   0.1s\n",
      "[CV] activation=relu, hidden_layer_sizes=(40, 30), max_iter=100, solver=adam \n",
      "[CV]  activation=relu, hidden_layer_sizes=(40, 30), max_iter=100, solver=adam, score=0.646, total=   0.1s\n",
      "[CV] activation=relu, hidden_layer_sizes=(40, 30), max_iter=100, solver=adam \n",
      "[CV]  activation=relu, hidden_layer_sizes=(40, 30), max_iter=100, solver=adam, score=0.792, total=   0.1s\n",
      "[CV] activation=relu, hidden_layer_sizes=(40, 30), max_iter=100, solver=adam \n"
     ]
    },
    {
     "name": "stderr",
     "output_type": "stream",
     "text": [
      "/Users/Strawberry/anaconda3/lib/python3.7/site-packages/sklearn/neural_network/_multilayer_perceptron.py:571: ConvergenceWarning: Stochastic Optimizer: Maximum iterations (100) reached and the optimization hasn't converged yet.\n",
      "  % self.max_iter, ConvergenceWarning)\n",
      "/Users/Strawberry/anaconda3/lib/python3.7/site-packages/sklearn/neural_network/_multilayer_perceptron.py:571: ConvergenceWarning: Stochastic Optimizer: Maximum iterations (100) reached and the optimization hasn't converged yet.\n",
      "  % self.max_iter, ConvergenceWarning)\n"
     ]
    },
    {
     "name": "stdout",
     "output_type": "stream",
     "text": [
      "[CV]  activation=relu, hidden_layer_sizes=(40, 30), max_iter=100, solver=adam, score=0.708, total=   0.1s\n",
      "[CV] activation=relu, hidden_layer_sizes=(40, 30), max_iter=200, solver=lbfgs \n",
      "[CV]  activation=relu, hidden_layer_sizes=(40, 30), max_iter=200, solver=lbfgs, score=0.449, total=   0.0s\n",
      "[CV] activation=relu, hidden_layer_sizes=(40, 30), max_iter=200, solver=lbfgs \n",
      "[CV]  activation=relu, hidden_layer_sizes=(40, 30), max_iter=200, solver=lbfgs, score=0.469, total=   0.0s\n",
      "[CV] activation=relu, hidden_layer_sizes=(40, 30), max_iter=200, solver=lbfgs \n",
      "[CV]  activation=relu, hidden_layer_sizes=(40, 30), max_iter=200, solver=lbfgs, score=0.458, total=   0.0s\n",
      "[CV] activation=relu, hidden_layer_sizes=(40, 30), max_iter=200, solver=lbfgs \n",
      "[CV]  activation=relu, hidden_layer_sizes=(40, 30), max_iter=200, solver=lbfgs, score=0.458, total=   0.0s\n",
      "[CV] activation=relu, hidden_layer_sizes=(40, 30), max_iter=200, solver=lbfgs \n",
      "[CV]  activation=relu, hidden_layer_sizes=(40, 30), max_iter=200, solver=lbfgs, score=0.458, total=   0.0s\n",
      "[CV] activation=relu, hidden_layer_sizes=(40, 30), max_iter=200, solver=sgd \n",
      "[CV]  activation=relu, hidden_layer_sizes=(40, 30), max_iter=200, solver=sgd, score=0.592, total=   0.0s\n",
      "[CV] activation=relu, hidden_layer_sizes=(40, 30), max_iter=200, solver=sgd \n",
      "[CV]  activation=relu, hidden_layer_sizes=(40, 30), max_iter=200, solver=sgd, score=0.592, total=   0.0s\n",
      "[CV] activation=relu, hidden_layer_sizes=(40, 30), max_iter=200, solver=sgd \n",
      "[CV]  activation=relu, hidden_layer_sizes=(40, 30), max_iter=200, solver=sgd, score=0.604, total=   0.0s\n",
      "[CV] activation=relu, hidden_layer_sizes=(40, 30), max_iter=200, solver=sgd \n",
      "[CV]  activation=relu, hidden_layer_sizes=(40, 30), max_iter=200, solver=sgd, score=0.667, total=   0.0s\n",
      "[CV] activation=relu, hidden_layer_sizes=(40, 30), max_iter=200, solver=sgd \n",
      "[CV]  activation=relu, hidden_layer_sizes=(40, 30), max_iter=200, solver=sgd, score=0.583, total=   0.0s\n",
      "[CV] activation=relu, hidden_layer_sizes=(40, 30), max_iter=200, solver=adam \n"
     ]
    },
    {
     "name": "stderr",
     "output_type": "stream",
     "text": [
      "/Users/Strawberry/anaconda3/lib/python3.7/site-packages/sklearn/neural_network/_multilayer_perceptron.py:571: ConvergenceWarning: Stochastic Optimizer: Maximum iterations (200) reached and the optimization hasn't converged yet.\n",
      "  % self.max_iter, ConvergenceWarning)\n",
      "/Users/Strawberry/anaconda3/lib/python3.7/site-packages/sklearn/neural_network/_multilayer_perceptron.py:571: ConvergenceWarning: Stochastic Optimizer: Maximum iterations (200) reached and the optimization hasn't converged yet.\n",
      "  % self.max_iter, ConvergenceWarning)\n"
     ]
    },
    {
     "name": "stdout",
     "output_type": "stream",
     "text": [
      "[CV]  activation=relu, hidden_layer_sizes=(40, 30), max_iter=200, solver=adam, score=0.755, total=   0.2s\n",
      "[CV] activation=relu, hidden_layer_sizes=(40, 30), max_iter=200, solver=adam \n",
      "[CV]  activation=relu, hidden_layer_sizes=(40, 30), max_iter=200, solver=adam, score=0.735, total=   0.2s\n",
      "[CV] activation=relu, hidden_layer_sizes=(40, 30), max_iter=200, solver=adam \n"
     ]
    },
    {
     "name": "stderr",
     "output_type": "stream",
     "text": [
      "/Users/Strawberry/anaconda3/lib/python3.7/site-packages/sklearn/neural_network/_multilayer_perceptron.py:571: ConvergenceWarning: Stochastic Optimizer: Maximum iterations (200) reached and the optimization hasn't converged yet.\n",
      "  % self.max_iter, ConvergenceWarning)\n",
      "/Users/Strawberry/anaconda3/lib/python3.7/site-packages/sklearn/neural_network/_multilayer_perceptron.py:571: ConvergenceWarning: Stochastic Optimizer: Maximum iterations (200) reached and the optimization hasn't converged yet.\n",
      "  % self.max_iter, ConvergenceWarning)\n"
     ]
    },
    {
     "name": "stdout",
     "output_type": "stream",
     "text": [
      "[CV]  activation=relu, hidden_layer_sizes=(40, 30), max_iter=200, solver=adam, score=0.792, total=   0.2s\n",
      "[CV] activation=relu, hidden_layer_sizes=(40, 30), max_iter=200, solver=adam \n",
      "[CV]  activation=relu, hidden_layer_sizes=(40, 30), max_iter=200, solver=adam, score=0.896, total=   0.2s\n",
      "[CV] activation=relu, hidden_layer_sizes=(40, 30), max_iter=200, solver=adam \n"
     ]
    },
    {
     "name": "stderr",
     "output_type": "stream",
     "text": [
      "/Users/Strawberry/anaconda3/lib/python3.7/site-packages/sklearn/neural_network/_multilayer_perceptron.py:571: ConvergenceWarning: Stochastic Optimizer: Maximum iterations (200) reached and the optimization hasn't converged yet.\n",
      "  % self.max_iter, ConvergenceWarning)\n"
     ]
    },
    {
     "name": "stdout",
     "output_type": "stream",
     "text": [
      "[CV]  activation=relu, hidden_layer_sizes=(40, 30), max_iter=200, solver=adam, score=0.750, total=   0.2s\n",
      "[CV] activation=relu, hidden_layer_sizes=(40, 30), max_iter=300, solver=lbfgs \n",
      "[CV]  activation=relu, hidden_layer_sizes=(40, 30), max_iter=300, solver=lbfgs, score=0.449, total=   0.0s\n",
      "[CV] activation=relu, hidden_layer_sizes=(40, 30), max_iter=300, solver=lbfgs \n",
      "[CV]  activation=relu, hidden_layer_sizes=(40, 30), max_iter=300, solver=lbfgs, score=0.469, total=   0.0s\n",
      "[CV] activation=relu, hidden_layer_sizes=(40, 30), max_iter=300, solver=lbfgs \n",
      "[CV]  activation=relu, hidden_layer_sizes=(40, 30), max_iter=300, solver=lbfgs, score=0.458, total=   0.0s\n",
      "[CV] activation=relu, hidden_layer_sizes=(40, 30), max_iter=300, solver=lbfgs \n",
      "[CV]  activation=relu, hidden_layer_sizes=(40, 30), max_iter=300, solver=lbfgs, score=0.458, total=   0.0s\n",
      "[CV] activation=relu, hidden_layer_sizes=(40, 30), max_iter=300, solver=lbfgs \n",
      "[CV]  activation=relu, hidden_layer_sizes=(40, 30), max_iter=300, solver=lbfgs, score=0.458, total=   0.0s\n",
      "[CV] activation=relu, hidden_layer_sizes=(40, 30), max_iter=300, solver=sgd \n",
      "[CV]  activation=relu, hidden_layer_sizes=(40, 30), max_iter=300, solver=sgd, score=0.592, total=   0.0s\n",
      "[CV] activation=relu, hidden_layer_sizes=(40, 30), max_iter=300, solver=sgd \n",
      "[CV]  activation=relu, hidden_layer_sizes=(40, 30), max_iter=300, solver=sgd, score=0.592, total=   0.0s\n",
      "[CV] activation=relu, hidden_layer_sizes=(40, 30), max_iter=300, solver=sgd \n",
      "[CV]  activation=relu, hidden_layer_sizes=(40, 30), max_iter=300, solver=sgd, score=0.604, total=   0.0s\n",
      "[CV] activation=relu, hidden_layer_sizes=(40, 30), max_iter=300, solver=sgd \n",
      "[CV]  activation=relu, hidden_layer_sizes=(40, 30), max_iter=300, solver=sgd, score=0.667, total=   0.0s\n",
      "[CV] activation=relu, hidden_layer_sizes=(40, 30), max_iter=300, solver=sgd \n",
      "[CV]  activation=relu, hidden_layer_sizes=(40, 30), max_iter=300, solver=sgd, score=0.583, total=   0.0s\n",
      "[CV] activation=relu, hidden_layer_sizes=(40, 30), max_iter=300, solver=adam \n"
     ]
    },
    {
     "name": "stderr",
     "output_type": "stream",
     "text": [
      "/Users/Strawberry/anaconda3/lib/python3.7/site-packages/sklearn/neural_network/_multilayer_perceptron.py:571: ConvergenceWarning: Stochastic Optimizer: Maximum iterations (300) reached and the optimization hasn't converged yet.\n",
      "  % self.max_iter, ConvergenceWarning)\n"
     ]
    },
    {
     "name": "stdout",
     "output_type": "stream",
     "text": [
      "[CV]  activation=relu, hidden_layer_sizes=(40, 30), max_iter=300, solver=adam, score=0.776, total=   0.2s\n",
      "[CV] activation=relu, hidden_layer_sizes=(40, 30), max_iter=300, solver=adam \n"
     ]
    },
    {
     "name": "stderr",
     "output_type": "stream",
     "text": [
      "/Users/Strawberry/anaconda3/lib/python3.7/site-packages/sklearn/neural_network/_multilayer_perceptron.py:571: ConvergenceWarning: Stochastic Optimizer: Maximum iterations (300) reached and the optimization hasn't converged yet.\n",
      "  % self.max_iter, ConvergenceWarning)\n"
     ]
    },
    {
     "name": "stdout",
     "output_type": "stream",
     "text": [
      "[CV]  activation=relu, hidden_layer_sizes=(40, 30), max_iter=300, solver=adam, score=0.755, total=   0.3s\n",
      "[CV] activation=relu, hidden_layer_sizes=(40, 30), max_iter=300, solver=adam \n"
     ]
    },
    {
     "name": "stderr",
     "output_type": "stream",
     "text": [
      "/Users/Strawberry/anaconda3/lib/python3.7/site-packages/sklearn/neural_network/_multilayer_perceptron.py:571: ConvergenceWarning: Stochastic Optimizer: Maximum iterations (300) reached and the optimization hasn't converged yet.\n",
      "  % self.max_iter, ConvergenceWarning)\n"
     ]
    },
    {
     "name": "stdout",
     "output_type": "stream",
     "text": [
      "[CV]  activation=relu, hidden_layer_sizes=(40, 30), max_iter=300, solver=adam, score=0.896, total=   0.2s\n",
      "[CV] activation=relu, hidden_layer_sizes=(40, 30), max_iter=300, solver=adam \n"
     ]
    },
    {
     "name": "stderr",
     "output_type": "stream",
     "text": [
      "/Users/Strawberry/anaconda3/lib/python3.7/site-packages/sklearn/neural_network/_multilayer_perceptron.py:571: ConvergenceWarning: Stochastic Optimizer: Maximum iterations (300) reached and the optimization hasn't converged yet.\n",
      "  % self.max_iter, ConvergenceWarning)\n"
     ]
    },
    {
     "name": "stdout",
     "output_type": "stream",
     "text": [
      "[CV]  activation=relu, hidden_layer_sizes=(40, 30), max_iter=300, solver=adam, score=0.896, total=   0.3s\n",
      "[CV] activation=relu, hidden_layer_sizes=(40, 30), max_iter=300, solver=adam \n"
     ]
    },
    {
     "name": "stderr",
     "output_type": "stream",
     "text": [
      "/Users/Strawberry/anaconda3/lib/python3.7/site-packages/sklearn/neural_network/_multilayer_perceptron.py:571: ConvergenceWarning: Stochastic Optimizer: Maximum iterations (300) reached and the optimization hasn't converged yet.\n",
      "  % self.max_iter, ConvergenceWarning)\n",
      "/Users/Strawberry/anaconda3/lib/python3.7/site-packages/sklearn/neural_network/_multilayer_perceptron.py:571: ConvergenceWarning: Stochastic Optimizer: Maximum iterations (100) reached and the optimization hasn't converged yet.\n",
      "  % self.max_iter, ConvergenceWarning)\n"
     ]
    },
    {
     "name": "stdout",
     "output_type": "stream",
     "text": [
      "[CV]  activation=relu, hidden_layer_sizes=(40, 30), max_iter=300, solver=adam, score=0.750, total=   0.3s\n",
      "[CV] activation=relu, hidden_layer_sizes=(40, 40), max_iter=100, solver=lbfgs \n",
      "[CV]  activation=relu, hidden_layer_sizes=(40, 40), max_iter=100, solver=lbfgs, score=0.449, total=   0.0s\n",
      "[CV] activation=relu, hidden_layer_sizes=(40, 40), max_iter=100, solver=lbfgs \n",
      "[CV]  activation=relu, hidden_layer_sizes=(40, 40), max_iter=100, solver=lbfgs, score=0.612, total=   0.0s\n",
      "[CV] activation=relu, hidden_layer_sizes=(40, 40), max_iter=100, solver=lbfgs \n",
      "[CV]  activation=relu, hidden_layer_sizes=(40, 40), max_iter=100, solver=lbfgs, score=0.375, total=   0.0s\n",
      "[CV] activation=relu, hidden_layer_sizes=(40, 40), max_iter=100, solver=lbfgs \n",
      "[CV]  activation=relu, hidden_layer_sizes=(40, 40), max_iter=100, solver=lbfgs, score=0.562, total=   0.0s\n",
      "[CV] activation=relu, hidden_layer_sizes=(40, 40), max_iter=100, solver=lbfgs \n",
      "[CV]  activation=relu, hidden_layer_sizes=(40, 40), max_iter=100, solver=lbfgs, score=0.375, total=   0.0s\n",
      "[CV] activation=relu, hidden_layer_sizes=(40, 40), max_iter=100, solver=sgd \n",
      "[CV]  activation=relu, hidden_layer_sizes=(40, 40), max_iter=100, solver=sgd, score=0.694, total=   0.1s\n",
      "[CV] activation=relu, hidden_layer_sizes=(40, 40), max_iter=100, solver=sgd \n",
      "[CV]  activation=relu, hidden_layer_sizes=(40, 40), max_iter=100, solver=sgd, score=0.551, total=   0.1s\n",
      "[CV] activation=relu, hidden_layer_sizes=(40, 40), max_iter=100, solver=sgd \n",
      "[CV]  activation=relu, hidden_layer_sizes=(40, 40), max_iter=100, solver=sgd, score=0.625, total=   0.1s\n",
      "[CV] activation=relu, hidden_layer_sizes=(40, 40), max_iter=100, solver=sgd \n",
      "[CV]  activation=relu, hidden_layer_sizes=(40, 40), max_iter=100, solver=sgd, score=0.688, total=   0.1s\n",
      "[CV] activation=relu, hidden_layer_sizes=(40, 40), max_iter=100, solver=sgd \n",
      "[CV]  activation=relu, hidden_layer_sizes=(40, 40), max_iter=100, solver=sgd, score=0.667, total=   0.1s\n",
      "[CV] activation=relu, hidden_layer_sizes=(40, 40), max_iter=100, solver=adam \n"
     ]
    },
    {
     "name": "stderr",
     "output_type": "stream",
     "text": [
      "/Users/Strawberry/anaconda3/lib/python3.7/site-packages/sklearn/neural_network/_multilayer_perceptron.py:571: ConvergenceWarning: Stochastic Optimizer: Maximum iterations (100) reached and the optimization hasn't converged yet.\n",
      "  % self.max_iter, ConvergenceWarning)\n",
      "/Users/Strawberry/anaconda3/lib/python3.7/site-packages/sklearn/neural_network/_multilayer_perceptron.py:571: ConvergenceWarning: Stochastic Optimizer: Maximum iterations (100) reached and the optimization hasn't converged yet.\n",
      "  % self.max_iter, ConvergenceWarning)\n",
      "/Users/Strawberry/anaconda3/lib/python3.7/site-packages/sklearn/neural_network/_multilayer_perceptron.py:571: ConvergenceWarning: Stochastic Optimizer: Maximum iterations (100) reached and the optimization hasn't converged yet.\n",
      "  % self.max_iter, ConvergenceWarning)\n"
     ]
    },
    {
     "name": "stdout",
     "output_type": "stream",
     "text": [
      "[CV]  activation=relu, hidden_layer_sizes=(40, 40), max_iter=100, solver=adam, score=0.735, total=   0.1s\n",
      "[CV] activation=relu, hidden_layer_sizes=(40, 40), max_iter=100, solver=adam \n",
      "[CV]  activation=relu, hidden_layer_sizes=(40, 40), max_iter=100, solver=adam, score=0.633, total=   0.1s\n",
      "[CV] activation=relu, hidden_layer_sizes=(40, 40), max_iter=100, solver=adam \n",
      "[CV]  activation=relu, hidden_layer_sizes=(40, 40), max_iter=100, solver=adam, score=0.750, total=   0.1s\n",
      "[CV] activation=relu, hidden_layer_sizes=(40, 40), max_iter=100, solver=adam \n"
     ]
    },
    {
     "name": "stderr",
     "output_type": "stream",
     "text": [
      "/Users/Strawberry/anaconda3/lib/python3.7/site-packages/sklearn/neural_network/_multilayer_perceptron.py:571: ConvergenceWarning: Stochastic Optimizer: Maximum iterations (100) reached and the optimization hasn't converged yet.\n",
      "  % self.max_iter, ConvergenceWarning)\n",
      "/Users/Strawberry/anaconda3/lib/python3.7/site-packages/sklearn/neural_network/_multilayer_perceptron.py:571: ConvergenceWarning: Stochastic Optimizer: Maximum iterations (100) reached and the optimization hasn't converged yet.\n",
      "  % self.max_iter, ConvergenceWarning)\n",
      "/Users/Strawberry/anaconda3/lib/python3.7/site-packages/sklearn/neural_network/_multilayer_perceptron.py:571: ConvergenceWarning: Stochastic Optimizer: Maximum iterations (100) reached and the optimization hasn't converged yet.\n",
      "  % self.max_iter, ConvergenceWarning)\n"
     ]
    },
    {
     "name": "stdout",
     "output_type": "stream",
     "text": [
      "[CV]  activation=relu, hidden_layer_sizes=(40, 40), max_iter=100, solver=adam, score=0.854, total=   0.1s\n",
      "[CV] activation=relu, hidden_layer_sizes=(40, 40), max_iter=100, solver=adam \n",
      "[CV]  activation=relu, hidden_layer_sizes=(40, 40), max_iter=100, solver=adam, score=0.750, total=   0.1s\n",
      "[CV] activation=relu, hidden_layer_sizes=(40, 40), max_iter=200, solver=lbfgs \n",
      "[CV]  activation=relu, hidden_layer_sizes=(40, 40), max_iter=200, solver=lbfgs, score=0.449, total=   0.0s\n",
      "[CV] activation=relu, hidden_layer_sizes=(40, 40), max_iter=200, solver=lbfgs \n",
      "[CV]  activation=relu, hidden_layer_sizes=(40, 40), max_iter=200, solver=lbfgs, score=0.612, total=   0.0s\n",
      "[CV] activation=relu, hidden_layer_sizes=(40, 40), max_iter=200, solver=lbfgs \n",
      "[CV]  activation=relu, hidden_layer_sizes=(40, 40), max_iter=200, solver=lbfgs, score=0.375, total=   0.0s\n",
      "[CV] activation=relu, hidden_layer_sizes=(40, 40), max_iter=200, solver=lbfgs \n",
      "[CV]  activation=relu, hidden_layer_sizes=(40, 40), max_iter=200, solver=lbfgs, score=0.562, total=   0.0s\n",
      "[CV] activation=relu, hidden_layer_sizes=(40, 40), max_iter=200, solver=lbfgs \n",
      "[CV]  activation=relu, hidden_layer_sizes=(40, 40), max_iter=200, solver=lbfgs, score=0.375, total=   0.0s\n",
      "[CV] activation=relu, hidden_layer_sizes=(40, 40), max_iter=200, solver=sgd \n"
     ]
    },
    {
     "name": "stderr",
     "output_type": "stream",
     "text": [
      "/Users/Strawberry/anaconda3/lib/python3.7/site-packages/sklearn/neural_network/_multilayer_perceptron.py:571: ConvergenceWarning: Stochastic Optimizer: Maximum iterations (100) reached and the optimization hasn't converged yet.\n",
      "  % self.max_iter, ConvergenceWarning)\n",
      "/Users/Strawberry/anaconda3/lib/python3.7/site-packages/sklearn/neural_network/_multilayer_perceptron.py:571: ConvergenceWarning: Stochastic Optimizer: Maximum iterations (200) reached and the optimization hasn't converged yet.\n",
      "  % self.max_iter, ConvergenceWarning)\n"
     ]
    },
    {
     "name": "stdout",
     "output_type": "stream",
     "text": [
      "[CV]  activation=relu, hidden_layer_sizes=(40, 40), max_iter=200, solver=sgd, score=0.714, total=   0.2s\n",
      "[CV] activation=relu, hidden_layer_sizes=(40, 40), max_iter=200, solver=sgd \n",
      "[CV]  activation=relu, hidden_layer_sizes=(40, 40), max_iter=200, solver=sgd, score=0.551, total=   0.1s\n",
      "[CV] activation=relu, hidden_layer_sizes=(40, 40), max_iter=200, solver=sgd \n",
      "[CV]  activation=relu, hidden_layer_sizes=(40, 40), max_iter=200, solver=sgd, score=0.625, total=   0.0s\n",
      "[CV] activation=relu, hidden_layer_sizes=(40, 40), max_iter=200, solver=sgd \n"
     ]
    },
    {
     "name": "stderr",
     "output_type": "stream",
     "text": [
      "/Users/Strawberry/anaconda3/lib/python3.7/site-packages/sklearn/neural_network/_multilayer_perceptron.py:571: ConvergenceWarning: Stochastic Optimizer: Maximum iterations (200) reached and the optimization hasn't converged yet.\n",
      "  % self.max_iter, ConvergenceWarning)\n"
     ]
    },
    {
     "name": "stdout",
     "output_type": "stream",
     "text": [
      "[CV]  activation=relu, hidden_layer_sizes=(40, 40), max_iter=200, solver=sgd, score=0.625, total=   0.2s\n",
      "[CV] activation=relu, hidden_layer_sizes=(40, 40), max_iter=200, solver=sgd \n",
      "[CV]  activation=relu, hidden_layer_sizes=(40, 40), max_iter=200, solver=sgd, score=0.646, total=   0.1s\n",
      "[CV] activation=relu, hidden_layer_sizes=(40, 40), max_iter=200, solver=adam \n"
     ]
    },
    {
     "name": "stderr",
     "output_type": "stream",
     "text": [
      "/Users/Strawberry/anaconda3/lib/python3.7/site-packages/sklearn/neural_network/_multilayer_perceptron.py:571: ConvergenceWarning: Stochastic Optimizer: Maximum iterations (200) reached and the optimization hasn't converged yet.\n",
      "  % self.max_iter, ConvergenceWarning)\n",
      "/Users/Strawberry/anaconda3/lib/python3.7/site-packages/sklearn/neural_network/_multilayer_perceptron.py:571: ConvergenceWarning: Stochastic Optimizer: Maximum iterations (200) reached and the optimization hasn't converged yet.\n",
      "  % self.max_iter, ConvergenceWarning)\n"
     ]
    },
    {
     "name": "stdout",
     "output_type": "stream",
     "text": [
      "[CV]  activation=relu, hidden_layer_sizes=(40, 40), max_iter=200, solver=adam, score=0.776, total=   0.2s\n",
      "[CV] activation=relu, hidden_layer_sizes=(40, 40), max_iter=200, solver=adam \n",
      "[CV]  activation=relu, hidden_layer_sizes=(40, 40), max_iter=200, solver=adam, score=0.673, total=   0.2s\n",
      "[CV] activation=relu, hidden_layer_sizes=(40, 40), max_iter=200, solver=adam \n"
     ]
    },
    {
     "name": "stderr",
     "output_type": "stream",
     "text": [
      "/Users/Strawberry/anaconda3/lib/python3.7/site-packages/sklearn/neural_network/_multilayer_perceptron.py:571: ConvergenceWarning: Stochastic Optimizer: Maximum iterations (200) reached and the optimization hasn't converged yet.\n",
      "  % self.max_iter, ConvergenceWarning)\n",
      "/Users/Strawberry/anaconda3/lib/python3.7/site-packages/sklearn/neural_network/_multilayer_perceptron.py:571: ConvergenceWarning: Stochastic Optimizer: Maximum iterations (200) reached and the optimization hasn't converged yet.\n",
      "  % self.max_iter, ConvergenceWarning)\n"
     ]
    },
    {
     "name": "stdout",
     "output_type": "stream",
     "text": [
      "[CV]  activation=relu, hidden_layer_sizes=(40, 40), max_iter=200, solver=adam, score=0.812, total=   0.2s\n",
      "[CV] activation=relu, hidden_layer_sizes=(40, 40), max_iter=200, solver=adam \n",
      "[CV]  activation=relu, hidden_layer_sizes=(40, 40), max_iter=200, solver=adam, score=0.875, total=   0.2s\n",
      "[CV] activation=relu, hidden_layer_sizes=(40, 40), max_iter=200, solver=adam \n"
     ]
    },
    {
     "name": "stderr",
     "output_type": "stream",
     "text": [
      "/Users/Strawberry/anaconda3/lib/python3.7/site-packages/sklearn/neural_network/_multilayer_perceptron.py:571: ConvergenceWarning: Stochastic Optimizer: Maximum iterations (200) reached and the optimization hasn't converged yet.\n",
      "  % self.max_iter, ConvergenceWarning)\n"
     ]
    },
    {
     "name": "stdout",
     "output_type": "stream",
     "text": [
      "[CV]  activation=relu, hidden_layer_sizes=(40, 40), max_iter=200, solver=adam, score=0.729, total=   0.2s\n",
      "[CV] activation=relu, hidden_layer_sizes=(40, 40), max_iter=300, solver=lbfgs \n",
      "[CV]  activation=relu, hidden_layer_sizes=(40, 40), max_iter=300, solver=lbfgs, score=0.449, total=   0.0s\n",
      "[CV] activation=relu, hidden_layer_sizes=(40, 40), max_iter=300, solver=lbfgs \n",
      "[CV]  activation=relu, hidden_layer_sizes=(40, 40), max_iter=300, solver=lbfgs, score=0.612, total=   0.0s\n",
      "[CV] activation=relu, hidden_layer_sizes=(40, 40), max_iter=300, solver=lbfgs \n",
      "[CV]  activation=relu, hidden_layer_sizes=(40, 40), max_iter=300, solver=lbfgs, score=0.375, total=   0.0s\n",
      "[CV] activation=relu, hidden_layer_sizes=(40, 40), max_iter=300, solver=lbfgs \n",
      "[CV]  activation=relu, hidden_layer_sizes=(40, 40), max_iter=300, solver=lbfgs, score=0.562, total=   0.0s\n",
      "[CV] activation=relu, hidden_layer_sizes=(40, 40), max_iter=300, solver=lbfgs \n",
      "[CV]  activation=relu, hidden_layer_sizes=(40, 40), max_iter=300, solver=lbfgs, score=0.375, total=   0.0s\n",
      "[CV] activation=relu, hidden_layer_sizes=(40, 40), max_iter=300, solver=sgd \n"
     ]
    },
    {
     "name": "stderr",
     "output_type": "stream",
     "text": [
      "/Users/Strawberry/anaconda3/lib/python3.7/site-packages/sklearn/neural_network/_multilayer_perceptron.py:571: ConvergenceWarning: Stochastic Optimizer: Maximum iterations (300) reached and the optimization hasn't converged yet.\n",
      "  % self.max_iter, ConvergenceWarning)\n"
     ]
    },
    {
     "name": "stdout",
     "output_type": "stream",
     "text": [
      "[CV]  activation=relu, hidden_layer_sizes=(40, 40), max_iter=300, solver=sgd, score=0.714, total=   0.2s\n",
      "[CV] activation=relu, hidden_layer_sizes=(40, 40), max_iter=300, solver=sgd \n",
      "[CV]  activation=relu, hidden_layer_sizes=(40, 40), max_iter=300, solver=sgd, score=0.551, total=   0.1s\n",
      "[CV] activation=relu, hidden_layer_sizes=(40, 40), max_iter=300, solver=sgd \n",
      "[CV]  activation=relu, hidden_layer_sizes=(40, 40), max_iter=300, solver=sgd, score=0.625, total=   0.0s\n",
      "[CV] activation=relu, hidden_layer_sizes=(40, 40), max_iter=300, solver=sgd \n",
      "[CV]  activation=relu, hidden_layer_sizes=(40, 40), max_iter=300, solver=sgd, score=0.646, total=   0.2s\n",
      "[CV] activation=relu, hidden_layer_sizes=(40, 40), max_iter=300, solver=sgd \n",
      "[CV]  activation=relu, hidden_layer_sizes=(40, 40), max_iter=300, solver=sgd, score=0.646, total=   0.1s\n",
      "[CV] activation=relu, hidden_layer_sizes=(40, 40), max_iter=300, solver=adam \n"
     ]
    },
    {
     "name": "stderr",
     "output_type": "stream",
     "text": [
      "/Users/Strawberry/anaconda3/lib/python3.7/site-packages/sklearn/neural_network/_multilayer_perceptron.py:571: ConvergenceWarning: Stochastic Optimizer: Maximum iterations (300) reached and the optimization hasn't converged yet.\n",
      "  % self.max_iter, ConvergenceWarning)\n"
     ]
    },
    {
     "name": "stdout",
     "output_type": "stream",
     "text": [
      "[CV]  activation=relu, hidden_layer_sizes=(40, 40), max_iter=300, solver=adam, score=0.796, total=   0.3s\n",
      "[CV] activation=relu, hidden_layer_sizes=(40, 40), max_iter=300, solver=adam \n"
     ]
    },
    {
     "name": "stderr",
     "output_type": "stream",
     "text": [
      "/Users/Strawberry/anaconda3/lib/python3.7/site-packages/sklearn/neural_network/_multilayer_perceptron.py:571: ConvergenceWarning: Stochastic Optimizer: Maximum iterations (300) reached and the optimization hasn't converged yet.\n",
      "  % self.max_iter, ConvergenceWarning)\n"
     ]
    },
    {
     "name": "stdout",
     "output_type": "stream",
     "text": [
      "[CV]  activation=relu, hidden_layer_sizes=(40, 40), max_iter=300, solver=adam, score=0.694, total=   0.3s\n",
      "[CV] activation=relu, hidden_layer_sizes=(40, 40), max_iter=300, solver=adam \n"
     ]
    },
    {
     "name": "stderr",
     "output_type": "stream",
     "text": [
      "/Users/Strawberry/anaconda3/lib/python3.7/site-packages/sklearn/neural_network/_multilayer_perceptron.py:571: ConvergenceWarning: Stochastic Optimizer: Maximum iterations (300) reached and the optimization hasn't converged yet.\n",
      "  % self.max_iter, ConvergenceWarning)\n"
     ]
    },
    {
     "name": "stdout",
     "output_type": "stream",
     "text": [
      "[CV]  activation=relu, hidden_layer_sizes=(40, 40), max_iter=300, solver=adam, score=0.833, total=   0.3s\n",
      "[CV] activation=relu, hidden_layer_sizes=(40, 40), max_iter=300, solver=adam \n"
     ]
    },
    {
     "name": "stderr",
     "output_type": "stream",
     "text": [
      "/Users/Strawberry/anaconda3/lib/python3.7/site-packages/sklearn/neural_network/_multilayer_perceptron.py:571: ConvergenceWarning: Stochastic Optimizer: Maximum iterations (300) reached and the optimization hasn't converged yet.\n",
      "  % self.max_iter, ConvergenceWarning)\n"
     ]
    },
    {
     "name": "stdout",
     "output_type": "stream",
     "text": [
      "[CV]  activation=relu, hidden_layer_sizes=(40, 40), max_iter=300, solver=adam, score=0.875, total=   0.3s\n",
      "[CV] activation=relu, hidden_layer_sizes=(40, 40), max_iter=300, solver=adam \n",
      "[CV]  activation=relu, hidden_layer_sizes=(40, 40), max_iter=300, solver=adam, score=0.729, total=   0.3s\n",
      "{'activation': 'identity', 'hidden_layer_sizes': (20, 20), 'max_iter': 200, 'solver': 'adam'}\n",
      "0.8309523809523809\n"
     ]
    },
    {
     "name": "stderr",
     "output_type": "stream",
     "text": [
      "/Users/Strawberry/anaconda3/lib/python3.7/site-packages/sklearn/neural_network/_multilayer_perceptron.py:571: ConvergenceWarning: Stochastic Optimizer: Maximum iterations (300) reached and the optimization hasn't converged yet.\n",
      "  % self.max_iter, ConvergenceWarning)\n",
      "[Parallel(n_jobs=1)]: Done 1440 out of 1440 | elapsed:  1.2min finished\n"
     ]
    }
   ],
   "source": [
    "# DecisionTreeClassifier, grid search to find best parameter\n",
    "RANDOM_STATE_MODEL = 42\n",
    "clf = MLPClassifier(random_state=RANDOM_STATE_MODEL)\n",
    "\n",
    "hidden_layer_sizes = []\n",
    "for i in np.arange(5, 50, 5):\n",
    "    for j in np.arange(5, 50, 5):\n",
    "        hidden_layer_sizes.append((i,j))\n",
    "\n",
    "param_grid = {'hidden_layer_sizes': hidden_layer_sizes,\n",
    "              'activation' : ['identity', 'relu'],\n",
    "              'solver':['lbfgs', 'sgd', 'adam'],\n",
    "              'max_iter': [100,200]\n",
    "             }\n",
    "CV_clf = GridSearchCV(estimator = clf, param_grid = param_grid, cv =5, verbose = 3)\n",
    "\n",
    "CV_clf.fit(X_train, y_train)\n",
    "print(CV_clf.best_params_)\n",
    "print(CV_clf.best_score_)"
   ]
  },
  {
   "cell_type": "code",
   "execution_count": 50,
   "metadata": {},
   "outputs": [
    {
     "data": {
      "text/plain": [
       "MLPClassifier(activation='identity', alpha=0.0001, batch_size='auto',\n",
       "              beta_1=0.9, beta_2=0.999, early_stopping=False, epsilon=1e-08,\n",
       "              hidden_layer_sizes=(20, 20), learning_rate='constant',\n",
       "              learning_rate_init=0.001, max_fun=15000, max_iter=200,\n",
       "              momentum=0.9, n_iter_no_change=10, nesterovs_momentum=True,\n",
       "              power_t=0.5, random_state=42, shuffle=True, solver='adam',\n",
       "              tol=0.0001, validation_fraction=0.1, verbose=False,\n",
       "              warm_start=False)"
      ]
     },
     "execution_count": 50,
     "metadata": {},
     "output_type": "execute_result"
    }
   ],
   "source": [
    "RANDOM_STATE_MODEL = 42\n",
    "clf = MLPClassifier(random_state = RANDOM_STATE_MODEL, \n",
    "                    hidden_layer_sizes=CV_clf.best_params_['hidden_layer_sizes'], # (20,20)\n",
    "                    activation = CV_clf.best_params_['activation'], # 'identity'\n",
    "                    solver=CV_clf.best_params_['solver'], # 'adam'\n",
    "                    max_iter = CV_clf.best_params_['max_iter'] #200\n",
    "                   )\n",
    "clf.fit(X_train, y_train)"
   ]
  },
  {
   "cell_type": "code",
   "execution_count": 52,
   "metadata": {},
   "outputs": [],
   "source": [
    "labels = [0,1]\n",
    "label_names = ['0','1']\n",
    "plt.rcParams[\"figure.figsize\"] = (8, 8)\n",
    "plt.rcParams.update({'font.size': 18})\n",
    "\n",
    "plot_confusion_matrix(clf, X_train, y_train,labels = labels, display_labels = label_names, cmap=plt.cm.Blues)\n",
    "plt.title('Confusion Matrix:\\n Neural Networks (Train)', fontsize = 20)\n",
    "plt.tight_layout()\n",
    "plt.savefig(dir_out +'CM_NN_train.png')\n",
    "plt.close()\n",
    "\n",
    "plot_confusion_matrix(clf, X_test, y_test,labels = labels, display_labels = label_names, cmap=plt.cm.Blues)\n",
    "plt.title('Confusion Matrix:\\n Neural Networks (Test)', fontsize = 20)\n",
    "plt.tight_layout()\n",
    "plt.savefig(dir_out +'CM_NN_test.png')\n",
    "plt.close()\n"
   ]
  },
  {
   "cell_type": "code",
   "execution_count": 46,
   "metadata": {},
   "outputs": [],
   "source": [
    "from plot_learning_curve import plot_learning_curve\n",
    "from sklearn.model_selection import ShuffleSplit"
   ]
  },
  {
   "cell_type": "code",
   "execution_count": 53,
   "metadata": {},
   "outputs": [],
   "source": [
    "title =  'Learning Curve of Neural Networks'\n",
    "cv = ShuffleSplit(n_splits=100, test_size=0.2, random_state=RANDOM_STATE_DATA)\n",
    "\n",
    "plot_learning_curve(clf, title, X, y, ylim=(0.5, 1.01),\n",
    "                    cv=cv, n_jobs=4)#, train_sizes = np.linspace(0.1, 1.0, 10))\n",
    "plt.savefig(dir_out +'LC_NN.png')\n",
    "plt.close()"
   ]
  },
  {
   "cell_type": "code",
   "execution_count": null,
   "metadata": {},
   "outputs": [],
   "source": []
  }
 ],
 "metadata": {
  "kernelspec": {
   "display_name": "Python 3",
   "language": "python",
   "name": "python3"
  },
  "language_info": {
   "codemirror_mode": {
    "name": "ipython",
    "version": 3
   },
   "file_extension": ".py",
   "mimetype": "text/x-python",
   "name": "python",
   "nbconvert_exporter": "python",
   "pygments_lexer": "ipython3",
   "version": "3.7.3"
  }
 },
 "nbformat": 4,
 "nbformat_minor": 2
}
